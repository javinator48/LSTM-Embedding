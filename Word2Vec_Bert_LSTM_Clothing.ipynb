{
  "nbformat": 4,
  "nbformat_minor": 0,
  "metadata": {
    "colab": {
      "name": "Word2Vec_LSTM_Clothing.ipynb",
      "provenance": [],
      "machine_shape": "hm",
      "collapsed_sections": []
    },
    "kernelspec": {
      "name": "python3",
      "display_name": "Python 3"
    },
    "language_info": {
      "name": "python"
    },
    "accelerator": "GPU",
    "widgets": {
      "application/vnd.jupyter.widget-state+json": {
        "bc729f339a114575b457b6a3419aea33": {
          "model_module": "@jupyter-widgets/controls",
          "model_name": "HBoxModel",
          "model_module_version": "1.5.0",
          "state": {
            "_view_name": "HBoxView",
            "_dom_classes": [],
            "_model_name": "HBoxModel",
            "_view_module": "@jupyter-widgets/controls",
            "_model_module_version": "1.5.0",
            "_view_count": null,
            "_view_module_version": "1.5.0",
            "box_style": "",
            "layout": "IPY_MODEL_eef77136a72d43fbaed4d4cea7842aa2",
            "_model_module": "@jupyter-widgets/controls",
            "children": [
              "IPY_MODEL_ba1730a826a645a1844b9fc098276870",
              "IPY_MODEL_28088c870722414aaa02eb5370f36d91",
              "IPY_MODEL_57aa15548f464ee1b522e320313a7182"
            ]
          }
        },
        "eef77136a72d43fbaed4d4cea7842aa2": {
          "model_module": "@jupyter-widgets/base",
          "model_name": "LayoutModel",
          "model_module_version": "1.2.0",
          "state": {
            "_view_name": "LayoutView",
            "grid_template_rows": null,
            "right": null,
            "justify_content": null,
            "_view_module": "@jupyter-widgets/base",
            "overflow": null,
            "_model_module_version": "1.2.0",
            "_view_count": null,
            "flex_flow": null,
            "width": null,
            "min_width": null,
            "border": null,
            "align_items": null,
            "bottom": null,
            "_model_module": "@jupyter-widgets/base",
            "top": null,
            "grid_column": null,
            "overflow_y": null,
            "overflow_x": null,
            "grid_auto_flow": null,
            "grid_area": null,
            "grid_template_columns": null,
            "flex": null,
            "_model_name": "LayoutModel",
            "justify_items": null,
            "grid_row": null,
            "max_height": null,
            "align_content": null,
            "visibility": null,
            "align_self": null,
            "height": null,
            "min_height": null,
            "padding": null,
            "grid_auto_rows": null,
            "grid_gap": null,
            "max_width": null,
            "order": null,
            "_view_module_version": "1.2.0",
            "grid_template_areas": null,
            "object_position": null,
            "object_fit": null,
            "grid_auto_columns": null,
            "margin": null,
            "display": null,
            "left": null
          }
        },
        "ba1730a826a645a1844b9fc098276870": {
          "model_module": "@jupyter-widgets/controls",
          "model_name": "HTMLModel",
          "model_module_version": "1.5.0",
          "state": {
            "_view_name": "HTMLView",
            "style": "IPY_MODEL_e0fc78422a97431c95807a36841d11e2",
            "_dom_classes": [],
            "description": "",
            "_model_name": "HTMLModel",
            "placeholder": "​",
            "_view_module": "@jupyter-widgets/controls",
            "_model_module_version": "1.5.0",
            "value": "Downloading: 100%",
            "_view_count": null,
            "_view_module_version": "1.5.0",
            "description_tooltip": null,
            "_model_module": "@jupyter-widgets/controls",
            "layout": "IPY_MODEL_80f2b3c933ce41ec97290cbcfa003d5e"
          }
        },
        "28088c870722414aaa02eb5370f36d91": {
          "model_module": "@jupyter-widgets/controls",
          "model_name": "FloatProgressModel",
          "model_module_version": "1.5.0",
          "state": {
            "_view_name": "ProgressView",
            "style": "IPY_MODEL_db20856f48824269af0bfb3c9573bf16",
            "_dom_classes": [],
            "description": "",
            "_model_name": "FloatProgressModel",
            "bar_style": "success",
            "max": 483,
            "_view_module": "@jupyter-widgets/controls",
            "_model_module_version": "1.5.0",
            "value": 483,
            "_view_count": null,
            "_view_module_version": "1.5.0",
            "orientation": "horizontal",
            "min": 0,
            "description_tooltip": null,
            "_model_module": "@jupyter-widgets/controls",
            "layout": "IPY_MODEL_5fc5f63a1a0e4b068e14877d2ee84d45"
          }
        },
        "57aa15548f464ee1b522e320313a7182": {
          "model_module": "@jupyter-widgets/controls",
          "model_name": "HTMLModel",
          "model_module_version": "1.5.0",
          "state": {
            "_view_name": "HTMLView",
            "style": "IPY_MODEL_2358187c8be842fbaf57856e0f0e63e3",
            "_dom_classes": [],
            "description": "",
            "_model_name": "HTMLModel",
            "placeholder": "​",
            "_view_module": "@jupyter-widgets/controls",
            "_model_module_version": "1.5.0",
            "value": " 483/483 [00:00&lt;00:00, 16.6kB/s]",
            "_view_count": null,
            "_view_module_version": "1.5.0",
            "description_tooltip": null,
            "_model_module": "@jupyter-widgets/controls",
            "layout": "IPY_MODEL_5749b5028c1b488d9f57c61bdd18f8f3"
          }
        },
        "e0fc78422a97431c95807a36841d11e2": {
          "model_module": "@jupyter-widgets/controls",
          "model_name": "DescriptionStyleModel",
          "model_module_version": "1.5.0",
          "state": {
            "_view_name": "StyleView",
            "_model_name": "DescriptionStyleModel",
            "description_width": "",
            "_view_module": "@jupyter-widgets/base",
            "_model_module_version": "1.5.0",
            "_view_count": null,
            "_view_module_version": "1.2.0",
            "_model_module": "@jupyter-widgets/controls"
          }
        },
        "80f2b3c933ce41ec97290cbcfa003d5e": {
          "model_module": "@jupyter-widgets/base",
          "model_name": "LayoutModel",
          "model_module_version": "1.2.0",
          "state": {
            "_view_name": "LayoutView",
            "grid_template_rows": null,
            "right": null,
            "justify_content": null,
            "_view_module": "@jupyter-widgets/base",
            "overflow": null,
            "_model_module_version": "1.2.0",
            "_view_count": null,
            "flex_flow": null,
            "width": null,
            "min_width": null,
            "border": null,
            "align_items": null,
            "bottom": null,
            "_model_module": "@jupyter-widgets/base",
            "top": null,
            "grid_column": null,
            "overflow_y": null,
            "overflow_x": null,
            "grid_auto_flow": null,
            "grid_area": null,
            "grid_template_columns": null,
            "flex": null,
            "_model_name": "LayoutModel",
            "justify_items": null,
            "grid_row": null,
            "max_height": null,
            "align_content": null,
            "visibility": null,
            "align_self": null,
            "height": null,
            "min_height": null,
            "padding": null,
            "grid_auto_rows": null,
            "grid_gap": null,
            "max_width": null,
            "order": null,
            "_view_module_version": "1.2.0",
            "grid_template_areas": null,
            "object_position": null,
            "object_fit": null,
            "grid_auto_columns": null,
            "margin": null,
            "display": null,
            "left": null
          }
        },
        "db20856f48824269af0bfb3c9573bf16": {
          "model_module": "@jupyter-widgets/controls",
          "model_name": "ProgressStyleModel",
          "model_module_version": "1.5.0",
          "state": {
            "_view_name": "StyleView",
            "_model_name": "ProgressStyleModel",
            "description_width": "",
            "_view_module": "@jupyter-widgets/base",
            "_model_module_version": "1.5.0",
            "_view_count": null,
            "_view_module_version": "1.2.0",
            "bar_color": null,
            "_model_module": "@jupyter-widgets/controls"
          }
        },
        "5fc5f63a1a0e4b068e14877d2ee84d45": {
          "model_module": "@jupyter-widgets/base",
          "model_name": "LayoutModel",
          "model_module_version": "1.2.0",
          "state": {
            "_view_name": "LayoutView",
            "grid_template_rows": null,
            "right": null,
            "justify_content": null,
            "_view_module": "@jupyter-widgets/base",
            "overflow": null,
            "_model_module_version": "1.2.0",
            "_view_count": null,
            "flex_flow": null,
            "width": null,
            "min_width": null,
            "border": null,
            "align_items": null,
            "bottom": null,
            "_model_module": "@jupyter-widgets/base",
            "top": null,
            "grid_column": null,
            "overflow_y": null,
            "overflow_x": null,
            "grid_auto_flow": null,
            "grid_area": null,
            "grid_template_columns": null,
            "flex": null,
            "_model_name": "LayoutModel",
            "justify_items": null,
            "grid_row": null,
            "max_height": null,
            "align_content": null,
            "visibility": null,
            "align_self": null,
            "height": null,
            "min_height": null,
            "padding": null,
            "grid_auto_rows": null,
            "grid_gap": null,
            "max_width": null,
            "order": null,
            "_view_module_version": "1.2.0",
            "grid_template_areas": null,
            "object_position": null,
            "object_fit": null,
            "grid_auto_columns": null,
            "margin": null,
            "display": null,
            "left": null
          }
        },
        "2358187c8be842fbaf57856e0f0e63e3": {
          "model_module": "@jupyter-widgets/controls",
          "model_name": "DescriptionStyleModel",
          "model_module_version": "1.5.0",
          "state": {
            "_view_name": "StyleView",
            "_model_name": "DescriptionStyleModel",
            "description_width": "",
            "_view_module": "@jupyter-widgets/base",
            "_model_module_version": "1.5.0",
            "_view_count": null,
            "_view_module_version": "1.2.0",
            "_model_module": "@jupyter-widgets/controls"
          }
        },
        "5749b5028c1b488d9f57c61bdd18f8f3": {
          "model_module": "@jupyter-widgets/base",
          "model_name": "LayoutModel",
          "model_module_version": "1.2.0",
          "state": {
            "_view_name": "LayoutView",
            "grid_template_rows": null,
            "right": null,
            "justify_content": null,
            "_view_module": "@jupyter-widgets/base",
            "overflow": null,
            "_model_module_version": "1.2.0",
            "_view_count": null,
            "flex_flow": null,
            "width": null,
            "min_width": null,
            "border": null,
            "align_items": null,
            "bottom": null,
            "_model_module": "@jupyter-widgets/base",
            "top": null,
            "grid_column": null,
            "overflow_y": null,
            "overflow_x": null,
            "grid_auto_flow": null,
            "grid_area": null,
            "grid_template_columns": null,
            "flex": null,
            "_model_name": "LayoutModel",
            "justify_items": null,
            "grid_row": null,
            "max_height": null,
            "align_content": null,
            "visibility": null,
            "align_self": null,
            "height": null,
            "min_height": null,
            "padding": null,
            "grid_auto_rows": null,
            "grid_gap": null,
            "max_width": null,
            "order": null,
            "_view_module_version": "1.2.0",
            "grid_template_areas": null,
            "object_position": null,
            "object_fit": null,
            "grid_auto_columns": null,
            "margin": null,
            "display": null,
            "left": null
          }
        },
        "5cfd7095254d4db7a06ba9d9bf7110a0": {
          "model_module": "@jupyter-widgets/controls",
          "model_name": "HBoxModel",
          "model_module_version": "1.5.0",
          "state": {
            "_view_name": "HBoxView",
            "_dom_classes": [],
            "_model_name": "HBoxModel",
            "_view_module": "@jupyter-widgets/controls",
            "_model_module_version": "1.5.0",
            "_view_count": null,
            "_view_module_version": "1.5.0",
            "box_style": "",
            "layout": "IPY_MODEL_4ce3f72a762348eb8822da56600c08e6",
            "_model_module": "@jupyter-widgets/controls",
            "children": [
              "IPY_MODEL_a943ad8ff6d0410094181faff1821b9f",
              "IPY_MODEL_5fdfb9a75eb24272a34fdf42c1ce1c1f",
              "IPY_MODEL_212656a2c1374c78a51bf18181a5b4fc"
            ]
          }
        },
        "4ce3f72a762348eb8822da56600c08e6": {
          "model_module": "@jupyter-widgets/base",
          "model_name": "LayoutModel",
          "model_module_version": "1.2.0",
          "state": {
            "_view_name": "LayoutView",
            "grid_template_rows": null,
            "right": null,
            "justify_content": null,
            "_view_module": "@jupyter-widgets/base",
            "overflow": null,
            "_model_module_version": "1.2.0",
            "_view_count": null,
            "flex_flow": null,
            "width": null,
            "min_width": null,
            "border": null,
            "align_items": null,
            "bottom": null,
            "_model_module": "@jupyter-widgets/base",
            "top": null,
            "grid_column": null,
            "overflow_y": null,
            "overflow_x": null,
            "grid_auto_flow": null,
            "grid_area": null,
            "grid_template_columns": null,
            "flex": null,
            "_model_name": "LayoutModel",
            "justify_items": null,
            "grid_row": null,
            "max_height": null,
            "align_content": null,
            "visibility": null,
            "align_self": null,
            "height": null,
            "min_height": null,
            "padding": null,
            "grid_auto_rows": null,
            "grid_gap": null,
            "max_width": null,
            "order": null,
            "_view_module_version": "1.2.0",
            "grid_template_areas": null,
            "object_position": null,
            "object_fit": null,
            "grid_auto_columns": null,
            "margin": null,
            "display": null,
            "left": null
          }
        },
        "a943ad8ff6d0410094181faff1821b9f": {
          "model_module": "@jupyter-widgets/controls",
          "model_name": "HTMLModel",
          "model_module_version": "1.5.0",
          "state": {
            "_view_name": "HTMLView",
            "style": "IPY_MODEL_55ea22701ee54050aa9d58fa1774a6bb",
            "_dom_classes": [],
            "description": "",
            "_model_name": "HTMLModel",
            "placeholder": "​",
            "_view_module": "@jupyter-widgets/controls",
            "_model_module_version": "1.5.0",
            "value": "Downloading: 100%",
            "_view_count": null,
            "_view_module_version": "1.5.0",
            "description_tooltip": null,
            "_model_module": "@jupyter-widgets/controls",
            "layout": "IPY_MODEL_2ccec864475a407ca4237c2aa72e05d6"
          }
        },
        "5fdfb9a75eb24272a34fdf42c1ce1c1f": {
          "model_module": "@jupyter-widgets/controls",
          "model_name": "FloatProgressModel",
          "model_module_version": "1.5.0",
          "state": {
            "_view_name": "ProgressView",
            "style": "IPY_MODEL_1987e109cf514bb6a68922043f024a18",
            "_dom_classes": [],
            "description": "",
            "_model_name": "FloatProgressModel",
            "bar_style": "success",
            "max": 267967963,
            "_view_module": "@jupyter-widgets/controls",
            "_model_module_version": "1.5.0",
            "value": 267967963,
            "_view_count": null,
            "_view_module_version": "1.5.0",
            "orientation": "horizontal",
            "min": 0,
            "description_tooltip": null,
            "_model_module": "@jupyter-widgets/controls",
            "layout": "IPY_MODEL_72aeacc5e6194103bc1b519a38ec0bc2"
          }
        },
        "212656a2c1374c78a51bf18181a5b4fc": {
          "model_module": "@jupyter-widgets/controls",
          "model_name": "HTMLModel",
          "model_module_version": "1.5.0",
          "state": {
            "_view_name": "HTMLView",
            "style": "IPY_MODEL_600f1fa5b4db4dc1b5d4d32970f3b4ff",
            "_dom_classes": [],
            "description": "",
            "_model_name": "HTMLModel",
            "placeholder": "​",
            "_view_module": "@jupyter-widgets/controls",
            "_model_module_version": "1.5.0",
            "value": " 256M/256M [00:06&lt;00:00, 46.4MB/s]",
            "_view_count": null,
            "_view_module_version": "1.5.0",
            "description_tooltip": null,
            "_model_module": "@jupyter-widgets/controls",
            "layout": "IPY_MODEL_1e3619e91fe14316b7d3e195f87f787c"
          }
        },
        "55ea22701ee54050aa9d58fa1774a6bb": {
          "model_module": "@jupyter-widgets/controls",
          "model_name": "DescriptionStyleModel",
          "model_module_version": "1.5.0",
          "state": {
            "_view_name": "StyleView",
            "_model_name": "DescriptionStyleModel",
            "description_width": "",
            "_view_module": "@jupyter-widgets/base",
            "_model_module_version": "1.5.0",
            "_view_count": null,
            "_view_module_version": "1.2.0",
            "_model_module": "@jupyter-widgets/controls"
          }
        },
        "2ccec864475a407ca4237c2aa72e05d6": {
          "model_module": "@jupyter-widgets/base",
          "model_name": "LayoutModel",
          "model_module_version": "1.2.0",
          "state": {
            "_view_name": "LayoutView",
            "grid_template_rows": null,
            "right": null,
            "justify_content": null,
            "_view_module": "@jupyter-widgets/base",
            "overflow": null,
            "_model_module_version": "1.2.0",
            "_view_count": null,
            "flex_flow": null,
            "width": null,
            "min_width": null,
            "border": null,
            "align_items": null,
            "bottom": null,
            "_model_module": "@jupyter-widgets/base",
            "top": null,
            "grid_column": null,
            "overflow_y": null,
            "overflow_x": null,
            "grid_auto_flow": null,
            "grid_area": null,
            "grid_template_columns": null,
            "flex": null,
            "_model_name": "LayoutModel",
            "justify_items": null,
            "grid_row": null,
            "max_height": null,
            "align_content": null,
            "visibility": null,
            "align_self": null,
            "height": null,
            "min_height": null,
            "padding": null,
            "grid_auto_rows": null,
            "grid_gap": null,
            "max_width": null,
            "order": null,
            "_view_module_version": "1.2.0",
            "grid_template_areas": null,
            "object_position": null,
            "object_fit": null,
            "grid_auto_columns": null,
            "margin": null,
            "display": null,
            "left": null
          }
        },
        "1987e109cf514bb6a68922043f024a18": {
          "model_module": "@jupyter-widgets/controls",
          "model_name": "ProgressStyleModel",
          "model_module_version": "1.5.0",
          "state": {
            "_view_name": "StyleView",
            "_model_name": "ProgressStyleModel",
            "description_width": "",
            "_view_module": "@jupyter-widgets/base",
            "_model_module_version": "1.5.0",
            "_view_count": null,
            "_view_module_version": "1.2.0",
            "bar_color": null,
            "_model_module": "@jupyter-widgets/controls"
          }
        },
        "72aeacc5e6194103bc1b519a38ec0bc2": {
          "model_module": "@jupyter-widgets/base",
          "model_name": "LayoutModel",
          "model_module_version": "1.2.0",
          "state": {
            "_view_name": "LayoutView",
            "grid_template_rows": null,
            "right": null,
            "justify_content": null,
            "_view_module": "@jupyter-widgets/base",
            "overflow": null,
            "_model_module_version": "1.2.0",
            "_view_count": null,
            "flex_flow": null,
            "width": null,
            "min_width": null,
            "border": null,
            "align_items": null,
            "bottom": null,
            "_model_module": "@jupyter-widgets/base",
            "top": null,
            "grid_column": null,
            "overflow_y": null,
            "overflow_x": null,
            "grid_auto_flow": null,
            "grid_area": null,
            "grid_template_columns": null,
            "flex": null,
            "_model_name": "LayoutModel",
            "justify_items": null,
            "grid_row": null,
            "max_height": null,
            "align_content": null,
            "visibility": null,
            "align_self": null,
            "height": null,
            "min_height": null,
            "padding": null,
            "grid_auto_rows": null,
            "grid_gap": null,
            "max_width": null,
            "order": null,
            "_view_module_version": "1.2.0",
            "grid_template_areas": null,
            "object_position": null,
            "object_fit": null,
            "grid_auto_columns": null,
            "margin": null,
            "display": null,
            "left": null
          }
        },
        "600f1fa5b4db4dc1b5d4d32970f3b4ff": {
          "model_module": "@jupyter-widgets/controls",
          "model_name": "DescriptionStyleModel",
          "model_module_version": "1.5.0",
          "state": {
            "_view_name": "StyleView",
            "_model_name": "DescriptionStyleModel",
            "description_width": "",
            "_view_module": "@jupyter-widgets/base",
            "_model_module_version": "1.5.0",
            "_view_count": null,
            "_view_module_version": "1.2.0",
            "_model_module": "@jupyter-widgets/controls"
          }
        },
        "1e3619e91fe14316b7d3e195f87f787c": {
          "model_module": "@jupyter-widgets/base",
          "model_name": "LayoutModel",
          "model_module_version": "1.2.0",
          "state": {
            "_view_name": "LayoutView",
            "grid_template_rows": null,
            "right": null,
            "justify_content": null,
            "_view_module": "@jupyter-widgets/base",
            "overflow": null,
            "_model_module_version": "1.2.0",
            "_view_count": null,
            "flex_flow": null,
            "width": null,
            "min_width": null,
            "border": null,
            "align_items": null,
            "bottom": null,
            "_model_module": "@jupyter-widgets/base",
            "top": null,
            "grid_column": null,
            "overflow_y": null,
            "overflow_x": null,
            "grid_auto_flow": null,
            "grid_area": null,
            "grid_template_columns": null,
            "flex": null,
            "_model_name": "LayoutModel",
            "justify_items": null,
            "grid_row": null,
            "max_height": null,
            "align_content": null,
            "visibility": null,
            "align_self": null,
            "height": null,
            "min_height": null,
            "padding": null,
            "grid_auto_rows": null,
            "grid_gap": null,
            "max_width": null,
            "order": null,
            "_view_module_version": "1.2.0",
            "grid_template_areas": null,
            "object_position": null,
            "object_fit": null,
            "grid_auto_columns": null,
            "margin": null,
            "display": null,
            "left": null
          }
        }
      }
    }
  },
  "cells": [
    {
      "cell_type": "code",
      "execution_count": null,
      "metadata": {
        "colab": {
          "base_uri": "https://localhost:8080/"
        },
        "id": "rjWPn-GiVGPf",
        "outputId": "f0101a0b-7f84-402a-9a95-fed40be76106"
      },
      "outputs": [
        {
          "output_type": "stream",
          "name": "stdout",
          "text": [
            "Drive already mounted at /content/drive; to attempt to forcibly remount, call drive.mount(\"/content/drive\", force_remount=True).\n"
          ]
        }
      ],
      "source": [
        "from google.colab import drive\n",
        "drive.mount('/content/drive')"
      ]
    },
    {
      "cell_type": "code",
      "source": [
        "! pip install transformers"
      ],
      "metadata": {
        "colab": {
          "base_uri": "https://localhost:8080/"
        },
        "id": "DE-PaZNXrRNF",
        "outputId": "21568f45-abb4-47b1-b46c-524750d310e5"
      },
      "execution_count": null,
      "outputs": [
        {
          "output_type": "stream",
          "name": "stdout",
          "text": [
            "Requirement already satisfied: transformers in /usr/local/lib/python3.7/dist-packages (4.14.1)\n",
            "Requirement already satisfied: importlib-metadata in /usr/local/lib/python3.7/dist-packages (from transformers) (4.8.2)\n",
            "Requirement already satisfied: regex!=2019.12.17 in /usr/local/lib/python3.7/dist-packages (from transformers) (2019.12.20)\n",
            "Requirement already satisfied: requests in /usr/local/lib/python3.7/dist-packages (from transformers) (2.23.0)\n",
            "Requirement already satisfied: tokenizers<0.11,>=0.10.1 in /usr/local/lib/python3.7/dist-packages (from transformers) (0.10.3)\n",
            "Requirement already satisfied: packaging>=20.0 in /usr/local/lib/python3.7/dist-packages (from transformers) (21.3)\n",
            "Requirement already satisfied: pyyaml>=5.1 in /usr/local/lib/python3.7/dist-packages (from transformers) (6.0)\n",
            "Requirement already satisfied: sacremoses in /usr/local/lib/python3.7/dist-packages (from transformers) (0.0.46)\n",
            "Requirement already satisfied: huggingface-hub<1.0,>=0.1.0 in /usr/local/lib/python3.7/dist-packages (from transformers) (0.2.1)\n",
            "Requirement already satisfied: tqdm>=4.27 in /usr/local/lib/python3.7/dist-packages (from transformers) (4.62.3)\n",
            "Requirement already satisfied: numpy>=1.17 in /usr/local/lib/python3.7/dist-packages (from transformers) (1.19.5)\n",
            "Requirement already satisfied: filelock in /usr/local/lib/python3.7/dist-packages (from transformers) (3.4.0)\n",
            "Requirement already satisfied: typing-extensions>=3.7.4.3 in /usr/local/lib/python3.7/dist-packages (from huggingface-hub<1.0,>=0.1.0->transformers) (3.10.0.2)\n",
            "Requirement already satisfied: pyparsing!=3.0.5,>=2.0.2 in /usr/local/lib/python3.7/dist-packages (from packaging>=20.0->transformers) (3.0.6)\n",
            "Requirement already satisfied: zipp>=0.5 in /usr/local/lib/python3.7/dist-packages (from importlib-metadata->transformers) (3.6.0)\n",
            "Requirement already satisfied: certifi>=2017.4.17 in /usr/local/lib/python3.7/dist-packages (from requests->transformers) (2021.10.8)\n",
            "Requirement already satisfied: urllib3!=1.25.0,!=1.25.1,<1.26,>=1.21.1 in /usr/local/lib/python3.7/dist-packages (from requests->transformers) (1.24.3)\n",
            "Requirement already satisfied: idna<3,>=2.5 in /usr/local/lib/python3.7/dist-packages (from requests->transformers) (2.10)\n",
            "Requirement already satisfied: chardet<4,>=3.0.2 in /usr/local/lib/python3.7/dist-packages (from requests->transformers) (3.0.4)\n",
            "Requirement already satisfied: joblib in /usr/local/lib/python3.7/dist-packages (from sacremoses->transformers) (1.1.0)\n",
            "Requirement already satisfied: click in /usr/local/lib/python3.7/dist-packages (from sacremoses->transformers) (7.1.2)\n",
            "Requirement already satisfied: six in /usr/local/lib/python3.7/dist-packages (from sacremoses->transformers) (1.15.0)\n"
          ]
        }
      ]
    },
    {
      "cell_type": "code",
      "source": [
        "import torch\n",
        "import torch.nn as nn\n",
        "import pandas as pd\n",
        "import numpy as np\n",
        "import logging\n",
        "import gzip\n",
        "import gensim \n",
        "import re\n",
        "import spacy\n",
        "import math\n",
        "from collections import Counter\n",
        "from torch.utils.data import Dataset, DataLoader\n",
        "import torch.nn.functional as F\n",
        "import string\n",
        "from torch.nn.utils.rnn import pack_padded_sequence, pad_packed_sequence, pad_sequence\n",
        "from transformers import BertTokenizer, BertModel, DistilBertConfig, TFDistilBertModel, DistilBertModel, DistilBertTokenizer\n",
        "from sklearn.metrics import mean_squared_error\n",
        "from sklearn.metrics import accuracy_score, f1_score, precision_score, recall_score, classification_report, confusion_matrix\n",
        "from sklearn.model_selection import train_test_split\n",
        "from tqdm import tqdm"
      ],
      "metadata": {
        "id": "S7SfU_6lViKR"
      },
      "execution_count": null,
      "outputs": []
    },
    {
      "cell_type": "code",
      "source": [
        "print(torch.cuda.is_available())\n",
        "device = 'cuda:0' if torch.cuda.is_available() else 'cpu'\n",
        "device"
      ],
      "metadata": {
        "colab": {
          "base_uri": "https://localhost:8080/",
          "height": 53
        },
        "id": "rItWBp7RJEQq",
        "outputId": "aa6a6837-5564-45b3-831f-1dc875427d70"
      },
      "execution_count": null,
      "outputs": [
        {
          "output_type": "stream",
          "name": "stdout",
          "text": [
            "True\n"
          ]
        },
        {
          "output_type": "execute_result",
          "data": {
            "application/vnd.google.colaboratory.intrinsic+json": {
              "type": "string"
            },
            "text/plain": [
              "'cuda:0'"
            ]
          },
          "metadata": {},
          "execution_count": 36
        }
      ]
    },
    {
      "cell_type": "markdown",
      "source": [
        "# Preprocessing & Loading data"
      ],
      "metadata": {
        "id": "3KGKdTO5W7AH"
      }
    },
    {
      "cell_type": "markdown",
      "source": [
        "## Preprocess "
      ],
      "metadata": {
        "id": "vNprrOxtXCMj"
      }
    },
    {
      "cell_type": "markdown",
      "source": [
        "### Clothing Review Dataset"
      ],
      "metadata": {
        "id": "OyA2zPsboOln"
      }
    },
    {
      "cell_type": "code",
      "source": [
        "# Load dataset for clothing reviews\n",
        "reviews = pd.read_csv(\"/content/drive/MyDrive/data /Womens Clothing E-Commerce Reviews.csv\")\n",
        "reviews = reviews.dropna()\n",
        "print(reviews.shape)\n",
        "reviews.head()"
      ],
      "metadata": {
        "colab": {
          "base_uri": "https://localhost:8080/",
          "height": 476
        },
        "id": "imlvO0RAVl5k",
        "outputId": "73b469d3-93af-4bf5-e572-3effa0ad72e1"
      },
      "execution_count": null,
      "outputs": [
        {
          "output_type": "stream",
          "name": "stdout",
          "text": [
            "(19662, 11)\n"
          ]
        },
        {
          "output_type": "execute_result",
          "data": {
            "text/html": [
              "\n",
              "  <div id=\"df-47c6cffd-d145-4922-a0ad-1173049bcbc0\">\n",
              "    <div class=\"colab-df-container\">\n",
              "      <div>\n",
              "<style scoped>\n",
              "    .dataframe tbody tr th:only-of-type {\n",
              "        vertical-align: middle;\n",
              "    }\n",
              "\n",
              "    .dataframe tbody tr th {\n",
              "        vertical-align: top;\n",
              "    }\n",
              "\n",
              "    .dataframe thead th {\n",
              "        text-align: right;\n",
              "    }\n",
              "</style>\n",
              "<table border=\"1\" class=\"dataframe\">\n",
              "  <thead>\n",
              "    <tr style=\"text-align: right;\">\n",
              "      <th></th>\n",
              "      <th>Unnamed: 0</th>\n",
              "      <th>Clothing ID</th>\n",
              "      <th>Age</th>\n",
              "      <th>Title</th>\n",
              "      <th>Review Text</th>\n",
              "      <th>Rating</th>\n",
              "      <th>Recommended IND</th>\n",
              "      <th>Positive Feedback Count</th>\n",
              "      <th>Division Name</th>\n",
              "      <th>Department Name</th>\n",
              "      <th>Class Name</th>\n",
              "    </tr>\n",
              "  </thead>\n",
              "  <tbody>\n",
              "    <tr>\n",
              "      <th>2</th>\n",
              "      <td>2</td>\n",
              "      <td>1077</td>\n",
              "      <td>60</td>\n",
              "      <td>Some major design flaws</td>\n",
              "      <td>I had such high hopes for this dress and reall...</td>\n",
              "      <td>3</td>\n",
              "      <td>0</td>\n",
              "      <td>0</td>\n",
              "      <td>General</td>\n",
              "      <td>Dresses</td>\n",
              "      <td>Dresses</td>\n",
              "    </tr>\n",
              "    <tr>\n",
              "      <th>3</th>\n",
              "      <td>3</td>\n",
              "      <td>1049</td>\n",
              "      <td>50</td>\n",
              "      <td>My favorite buy!</td>\n",
              "      <td>I love, love, love this jumpsuit. it's fun, fl...</td>\n",
              "      <td>5</td>\n",
              "      <td>1</td>\n",
              "      <td>0</td>\n",
              "      <td>General Petite</td>\n",
              "      <td>Bottoms</td>\n",
              "      <td>Pants</td>\n",
              "    </tr>\n",
              "    <tr>\n",
              "      <th>4</th>\n",
              "      <td>4</td>\n",
              "      <td>847</td>\n",
              "      <td>47</td>\n",
              "      <td>Flattering shirt</td>\n",
              "      <td>This shirt is very flattering to all due to th...</td>\n",
              "      <td>5</td>\n",
              "      <td>1</td>\n",
              "      <td>6</td>\n",
              "      <td>General</td>\n",
              "      <td>Tops</td>\n",
              "      <td>Blouses</td>\n",
              "    </tr>\n",
              "    <tr>\n",
              "      <th>5</th>\n",
              "      <td>5</td>\n",
              "      <td>1080</td>\n",
              "      <td>49</td>\n",
              "      <td>Not for the very petite</td>\n",
              "      <td>I love tracy reese dresses, but this one is no...</td>\n",
              "      <td>2</td>\n",
              "      <td>0</td>\n",
              "      <td>4</td>\n",
              "      <td>General</td>\n",
              "      <td>Dresses</td>\n",
              "      <td>Dresses</td>\n",
              "    </tr>\n",
              "    <tr>\n",
              "      <th>6</th>\n",
              "      <td>6</td>\n",
              "      <td>858</td>\n",
              "      <td>39</td>\n",
              "      <td>Cagrcoal shimmer fun</td>\n",
              "      <td>I aded this in my basket at hte last mintue to...</td>\n",
              "      <td>5</td>\n",
              "      <td>1</td>\n",
              "      <td>1</td>\n",
              "      <td>General Petite</td>\n",
              "      <td>Tops</td>\n",
              "      <td>Knits</td>\n",
              "    </tr>\n",
              "  </tbody>\n",
              "</table>\n",
              "</div>\n",
              "      <button class=\"colab-df-convert\" onclick=\"convertToInteractive('df-47c6cffd-d145-4922-a0ad-1173049bcbc0')\"\n",
              "              title=\"Convert this dataframe to an interactive table.\"\n",
              "              style=\"display:none;\">\n",
              "        \n",
              "  <svg xmlns=\"http://www.w3.org/2000/svg\" height=\"24px\"viewBox=\"0 0 24 24\"\n",
              "       width=\"24px\">\n",
              "    <path d=\"M0 0h24v24H0V0z\" fill=\"none\"/>\n",
              "    <path d=\"M18.56 5.44l.94 2.06.94-2.06 2.06-.94-2.06-.94-.94-2.06-.94 2.06-2.06.94zm-11 1L8.5 8.5l.94-2.06 2.06-.94-2.06-.94L8.5 2.5l-.94 2.06-2.06.94zm10 10l.94 2.06.94-2.06 2.06-.94-2.06-.94-.94-2.06-.94 2.06-2.06.94z\"/><path d=\"M17.41 7.96l-1.37-1.37c-.4-.4-.92-.59-1.43-.59-.52 0-1.04.2-1.43.59L10.3 9.45l-7.72 7.72c-.78.78-.78 2.05 0 2.83L4 21.41c.39.39.9.59 1.41.59.51 0 1.02-.2 1.41-.59l7.78-7.78 2.81-2.81c.8-.78.8-2.07 0-2.86zM5.41 20L4 18.59l7.72-7.72 1.47 1.35L5.41 20z\"/>\n",
              "  </svg>\n",
              "      </button>\n",
              "      \n",
              "  <style>\n",
              "    .colab-df-container {\n",
              "      display:flex;\n",
              "      flex-wrap:wrap;\n",
              "      gap: 12px;\n",
              "    }\n",
              "\n",
              "    .colab-df-convert {\n",
              "      background-color: #E8F0FE;\n",
              "      border: none;\n",
              "      border-radius: 50%;\n",
              "      cursor: pointer;\n",
              "      display: none;\n",
              "      fill: #1967D2;\n",
              "      height: 32px;\n",
              "      padding: 0 0 0 0;\n",
              "      width: 32px;\n",
              "    }\n",
              "\n",
              "    .colab-df-convert:hover {\n",
              "      background-color: #E2EBFA;\n",
              "      box-shadow: 0px 1px 2px rgba(60, 64, 67, 0.3), 0px 1px 3px 1px rgba(60, 64, 67, 0.15);\n",
              "      fill: #174EA6;\n",
              "    }\n",
              "\n",
              "    [theme=dark] .colab-df-convert {\n",
              "      background-color: #3B4455;\n",
              "      fill: #D2E3FC;\n",
              "    }\n",
              "\n",
              "    [theme=dark] .colab-df-convert:hover {\n",
              "      background-color: #434B5C;\n",
              "      box-shadow: 0px 1px 3px 1px rgba(0, 0, 0, 0.15);\n",
              "      filter: drop-shadow(0px 1px 2px rgba(0, 0, 0, 0.3));\n",
              "      fill: #FFFFFF;\n",
              "    }\n",
              "  </style>\n",
              "\n",
              "      <script>\n",
              "        const buttonEl =\n",
              "          document.querySelector('#df-47c6cffd-d145-4922-a0ad-1173049bcbc0 button.colab-df-convert');\n",
              "        buttonEl.style.display =\n",
              "          google.colab.kernel.accessAllowed ? 'block' : 'none';\n",
              "\n",
              "        async function convertToInteractive(key) {\n",
              "          const element = document.querySelector('#df-47c6cffd-d145-4922-a0ad-1173049bcbc0');\n",
              "          const dataTable =\n",
              "            await google.colab.kernel.invokeFunction('convertToInteractive',\n",
              "                                                     [key], {});\n",
              "          if (!dataTable) return;\n",
              "\n",
              "          const docLinkHtml = 'Like what you see? Visit the ' +\n",
              "            '<a target=\"_blank\" href=https://colab.research.google.com/notebooks/data_table.ipynb>data table notebook</a>'\n",
              "            + ' to learn more about interactive tables.';\n",
              "          element.innerHTML = '';\n",
              "          dataTable['output_type'] = 'display_data';\n",
              "          await google.colab.output.renderOutput(dataTable, element);\n",
              "          const docLink = document.createElement('div');\n",
              "          docLink.innerHTML = docLinkHtml;\n",
              "          element.appendChild(docLink);\n",
              "        }\n",
              "      </script>\n",
              "    </div>\n",
              "  </div>\n",
              "  "
            ],
            "text/plain": [
              "   Unnamed: 0  Clothing ID  Age  ...   Division Name Department Name  Class Name\n",
              "2           2         1077   60  ...         General         Dresses     Dresses\n",
              "3           3         1049   50  ...  General Petite         Bottoms       Pants\n",
              "4           4          847   47  ...         General            Tops     Blouses\n",
              "5           5         1080   49  ...         General         Dresses     Dresses\n",
              "6           6          858   39  ...  General Petite            Tops       Knits\n",
              "\n",
              "[5 rows x 11 columns]"
            ]
          },
          "metadata": {},
          "execution_count": 37
        }
      ]
    },
    {
      "cell_type": "code",
      "source": [
        "reviews['Title'] = reviews['Title'].fillna('')\n",
        "reviews['Review Text'] = reviews['Review Text'].fillna('')\n",
        "reviews['review'] = reviews['Title'] + ' ' + reviews['Review Text']"
      ],
      "metadata": {
        "id": "YAwCLy3fWxfM"
      },
      "execution_count": null,
      "outputs": []
    },
    {
      "cell_type": "code",
      "source": [
        "reviews = reviews[['review', 'Rating']]\n",
        "reviews.columns = ['review', 'rating']\n",
        "reviews.head()"
      ],
      "metadata": {
        "colab": {
          "base_uri": "https://localhost:8080/",
          "height": 206
        },
        "id": "uJOEZcK9W1Xg",
        "outputId": "8e0d58fd-1419-41ba-d442-379138caca65"
      },
      "execution_count": null,
      "outputs": [
        {
          "output_type": "execute_result",
          "data": {
            "text/html": [
              "\n",
              "  <div id=\"df-c909fbc2-937f-4521-823e-6466d46aeda1\">\n",
              "    <div class=\"colab-df-container\">\n",
              "      <div>\n",
              "<style scoped>\n",
              "    .dataframe tbody tr th:only-of-type {\n",
              "        vertical-align: middle;\n",
              "    }\n",
              "\n",
              "    .dataframe tbody tr th {\n",
              "        vertical-align: top;\n",
              "    }\n",
              "\n",
              "    .dataframe thead th {\n",
              "        text-align: right;\n",
              "    }\n",
              "</style>\n",
              "<table border=\"1\" class=\"dataframe\">\n",
              "  <thead>\n",
              "    <tr style=\"text-align: right;\">\n",
              "      <th></th>\n",
              "      <th>review</th>\n",
              "      <th>rating</th>\n",
              "    </tr>\n",
              "  </thead>\n",
              "  <tbody>\n",
              "    <tr>\n",
              "      <th>2</th>\n",
              "      <td>Some major design flaws I had such high hopes ...</td>\n",
              "      <td>3</td>\n",
              "    </tr>\n",
              "    <tr>\n",
              "      <th>3</th>\n",
              "      <td>My favorite buy! I love, love, love this jumps...</td>\n",
              "      <td>5</td>\n",
              "    </tr>\n",
              "    <tr>\n",
              "      <th>4</th>\n",
              "      <td>Flattering shirt This shirt is very flattering...</td>\n",
              "      <td>5</td>\n",
              "    </tr>\n",
              "    <tr>\n",
              "      <th>5</th>\n",
              "      <td>Not for the very petite I love tracy reese dre...</td>\n",
              "      <td>2</td>\n",
              "    </tr>\n",
              "    <tr>\n",
              "      <th>6</th>\n",
              "      <td>Cagrcoal shimmer fun I aded this in my basket ...</td>\n",
              "      <td>5</td>\n",
              "    </tr>\n",
              "  </tbody>\n",
              "</table>\n",
              "</div>\n",
              "      <button class=\"colab-df-convert\" onclick=\"convertToInteractive('df-c909fbc2-937f-4521-823e-6466d46aeda1')\"\n",
              "              title=\"Convert this dataframe to an interactive table.\"\n",
              "              style=\"display:none;\">\n",
              "        \n",
              "  <svg xmlns=\"http://www.w3.org/2000/svg\" height=\"24px\"viewBox=\"0 0 24 24\"\n",
              "       width=\"24px\">\n",
              "    <path d=\"M0 0h24v24H0V0z\" fill=\"none\"/>\n",
              "    <path d=\"M18.56 5.44l.94 2.06.94-2.06 2.06-.94-2.06-.94-.94-2.06-.94 2.06-2.06.94zm-11 1L8.5 8.5l.94-2.06 2.06-.94-2.06-.94L8.5 2.5l-.94 2.06-2.06.94zm10 10l.94 2.06.94-2.06 2.06-.94-2.06-.94-.94-2.06-.94 2.06-2.06.94z\"/><path d=\"M17.41 7.96l-1.37-1.37c-.4-.4-.92-.59-1.43-.59-.52 0-1.04.2-1.43.59L10.3 9.45l-7.72 7.72c-.78.78-.78 2.05 0 2.83L4 21.41c.39.39.9.59 1.41.59.51 0 1.02-.2 1.41-.59l7.78-7.78 2.81-2.81c.8-.78.8-2.07 0-2.86zM5.41 20L4 18.59l7.72-7.72 1.47 1.35L5.41 20z\"/>\n",
              "  </svg>\n",
              "      </button>\n",
              "      \n",
              "  <style>\n",
              "    .colab-df-container {\n",
              "      display:flex;\n",
              "      flex-wrap:wrap;\n",
              "      gap: 12px;\n",
              "    }\n",
              "\n",
              "    .colab-df-convert {\n",
              "      background-color: #E8F0FE;\n",
              "      border: none;\n",
              "      border-radius: 50%;\n",
              "      cursor: pointer;\n",
              "      display: none;\n",
              "      fill: #1967D2;\n",
              "      height: 32px;\n",
              "      padding: 0 0 0 0;\n",
              "      width: 32px;\n",
              "    }\n",
              "\n",
              "    .colab-df-convert:hover {\n",
              "      background-color: #E2EBFA;\n",
              "      box-shadow: 0px 1px 2px rgba(60, 64, 67, 0.3), 0px 1px 3px 1px rgba(60, 64, 67, 0.15);\n",
              "      fill: #174EA6;\n",
              "    }\n",
              "\n",
              "    [theme=dark] .colab-df-convert {\n",
              "      background-color: #3B4455;\n",
              "      fill: #D2E3FC;\n",
              "    }\n",
              "\n",
              "    [theme=dark] .colab-df-convert:hover {\n",
              "      background-color: #434B5C;\n",
              "      box-shadow: 0px 1px 3px 1px rgba(0, 0, 0, 0.15);\n",
              "      filter: drop-shadow(0px 1px 2px rgba(0, 0, 0, 0.3));\n",
              "      fill: #FFFFFF;\n",
              "    }\n",
              "  </style>\n",
              "\n",
              "      <script>\n",
              "        const buttonEl =\n",
              "          document.querySelector('#df-c909fbc2-937f-4521-823e-6466d46aeda1 button.colab-df-convert');\n",
              "        buttonEl.style.display =\n",
              "          google.colab.kernel.accessAllowed ? 'block' : 'none';\n",
              "\n",
              "        async function convertToInteractive(key) {\n",
              "          const element = document.querySelector('#df-c909fbc2-937f-4521-823e-6466d46aeda1');\n",
              "          const dataTable =\n",
              "            await google.colab.kernel.invokeFunction('convertToInteractive',\n",
              "                                                     [key], {});\n",
              "          if (!dataTable) return;\n",
              "\n",
              "          const docLinkHtml = 'Like what you see? Visit the ' +\n",
              "            '<a target=\"_blank\" href=https://colab.research.google.com/notebooks/data_table.ipynb>data table notebook</a>'\n",
              "            + ' to learn more about interactive tables.';\n",
              "          element.innerHTML = '';\n",
              "          dataTable['output_type'] = 'display_data';\n",
              "          await google.colab.output.renderOutput(dataTable, element);\n",
              "          const docLink = document.createElement('div');\n",
              "          docLink.innerHTML = docLinkHtml;\n",
              "          element.appendChild(docLink);\n",
              "        }\n",
              "      </script>\n",
              "    </div>\n",
              "  </div>\n",
              "  "
            ],
            "text/plain": [
              "                                              review  rating\n",
              "2  Some major design flaws I had such high hopes ...       3\n",
              "3  My favorite buy! I love, love, love this jumps...       5\n",
              "4  Flattering shirt This shirt is very flattering...       5\n",
              "5  Not for the very petite I love tracy reese dre...       2\n",
              "6  Cagrcoal shimmer fun I aded this in my basket ...       5"
            ]
          },
          "metadata": {},
          "execution_count": 39
        }
      ]
    },
    {
      "cell_type": "markdown",
      "source": [
        "#### Tokenize each sentence"
      ],
      "metadata": {
        "id": "nln320q7XrNd"
      }
    },
    {
      "cell_type": "code",
      "source": [
        "#take advantage of nltk to tokenize all sentences\n",
        "import nltk\n",
        "from nltk.corpus import stopwords\n",
        "from nltk.tokenize import word_tokenize\n",
        "nltk.download('stopwords')\n",
        "en_stop_words = set(stopwords.words('english'))\n",
        "tokenizer = nltk.RegexpTokenizer(r'\\w+|\\$[\\d\\.]+')\n",
        "\n",
        "def tokenize_sent(sent):\n",
        "    \n",
        "    tokenized = tokenizer.tokenize(sent)\n",
        "    filtered = [w.lower() for w in tokenized if w.lower() not in en_stop_words]\n",
        "    return filtered\n",
        "\n",
        "reviews['tokenized'] = reviews['review'].apply(lambda x: tokenize_sent(x))"
      ],
      "metadata": {
        "colab": {
          "base_uri": "https://localhost:8080/"
        },
        "id": "PY9XLpc1Lbda",
        "outputId": "2d121fe2-0e32-4ba0-c365-2c26b5af3842"
      },
      "execution_count": null,
      "outputs": [
        {
          "output_type": "stream",
          "name": "stdout",
          "text": [
            "[nltk_data] Downloading package stopwords to /root/nltk_data...\n",
            "[nltk_data]   Package stopwords is already up-to-date!\n"
          ]
        }
      ]
    },
    {
      "cell_type": "code",
      "source": [
        "# Sanity cehck for tokenizers\n",
        "print(reviews.head(3))"
      ],
      "metadata": {
        "colab": {
          "base_uri": "https://localhost:8080/"
        },
        "id": "OQnOPLzaM-IQ",
        "outputId": "322ec0ea-ae84-47ef-e383-2babd6ba6a97"
      },
      "execution_count": null,
      "outputs": [
        {
          "output_type": "stream",
          "name": "stdout",
          "text": [
            "                                              review  ...                                          tokenized\n",
            "2  Some major design flaws I had such high hopes ...  ...  [major, design, flaws, high, hopes, dress, rea...\n",
            "3  My favorite buy! I love, love, love this jumps...  ...  [favorite, buy, love, love, love, jumpsuit, fu...\n",
            "4  Flattering shirt This shirt is very flattering...  ...  [flattering, shirt, shirt, flattering, due, ad...\n",
            "\n",
            "[3 rows x 3 columns]\n"
          ]
        }
      ]
    },
    {
      "cell_type": "markdown",
      "source": [
        "#### Encode and truncate sentence"
      ],
      "metadata": {
        "id": "jJlI6cYBYXbw"
      }
    },
    {
      "cell_type": "code",
      "source": [
        "# get unique words in the corpus\n",
        "all_words = []\n",
        "for x in reviews['tokenized']:\n",
        "    all_words.extend(x)\n",
        "\n",
        "word_set = list(set(all_words))\n",
        "word_count = Counter(all_words)\n",
        "\n",
        "# filter out words with low frequencylm\n",
        "for word_list in reviews.tokenized:\n",
        "    new_list = []\n",
        "    for word in word_list:\n",
        "        if word_count[word] > 2:\n",
        "            new_list.append(word)\n",
        "    word_list = new_list\n",
        "\n",
        "# update set of words after removing the ones with low frequency\n",
        "new_word_list = []\n",
        "for x in reviews['tokenized']:\n",
        "    new_word_list.extend(x)\n",
        "word_set = list(set(new_word_list))\n",
        "\n",
        "# map each unique words & unknown token in reviews.encoded to an index\n",
        "word2index = {}\n",
        "word2index['<UNK>'] = 0\n",
        "word2index['<PAD>'] = 1\n",
        "\n",
        "for i, word in enumerate(word_set, 2):\n",
        "    word2index[word] = i\n",
        "\n",
        "# encode the original sequence\n",
        "def encode(sent_list):\n",
        "    result = []\n",
        "    for x in sent_list:\n",
        "        index = word2index[x]\n",
        "        result.append(index)\n",
        "    return result\n",
        "\n",
        "reviews['encoded'] = reviews.tokenized.apply(lambda x: encode(x))\n",
        "\n",
        "print(reviews.head())\n",
        "\n",
        "# get sequence average length\n",
        "total_len = 0\n",
        "for x in reviews.encoded:\n",
        "    total_len += len(x)\n",
        "\n",
        "ave_len = math.floor(total_len/reviews.shape[0])\n",
        "\n",
        "# filter out long sequences --> encode all sequence to length = ave_len\n",
        "# pad short sequence\n",
        "\n",
        "for i, row in reviews.iterrows():\n",
        "    size = min(len(row.encoded), ave_len)\n",
        "    new_encoded = row.encoded[:size]\n",
        "    if size < ave_len:\n",
        "        for j in range(0, ave_len - len(row.encoded)):\n",
        "            new_encoded.append(1)\n",
        "    reviews.at[i, 'encoded'] = new_encoded\n",
        "\n",
        "reviews['review_length'] = reviews.encoded.apply(lambda x: len(x))"
      ],
      "metadata": {
        "id": "-sT1ynqj_7Fo",
        "colab": {
          "base_uri": "https://localhost:8080/"
        },
        "outputId": "2e3d373c-a969-4b68-bb48-7dd6dbc986bd"
      },
      "execution_count": null,
      "outputs": [
        {
          "output_type": "stream",
          "name": "stdout",
          "text": [
            "                                              review  ...                                            encoded\n",
            "2  Some major design flaws I had such high hopes ...  ...  [9212, 12024, 8182, 8918, 9264, 13205, 12772, ...\n",
            "3  My favorite buy! I love, love, love this jumps...  ...  [4206, 10194, 564, 564, 564, 10304, 1249, 7398...\n",
            "4  Flattering shirt This shirt is very flattering...  ...  [9023, 1718, 1718, 9023, 9170, 14005, 11475, 7...\n",
            "5  Not for the very petite I love tracy reese dre...  ...  [9501, 564, 8540, 10934, 12015, 6974, 9501, 11...\n",
            "6  Cagrcoal shimmer fun I aded this in my basket ...  ...  [2624, 1224, 1249, 13660, 5330, 2668, 13690, 5...\n",
            "\n",
            "[5 rows x 4 columns]\n"
          ]
        }
      ]
    },
    {
      "cell_type": "code",
      "source": [
        "# sanity check for encoding:\n",
        "print(len(all_words))\n",
        "print(ave_len)\n",
        "lengths = [len(x) for x in reviews.encoded]\n",
        "print(max(lengths))\n",
        "print(min(lengths))\n",
        "print(set(reviews.rating))\n",
        "review_length = reviews.review_length\n",
        "reviews.head()\n",
        "print(len(word_set))"
      ],
      "metadata": {
        "colab": {
          "base_uri": "https://localhost:8080/"
        },
        "id": "5lNy_oCSFrqf",
        "outputId": "0852bcd5-ca28-4cb9-a1ee-c5fe2258b8af"
      },
      "execution_count": null,
      "outputs": [
        {
          "output_type": "stream",
          "name": "stdout",
          "text": [
            "639434\n",
            "32\n",
            "32\n",
            "32\n",
            "{1, 2, 3, 4, 5}\n",
            "14088\n"
          ]
        }
      ]
    },
    {
      "cell_type": "code",
      "source": [
        "# Train test split from skearln\n",
        "data_size = len(reviews['encoded'])\n",
        "assert data_size == len(reviews['rating']) \n",
        "X, y = list(zip(list(reviews['encoded']),(list(reviews['review_length'])))), list(reviews['rating'])\n",
        "# X(data, length)\n",
        "X_train, X_test, y_train, y_test = train_test_split(X, y, test_size=0.2, random_state=43)"
      ],
      "metadata": {
        "id": "glkjNVF-N_0r"
      },
      "execution_count": null,
      "outputs": []
    },
    {
      "cell_type": "code",
      "source": [
        "# Sanity check for length match\n",
        "print(X_train[0])"
      ],
      "metadata": {
        "colab": {
          "base_uri": "https://localhost:8080/"
        },
        "id": "AlveD7X5cPYp",
        "outputId": "24d08d25-c356-48aa-d384-6c0749d5bf7c"
      },
      "execution_count": null,
      "outputs": [
        {
          "output_type": "stream",
          "name": "stdout",
          "text": [
            "([13884, 4557, 668, 1641, 1883, 4557, 7498, 13264, 10194, 5819, 13884, 1641, 7487, 7489, 13558, 564, 11388, 7982, 11756, 1290, 2501, 5819, 5287, 10470, 1641, 7487, 7503, 7485, 3240, 5287, 784, 7487], 32)\n"
          ]
        }
      ]
    },
    {
      "cell_type": "markdown",
      "source": [
        "## Dataset and Dataloader"
      ],
      "metadata": {
        "id": "53k_akR7YiAl"
      }
    },
    {
      "cell_type": "markdown",
      "source": [
        "### Clothing Review Dataset"
      ],
      "metadata": {
        "id": "5jGEsKl8obJ9"
      }
    },
    {
      "cell_type": "code",
      "source": [
        "class Dataset_word2vec(Dataset):\n",
        "    def __init__(self, X, y): \n",
        "        self.X = X\n",
        "        y_new = [i-1 for i in y]\n",
        "        self.y = y_new\n",
        "\n",
        "    def __len__(self):\n",
        "        return len(self.X)\n",
        "\n",
        "    def __getitem__(self, idx):\n",
        "        return  self.X[idx], self.y[idx]"
      ],
      "metadata": {
        "id": "nmCLiMzCY-o3"
      },
      "execution_count": null,
      "outputs": []
    },
    {
      "cell_type": "code",
      "source": [
        "trainSet_w2v = Dataset_word2vec(X_train, y_train)\n",
        "testSet_w2v = Dataset_word2vec(X_test, y_test)"
      ],
      "metadata": {
        "id": "yf03irQDieWM"
      },
      "execution_count": null,
      "outputs": []
    },
    {
      "cell_type": "code",
      "source": [
        "print(trainSet_w2v[0])"
      ],
      "metadata": {
        "colab": {
          "base_uri": "https://localhost:8080/"
        },
        "id": "zCt282rkny8w",
        "outputId": "02f8d32c-608b-429e-c48c-bab996962400"
      },
      "execution_count": null,
      "outputs": [
        {
          "output_type": "stream",
          "name": "stdout",
          "text": [
            "(([13884, 4557, 668, 1641, 1883, 4557, 7498, 13264, 10194, 5819, 13884, 1641, 7487, 7489, 13558, 564, 11388, 7982, 11756, 1290, 2501, 5819, 5287, 10470, 1641, 7487, 7503, 7485, 3240, 5287, 784, 7487], 32), 4)\n"
          ]
        }
      ]
    },
    {
      "cell_type": "code",
      "source": [
        "def myCollate(batch):\n",
        "    data = [item[0] for item in batch]\n",
        "    label = [item[1] for item in batch]\n",
        "    # sort sequence according to it's length in a batch\n",
        "    data = data\n",
        "    # data.sort(key=lambda x: x[1], reverse = True)\n",
        "\n",
        "    # data (review: list, length: int)\n",
        "    review = torch.tensor([x[0] for x in data], dtype = torch.long)\n",
        "    label = torch.tensor(label, dtype = torch.long)\n",
        "    seq_len = [x[1] for x in data]\n",
        "    return review, label, seq_len"
      ],
      "metadata": {
        "id": "5UJ2oiTW8mYz"
      },
      "execution_count": null,
      "outputs": []
    },
    {
      "cell_type": "code",
      "source": [
        "trainLoader_w2v = DataLoader(dataset = trainSet_w2v, batch_size = 16, collate_fn = myCollate, shuffle = True, drop_last = True)\n",
        "testLoader_w2v = DataLoader(dataset = testSet_w2v, batch_size = 16, collate_fn = myCollate, shuffle = True, drop_last = True)"
      ],
      "metadata": {
        "id": "17kzAjBchH_F"
      },
      "execution_count": null,
      "outputs": []
    },
    {
      "cell_type": "code",
      "source": [
        "it = iter(trainLoader_w2v)\n",
        "x, y, seq_len = it.next()"
      ],
      "metadata": {
        "id": "nf1dmuSrfpWT"
      },
      "execution_count": null,
      "outputs": []
    },
    {
      "cell_type": "code",
      "source": [
        "x.data"
      ],
      "metadata": {
        "colab": {
          "base_uri": "https://localhost:8080/"
        },
        "id": "vxupL_Js1usD",
        "outputId": "0256f40f-0e7d-4cf4-efbf-13189e7ea772"
      },
      "execution_count": null,
      "outputs": [
        {
          "output_type": "execute_result",
          "data": {
            "text/plain": [
              "tensor([[ 4165,  1900,  3552, 13503,  1900,  3552,  8307,  4298,  6731, 13109,\n",
              "          1016, 12121,  6528, 12358, 13883,  3575,  5287, 11573,  8322,  5703,\n",
              "         10097,  9267,  1683,  7487, 12323,     1,     1,     1,     1,     1,\n",
              "             1,     1],\n",
              "        [ 1641,  7882, 12715, 12062, 10325, 13205, 10759,  6731,  1341,   564,\n",
              "          3012, 10419,  2616, 12544,   955,  4757,  4757,   788,  3713,  1627,\n",
              "         12567, 10958,  5742, 10419,  8973, 12544,  7907,  6774,  2559,  1445,\n",
              "          7465,  4350],\n",
              "        [10631, 13013,  3240,  4547, 10631,  6806,  6446, 11794, 12544,     1,\n",
              "             1,     1,     1,     1,     1,     1,     1,     1,     1,     1,\n",
              "             1,     1,     1,     1,     1,     1,     1,     1,     1,     1,\n",
              "             1,     1],\n",
              "        [13190,  5166, 12744,  7093,  2780, 13503,  7557,  6820,  9876,  1445,\n",
              "         11044,  8659,  7497,  1194, 10712, 10758,   792,  6821,  7323, 12115,\n",
              "         10419,   260,  9572,  8941,  4786,  1985,  7882,  3165,  7465, 12358,\n",
              "          9711,  8579],\n",
              "        [  564,  3902, 13737,   632, 13904,  6700, 11388,  9177,   623,  5240,\n",
              "         12544, 12582,  4460,  8941, 10419,  4460,  3713,  7487, 11616,  6129,\n",
              "          4349, 10715, 12772,  9267,  7819,  3713, 13490, 12537, 12941, 10305,\n",
              "         11605,  7106],\n",
              "        [ 8716,  5088,   564,  3881,  6974,  8848,  2329,  3240,  8941,   595,\n",
              "          5874,  8216,  2627,  9599,  5548,  1822,  1249,   493,  1445, 13737,\n",
              "         13386, 11475,  6353,  3217,  6381, 13386,   493,  2879,  1690,  9304,\n",
              "           493,  7183],\n",
              "        [ 4165,   576, 11965,   461,  5501,  1900, 13111, 13205, 13205,  3824,\n",
              "           247,   143, 12121, 12358, 11388,  7982,  1092,  9293,  2350, 10419,\n",
              "           222,     1,     1,     1,     1,     1,     1,     1,     1,     1,\n",
              "             1,     1],\n",
              "        [13610, 13610,  5932,  4067, 13610, 11519, 13916,  7546, 13013,  3570,\n",
              "          1070,  7654,  4140,  5786,  9959,  9066,  1982, 12071,  1158, 10633,\n",
              "         11756, 13916,  2191, 10325,  2836,  1341,  5836, 12529,  2985,  3911,\n",
              "         10759, 12699],\n",
              "        [10194,   564,  8216,  6978,  5239, 10986,  8167,  5507,   328,  8167,\n",
              "           564,  1785,  1891,  2509, 11040,  1641,     1,     1,     1,     1,\n",
              "             1,     1,     1,     1,     1,     1,     1,     1,     1,     1,\n",
              "             1,     1],\n",
              "        [ 2448,  6206,  3240,  6952,  2448,  4090,  6995, 10536,  3180, 12121,\n",
              "         12358, 10419,   222,  8716,  7183,  7991, 11388,  9953,  4940,  2350,\n",
              "          7276,  9951,  3181,  6528,  9480,  3619, 13737,  7653,  2448,     1,\n",
              "             1,     1],\n",
              "        [ 9599,  4088, 13205, 11157,  6171,  8798, 13695,  9754, 10686, 12062,\n",
              "           713,  6446,  5507,  9023, 11483, 12815,  4039,  5802,  6698, 11744,\n",
              "         11388,  9177,  3848,  5170, 13737,  9671,  3165,  3240,  9113, 13029,\n",
              "         10231,  5834],\n",
              "        [ 6206,  2448,  6934,  2448,  6206, 13111,  6969, 12232,  4344,  5253,\n",
              "          3240,  2707,  8941,  6896,  5641,  6284,     1,     1,     1,     1,\n",
              "             1,     1,     1,     1,     1,     1,     1,     1,     1,     1,\n",
              "             1,     1],\n",
              "        [11262,  9207,  2646,  6057,  8216, 12323,  9207, 12121,  6528,  7183,\n",
              "            53, 13883,  9556, 12715,  3240,  6342,   461,   360,     1,     1,\n",
              "             1,     1,     1,     1,     1,     1,     1,     1,     1,     1,\n",
              "             1,     1],\n",
              "        [11642, 12411,  6560,  6057,  5962,  9196,  9599,  5292,  3139, 11642,\n",
              "         12411,  6698, 12024,    54,  1900,  8216, 10350,  5910,  6969, 12232,\n",
              "            11,  3020, 10480,  5962,  2755,  7242,  6187,  8918,  6698,  2629,\n",
              "          9066,  6862],\n",
              "        [  564, 12343, 12607,  1079,  4349,  9572,  5819, 12001, 13503,  5819,\n",
              "           564,  6606,  3933, 11411,  5703,  5467,  4953, 13712,  1430,  3713,\n",
              "          7487,  1731,  9959, 13531,  9066,  2053,  3798,  5819,  9023, 13287,\n",
              "          5699,  5665],\n",
              "        [ 1488,  6969,  4456,   564,  4456, 13111,  3780,  4431, 12809,  5169,\n",
              "          2440,  9267, 12323,  7188,  6978, 13966,  9572,  5287,  8739,  1718,\n",
              "          8941,  6284,  3115,     1,     1,     1,     1,     1,     1,     1,\n",
              "             1,     1]])"
            ]
          },
          "metadata": {},
          "execution_count": 52
        }
      ]
    },
    {
      "cell_type": "code",
      "source": [
        "y"
      ],
      "metadata": {
        "colab": {
          "base_uri": "https://localhost:8080/"
        },
        "id": "iPW8bqg1th7a",
        "outputId": "6e09291f-891c-4645-9fec-cd1cc1c0c502"
      },
      "execution_count": null,
      "outputs": [
        {
          "output_type": "execute_result",
          "data": {
            "text/plain": [
              "tensor([4, 2, 2, 0, 4, 4, 4, 4, 4, 3, 3, 4, 4, 4, 4, 4])"
            ]
          },
          "metadata": {},
          "execution_count": 53
        }
      ]
    },
    {
      "cell_type": "code",
      "source": [
        "seq_len"
      ],
      "metadata": {
        "colab": {
          "base_uri": "https://localhost:8080/"
        },
        "id": "o9PING33tjoJ",
        "outputId": "36a8d7cf-f060-4504-c627-a4b9aef4cf56"
      },
      "execution_count": null,
      "outputs": [
        {
          "output_type": "execute_result",
          "data": {
            "text/plain": [
              "[32, 32, 32, 32, 32, 32, 32, 32, 32, 32, 32, 32, 32, 32, 32, 32]"
            ]
          },
          "metadata": {},
          "execution_count": 54
        }
      ]
    },
    {
      "cell_type": "markdown",
      "source": [
        "## Embedding"
      ],
      "metadata": {
        "id": "dkOEB6jDYT2J"
      }
    },
    {
      "cell_type": "code",
      "source": [
        "word2vec = gensim.models.KeyedVectors.load_word2vec_format(\n",
        "    '/content/drive/MyDrive/data /GoogleNews-vectors-negative300.bin', binary = True)\n",
        "print(type(word2vec))\n",
        "weight = torch.FloatTensor(word2vec.vectors)\n",
        "word2vec_embedding = nn.Embedding.from_pretrained(weight)\n",
        "\n",
        "# sanity check for word2vec embedding\n",
        "temp = word2vec['hello', 'world']\n",
        "sanity_w2v = torch.Tensor(temp)\n",
        "print(sanity_w2v.shape)"
      ],
      "metadata": {
        "colab": {
          "base_uri": "https://localhost:8080/"
        },
        "id": "kMAextiWYdVH",
        "outputId": "c0006893-01f9-4340-cab1-395d532fc6a0"
      },
      "execution_count": null,
      "outputs": [
        {
          "output_type": "stream",
          "name": "stdout",
          "text": [
            "<class 'gensim.models.keyedvectors.Word2VecKeyedVectors'>\n",
            "torch.Size([2, 300])\n"
          ]
        }
      ]
    },
    {
      "cell_type": "code",
      "source": [
        "# create embedding matrix lstm\n",
        "def emb_matrix(model, all_words, word2index):\n",
        "    matrix_size = len(word_set) + 2\n",
        "    emb_matrix = np.zeros((matrix_size, 300))\n",
        "    emb_matrix[0] = np.random.uniform(-0.25, 0.25, 300) # vector for UNK\n",
        "    emb_matrix[1] = np.zeros(300) # vector for padding, has no weight\n",
        "\n",
        "    # vector for every other word in the dictionary\n",
        "    for i in range(2, len(all_words)+2):\n",
        "        word = all_words[i-2]\n",
        "        index = word2index[word]\n",
        "        try:\n",
        "            vector = model[word]\n",
        "        except Exception as e:\n",
        "            # word does not exist in the pretrained embedding\n",
        "            vector = emb_matrix[0]\n",
        "        emb_matrix[index] = vector\n",
        "    return emb_matrix"
      ],
      "metadata": {
        "id": "QRqGHAIJAgAx"
      },
      "execution_count": null,
      "outputs": []
    },
    {
      "cell_type": "code",
      "source": [
        "embeddings_w2v = emb_matrix(word2vec, word_set, word2index)"
      ],
      "metadata": {
        "id": "rKqasNfKXMQU"
      },
      "execution_count": null,
      "outputs": []
    },
    {
      "cell_type": "code",
      "source": [
        "print(embedding.shape)"
      ],
      "metadata": {
        "id": "y1XRr66CXd76",
        "colab": {
          "base_uri": "https://localhost:8080/"
        },
        "outputId": "b9af2445-664e-4aee-a0d0-88f1898654b8"
      },
      "execution_count": null,
      "outputs": [
        {
          "output_type": "stream",
          "name": "stdout",
          "text": [
            "(14090, 300)\n"
          ]
        }
      ]
    },
    {
      "cell_type": "code",
      "source": [
        "print(embedding)"
      ],
      "metadata": {
        "colab": {
          "base_uri": "https://localhost:8080/"
        },
        "id": "Axpw0w9DyznK",
        "outputId": "5f89dca8-a2bf-4d52-ecd9-9a859566a0bf"
      },
      "execution_count": null,
      "outputs": [
        {
          "output_type": "stream",
          "name": "stdout",
          "text": [
            "[[-0.19969298 -0.1166273   0.06400437 ...  0.10798792 -0.2309094\n",
            "   0.13216881]\n",
            " [ 0.          0.          0.         ...  0.          0.\n",
            "   0.        ]\n",
            " [-0.19969298 -0.1166273   0.06400437 ...  0.10798792 -0.2309094\n",
            "   0.13216881]\n",
            " ...\n",
            " [ 0.24414062 -0.03759766 -0.22265625 ... -0.08935547 -0.11572266\n",
            "   0.125     ]\n",
            " [ 0.16503906 -0.0625     -0.13671875 ... -0.33203125 -0.11474609\n",
            "   0.34375   ]\n",
            " [-0.19969298 -0.1166273   0.06400437 ...  0.10798792 -0.2309094\n",
            "   0.13216881]]\n"
          ]
        }
      ]
    },
    {
      "cell_type": "code",
      "source": [
        "def validation_metrics(model, valid_dl):\n",
        "    print(\"current in vlaidaiton\")\n",
        "    model.eval()\n",
        "    correct = 0\n",
        "    total = 0\n",
        "    sum_loss = 0.0\n",
        "    sum_rmse = 0.0\n",
        "    criterion = nn.CrossEntropyLoss()\n",
        "    model = model.to(device)\n",
        "    y_total = []\n",
        "    y_pred_total = []\n",
        "    for x, y, seq_len in valid_dl:\n",
        "        x = x.long().to(device)\n",
        "        y = y.long().to(device)\n",
        "        y_hat = model(x, seq_len)\n",
        "        loss = criterion(y_hat, y)\n",
        "        \n",
        "        # print(f\"shape of y: {y.shape}\")\n",
        "        # print(f\"shape of y_pred: {y_hat.shape}\")\n",
        "        # print(y_hat)\n",
        "        pred = torch.argmax(y_hat, 1)\n",
        "        y_total.extend(y.tolist())\n",
        "        y_pred_total.extend(pred.tolist())\n",
        "        \n",
        "        # print(pred)\n",
        "        correct += sum((pred == y))\n",
        "        total += y.shape[0]\n",
        "        sum_loss += loss.item()*y.shape[0]\n",
        "        # print(len(y_total))\n",
        "        # print(len(y_pred_total))\n",
        "\n",
        "      # calculate precision, recall, and f1\n",
        "    f1 = (f1_score(y_total, y_pred_total, average='weighted'))\n",
        "    precision = (precision_score(y_total, y_pred_total, average='weighted'))\n",
        "    recall =(recall_score(y_total, y_pred_total, average='weighted'))\n",
        "    return sum_loss/total, correct/total, precision, recall, f1"
      ],
      "metadata": {
        "id": "I40nbCLXlJt9"
      },
      "execution_count": null,
      "outputs": []
    },
    {
      "cell_type": "code",
      "source": [
        "def train_model(model, fname, epochs = 50, lr = 0.0001):\n",
        "    parameters = filter(lambda p:p.requires_grad, model.parameters())\n",
        "    optimizer = torch.optim.Adam(parameters, lr = lr)\n",
        "    criterion = nn.CrossEntropyLoss()\n",
        "    model = model.to(device)\n",
        "    PATH = '/content/drive/MyDrive/McGill/Comp 550/' + fname\n",
        "    epoch = 0\n",
        "    best_val_acc = 0.0\n",
        "    for i in range(epochs):\n",
        "        epoch += 1\n",
        "        print(f\"At epoch {i}\")\n",
        "        batch_count = 0\n",
        "        model.train()\n",
        "        sum_loss = 0.0\n",
        "        total = 0.0\n",
        "        train_correct = 0.0\n",
        "        for x, y, seq_len in tqdm(trainLoader_w2v):\n",
        "            x = x.long().to(device)\n",
        "            y = y.long().to(device)\n",
        "            batch_count += 1\n",
        "            optimizer.zero_grad()\n",
        "            y_pred = model(x, seq_len)\n",
        "            pred = torch.argmax(y_pred, 1)\n",
        "            train_correct += sum((pred == y))\n",
        "            loss = criterion(y_pred, y)\n",
        "            loss.backward()\n",
        "            optimizer.step()\n",
        "            sum_loss += loss.item()*y.shape[0]\n",
        "            total += y.shape[0]\n",
        "        val_loss, val_acc, precision, recall, f1 = validation_metrics(model, testLoader_w2v)\n",
        "        print(\"train loss %.3f, train accuracy %.3f, val loss %.3f, val accuracy %.3f, precision %.3f, recall %.3f, F1 %.3f\" \n",
        "              % (sum_loss/total, train_correct/total, val_loss, val_acc, precision, recall, f1))\n",
        "        if val_acc > best_val_acc and i>=1:\n",
        "            best_val_acc = val_acc\n",
        "            NEW_PATH = PATH+f'_{i}_{val_acc}.pth'\n",
        "            #torch.save(model.state_dict(), NEW_PATH)\n",
        "            print(f\"\\t=> Best model saved at {i}th epoch with valication accuracy of {val_acc}\")"
      ],
      "metadata": {
        "id": "YVwWS3rRnOw0"
      },
      "execution_count": null,
      "outputs": []
    },
    {
      "cell_type": "code",
      "source": [
        "weight = torch.FloatTensor(word2vec.vectors)\n",
        "word2vec_embedding = nn.Embedding.from_pretrained(weight)\n",
        "\n",
        "class LSTM_word2vec(torch.nn.Module):\n",
        "    def __init__(self, emb_matrix, embedding_dim, hidden_dim):\n",
        "        super().__init__()\n",
        "        self.embedding_dim = embedding_dim\n",
        "        self.embeddings = nn.Embedding(emb_matrix.shape[0], embedding_dim, padding_idx = 0)\n",
        "        self.embeddings.weight.data.copy_(torch.from_numpy(emb_matrix))\n",
        "        self.lstm = nn.LSTM(embedding_dim, hidden_dim, batch_first=True)\n",
        "        self.embedding_dim = embedding_dim\n",
        "        self.hidden_dim = hidden_dim\n",
        "        self.linear = nn.Linear(hidden_dim, 5)\n",
        "        self.dropout = nn.Dropout(0.2)\n",
        "\n",
        "    def forward(self, x, seq_len):\n",
        "        x = self.embeddings(x)\n",
        "        # x = nn.utils.rnn.pack_padded_sequence(x, self.embedding_dim, batch_first = True)\n",
        "        x = self.dropout(x)\n",
        "        # x_padded = pack_padded_sequence(x, seq_len, batch_first = True)\n",
        "        output, (h_n, c_n) = self.lstm(x)\n",
        "        # print(h_n[-1].shape)\n",
        "        # output (N, ave_len, num_class)\n",
        "        # reshape to out (N, num_class)\n",
        "\n",
        "        return self.linear(h_n[-1])"
      ],
      "metadata": {
        "id": "w1y9PO6JW28H"
      },
      "execution_count": null,
      "outputs": []
    },
    {
      "cell_type": "code",
      "source": [
        "distil_bert = 'distilbert-base-uncased'\n",
        "        #config = DistilBertConfig(dropout=0.2, attention_dropout=0.2)\n",
        "        #config.output_hidden_states = False\n",
        "transformer_model = DistilBertModel.from_pretrained('distilbert-base-uncased')\n",
        "        \n",
        "embedding =  list(transformer_model.children())[0]\n",
        "bert_word_embeddings = list(embedding.children())[0]"
      ],
      "metadata": {
        "colab": {
          "base_uri": "https://localhost:8080/",
          "height": 153,
          "referenced_widgets": [
            "bc729f339a114575b457b6a3419aea33",
            "eef77136a72d43fbaed4d4cea7842aa2",
            "ba1730a826a645a1844b9fc098276870",
            "28088c870722414aaa02eb5370f36d91",
            "57aa15548f464ee1b522e320313a7182",
            "e0fc78422a97431c95807a36841d11e2",
            "80f2b3c933ce41ec97290cbcfa003d5e",
            "db20856f48824269af0bfb3c9573bf16",
            "5fc5f63a1a0e4b068e14877d2ee84d45",
            "2358187c8be842fbaf57856e0f0e63e3",
            "5749b5028c1b488d9f57c61bdd18f8f3",
            "5cfd7095254d4db7a06ba9d9bf7110a0",
            "4ce3f72a762348eb8822da56600c08e6",
            "a943ad8ff6d0410094181faff1821b9f",
            "5fdfb9a75eb24272a34fdf42c1ce1c1f",
            "212656a2c1374c78a51bf18181a5b4fc",
            "55ea22701ee54050aa9d58fa1774a6bb",
            "2ccec864475a407ca4237c2aa72e05d6",
            "1987e109cf514bb6a68922043f024a18",
            "72aeacc5e6194103bc1b519a38ec0bc2",
            "600f1fa5b4db4dc1b5d4d32970f3b4ff",
            "1e3619e91fe14316b7d3e195f87f787c"
          ]
        },
        "id": "j09LcerVrHTi",
        "outputId": "9d0dae55-3126-492c-a378-69bb41ecf4a2"
      },
      "execution_count": null,
      "outputs": [
        {
          "output_type": "display_data",
          "data": {
            "application/vnd.jupyter.widget-view+json": {
              "model_id": "bc729f339a114575b457b6a3419aea33",
              "version_minor": 0,
              "version_major": 2
            },
            "text/plain": [
              "Downloading:   0%|          | 0.00/483 [00:00<?, ?B/s]"
            ]
          },
          "metadata": {}
        },
        {
          "output_type": "display_data",
          "data": {
            "application/vnd.jupyter.widget-view+json": {
              "model_id": "5cfd7095254d4db7a06ba9d9bf7110a0",
              "version_minor": 0,
              "version_major": 2
            },
            "text/plain": [
              "Downloading:   0%|          | 0.00/256M [00:00<?, ?B/s]"
            ]
          },
          "metadata": {}
        },
        {
          "output_type": "stream",
          "name": "stderr",
          "text": [
            "Some weights of the model checkpoint at distilbert-base-uncased were not used when initializing DistilBertModel: ['vocab_layer_norm.weight', 'vocab_projector.weight', 'vocab_projector.bias', 'vocab_transform.weight', 'vocab_transform.bias', 'vocab_layer_norm.bias']\n",
            "- This IS expected if you are initializing DistilBertModel from the checkpoint of a model trained on another task or with another architecture (e.g. initializing a BertForSequenceClassification model from a BertForPreTraining model).\n",
            "- This IS NOT expected if you are initializing DistilBertModel from the checkpoint of a model that you expect to be exactly identical (initializing a BertForSequenceClassification model from a BertForSequenceClassification model).\n"
          ]
        }
      ]
    },
    {
      "cell_type": "code",
      "source": [
        "class LSTM_fixed_length_Bert(torch.nn.Module) :\n",
        "    def __init__(self, vocab_size, embedding_dim, hidden_dim) :\n",
        "        super().__init__()\n",
        "        self.embeddings = bert_word_embeddings\n",
        "        self.lstm = nn.LSTM(embedding_dim, hidden_dim, batch_first=True)\n",
        "        self.linear = nn.Linear(hidden_dim, 5)\n",
        "        self.dropout = nn.Dropout(0.5)\n",
        "        \n",
        "    def forward(self, x, l):\n",
        "        x = self.embeddings(x)\n",
        "        x = self.dropout(x)\n",
        "        lstm_out, (ht, ct) = self.lstm(x)\n",
        "        return self.linear(ht[-1])"
      ],
      "metadata": {
        "id": "dTueiq-CqPRZ"
      },
      "execution_count": null,
      "outputs": []
    },
    {
      "cell_type": "code",
      "source": [
        "model_bert = LSTM_fixed_length_Bert(len(word_set), 768, 50)\n",
        "train_model(model_bert, fname = 'bert_lstm_clothing', epochs = 30)"
      ],
      "metadata": {
        "colab": {
          "base_uri": "https://localhost:8080/",
          "height": 344
        },
        "id": "fACGMEuvsToN",
        "outputId": "8bf82943-3822-490a-b25a-0f6bcebb7bf4"
      },
      "execution_count": null,
      "outputs": [
        {
          "output_type": "stream",
          "name": "stdout",
          "text": [
            "At epoch 0\n"
          ]
        },
        {
          "output_type": "stream",
          "name": "stderr",
          "text": [
            " 85%|████████▌ | 839/983 [00:05<00:00, 151.57it/s]\n"
          ]
        },
        {
          "output_type": "error",
          "ename": "KeyboardInterrupt",
          "evalue": "ignored",
          "traceback": [
            "\u001b[0;31m---------------------------------------------------------------------------\u001b[0m",
            "\u001b[0;31mKeyboardInterrupt\u001b[0m                         Traceback (most recent call last)",
            "\u001b[0;32m<ipython-input-71-3ed6b3dfa9e5>\u001b[0m in \u001b[0;36m<module>\u001b[0;34m()\u001b[0m\n\u001b[1;32m      1\u001b[0m \u001b[0mmodel_bert\u001b[0m \u001b[0;34m=\u001b[0m \u001b[0mLSTM_fixed_length_Bert\u001b[0m\u001b[0;34m(\u001b[0m\u001b[0mlen\u001b[0m\u001b[0;34m(\u001b[0m\u001b[0mword_set\u001b[0m\u001b[0;34m)\u001b[0m\u001b[0;34m,\u001b[0m \u001b[0;36m768\u001b[0m\u001b[0;34m,\u001b[0m \u001b[0;36m50\u001b[0m\u001b[0;34m)\u001b[0m\u001b[0;34m\u001b[0m\u001b[0;34m\u001b[0m\u001b[0m\n\u001b[0;32m----> 2\u001b[0;31m \u001b[0mtrain_model\u001b[0m\u001b[0;34m(\u001b[0m\u001b[0mmodel_bert\u001b[0m\u001b[0;34m,\u001b[0m \u001b[0mfname\u001b[0m \u001b[0;34m=\u001b[0m \u001b[0;34m'bert_lstm_clothing'\u001b[0m\u001b[0;34m,\u001b[0m \u001b[0mepochs\u001b[0m \u001b[0;34m=\u001b[0m \u001b[0;36m30\u001b[0m\u001b[0;34m)\u001b[0m\u001b[0;34m\u001b[0m\u001b[0;34m\u001b[0m\u001b[0m\n\u001b[0m",
            "\u001b[0;32m<ipython-input-61-a417e7287cec>\u001b[0m in \u001b[0;36mtrain_model\u001b[0;34m(model, fname, epochs, lr)\u001b[0m\n\u001b[1;32m     26\u001b[0m             \u001b[0mloss\u001b[0m\u001b[0;34m.\u001b[0m\u001b[0mbackward\u001b[0m\u001b[0;34m(\u001b[0m\u001b[0;34m)\u001b[0m\u001b[0;34m\u001b[0m\u001b[0;34m\u001b[0m\u001b[0m\n\u001b[1;32m     27\u001b[0m             \u001b[0moptimizer\u001b[0m\u001b[0;34m.\u001b[0m\u001b[0mstep\u001b[0m\u001b[0;34m(\u001b[0m\u001b[0;34m)\u001b[0m\u001b[0;34m\u001b[0m\u001b[0;34m\u001b[0m\u001b[0m\n\u001b[0;32m---> 28\u001b[0;31m             \u001b[0msum_loss\u001b[0m \u001b[0;34m+=\u001b[0m \u001b[0mloss\u001b[0m\u001b[0;34m.\u001b[0m\u001b[0mitem\u001b[0m\u001b[0;34m(\u001b[0m\u001b[0;34m)\u001b[0m\u001b[0;34m*\u001b[0m\u001b[0my\u001b[0m\u001b[0;34m.\u001b[0m\u001b[0mshape\u001b[0m\u001b[0;34m[\u001b[0m\u001b[0;36m0\u001b[0m\u001b[0;34m]\u001b[0m\u001b[0;34m\u001b[0m\u001b[0;34m\u001b[0m\u001b[0m\n\u001b[0m\u001b[1;32m     29\u001b[0m             \u001b[0mtotal\u001b[0m \u001b[0;34m+=\u001b[0m \u001b[0my\u001b[0m\u001b[0;34m.\u001b[0m\u001b[0mshape\u001b[0m\u001b[0;34m[\u001b[0m\u001b[0;36m0\u001b[0m\u001b[0;34m]\u001b[0m\u001b[0;34m\u001b[0m\u001b[0;34m\u001b[0m\u001b[0m\n\u001b[1;32m     30\u001b[0m         \u001b[0mval_loss\u001b[0m\u001b[0;34m,\u001b[0m \u001b[0mval_acc\u001b[0m\u001b[0;34m,\u001b[0m \u001b[0mprecision\u001b[0m\u001b[0;34m,\u001b[0m \u001b[0mrecall\u001b[0m\u001b[0;34m,\u001b[0m \u001b[0mf1\u001b[0m \u001b[0;34m=\u001b[0m \u001b[0mvalidation_metrics\u001b[0m\u001b[0;34m(\u001b[0m\u001b[0mmodel\u001b[0m\u001b[0;34m,\u001b[0m \u001b[0mtestLoader_w2v\u001b[0m\u001b[0;34m)\u001b[0m\u001b[0;34m\u001b[0m\u001b[0;34m\u001b[0m\u001b[0m\n",
            "\u001b[0;31mKeyboardInterrupt\u001b[0m: "
          ]
        }
      ]
    },
    {
      "cell_type": "code",
      "source": [
        "model = LSTM_word2vec(embeddings_w2v, 300, 100)\n",
        "train_model(model, fname='word2vec_lstm', epochs=10)"
      ],
      "metadata": {
        "colab": {
          "base_uri": "https://localhost:8080/"
        },
        "id": "xShR5nvtlxXV",
        "outputId": "b38802f3-bc9c-40e4-d511-0f461afd01f4"
      },
      "execution_count": null,
      "outputs": [
        {
          "output_type": "stream",
          "name": "stdout",
          "text": [
            "At epoch 0\n"
          ]
        },
        {
          "output_type": "stream",
          "name": "stderr",
          "text": [
            "100%|██████████| 983/983 [00:03<00:00, 310.99it/s]\n"
          ]
        },
        {
          "output_type": "stream",
          "name": "stdout",
          "text": [
            "current in vlaidaiton\n"
          ]
        },
        {
          "output_type": "stream",
          "name": "stderr",
          "text": [
            "/usr/local/lib/python3.7/dist-packages/sklearn/metrics/_classification.py:1308: UndefinedMetricWarning: Precision is ill-defined and being set to 0.0 in labels with no predicted samples. Use `zero_division` parameter to control this behavior.\n",
            "  _warn_prf(average, modifier, msg_start, len(result))\n"
          ]
        },
        {
          "output_type": "stream",
          "name": "stdout",
          "text": [
            "train loss 1.152, train accuracy 0.551, val loss 0.965, val accuracy 0.574, precision 0.457, recall 0.574, F1 0.458\n",
            "At epoch 1\n"
          ]
        },
        {
          "output_type": "stream",
          "name": "stderr",
          "text": [
            "100%|██████████| 983/983 [00:03<00:00, 311.08it/s]\n"
          ]
        },
        {
          "output_type": "stream",
          "name": "stdout",
          "text": [
            "current in vlaidaiton\n"
          ]
        },
        {
          "output_type": "stream",
          "name": "stderr",
          "text": [
            "/usr/local/lib/python3.7/dist-packages/sklearn/metrics/_classification.py:1308: UndefinedMetricWarning: Precision is ill-defined and being set to 0.0 in labels with no predicted samples. Use `zero_division` parameter to control this behavior.\n",
            "  _warn_prf(average, modifier, msg_start, len(result))\n"
          ]
        },
        {
          "output_type": "stream",
          "name": "stdout",
          "text": [
            "train loss 0.920, train accuracy 0.617, val loss 0.884, val accuracy 0.620, precision 0.535, recall 0.620, F1 0.548\n",
            "\t=> Best model saved at 1th epoch with valication accuracy of 0.6204081177711487\n",
            "At epoch 2\n"
          ]
        },
        {
          "output_type": "stream",
          "name": "stderr",
          "text": [
            "100%|██████████| 983/983 [00:03<00:00, 310.47it/s]\n"
          ]
        },
        {
          "output_type": "stream",
          "name": "stdout",
          "text": [
            "current in vlaidaiton\n"
          ]
        },
        {
          "output_type": "stream",
          "name": "stderr",
          "text": [
            "/usr/local/lib/python3.7/dist-packages/sklearn/metrics/_classification.py:1308: UndefinedMetricWarning: Precision is ill-defined and being set to 0.0 in labels with no predicted samples. Use `zero_division` parameter to control this behavior.\n",
            "  _warn_prf(average, modifier, msg_start, len(result))\n"
          ]
        },
        {
          "output_type": "stream",
          "name": "stdout",
          "text": [
            "train loss 0.843, train accuracy 0.643, val loss 0.857, val accuracy 0.630, precision 0.616, recall 0.630, F1 0.621\n",
            "\t=> Best model saved at 2th epoch with valication accuracy of 0.6301020383834839\n",
            "At epoch 3\n"
          ]
        },
        {
          "output_type": "stream",
          "name": "stderr",
          "text": [
            "100%|██████████| 983/983 [00:03<00:00, 312.31it/s]\n"
          ]
        },
        {
          "output_type": "stream",
          "name": "stdout",
          "text": [
            "current in vlaidaiton\n"
          ]
        },
        {
          "output_type": "stream",
          "name": "stderr",
          "text": [
            "/usr/local/lib/python3.7/dist-packages/sklearn/metrics/_classification.py:1308: UndefinedMetricWarning: Precision is ill-defined and being set to 0.0 in labels with no predicted samples. Use `zero_division` parameter to control this behavior.\n",
            "  _warn_prf(average, modifier, msg_start, len(result))\n"
          ]
        },
        {
          "output_type": "stream",
          "name": "stdout",
          "text": [
            "train loss 0.799, train accuracy 0.664, val loss 0.870, val accuracy 0.641, precision 0.577, recall 0.641, F1 0.597\n",
            "\t=> Best model saved at 3th epoch with valication accuracy of 0.6410713791847229\n",
            "At epoch 4\n"
          ]
        },
        {
          "output_type": "stream",
          "name": "stderr",
          "text": [
            "100%|██████████| 983/983 [00:03<00:00, 312.24it/s]\n"
          ]
        },
        {
          "output_type": "stream",
          "name": "stdout",
          "text": [
            "current in vlaidaiton\n"
          ]
        },
        {
          "output_type": "stream",
          "name": "stderr",
          "text": [
            "/usr/local/lib/python3.7/dist-packages/sklearn/metrics/_classification.py:1308: UndefinedMetricWarning: Precision is ill-defined and being set to 0.0 in labels with no predicted samples. Use `zero_division` parameter to control this behavior.\n",
            "  _warn_prf(average, modifier, msg_start, len(result))\n"
          ]
        },
        {
          "output_type": "stream",
          "name": "stdout",
          "text": [
            "train loss 0.767, train accuracy 0.674, val loss 0.832, val accuracy 0.647, precision 0.615, recall 0.647, F1 0.628\n",
            "\t=> Best model saved at 4th epoch with valication accuracy of 0.6474489569664001\n",
            "At epoch 5\n"
          ]
        },
        {
          "output_type": "stream",
          "name": "stderr",
          "text": [
            "100%|██████████| 983/983 [00:03<00:00, 310.44it/s]\n"
          ]
        },
        {
          "output_type": "stream",
          "name": "stdout",
          "text": [
            "current in vlaidaiton\n"
          ]
        },
        {
          "output_type": "stream",
          "name": "stderr",
          "text": [
            "/usr/local/lib/python3.7/dist-packages/sklearn/metrics/_classification.py:1308: UndefinedMetricWarning: Precision is ill-defined and being set to 0.0 in labels with no predicted samples. Use `zero_division` parameter to control this behavior.\n",
            "  _warn_prf(average, modifier, msg_start, len(result))\n"
          ]
        },
        {
          "output_type": "stream",
          "name": "stdout",
          "text": [
            "train loss 0.739, train accuracy 0.687, val loss 0.925, val accuracy 0.639, precision 0.571, recall 0.639, F1 0.590\n",
            "At epoch 6\n"
          ]
        },
        {
          "output_type": "stream",
          "name": "stderr",
          "text": [
            "100%|██████████| 983/983 [00:03<00:00, 311.44it/s]\n"
          ]
        },
        {
          "output_type": "stream",
          "name": "stdout",
          "text": [
            "current in vlaidaiton\n"
          ]
        },
        {
          "output_type": "stream",
          "name": "stderr",
          "text": [
            "/usr/local/lib/python3.7/dist-packages/sklearn/metrics/_classification.py:1308: UndefinedMetricWarning: Precision is ill-defined and being set to 0.0 in labels with no predicted samples. Use `zero_division` parameter to control this behavior.\n",
            "  _warn_prf(average, modifier, msg_start, len(result))\n"
          ]
        },
        {
          "output_type": "stream",
          "name": "stdout",
          "text": [
            "train loss 0.713, train accuracy 0.700, val loss 0.853, val accuracy 0.626, precision 0.618, recall 0.626, F1 0.619\n",
            "At epoch 7\n"
          ]
        },
        {
          "output_type": "stream",
          "name": "stderr",
          "text": [
            "100%|██████████| 983/983 [00:03<00:00, 306.78it/s]\n"
          ]
        },
        {
          "output_type": "stream",
          "name": "stdout",
          "text": [
            "current in vlaidaiton\n",
            "train loss 0.688, train accuracy 0.707, val loss 0.862, val accuracy 0.626, precision 0.630, recall 0.626, F1 0.626\n",
            "At epoch 8\n"
          ]
        },
        {
          "output_type": "stream",
          "name": "stderr",
          "text": [
            "100%|██████████| 983/983 [00:03<00:00, 308.32it/s]\n"
          ]
        },
        {
          "output_type": "stream",
          "name": "stdout",
          "text": [
            "current in vlaidaiton\n",
            "train loss 0.669, train accuracy 0.718, val loss 0.866, val accuracy 0.636, precision 0.631, recall 0.636, F1 0.628\n",
            "At epoch 9\n"
          ]
        },
        {
          "output_type": "stream",
          "name": "stderr",
          "text": [
            "100%|██████████| 983/983 [00:03<00:00, 311.66it/s]\n"
          ]
        },
        {
          "output_type": "stream",
          "name": "stdout",
          "text": [
            "current in vlaidaiton\n",
            "train loss 0.648, train accuracy 0.730, val loss 0.878, val accuracy 0.637, precision 0.623, recall 0.637, F1 0.627\n"
          ]
        }
      ]
    },
    {
      "cell_type": "code",
      "source": [
        ""
      ],
      "metadata": {
        "id": "s0P-MnfwynbQ"
      },
      "execution_count": null,
      "outputs": []
    }
  ]
}