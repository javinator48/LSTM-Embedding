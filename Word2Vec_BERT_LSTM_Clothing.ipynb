{
  "nbformat": 4,
  "nbformat_minor": 0,
  "metadata": {
    "colab": {
      "name": "Word2Vec_LSTM_Clothing.ipynb",
      "provenance": [],
      "machine_shape": "hm",
      "collapsed_sections": []
    },
    "kernelspec": {
      "name": "python3",
      "display_name": "Python 3"
    },
    "language_info": {
      "name": "python"
    },
    "accelerator": "GPU",
    "widgets": {
      "application/vnd.jupyter.widget-state+json": {
        "d5c4019d384e48f4b086d17f05ca8edd": {
          "model_module": "@jupyter-widgets/controls",
          "model_name": "HBoxModel",
          "model_module_version": "1.5.0",
          "state": {
            "_view_name": "HBoxView",
            "_dom_classes": [],
            "_model_name": "HBoxModel",
            "_view_module": "@jupyter-widgets/controls",
            "_model_module_version": "1.5.0",
            "_view_count": null,
            "_view_module_version": "1.5.0",
            "box_style": "",
            "layout": "IPY_MODEL_4052d265332e4619813f3264d75eea28",
            "_model_module": "@jupyter-widgets/controls",
            "children": [
              "IPY_MODEL_962cafdf9e6f458581d6d96b402312e4",
              "IPY_MODEL_7530d02310944e3587a6b25e2fbe1437",
              "IPY_MODEL_2a9ade4eb23b4041b896d3dc9b5dc38c"
            ]
          }
        },
        "4052d265332e4619813f3264d75eea28": {
          "model_module": "@jupyter-widgets/base",
          "model_name": "LayoutModel",
          "model_module_version": "1.2.0",
          "state": {
            "_view_name": "LayoutView",
            "grid_template_rows": null,
            "right": null,
            "justify_content": null,
            "_view_module": "@jupyter-widgets/base",
            "overflow": null,
            "_model_module_version": "1.2.0",
            "_view_count": null,
            "flex_flow": null,
            "width": null,
            "min_width": null,
            "border": null,
            "align_items": null,
            "bottom": null,
            "_model_module": "@jupyter-widgets/base",
            "top": null,
            "grid_column": null,
            "overflow_y": null,
            "overflow_x": null,
            "grid_auto_flow": null,
            "grid_area": null,
            "grid_template_columns": null,
            "flex": null,
            "_model_name": "LayoutModel",
            "justify_items": null,
            "grid_row": null,
            "max_height": null,
            "align_content": null,
            "visibility": null,
            "align_self": null,
            "height": null,
            "min_height": null,
            "padding": null,
            "grid_auto_rows": null,
            "grid_gap": null,
            "max_width": null,
            "order": null,
            "_view_module_version": "1.2.0",
            "grid_template_areas": null,
            "object_position": null,
            "object_fit": null,
            "grid_auto_columns": null,
            "margin": null,
            "display": null,
            "left": null
          }
        },
        "962cafdf9e6f458581d6d96b402312e4": {
          "model_module": "@jupyter-widgets/controls",
          "model_name": "HTMLModel",
          "model_module_version": "1.5.0",
          "state": {
            "_view_name": "HTMLView",
            "style": "IPY_MODEL_ae3de966143840d7bfb38c0c6bce1245",
            "_dom_classes": [],
            "description": "",
            "_model_name": "HTMLModel",
            "placeholder": "​",
            "_view_module": "@jupyter-widgets/controls",
            "_model_module_version": "1.5.0",
            "value": "Downloading: 100%",
            "_view_count": null,
            "_view_module_version": "1.5.0",
            "description_tooltip": null,
            "_model_module": "@jupyter-widgets/controls",
            "layout": "IPY_MODEL_ca57d6d4d5e947bba562025c12e36aa6"
          }
        },
        "7530d02310944e3587a6b25e2fbe1437": {
          "model_module": "@jupyter-widgets/controls",
          "model_name": "FloatProgressModel",
          "model_module_version": "1.5.0",
          "state": {
            "_view_name": "ProgressView",
            "style": "IPY_MODEL_a4aa66c419cb4a51895ac513d4bf821a",
            "_dom_classes": [],
            "description": "",
            "_model_name": "FloatProgressModel",
            "bar_style": "success",
            "max": 483,
            "_view_module": "@jupyter-widgets/controls",
            "_model_module_version": "1.5.0",
            "value": 483,
            "_view_count": null,
            "_view_module_version": "1.5.0",
            "orientation": "horizontal",
            "min": 0,
            "description_tooltip": null,
            "_model_module": "@jupyter-widgets/controls",
            "layout": "IPY_MODEL_2cf67915848e402b87dbd15800d53287"
          }
        },
        "2a9ade4eb23b4041b896d3dc9b5dc38c": {
          "model_module": "@jupyter-widgets/controls",
          "model_name": "HTMLModel",
          "model_module_version": "1.5.0",
          "state": {
            "_view_name": "HTMLView",
            "style": "IPY_MODEL_e842fa6aa27d4ddaa022a0885ef6ff32",
            "_dom_classes": [],
            "description": "",
            "_model_name": "HTMLModel",
            "placeholder": "​",
            "_view_module": "@jupyter-widgets/controls",
            "_model_module_version": "1.5.0",
            "value": " 483/483 [00:00&lt;00:00, 16.3kB/s]",
            "_view_count": null,
            "_view_module_version": "1.5.0",
            "description_tooltip": null,
            "_model_module": "@jupyter-widgets/controls",
            "layout": "IPY_MODEL_e061bd3a00cb4fe3997d22ccc7a7859a"
          }
        },
        "ae3de966143840d7bfb38c0c6bce1245": {
          "model_module": "@jupyter-widgets/controls",
          "model_name": "DescriptionStyleModel",
          "model_module_version": "1.5.0",
          "state": {
            "_view_name": "StyleView",
            "_model_name": "DescriptionStyleModel",
            "description_width": "",
            "_view_module": "@jupyter-widgets/base",
            "_model_module_version": "1.5.0",
            "_view_count": null,
            "_view_module_version": "1.2.0",
            "_model_module": "@jupyter-widgets/controls"
          }
        },
        "ca57d6d4d5e947bba562025c12e36aa6": {
          "model_module": "@jupyter-widgets/base",
          "model_name": "LayoutModel",
          "model_module_version": "1.2.0",
          "state": {
            "_view_name": "LayoutView",
            "grid_template_rows": null,
            "right": null,
            "justify_content": null,
            "_view_module": "@jupyter-widgets/base",
            "overflow": null,
            "_model_module_version": "1.2.0",
            "_view_count": null,
            "flex_flow": null,
            "width": null,
            "min_width": null,
            "border": null,
            "align_items": null,
            "bottom": null,
            "_model_module": "@jupyter-widgets/base",
            "top": null,
            "grid_column": null,
            "overflow_y": null,
            "overflow_x": null,
            "grid_auto_flow": null,
            "grid_area": null,
            "grid_template_columns": null,
            "flex": null,
            "_model_name": "LayoutModel",
            "justify_items": null,
            "grid_row": null,
            "max_height": null,
            "align_content": null,
            "visibility": null,
            "align_self": null,
            "height": null,
            "min_height": null,
            "padding": null,
            "grid_auto_rows": null,
            "grid_gap": null,
            "max_width": null,
            "order": null,
            "_view_module_version": "1.2.0",
            "grid_template_areas": null,
            "object_position": null,
            "object_fit": null,
            "grid_auto_columns": null,
            "margin": null,
            "display": null,
            "left": null
          }
        },
        "a4aa66c419cb4a51895ac513d4bf821a": {
          "model_module": "@jupyter-widgets/controls",
          "model_name": "ProgressStyleModel",
          "model_module_version": "1.5.0",
          "state": {
            "_view_name": "StyleView",
            "_model_name": "ProgressStyleModel",
            "description_width": "",
            "_view_module": "@jupyter-widgets/base",
            "_model_module_version": "1.5.0",
            "_view_count": null,
            "_view_module_version": "1.2.0",
            "bar_color": null,
            "_model_module": "@jupyter-widgets/controls"
          }
        },
        "2cf67915848e402b87dbd15800d53287": {
          "model_module": "@jupyter-widgets/base",
          "model_name": "LayoutModel",
          "model_module_version": "1.2.0",
          "state": {
            "_view_name": "LayoutView",
            "grid_template_rows": null,
            "right": null,
            "justify_content": null,
            "_view_module": "@jupyter-widgets/base",
            "overflow": null,
            "_model_module_version": "1.2.0",
            "_view_count": null,
            "flex_flow": null,
            "width": null,
            "min_width": null,
            "border": null,
            "align_items": null,
            "bottom": null,
            "_model_module": "@jupyter-widgets/base",
            "top": null,
            "grid_column": null,
            "overflow_y": null,
            "overflow_x": null,
            "grid_auto_flow": null,
            "grid_area": null,
            "grid_template_columns": null,
            "flex": null,
            "_model_name": "LayoutModel",
            "justify_items": null,
            "grid_row": null,
            "max_height": null,
            "align_content": null,
            "visibility": null,
            "align_self": null,
            "height": null,
            "min_height": null,
            "padding": null,
            "grid_auto_rows": null,
            "grid_gap": null,
            "max_width": null,
            "order": null,
            "_view_module_version": "1.2.0",
            "grid_template_areas": null,
            "object_position": null,
            "object_fit": null,
            "grid_auto_columns": null,
            "margin": null,
            "display": null,
            "left": null
          }
        },
        "e842fa6aa27d4ddaa022a0885ef6ff32": {
          "model_module": "@jupyter-widgets/controls",
          "model_name": "DescriptionStyleModel",
          "model_module_version": "1.5.0",
          "state": {
            "_view_name": "StyleView",
            "_model_name": "DescriptionStyleModel",
            "description_width": "",
            "_view_module": "@jupyter-widgets/base",
            "_model_module_version": "1.5.0",
            "_view_count": null,
            "_view_module_version": "1.2.0",
            "_model_module": "@jupyter-widgets/controls"
          }
        },
        "e061bd3a00cb4fe3997d22ccc7a7859a": {
          "model_module": "@jupyter-widgets/base",
          "model_name": "LayoutModel",
          "model_module_version": "1.2.0",
          "state": {
            "_view_name": "LayoutView",
            "grid_template_rows": null,
            "right": null,
            "justify_content": null,
            "_view_module": "@jupyter-widgets/base",
            "overflow": null,
            "_model_module_version": "1.2.0",
            "_view_count": null,
            "flex_flow": null,
            "width": null,
            "min_width": null,
            "border": null,
            "align_items": null,
            "bottom": null,
            "_model_module": "@jupyter-widgets/base",
            "top": null,
            "grid_column": null,
            "overflow_y": null,
            "overflow_x": null,
            "grid_auto_flow": null,
            "grid_area": null,
            "grid_template_columns": null,
            "flex": null,
            "_model_name": "LayoutModel",
            "justify_items": null,
            "grid_row": null,
            "max_height": null,
            "align_content": null,
            "visibility": null,
            "align_self": null,
            "height": null,
            "min_height": null,
            "padding": null,
            "grid_auto_rows": null,
            "grid_gap": null,
            "max_width": null,
            "order": null,
            "_view_module_version": "1.2.0",
            "grid_template_areas": null,
            "object_position": null,
            "object_fit": null,
            "grid_auto_columns": null,
            "margin": null,
            "display": null,
            "left": null
          }
        },
        "d6046cb2cb05402e975a897f64036ece": {
          "model_module": "@jupyter-widgets/controls",
          "model_name": "HBoxModel",
          "model_module_version": "1.5.0",
          "state": {
            "_view_name": "HBoxView",
            "_dom_classes": [],
            "_model_name": "HBoxModel",
            "_view_module": "@jupyter-widgets/controls",
            "_model_module_version": "1.5.0",
            "_view_count": null,
            "_view_module_version": "1.5.0",
            "box_style": "",
            "layout": "IPY_MODEL_835c73e162a54266884cf19b4d4288bb",
            "_model_module": "@jupyter-widgets/controls",
            "children": [
              "IPY_MODEL_c001fe3cae724e9da1269d4723d75deb",
              "IPY_MODEL_a6c7b725f0c641fcba1edd20e78182a5",
              "IPY_MODEL_f60bdc968a5f42b4ab07ba0357e95411"
            ]
          }
        },
        "835c73e162a54266884cf19b4d4288bb": {
          "model_module": "@jupyter-widgets/base",
          "model_name": "LayoutModel",
          "model_module_version": "1.2.0",
          "state": {
            "_view_name": "LayoutView",
            "grid_template_rows": null,
            "right": null,
            "justify_content": null,
            "_view_module": "@jupyter-widgets/base",
            "overflow": null,
            "_model_module_version": "1.2.0",
            "_view_count": null,
            "flex_flow": null,
            "width": null,
            "min_width": null,
            "border": null,
            "align_items": null,
            "bottom": null,
            "_model_module": "@jupyter-widgets/base",
            "top": null,
            "grid_column": null,
            "overflow_y": null,
            "overflow_x": null,
            "grid_auto_flow": null,
            "grid_area": null,
            "grid_template_columns": null,
            "flex": null,
            "_model_name": "LayoutModel",
            "justify_items": null,
            "grid_row": null,
            "max_height": null,
            "align_content": null,
            "visibility": null,
            "align_self": null,
            "height": null,
            "min_height": null,
            "padding": null,
            "grid_auto_rows": null,
            "grid_gap": null,
            "max_width": null,
            "order": null,
            "_view_module_version": "1.2.0",
            "grid_template_areas": null,
            "object_position": null,
            "object_fit": null,
            "grid_auto_columns": null,
            "margin": null,
            "display": null,
            "left": null
          }
        },
        "c001fe3cae724e9da1269d4723d75deb": {
          "model_module": "@jupyter-widgets/controls",
          "model_name": "HTMLModel",
          "model_module_version": "1.5.0",
          "state": {
            "_view_name": "HTMLView",
            "style": "IPY_MODEL_ba6a530867724878b042afb80726e157",
            "_dom_classes": [],
            "description": "",
            "_model_name": "HTMLModel",
            "placeholder": "​",
            "_view_module": "@jupyter-widgets/controls",
            "_model_module_version": "1.5.0",
            "value": "Downloading: 100%",
            "_view_count": null,
            "_view_module_version": "1.5.0",
            "description_tooltip": null,
            "_model_module": "@jupyter-widgets/controls",
            "layout": "IPY_MODEL_45ba8bb3ac7d4cd3aa8875baedd7969f"
          }
        },
        "a6c7b725f0c641fcba1edd20e78182a5": {
          "model_module": "@jupyter-widgets/controls",
          "model_name": "FloatProgressModel",
          "model_module_version": "1.5.0",
          "state": {
            "_view_name": "ProgressView",
            "style": "IPY_MODEL_3c051b1b0d79417ca91c3d8b28506386",
            "_dom_classes": [],
            "description": "",
            "_model_name": "FloatProgressModel",
            "bar_style": "success",
            "max": 267967963,
            "_view_module": "@jupyter-widgets/controls",
            "_model_module_version": "1.5.0",
            "value": 267967963,
            "_view_count": null,
            "_view_module_version": "1.5.0",
            "orientation": "horizontal",
            "min": 0,
            "description_tooltip": null,
            "_model_module": "@jupyter-widgets/controls",
            "layout": "IPY_MODEL_54d7c9fee63e43fcbf25f78858e7da2f"
          }
        },
        "f60bdc968a5f42b4ab07ba0357e95411": {
          "model_module": "@jupyter-widgets/controls",
          "model_name": "HTMLModel",
          "model_module_version": "1.5.0",
          "state": {
            "_view_name": "HTMLView",
            "style": "IPY_MODEL_c40a280013474927a15c1d0dd1404042",
            "_dom_classes": [],
            "description": "",
            "_model_name": "HTMLModel",
            "placeholder": "​",
            "_view_module": "@jupyter-widgets/controls",
            "_model_module_version": "1.5.0",
            "value": " 256M/256M [00:07&lt;00:00, 36.8MB/s]",
            "_view_count": null,
            "_view_module_version": "1.5.0",
            "description_tooltip": null,
            "_model_module": "@jupyter-widgets/controls",
            "layout": "IPY_MODEL_745ae0a1fd8347a5ba59ad83742f22d3"
          }
        },
        "ba6a530867724878b042afb80726e157": {
          "model_module": "@jupyter-widgets/controls",
          "model_name": "DescriptionStyleModel",
          "model_module_version": "1.5.0",
          "state": {
            "_view_name": "StyleView",
            "_model_name": "DescriptionStyleModel",
            "description_width": "",
            "_view_module": "@jupyter-widgets/base",
            "_model_module_version": "1.5.0",
            "_view_count": null,
            "_view_module_version": "1.2.0",
            "_model_module": "@jupyter-widgets/controls"
          }
        },
        "45ba8bb3ac7d4cd3aa8875baedd7969f": {
          "model_module": "@jupyter-widgets/base",
          "model_name": "LayoutModel",
          "model_module_version": "1.2.0",
          "state": {
            "_view_name": "LayoutView",
            "grid_template_rows": null,
            "right": null,
            "justify_content": null,
            "_view_module": "@jupyter-widgets/base",
            "overflow": null,
            "_model_module_version": "1.2.0",
            "_view_count": null,
            "flex_flow": null,
            "width": null,
            "min_width": null,
            "border": null,
            "align_items": null,
            "bottom": null,
            "_model_module": "@jupyter-widgets/base",
            "top": null,
            "grid_column": null,
            "overflow_y": null,
            "overflow_x": null,
            "grid_auto_flow": null,
            "grid_area": null,
            "grid_template_columns": null,
            "flex": null,
            "_model_name": "LayoutModel",
            "justify_items": null,
            "grid_row": null,
            "max_height": null,
            "align_content": null,
            "visibility": null,
            "align_self": null,
            "height": null,
            "min_height": null,
            "padding": null,
            "grid_auto_rows": null,
            "grid_gap": null,
            "max_width": null,
            "order": null,
            "_view_module_version": "1.2.0",
            "grid_template_areas": null,
            "object_position": null,
            "object_fit": null,
            "grid_auto_columns": null,
            "margin": null,
            "display": null,
            "left": null
          }
        },
        "3c051b1b0d79417ca91c3d8b28506386": {
          "model_module": "@jupyter-widgets/controls",
          "model_name": "ProgressStyleModel",
          "model_module_version": "1.5.0",
          "state": {
            "_view_name": "StyleView",
            "_model_name": "ProgressStyleModel",
            "description_width": "",
            "_view_module": "@jupyter-widgets/base",
            "_model_module_version": "1.5.0",
            "_view_count": null,
            "_view_module_version": "1.2.0",
            "bar_color": null,
            "_model_module": "@jupyter-widgets/controls"
          }
        },
        "54d7c9fee63e43fcbf25f78858e7da2f": {
          "model_module": "@jupyter-widgets/base",
          "model_name": "LayoutModel",
          "model_module_version": "1.2.0",
          "state": {
            "_view_name": "LayoutView",
            "grid_template_rows": null,
            "right": null,
            "justify_content": null,
            "_view_module": "@jupyter-widgets/base",
            "overflow": null,
            "_model_module_version": "1.2.0",
            "_view_count": null,
            "flex_flow": null,
            "width": null,
            "min_width": null,
            "border": null,
            "align_items": null,
            "bottom": null,
            "_model_module": "@jupyter-widgets/base",
            "top": null,
            "grid_column": null,
            "overflow_y": null,
            "overflow_x": null,
            "grid_auto_flow": null,
            "grid_area": null,
            "grid_template_columns": null,
            "flex": null,
            "_model_name": "LayoutModel",
            "justify_items": null,
            "grid_row": null,
            "max_height": null,
            "align_content": null,
            "visibility": null,
            "align_self": null,
            "height": null,
            "min_height": null,
            "padding": null,
            "grid_auto_rows": null,
            "grid_gap": null,
            "max_width": null,
            "order": null,
            "_view_module_version": "1.2.0",
            "grid_template_areas": null,
            "object_position": null,
            "object_fit": null,
            "grid_auto_columns": null,
            "margin": null,
            "display": null,
            "left": null
          }
        },
        "c40a280013474927a15c1d0dd1404042": {
          "model_module": "@jupyter-widgets/controls",
          "model_name": "DescriptionStyleModel",
          "model_module_version": "1.5.0",
          "state": {
            "_view_name": "StyleView",
            "_model_name": "DescriptionStyleModel",
            "description_width": "",
            "_view_module": "@jupyter-widgets/base",
            "_model_module_version": "1.5.0",
            "_view_count": null,
            "_view_module_version": "1.2.0",
            "_model_module": "@jupyter-widgets/controls"
          }
        },
        "745ae0a1fd8347a5ba59ad83742f22d3": {
          "model_module": "@jupyter-widgets/base",
          "model_name": "LayoutModel",
          "model_module_version": "1.2.0",
          "state": {
            "_view_name": "LayoutView",
            "grid_template_rows": null,
            "right": null,
            "justify_content": null,
            "_view_module": "@jupyter-widgets/base",
            "overflow": null,
            "_model_module_version": "1.2.0",
            "_view_count": null,
            "flex_flow": null,
            "width": null,
            "min_width": null,
            "border": null,
            "align_items": null,
            "bottom": null,
            "_model_module": "@jupyter-widgets/base",
            "top": null,
            "grid_column": null,
            "overflow_y": null,
            "overflow_x": null,
            "grid_auto_flow": null,
            "grid_area": null,
            "grid_template_columns": null,
            "flex": null,
            "_model_name": "LayoutModel",
            "justify_items": null,
            "grid_row": null,
            "max_height": null,
            "align_content": null,
            "visibility": null,
            "align_self": null,
            "height": null,
            "min_height": null,
            "padding": null,
            "grid_auto_rows": null,
            "grid_gap": null,
            "max_width": null,
            "order": null,
            "_view_module_version": "1.2.0",
            "grid_template_areas": null,
            "object_position": null,
            "object_fit": null,
            "grid_auto_columns": null,
            "margin": null,
            "display": null,
            "left": null
          }
        }
      }
    }
  },
  "cells": [
    {
      "cell_type": "code",
      "execution_count": 6,
      "metadata": {
        "colab": {
          "base_uri": "https://localhost:8080/"
        },
        "id": "rjWPn-GiVGPf",
        "outputId": "eb4cde7b-438a-425c-ed55-3cc9ab53701c"
      },
      "outputs": [
        {
          "output_type": "stream",
          "name": "stdout",
          "text": [
            "Drive already mounted at /content/drive; to attempt to forcibly remount, call drive.mount(\"/content/drive\", force_remount=True).\n"
          ]
        }
      ],
      "source": [
        "from google.colab import drive\n",
        "drive.mount('/content/drive')"
      ]
    },
    {
      "cell_type": "code",
      "source": [
        "! pip install transformers"
      ],
      "metadata": {
        "colab": {
          "base_uri": "https://localhost:8080/"
        },
        "id": "DE-PaZNXrRNF",
        "outputId": "e90b40f4-f435-4a59-90b4-7379acf3e1cb"
      },
      "execution_count": 7,
      "outputs": [
        {
          "output_type": "stream",
          "name": "stdout",
          "text": [
            "Requirement already satisfied: transformers in /usr/local/lib/python3.7/dist-packages (4.14.1)\n",
            "Requirement already satisfied: numpy>=1.17 in /usr/local/lib/python3.7/dist-packages (from transformers) (1.19.5)\n",
            "Requirement already satisfied: regex!=2019.12.17 in /usr/local/lib/python3.7/dist-packages (from transformers) (2019.12.20)\n",
            "Requirement already satisfied: requests in /usr/local/lib/python3.7/dist-packages (from transformers) (2.23.0)\n",
            "Requirement already satisfied: sacremoses in /usr/local/lib/python3.7/dist-packages (from transformers) (0.0.46)\n",
            "Requirement already satisfied: tokenizers<0.11,>=0.10.1 in /usr/local/lib/python3.7/dist-packages (from transformers) (0.10.3)\n",
            "Requirement already satisfied: pyyaml>=5.1 in /usr/local/lib/python3.7/dist-packages (from transformers) (6.0)\n",
            "Requirement already satisfied: huggingface-hub<1.0,>=0.1.0 in /usr/local/lib/python3.7/dist-packages (from transformers) (0.2.1)\n",
            "Requirement already satisfied: packaging>=20.0 in /usr/local/lib/python3.7/dist-packages (from transformers) (21.3)\n",
            "Requirement already satisfied: importlib-metadata in /usr/local/lib/python3.7/dist-packages (from transformers) (4.8.2)\n",
            "Requirement already satisfied: tqdm>=4.27 in /usr/local/lib/python3.7/dist-packages (from transformers) (4.62.3)\n",
            "Requirement already satisfied: filelock in /usr/local/lib/python3.7/dist-packages (from transformers) (3.4.0)\n",
            "Requirement already satisfied: typing-extensions>=3.7.4.3 in /usr/local/lib/python3.7/dist-packages (from huggingface-hub<1.0,>=0.1.0->transformers) (3.10.0.2)\n",
            "Requirement already satisfied: pyparsing!=3.0.5,>=2.0.2 in /usr/local/lib/python3.7/dist-packages (from packaging>=20.0->transformers) (3.0.6)\n",
            "Requirement already satisfied: zipp>=0.5 in /usr/local/lib/python3.7/dist-packages (from importlib-metadata->transformers) (3.6.0)\n",
            "Requirement already satisfied: certifi>=2017.4.17 in /usr/local/lib/python3.7/dist-packages (from requests->transformers) (2021.10.8)\n",
            "Requirement already satisfied: urllib3!=1.25.0,!=1.25.1,<1.26,>=1.21.1 in /usr/local/lib/python3.7/dist-packages (from requests->transformers) (1.24.3)\n",
            "Requirement already satisfied: idna<3,>=2.5 in /usr/local/lib/python3.7/dist-packages (from requests->transformers) (2.10)\n",
            "Requirement already satisfied: chardet<4,>=3.0.2 in /usr/local/lib/python3.7/dist-packages (from requests->transformers) (3.0.4)\n",
            "Requirement already satisfied: joblib in /usr/local/lib/python3.7/dist-packages (from sacremoses->transformers) (1.1.0)\n",
            "Requirement already satisfied: click in /usr/local/lib/python3.7/dist-packages (from sacremoses->transformers) (7.1.2)\n",
            "Requirement already satisfied: six in /usr/local/lib/python3.7/dist-packages (from sacremoses->transformers) (1.15.0)\n"
          ]
        }
      ]
    },
    {
      "cell_type": "code",
      "source": [
        "import torch\n",
        "import torch.nn as nn\n",
        "import pandas as pd\n",
        "import numpy as np\n",
        "import logging\n",
        "import gzip\n",
        "import gensim \n",
        "import re\n",
        "import spacy\n",
        "import math\n",
        "from collections import Counter\n",
        "from torch.utils.data import Dataset, DataLoader\n",
        "import torch.nn.functional as F\n",
        "import string\n",
        "from torch.nn.utils.rnn import pack_padded_sequence, pad_packed_sequence, pad_sequence\n",
        "from transformers import BertTokenizer, BertModel, DistilBertConfig, TFDistilBertModel, DistilBertModel, DistilBertTokenizer\n",
        "from sklearn.metrics import mean_squared_error\n",
        "from sklearn.metrics import accuracy_score, f1_score, precision_score, recall_score, classification_report, confusion_matrix\n",
        "from sklearn.model_selection import train_test_split\n",
        "from tqdm import tqdm"
      ],
      "metadata": {
        "id": "S7SfU_6lViKR"
      },
      "execution_count": 8,
      "outputs": []
    },
    {
      "cell_type": "code",
      "source": [
        "print(torch.cuda.is_available())\n",
        "device = 'cuda:0' if torch.cuda.is_available() else 'cpu'\n",
        "device"
      ],
      "metadata": {
        "colab": {
          "base_uri": "https://localhost:8080/",
          "height": 53
        },
        "id": "rItWBp7RJEQq",
        "outputId": "f38b7cbc-c744-4190-bb21-82d2fd9973ef"
      },
      "execution_count": 9,
      "outputs": [
        {
          "output_type": "stream",
          "name": "stdout",
          "text": [
            "True\n"
          ]
        },
        {
          "output_type": "execute_result",
          "data": {
            "application/vnd.google.colaboratory.intrinsic+json": {
              "type": "string"
            },
            "text/plain": [
              "'cuda:0'"
            ]
          },
          "metadata": {},
          "execution_count": 9
        }
      ]
    },
    {
      "cell_type": "markdown",
      "source": [
        "# Preprocessing & Loading data"
      ],
      "metadata": {
        "id": "3KGKdTO5W7AH"
      }
    },
    {
      "cell_type": "markdown",
      "source": [
        "## Preprocess "
      ],
      "metadata": {
        "id": "vNprrOxtXCMj"
      }
    },
    {
      "cell_type": "markdown",
      "source": [
        "### Clothing Review Dataset"
      ],
      "metadata": {
        "id": "OyA2zPsboOln"
      }
    },
    {
      "cell_type": "code",
      "source": [
        "# Load dataset for clothing reviews\n",
        "reviews = pd.read_csv(\"/content/drive/MyDrive/McGill/Comp 550/Womens Clothing E-Commerce Reviews.csv\")\n",
        "reviews = reviews.dropna()\n",
        "print(reviews.shape)\n",
        "reviews.head()"
      ],
      "metadata": {
        "colab": {
          "base_uri": "https://localhost:8080/",
          "height": 372
        },
        "id": "imlvO0RAVl5k",
        "outputId": "2b98cdf8-1208-4896-84ed-74b8883499f0"
      },
      "execution_count": 11,
      "outputs": [
        {
          "output_type": "stream",
          "name": "stdout",
          "text": [
            "(19662, 11)\n"
          ]
        },
        {
          "output_type": "execute_result",
          "data": {
            "text/html": [
              "\n",
              "  <div id=\"df-6f1c50a6-b436-41ba-bb91-085dbe62aad4\">\n",
              "    <div class=\"colab-df-container\">\n",
              "      <div>\n",
              "<style scoped>\n",
              "    .dataframe tbody tr th:only-of-type {\n",
              "        vertical-align: middle;\n",
              "    }\n",
              "\n",
              "    .dataframe tbody tr th {\n",
              "        vertical-align: top;\n",
              "    }\n",
              "\n",
              "    .dataframe thead th {\n",
              "        text-align: right;\n",
              "    }\n",
              "</style>\n",
              "<table border=\"1\" class=\"dataframe\">\n",
              "  <thead>\n",
              "    <tr style=\"text-align: right;\">\n",
              "      <th></th>\n",
              "      <th>Unnamed: 0</th>\n",
              "      <th>Clothing ID</th>\n",
              "      <th>Age</th>\n",
              "      <th>Title</th>\n",
              "      <th>Review Text</th>\n",
              "      <th>Rating</th>\n",
              "      <th>Recommended IND</th>\n",
              "      <th>Positive Feedback Count</th>\n",
              "      <th>Division Name</th>\n",
              "      <th>Department Name</th>\n",
              "      <th>Class Name</th>\n",
              "    </tr>\n",
              "  </thead>\n",
              "  <tbody>\n",
              "    <tr>\n",
              "      <th>2</th>\n",
              "      <td>2</td>\n",
              "      <td>1077</td>\n",
              "      <td>60</td>\n",
              "      <td>Some major design flaws</td>\n",
              "      <td>I had such high hopes for this dress and reall...</td>\n",
              "      <td>3</td>\n",
              "      <td>0</td>\n",
              "      <td>0</td>\n",
              "      <td>General</td>\n",
              "      <td>Dresses</td>\n",
              "      <td>Dresses</td>\n",
              "    </tr>\n",
              "    <tr>\n",
              "      <th>3</th>\n",
              "      <td>3</td>\n",
              "      <td>1049</td>\n",
              "      <td>50</td>\n",
              "      <td>My favorite buy!</td>\n",
              "      <td>I love, love, love this jumpsuit. it's fun, fl...</td>\n",
              "      <td>5</td>\n",
              "      <td>1</td>\n",
              "      <td>0</td>\n",
              "      <td>General Petite</td>\n",
              "      <td>Bottoms</td>\n",
              "      <td>Pants</td>\n",
              "    </tr>\n",
              "    <tr>\n",
              "      <th>4</th>\n",
              "      <td>4</td>\n",
              "      <td>847</td>\n",
              "      <td>47</td>\n",
              "      <td>Flattering shirt</td>\n",
              "      <td>This shirt is very flattering to all due to th...</td>\n",
              "      <td>5</td>\n",
              "      <td>1</td>\n",
              "      <td>6</td>\n",
              "      <td>General</td>\n",
              "      <td>Tops</td>\n",
              "      <td>Blouses</td>\n",
              "    </tr>\n",
              "    <tr>\n",
              "      <th>5</th>\n",
              "      <td>5</td>\n",
              "      <td>1080</td>\n",
              "      <td>49</td>\n",
              "      <td>Not for the very petite</td>\n",
              "      <td>I love tracy reese dresses, but this one is no...</td>\n",
              "      <td>2</td>\n",
              "      <td>0</td>\n",
              "      <td>4</td>\n",
              "      <td>General</td>\n",
              "      <td>Dresses</td>\n",
              "      <td>Dresses</td>\n",
              "    </tr>\n",
              "    <tr>\n",
              "      <th>6</th>\n",
              "      <td>6</td>\n",
              "      <td>858</td>\n",
              "      <td>39</td>\n",
              "      <td>Cagrcoal shimmer fun</td>\n",
              "      <td>I aded this in my basket at hte last mintue to...</td>\n",
              "      <td>5</td>\n",
              "      <td>1</td>\n",
              "      <td>1</td>\n",
              "      <td>General Petite</td>\n",
              "      <td>Tops</td>\n",
              "      <td>Knits</td>\n",
              "    </tr>\n",
              "  </tbody>\n",
              "</table>\n",
              "</div>\n",
              "      <button class=\"colab-df-convert\" onclick=\"convertToInteractive('df-6f1c50a6-b436-41ba-bb91-085dbe62aad4')\"\n",
              "              title=\"Convert this dataframe to an interactive table.\"\n",
              "              style=\"display:none;\">\n",
              "        \n",
              "  <svg xmlns=\"http://www.w3.org/2000/svg\" height=\"24px\"viewBox=\"0 0 24 24\"\n",
              "       width=\"24px\">\n",
              "    <path d=\"M0 0h24v24H0V0z\" fill=\"none\"/>\n",
              "    <path d=\"M18.56 5.44l.94 2.06.94-2.06 2.06-.94-2.06-.94-.94-2.06-.94 2.06-2.06.94zm-11 1L8.5 8.5l.94-2.06 2.06-.94-2.06-.94L8.5 2.5l-.94 2.06-2.06.94zm10 10l.94 2.06.94-2.06 2.06-.94-2.06-.94-.94-2.06-.94 2.06-2.06.94z\"/><path d=\"M17.41 7.96l-1.37-1.37c-.4-.4-.92-.59-1.43-.59-.52 0-1.04.2-1.43.59L10.3 9.45l-7.72 7.72c-.78.78-.78 2.05 0 2.83L4 21.41c.39.39.9.59 1.41.59.51 0 1.02-.2 1.41-.59l7.78-7.78 2.81-2.81c.8-.78.8-2.07 0-2.86zM5.41 20L4 18.59l7.72-7.72 1.47 1.35L5.41 20z\"/>\n",
              "  </svg>\n",
              "      </button>\n",
              "      \n",
              "  <style>\n",
              "    .colab-df-container {\n",
              "      display:flex;\n",
              "      flex-wrap:wrap;\n",
              "      gap: 12px;\n",
              "    }\n",
              "\n",
              "    .colab-df-convert {\n",
              "      background-color: #E8F0FE;\n",
              "      border: none;\n",
              "      border-radius: 50%;\n",
              "      cursor: pointer;\n",
              "      display: none;\n",
              "      fill: #1967D2;\n",
              "      height: 32px;\n",
              "      padding: 0 0 0 0;\n",
              "      width: 32px;\n",
              "    }\n",
              "\n",
              "    .colab-df-convert:hover {\n",
              "      background-color: #E2EBFA;\n",
              "      box-shadow: 0px 1px 2px rgba(60, 64, 67, 0.3), 0px 1px 3px 1px rgba(60, 64, 67, 0.15);\n",
              "      fill: #174EA6;\n",
              "    }\n",
              "\n",
              "    [theme=dark] .colab-df-convert {\n",
              "      background-color: #3B4455;\n",
              "      fill: #D2E3FC;\n",
              "    }\n",
              "\n",
              "    [theme=dark] .colab-df-convert:hover {\n",
              "      background-color: #434B5C;\n",
              "      box-shadow: 0px 1px 3px 1px rgba(0, 0, 0, 0.15);\n",
              "      filter: drop-shadow(0px 1px 2px rgba(0, 0, 0, 0.3));\n",
              "      fill: #FFFFFF;\n",
              "    }\n",
              "  </style>\n",
              "\n",
              "      <script>\n",
              "        const buttonEl =\n",
              "          document.querySelector('#df-6f1c50a6-b436-41ba-bb91-085dbe62aad4 button.colab-df-convert');\n",
              "        buttonEl.style.display =\n",
              "          google.colab.kernel.accessAllowed ? 'block' : 'none';\n",
              "\n",
              "        async function convertToInteractive(key) {\n",
              "          const element = document.querySelector('#df-6f1c50a6-b436-41ba-bb91-085dbe62aad4');\n",
              "          const dataTable =\n",
              "            await google.colab.kernel.invokeFunction('convertToInteractive',\n",
              "                                                     [key], {});\n",
              "          if (!dataTable) return;\n",
              "\n",
              "          const docLinkHtml = 'Like what you see? Visit the ' +\n",
              "            '<a target=\"_blank\" href=https://colab.research.google.com/notebooks/data_table.ipynb>data table notebook</a>'\n",
              "            + ' to learn more about interactive tables.';\n",
              "          element.innerHTML = '';\n",
              "          dataTable['output_type'] = 'display_data';\n",
              "          await google.colab.output.renderOutput(dataTable, element);\n",
              "          const docLink = document.createElement('div');\n",
              "          docLink.innerHTML = docLinkHtml;\n",
              "          element.appendChild(docLink);\n",
              "        }\n",
              "      </script>\n",
              "    </div>\n",
              "  </div>\n",
              "  "
            ],
            "text/plain": [
              "   Unnamed: 0  Clothing ID  Age  ...   Division Name Department Name  Class Name\n",
              "2           2         1077   60  ...         General         Dresses     Dresses\n",
              "3           3         1049   50  ...  General Petite         Bottoms       Pants\n",
              "4           4          847   47  ...         General            Tops     Blouses\n",
              "5           5         1080   49  ...         General         Dresses     Dresses\n",
              "6           6          858   39  ...  General Petite            Tops       Knits\n",
              "\n",
              "[5 rows x 11 columns]"
            ]
          },
          "metadata": {},
          "execution_count": 11
        }
      ]
    },
    {
      "cell_type": "code",
      "source": [
        "reviews['Title'] = reviews['Title'].fillna('')\n",
        "reviews['Review Text'] = reviews['Review Text'].fillna('')\n",
        "reviews['review'] = reviews['Title'] + ' ' + reviews['Review Text']"
      ],
      "metadata": {
        "id": "YAwCLy3fWxfM",
        "colab": {
          "base_uri": "https://localhost:8080/"
        },
        "outputId": "c53bbe2e-8aa6-4e6e-f505-47475b1a65b8"
      },
      "execution_count": 12,
      "outputs": [
        {
          "output_type": "stream",
          "name": "stderr",
          "text": [
            "/usr/local/lib/python3.7/dist-packages/ipykernel_launcher.py:1: SettingWithCopyWarning: \n",
            "A value is trying to be set on a copy of a slice from a DataFrame.\n",
            "Try using .loc[row_indexer,col_indexer] = value instead\n",
            "\n",
            "See the caveats in the documentation: https://pandas.pydata.org/pandas-docs/stable/user_guide/indexing.html#returning-a-view-versus-a-copy\n",
            "  \"\"\"Entry point for launching an IPython kernel.\n",
            "/usr/local/lib/python3.7/dist-packages/ipykernel_launcher.py:2: SettingWithCopyWarning: \n",
            "A value is trying to be set on a copy of a slice from a DataFrame.\n",
            "Try using .loc[row_indexer,col_indexer] = value instead\n",
            "\n",
            "See the caveats in the documentation: https://pandas.pydata.org/pandas-docs/stable/user_guide/indexing.html#returning-a-view-versus-a-copy\n",
            "  \n",
            "/usr/local/lib/python3.7/dist-packages/ipykernel_launcher.py:3: SettingWithCopyWarning: \n",
            "A value is trying to be set on a copy of a slice from a DataFrame.\n",
            "Try using .loc[row_indexer,col_indexer] = value instead\n",
            "\n",
            "See the caveats in the documentation: https://pandas.pydata.org/pandas-docs/stable/user_guide/indexing.html#returning-a-view-versus-a-copy\n",
            "  This is separate from the ipykernel package so we can avoid doing imports until\n"
          ]
        }
      ]
    },
    {
      "cell_type": "code",
      "source": [
        "reviews = reviews[['review', 'Rating']]\n",
        "reviews.columns = ['review', 'rating']\n",
        "reviews.head()"
      ],
      "metadata": {
        "id": "uJOEZcK9W1Xg",
        "colab": {
          "base_uri": "https://localhost:8080/",
          "height": 206
        },
        "outputId": "50d0c06e-5256-4e01-cdac-78dd28cdb4ca"
      },
      "execution_count": 13,
      "outputs": [
        {
          "output_type": "execute_result",
          "data": {
            "text/html": [
              "\n",
              "  <div id=\"df-8591eb22-4326-4573-b38a-db87b9c79ff9\">\n",
              "    <div class=\"colab-df-container\">\n",
              "      <div>\n",
              "<style scoped>\n",
              "    .dataframe tbody tr th:only-of-type {\n",
              "        vertical-align: middle;\n",
              "    }\n",
              "\n",
              "    .dataframe tbody tr th {\n",
              "        vertical-align: top;\n",
              "    }\n",
              "\n",
              "    .dataframe thead th {\n",
              "        text-align: right;\n",
              "    }\n",
              "</style>\n",
              "<table border=\"1\" class=\"dataframe\">\n",
              "  <thead>\n",
              "    <tr style=\"text-align: right;\">\n",
              "      <th></th>\n",
              "      <th>review</th>\n",
              "      <th>rating</th>\n",
              "    </tr>\n",
              "  </thead>\n",
              "  <tbody>\n",
              "    <tr>\n",
              "      <th>2</th>\n",
              "      <td>Some major design flaws I had such high hopes ...</td>\n",
              "      <td>3</td>\n",
              "    </tr>\n",
              "    <tr>\n",
              "      <th>3</th>\n",
              "      <td>My favorite buy! I love, love, love this jumps...</td>\n",
              "      <td>5</td>\n",
              "    </tr>\n",
              "    <tr>\n",
              "      <th>4</th>\n",
              "      <td>Flattering shirt This shirt is very flattering...</td>\n",
              "      <td>5</td>\n",
              "    </tr>\n",
              "    <tr>\n",
              "      <th>5</th>\n",
              "      <td>Not for the very petite I love tracy reese dre...</td>\n",
              "      <td>2</td>\n",
              "    </tr>\n",
              "    <tr>\n",
              "      <th>6</th>\n",
              "      <td>Cagrcoal shimmer fun I aded this in my basket ...</td>\n",
              "      <td>5</td>\n",
              "    </tr>\n",
              "  </tbody>\n",
              "</table>\n",
              "</div>\n",
              "      <button class=\"colab-df-convert\" onclick=\"convertToInteractive('df-8591eb22-4326-4573-b38a-db87b9c79ff9')\"\n",
              "              title=\"Convert this dataframe to an interactive table.\"\n",
              "              style=\"display:none;\">\n",
              "        \n",
              "  <svg xmlns=\"http://www.w3.org/2000/svg\" height=\"24px\"viewBox=\"0 0 24 24\"\n",
              "       width=\"24px\">\n",
              "    <path d=\"M0 0h24v24H0V0z\" fill=\"none\"/>\n",
              "    <path d=\"M18.56 5.44l.94 2.06.94-2.06 2.06-.94-2.06-.94-.94-2.06-.94 2.06-2.06.94zm-11 1L8.5 8.5l.94-2.06 2.06-.94-2.06-.94L8.5 2.5l-.94 2.06-2.06.94zm10 10l.94 2.06.94-2.06 2.06-.94-2.06-.94-.94-2.06-.94 2.06-2.06.94z\"/><path d=\"M17.41 7.96l-1.37-1.37c-.4-.4-.92-.59-1.43-.59-.52 0-1.04.2-1.43.59L10.3 9.45l-7.72 7.72c-.78.78-.78 2.05 0 2.83L4 21.41c.39.39.9.59 1.41.59.51 0 1.02-.2 1.41-.59l7.78-7.78 2.81-2.81c.8-.78.8-2.07 0-2.86zM5.41 20L4 18.59l7.72-7.72 1.47 1.35L5.41 20z\"/>\n",
              "  </svg>\n",
              "      </button>\n",
              "      \n",
              "  <style>\n",
              "    .colab-df-container {\n",
              "      display:flex;\n",
              "      flex-wrap:wrap;\n",
              "      gap: 12px;\n",
              "    }\n",
              "\n",
              "    .colab-df-convert {\n",
              "      background-color: #E8F0FE;\n",
              "      border: none;\n",
              "      border-radius: 50%;\n",
              "      cursor: pointer;\n",
              "      display: none;\n",
              "      fill: #1967D2;\n",
              "      height: 32px;\n",
              "      padding: 0 0 0 0;\n",
              "      width: 32px;\n",
              "    }\n",
              "\n",
              "    .colab-df-convert:hover {\n",
              "      background-color: #E2EBFA;\n",
              "      box-shadow: 0px 1px 2px rgba(60, 64, 67, 0.3), 0px 1px 3px 1px rgba(60, 64, 67, 0.15);\n",
              "      fill: #174EA6;\n",
              "    }\n",
              "\n",
              "    [theme=dark] .colab-df-convert {\n",
              "      background-color: #3B4455;\n",
              "      fill: #D2E3FC;\n",
              "    }\n",
              "\n",
              "    [theme=dark] .colab-df-convert:hover {\n",
              "      background-color: #434B5C;\n",
              "      box-shadow: 0px 1px 3px 1px rgba(0, 0, 0, 0.15);\n",
              "      filter: drop-shadow(0px 1px 2px rgba(0, 0, 0, 0.3));\n",
              "      fill: #FFFFFF;\n",
              "    }\n",
              "  </style>\n",
              "\n",
              "      <script>\n",
              "        const buttonEl =\n",
              "          document.querySelector('#df-8591eb22-4326-4573-b38a-db87b9c79ff9 button.colab-df-convert');\n",
              "        buttonEl.style.display =\n",
              "          google.colab.kernel.accessAllowed ? 'block' : 'none';\n",
              "\n",
              "        async function convertToInteractive(key) {\n",
              "          const element = document.querySelector('#df-8591eb22-4326-4573-b38a-db87b9c79ff9');\n",
              "          const dataTable =\n",
              "            await google.colab.kernel.invokeFunction('convertToInteractive',\n",
              "                                                     [key], {});\n",
              "          if (!dataTable) return;\n",
              "\n",
              "          const docLinkHtml = 'Like what you see? Visit the ' +\n",
              "            '<a target=\"_blank\" href=https://colab.research.google.com/notebooks/data_table.ipynb>data table notebook</a>'\n",
              "            + ' to learn more about interactive tables.';\n",
              "          element.innerHTML = '';\n",
              "          dataTable['output_type'] = 'display_data';\n",
              "          await google.colab.output.renderOutput(dataTable, element);\n",
              "          const docLink = document.createElement('div');\n",
              "          docLink.innerHTML = docLinkHtml;\n",
              "          element.appendChild(docLink);\n",
              "        }\n",
              "      </script>\n",
              "    </div>\n",
              "  </div>\n",
              "  "
            ],
            "text/plain": [
              "                                              review  rating\n",
              "2  Some major design flaws I had such high hopes ...       3\n",
              "3  My favorite buy! I love, love, love this jumps...       5\n",
              "4  Flattering shirt This shirt is very flattering...       5\n",
              "5  Not for the very petite I love tracy reese dre...       2\n",
              "6  Cagrcoal shimmer fun I aded this in my basket ...       5"
            ]
          },
          "metadata": {},
          "execution_count": 13
        }
      ]
    },
    {
      "cell_type": "markdown",
      "source": [
        "#### Tokenize each sentence"
      ],
      "metadata": {
        "id": "nln320q7XrNd"
      }
    },
    {
      "cell_type": "code",
      "source": [
        "#take advantage of nltk to tokenize all sentences\n",
        "import nltk\n",
        "from nltk.corpus import stopwords\n",
        "from nltk.tokenize import word_tokenize\n",
        "nltk.download('stopwords')\n",
        "en_stop_words = set(stopwords.words('english'))\n",
        "tokenizer = nltk.RegexpTokenizer(r'\\w+|\\$[\\d\\.]+')\n",
        "\n",
        "def tokenize_sent(sent):\n",
        "    \n",
        "    tokenized = tokenizer.tokenize(sent)\n",
        "    filtered = [w.lower() for w in tokenized if w.lower() not in en_stop_words]\n",
        "    return filtered\n",
        "\n",
        "reviews['tokenized'] = reviews['review'].apply(lambda x: tokenize_sent(x))"
      ],
      "metadata": {
        "id": "PY9XLpc1Lbda",
        "colab": {
          "base_uri": "https://localhost:8080/"
        },
        "outputId": "3ee7acd5-309d-43af-9cda-8ef3497cafe2"
      },
      "execution_count": 14,
      "outputs": [
        {
          "output_type": "stream",
          "name": "stdout",
          "text": [
            "[nltk_data] Downloading package stopwords to /root/nltk_data...\n",
            "[nltk_data]   Unzipping corpora/stopwords.zip.\n"
          ]
        }
      ]
    },
    {
      "cell_type": "code",
      "source": [
        "# Sanity cehck for tokenizers\n",
        "print(reviews.head(3))"
      ],
      "metadata": {
        "id": "OQnOPLzaM-IQ",
        "colab": {
          "base_uri": "https://localhost:8080/"
        },
        "outputId": "348c443e-92d8-4201-f3de-8a00de846103"
      },
      "execution_count": 15,
      "outputs": [
        {
          "output_type": "stream",
          "name": "stdout",
          "text": [
            "                                              review  ...                                          tokenized\n",
            "2  Some major design flaws I had such high hopes ...  ...  [major, design, flaws, high, hopes, dress, rea...\n",
            "3  My favorite buy! I love, love, love this jumps...  ...  [favorite, buy, love, love, love, jumpsuit, fu...\n",
            "4  Flattering shirt This shirt is very flattering...  ...  [flattering, shirt, shirt, flattering, due, ad...\n",
            "\n",
            "[3 rows x 3 columns]\n"
          ]
        }
      ]
    },
    {
      "cell_type": "markdown",
      "source": [
        "#### Encode and truncate sentence"
      ],
      "metadata": {
        "id": "jJlI6cYBYXbw"
      }
    },
    {
      "cell_type": "code",
      "source": [
        "# get unique words in the corpus\n",
        "all_words = []\n",
        "for x in reviews['tokenized']:\n",
        "    all_words.extend(x)\n",
        "\n",
        "word_set = list(set(all_words))\n",
        "word_count = Counter(all_words)\n",
        "\n",
        "# filter out words with low frequencylm\n",
        "for word_list in reviews.tokenized:\n",
        "    new_list = []\n",
        "    for word in word_list:\n",
        "        if word_count[word] > 2:\n",
        "            new_list.append(word)\n",
        "    word_list = new_list\n",
        "\n",
        "# update set of words after removing the ones with low frequency\n",
        "new_word_list = []\n",
        "for x in reviews['tokenized']:\n",
        "    new_word_list.extend(x)\n",
        "word_set = list(set(new_word_list))\n",
        "\n",
        "# map each unique words & unknown token in reviews.encoded to an index\n",
        "word2index = {}\n",
        "word2index['<UNK>'] = 0\n",
        "word2index['<PAD>'] = 1\n",
        "\n",
        "for i, word in enumerate(word_set, 2):\n",
        "    word2index[word] = i\n",
        "\n",
        "# encode the original sequence\n",
        "def encode(sent_list):\n",
        "    result = []\n",
        "    for x in sent_list:\n",
        "        index = word2index[x]\n",
        "        result.append(index)\n",
        "    return result\n",
        "\n",
        "reviews['encoded'] = reviews.tokenized.apply(lambda x: encode(x))\n",
        "\n",
        "print(reviews.head())\n",
        "\n",
        "# get sequence average length\n",
        "total_len = 0\n",
        "for x in reviews.encoded:\n",
        "    total_len += len(x)\n",
        "\n",
        "ave_len = math.floor(total_len/reviews.shape[0])\n",
        "\n",
        "# filter out long sequences --> encode all sequence to length = ave_len\n",
        "# pad short sequence\n",
        "\n",
        "for i, row in reviews.iterrows():\n",
        "    size = min(len(row.encoded), ave_len)\n",
        "    new_encoded = row.encoded[:size]\n",
        "    if size < ave_len:\n",
        "        for j in range(0, ave_len - len(row.encoded)):\n",
        "            new_encoded.append(1)\n",
        "    reviews.at[i, 'encoded'] = new_encoded\n",
        "\n",
        "reviews['review_length'] = reviews.encoded.apply(lambda x: len(x))"
      ],
      "metadata": {
        "id": "-sT1ynqj_7Fo",
        "colab": {
          "base_uri": "https://localhost:8080/"
        },
        "outputId": "5147b5c2-d3c8-48cc-a638-63d3a4560309"
      },
      "execution_count": 16,
      "outputs": [
        {
          "output_type": "stream",
          "name": "stdout",
          "text": [
            "                                              review  ...                                            encoded\n",
            "2  Some major design flaws I had such high hopes ...  ...  [5489, 3396, 11243, 8384, 1856, 12902, 12804, ...\n",
            "3  My favorite buy! I love, love, love this jumps...  ...  [1510, 11679, 4446, 4446, 4446, 11572, 14026, ...\n",
            "4  Flattering shirt This shirt is very flattering...  ...  [8197, 5160, 5160, 8197, 5313, 14088, 31, 7605...\n",
            "5  Not for the very petite I love tracy reese dre...  ...  [11698, 4446, 3302, 6935, 6438, 10538, 11698, ...\n",
            "6  Cagrcoal shimmer fun I aded this in my basket ...  ...  [489, 8457, 14026, 6599, 10855, 1001, 12844, 4...\n",
            "\n",
            "[5 rows x 4 columns]\n"
          ]
        }
      ]
    },
    {
      "cell_type": "code",
      "source": [
        "# sanity check for encoding:\n",
        "print(len(all_words))\n",
        "print(ave_len)\n",
        "lengths = [len(x) for x in reviews.encoded]\n",
        "print(max(lengths))\n",
        "print(min(lengths))\n",
        "print(set(reviews.rating))\n",
        "review_length = reviews.review_length\n",
        "reviews.head()\n",
        "print(len(word_set))"
      ],
      "metadata": {
        "id": "5lNy_oCSFrqf",
        "colab": {
          "base_uri": "https://localhost:8080/"
        },
        "outputId": "3dea29fe-14c2-4472-90bf-7498ee689fff"
      },
      "execution_count": 17,
      "outputs": [
        {
          "output_type": "stream",
          "name": "stdout",
          "text": [
            "639434\n",
            "32\n",
            "32\n",
            "32\n",
            "{1, 2, 3, 4, 5}\n",
            "14088\n"
          ]
        }
      ]
    },
    {
      "cell_type": "code",
      "source": [
        "# Train test split from skearln\n",
        "data_size = len(reviews['encoded'])\n",
        "assert data_size == len(reviews['rating']) \n",
        "X, y = list(zip(list(reviews['encoded']),(list(reviews['review_length'])))), list(reviews['rating'])\n",
        "# X(data, length)\n",
        "X_train, X_test, y_train, y_test = train_test_split(X, y, test_size=0.2, random_state=43)"
      ],
      "metadata": {
        "id": "glkjNVF-N_0r"
      },
      "execution_count": 18,
      "outputs": []
    },
    {
      "cell_type": "code",
      "source": [
        "# Sanity check for length match\n",
        "print(X_train[0])"
      ],
      "metadata": {
        "id": "AlveD7X5cPYp",
        "colab": {
          "base_uri": "https://localhost:8080/"
        },
        "outputId": "be59478a-12e9-4e42-f034-25d9bcf8f712"
      },
      "execution_count": 19,
      "outputs": [
        {
          "output_type": "stream",
          "name": "stdout",
          "text": [
            "([8756, 10050, 6548, 3265, 1717, 10050, 8181, 7722, 11679, 8668, 8756, 3265, 3349, 4117, 5883, 4446, 9862, 13475, 2988, 11715, 13727, 8668, 7806, 364, 3265, 3349, 10667, 331, 4893, 7806, 2611, 3349], 32)\n"
          ]
        }
      ]
    },
    {
      "cell_type": "markdown",
      "source": [
        "## Dataset and Dataloader"
      ],
      "metadata": {
        "id": "53k_akR7YiAl"
      }
    },
    {
      "cell_type": "markdown",
      "source": [
        "### Clothing Review Dataset"
      ],
      "metadata": {
        "id": "5jGEsKl8obJ9"
      }
    },
    {
      "cell_type": "code",
      "source": [
        "class Dataset_word2vec(Dataset):\n",
        "    def __init__(self, X, y): \n",
        "        self.X = X\n",
        "        y_new = [i-1 for i in y]\n",
        "        self.y = y_new\n",
        "\n",
        "    def __len__(self):\n",
        "        return len(self.X)\n",
        "\n",
        "    def __getitem__(self, idx):\n",
        "        return  self.X[idx], self.y[idx]"
      ],
      "metadata": {
        "id": "nmCLiMzCY-o3"
      },
      "execution_count": 20,
      "outputs": []
    },
    {
      "cell_type": "code",
      "source": [
        "trainSet_w2v = Dataset_word2vec(X_train, y_train)\n",
        "testSet_w2v = Dataset_word2vec(X_test, y_test)"
      ],
      "metadata": {
        "id": "yf03irQDieWM"
      },
      "execution_count": 21,
      "outputs": []
    },
    {
      "cell_type": "code",
      "source": [
        "print(trainSet_w2v[0])"
      ],
      "metadata": {
        "id": "zCt282rkny8w",
        "colab": {
          "base_uri": "https://localhost:8080/"
        },
        "outputId": "eb7f78db-4c5c-4eda-ac1f-2eea0283b63c"
      },
      "execution_count": 22,
      "outputs": [
        {
          "output_type": "stream",
          "name": "stdout",
          "text": [
            "(([8756, 10050, 6548, 3265, 1717, 10050, 8181, 7722, 11679, 8668, 8756, 3265, 3349, 4117, 5883, 4446, 9862, 13475, 2988, 11715, 13727, 8668, 7806, 364, 3265, 3349, 10667, 331, 4893, 7806, 2611, 3349], 32), 4)\n"
          ]
        }
      ]
    },
    {
      "cell_type": "code",
      "source": [
        "def myCollate(batch):\n",
        "    data = [item[0] for item in batch]\n",
        "    label = [item[1] for item in batch]\n",
        "    # sort sequence according to it's length in a batch\n",
        "    data = data\n",
        "    # data.sort(key=lambda x: x[1], reverse = True)\n",
        "\n",
        "    # data (review: list, length: int)\n",
        "    review = torch.tensor([x[0] for x in data], dtype = torch.long)\n",
        "    label = torch.tensor(label, dtype = torch.long)\n",
        "    seq_len = [x[1] for x in data]\n",
        "    return review, label, seq_len"
      ],
      "metadata": {
        "id": "5UJ2oiTW8mYz"
      },
      "execution_count": 23,
      "outputs": []
    },
    {
      "cell_type": "code",
      "source": [
        "trainLoader_w2v = DataLoader(dataset = trainSet_w2v, batch_size = 16, collate_fn = myCollate, shuffle = True, drop_last = True)\n",
        "testLoader_w2v = DataLoader(dataset = testSet_w2v, batch_size = 16, collate_fn = myCollate, shuffle = True, drop_last = True)"
      ],
      "metadata": {
        "id": "17kzAjBchH_F"
      },
      "execution_count": 24,
      "outputs": []
    },
    {
      "cell_type": "code",
      "source": [
        "it = iter(trainLoader_w2v)\n",
        "x, y, seq_len = it.next()"
      ],
      "metadata": {
        "id": "nf1dmuSrfpWT"
      },
      "execution_count": 25,
      "outputs": []
    },
    {
      "cell_type": "code",
      "source": [
        "x.data"
      ],
      "metadata": {
        "id": "vxupL_Js1usD",
        "colab": {
          "base_uri": "https://localhost:8080/"
        },
        "outputId": "35eb69a2-8604-4fc6-ab6d-748a8a12aec1"
      },
      "execution_count": 26,
      "outputs": [
        {
          "output_type": "execute_result",
          "data": {
            "text/plain": [
              "tensor([[ 4879,  8197, 11397,  2261,  2524, 12258, 13751,  9236,  4893,  1891,\n",
              "           901,  5805,  3071, 13013,  6872, 10931, 13751, 10725,  8052, 10538,\n",
              "         13559,     1,     1,     1,     1,     1,     1,     1,     1,     1,\n",
              "             1,     1],\n",
              "        [ 7307, 11316, 11397,  7324,   141,  6820, 13359,  8560,  3487,  5160,\n",
              "          3429, 12670,  1993,  4145, 10628, 12058, 10108, 14057,  2140,  3071,\n",
              "          2013,  9481, 10801,  3265,  3549,     1,     1,     1,     1,     1,\n",
              "             1,     1],\n",
              "        [ 8378,   669, 10952,  8485, 12902,  2485,   408,  2270, 12288,  9547,\n",
              "          6052, 10397, 10687,  5453,  6518,  8378, 12036, 12639,   475, 12902,\n",
              "          8010, 10015,  6503, 10967,  7360, 12477,  7054, 12902, 10888,  6706,\n",
              "          7603,  9855],\n",
              "        [ 4893,  4462,  8384, 13078, 13372, 12104,  2808,  3158,  5121, 13183,\n",
              "         11824, 11876,  3158,  2724, 13372,  7706,  5420, 13170,  8384, 13078,\n",
              "           141,  9195,  6365,  9596,  6826, 10272,  4730,     1,     1,     1,\n",
              "             1,     1],\n",
              "        [12792, 13911, 10108, 12912,  3324,  1243,   141, 13911, 10801,  8668,\n",
              "         12093,    68, 14057,  1243, 12792,  4446,  9473,  1596, 10725,  3332,\n",
              "             1,     1,     1,     1,     1,     1,     1,     1,     1,     1,\n",
              "             1,     1],\n",
              "        [ 6846, 10213,  4446,  6846, 12058,   408, 13475, 13514,  5168, 12477,\n",
              "         11316,  6322, 11620, 12342,  8074, 10801,  8378,  6826,  3989,  6365,\n",
              "          9473,     1,     1,     1,     1,     1,     1,     1,     1,     1,\n",
              "             1,     1],\n",
              "        [ 2261,  8668,  2275, 13514, 12413,  9473,  4446, 13425, 11282, 10969,\n",
              "          3340,  6354,  9171, 10704,  3925,  3340,  2261,  7190,  2080,  2784,\n",
              "          5820,  4462, 13951,  1736,     1,     1,     1,     1,     1,     1,\n",
              "             1,     1],\n",
              "        [ 8378,  9236,  9378, 12036,   169,  8443,  3990,  2067,  8433,  7083,\n",
              "         12902,  2035,  6850, 12058, 13727, 10994, 12902,  1569,  4446,  8197,\n",
              "          6548,  2610, 12945,  2209,  2585,     1,     1,     1,     1,     1,\n",
              "             1,     1],\n",
              "        [ 4893,  7706,  5168, 10127,  7247,  2261,  4893, 13949,  5160,  7706,\n",
              "          6365,  9242,    31,  3925,  4893,  5160,     1,     1,     1,     1,\n",
              "             1,     1,     1,     1,     1,     1,     1,     1,     1,     1,\n",
              "             1,     1],\n",
              "        [ 2531,  9236, 10063, 10801,  9236,   478, 12400, 13559,  9195, 11620,\n",
              "         13951,  1736,  6365,  4549,  6145,  8434, 11068,  4120,  8885,  6845,\n",
              "          8887,  9873, 10725,  5744,  3071,     1,     1,     1,     1,     1,\n",
              "             1,     1],\n",
              "        [ 8378,  9195, 11620, 12945, 11957,  3536,  4541,  4951, 12740,  9236,\n",
              "          6052, 10538,  9236,   478,     1,     1,     1,     1,     1,     1,\n",
              "             1,     1,     1,     1,     1,     1,     1,     1,     1,     1,\n",
              "             1,     1],\n",
              "        [10623,  2861, 11397,   169, 10397, 12036,  6772,  8703,  8197, 13751,\n",
              "          8378, 11876,     1,     1,     1,     1,     1,     1,     1,     1,\n",
              "             1,     1,     1,     1,     1,     1,     1,     1,     1,     1,\n",
              "             1,     1],\n",
              "        [11316,  6850, 12902,  3550,  3981, 11523,  5168, 11282,  2816,  7661,\n",
              "          7218, 10108,  4462,  7828,  3306,  9349,   337,  2880, 11564,  2035,\n",
              "         13515,  7666,  1607,  5228, 12902, 11556, 13951,  1736, 10725,  6652,\n",
              "          9660,     1],\n",
              "        [11316, 10315,  6872, 10208,  3071,  9389,  9178,     1,     1,     1,\n",
              "             1,     1,     1,     1,     1,     1,     1,     1,     1,     1,\n",
              "             1,     1,     1,     1,     1,     1,     1,     1,     1,     1,\n",
              "             1,     1],\n",
              "        [10188,  4446,  1655, 10397,  2578, 14038, 12902,  7218,  9236, 12792,\n",
              "         11397,  9236,  6933,  8509,   473,  3067,  5366,  7723, 14057,  6052,\n",
              "         12109,  3340,  3877,  3071,  8090, 10725,  5427,  5663,  3071,  9862,\n",
              "          6805, 11369],\n",
              "        [ 2181,   708, 11149,  3158, 12804,  3349, 11397,  8378,  8887, 12145,\n",
              "         10108, 11282,  6131, 11016,  5168,   232,    88,  4446,  1651,  9473,\n",
              "          6845,  2067,  7027,    88, 11027,     1,     1,     1,     1,     1,\n",
              "             1,     1]])"
            ]
          },
          "metadata": {},
          "execution_count": 26
        }
      ]
    },
    {
      "cell_type": "code",
      "source": [
        "y"
      ],
      "metadata": {
        "id": "iPW8bqg1th7a",
        "colab": {
          "base_uri": "https://localhost:8080/"
        },
        "outputId": "0cb70275-9d4a-4ecc-a7ff-bd94a4a7e9ea"
      },
      "execution_count": 27,
      "outputs": [
        {
          "output_type": "execute_result",
          "data": {
            "text/plain": [
              "tensor([4, 2, 4, 3, 2, 4, 4, 4, 4, 4, 4, 4, 2, 4, 2, 3])"
            ]
          },
          "metadata": {},
          "execution_count": 27
        }
      ]
    },
    {
      "cell_type": "code",
      "source": [
        "seq_len"
      ],
      "metadata": {
        "id": "o9PING33tjoJ",
        "colab": {
          "base_uri": "https://localhost:8080/"
        },
        "outputId": "a6bff7e7-54ad-48de-9392-2c0384d64fd8"
      },
      "execution_count": 28,
      "outputs": [
        {
          "output_type": "execute_result",
          "data": {
            "text/plain": [
              "[32, 32, 32, 32, 32, 32, 32, 32, 32, 32, 32, 32, 32, 32, 32, 32]"
            ]
          },
          "metadata": {},
          "execution_count": 28
        }
      ]
    },
    {
      "cell_type": "markdown",
      "source": [
        "## Embedding"
      ],
      "metadata": {
        "id": "dkOEB6jDYT2J"
      }
    },
    {
      "cell_type": "code",
      "source": [
        "word2vec = gensim.models.KeyedVectors.load_word2vec_format(\n",
        "    '/content/drive/MyDrive/McGill/Comp 550/GoogleNews-vectors-negative300.bin', binary = True)\n",
        "print(type(word2vec))\n",
        "weight = torch.FloatTensor(word2vec.vectors)\n",
        "word2vec_embedding = nn.Embedding.from_pretrained(weight)\n",
        "\n",
        "# sanity check for word2vec embedding\n",
        "temp = word2vec['hello', 'world']\n",
        "sanity_w2v = torch.Tensor(temp)\n",
        "print(sanity_w2v.shape)"
      ],
      "metadata": {
        "id": "kMAextiWYdVH",
        "colab": {
          "base_uri": "https://localhost:8080/"
        },
        "outputId": "0f5c77f0-dfe4-4faa-8cd7-c305556b71ad"
      },
      "execution_count": 33,
      "outputs": [
        {
          "output_type": "stream",
          "name": "stdout",
          "text": [
            "<class 'gensim.models.keyedvectors.Word2VecKeyedVectors'>\n",
            "torch.Size([2, 300])\n"
          ]
        }
      ]
    },
    {
      "cell_type": "code",
      "source": [
        "# create embedding matrix lstm\n",
        "def emb_matrix(model, all_words, word2index):\n",
        "    matrix_size = len(word_set) + 2\n",
        "    emb_matrix = np.zeros((matrix_size, 300))\n",
        "    emb_matrix[0] = np.random.uniform(-0.25, 0.25, 300) # vector for UNK\n",
        "    emb_matrix[1] = np.zeros(300) # vector for padding, has no weight\n",
        "\n",
        "    # vector for every other word in the dictionary\n",
        "    for i in range(2, len(all_words)+2):\n",
        "        word = all_words[i-2]\n",
        "        index = word2index[word]\n",
        "        try:\n",
        "            vector = model[word]\n",
        "        except Exception as e:\n",
        "            # word does not exist in the pretrained embedding\n",
        "            vector = emb_matrix[0]\n",
        "        emb_matrix[index] = vector\n",
        "    return emb_matrix"
      ],
      "metadata": {
        "id": "QRqGHAIJAgAx"
      },
      "execution_count": 34,
      "outputs": []
    },
    {
      "cell_type": "code",
      "source": [
        "embeddings_w2v = emb_matrix(word2vec, word_set, word2index)"
      ],
      "metadata": {
        "id": "rKqasNfKXMQU"
      },
      "execution_count": 35,
      "outputs": []
    },
    {
      "cell_type": "code",
      "source": [
        "print(embeddings_w2v.shape)"
      ],
      "metadata": {
        "id": "y1XRr66CXd76",
        "colab": {
          "base_uri": "https://localhost:8080/"
        },
        "outputId": "d7522b33-1790-4447-8f9c-c57a80558e0d"
      },
      "execution_count": 39,
      "outputs": [
        {
          "output_type": "stream",
          "name": "stdout",
          "text": [
            "(14090, 300)\n"
          ]
        }
      ]
    },
    {
      "cell_type": "code",
      "source": [
        "def validation_metrics(model, valid_dl):\n",
        "    print(\"current in vlaidaiton\")\n",
        "    model.eval()\n",
        "    correct = 0\n",
        "    total = 0\n",
        "    sum_loss = 0.0\n",
        "    sum_rmse = 0.0\n",
        "    criterion = nn.CrossEntropyLoss()\n",
        "    model = model.to(device)\n",
        "    y_total = []\n",
        "    y_pred_total = []\n",
        "    for x, y, seq_len in valid_dl:\n",
        "        x = x.long().to(device)\n",
        "        y = y.long().to(device)\n",
        "        y_hat = model(x, seq_len)\n",
        "        loss = criterion(y_hat, y)\n",
        "        \n",
        "        # print(f\"shape of y: {y.shape}\")\n",
        "        # print(f\"shape of y_pred: {y_hat.shape}\")\n",
        "        # print(y_hat)\n",
        "        pred = torch.argmax(y_hat, 1)\n",
        "        y_total.extend(y.tolist())\n",
        "        y_pred_total.extend(pred.tolist())\n",
        "        \n",
        "        # print(pred)\n",
        "        correct += sum((pred == y))\n",
        "        total += y.shape[0]\n",
        "        sum_loss += loss.item()*y.shape[0]\n",
        "        # print(len(y_total))\n",
        "        # print(len(y_pred_total))\n",
        "\n",
        "      # calculate precision, recall, and f1\n",
        "    f1 = (f1_score(y_total, y_pred_total, average='weighted'))\n",
        "    precision = (precision_score(y_total, y_pred_total, average='weighted'))\n",
        "    recall =(recall_score(y_total, y_pred_total, average='weighted'))\n",
        "    return sum_loss/total, correct/total, precision, recall, f1"
      ],
      "metadata": {
        "id": "I40nbCLXlJt9"
      },
      "execution_count": 40,
      "outputs": []
    },
    {
      "cell_type": "code",
      "source": [
        "def train_model(model, fname, epochs = 50, lr = 0.0001):\n",
        "    parameters = filter(lambda p:p.requires_grad, model.parameters())\n",
        "    optimizer = torch.optim.Adam(parameters, lr = lr)\n",
        "    criterion = nn.CrossEntropyLoss()\n",
        "    model = model.to(device)\n",
        "    PATH = '/content/drive/MyDrive/McGill/Comp 550/' + fname\n",
        "    epoch = 0\n",
        "    best_val_acc = 0.0\n",
        "    for i in range(epochs):\n",
        "        epoch += 1\n",
        "        print(f\"At epoch {i}\")\n",
        "        batch_count = 0\n",
        "        model.train()\n",
        "        sum_loss = 0.0\n",
        "        total = 0.0\n",
        "        train_correct = 0.0\n",
        "        for x, y, seq_len in tqdm(trainLoader_w2v):\n",
        "            x = x.long().to(device)\n",
        "            y = y.long().to(device)\n",
        "            batch_count += 1\n",
        "            optimizer.zero_grad()\n",
        "            y_pred = model(x, seq_len)\n",
        "            pred = torch.argmax(y_pred, 1)\n",
        "            train_correct += sum((pred == y))\n",
        "            loss = criterion(y_pred, y)\n",
        "            loss.backward()\n",
        "            optimizer.step()\n",
        "            sum_loss += loss.item()*y.shape[0]\n",
        "            total += y.shape[0]\n",
        "        val_loss, val_acc, precision, recall, f1 = validation_metrics(model, testLoader_w2v)\n",
        "        print(\"train loss %.3f, train accuracy %.3f, val loss %.3f, val accuracy %.3f, precision %.3f, recall %.3f, F1 %.3f\" \n",
        "              % (sum_loss/total, train_correct/total, val_loss, val_acc, precision, recall, f1))\n",
        "        if val_acc > best_val_acc and i>=1:\n",
        "            best_val_acc = val_acc\n",
        "            NEW_PATH = PATH+f'_{i}_{val_acc}.pth'\n",
        "            #torch.save(model.state_dict(), NEW_PATH)\n",
        "            print(f\"\\t=> Best model saved at {i}th epoch with valication accuracy of {val_acc}\")"
      ],
      "metadata": {
        "id": "YVwWS3rRnOw0"
      },
      "execution_count": 41,
      "outputs": []
    },
    {
      "cell_type": "code",
      "source": [
        "weight = torch.FloatTensor(word2vec.vectors)\n",
        "word2vec_embedding = nn.Embedding.from_pretrained(weight)\n",
        "\n",
        "class LSTM_word2vec(torch.nn.Module):\n",
        "    def __init__(self, emb_matrix, embedding_dim, hidden_dim):\n",
        "        super().__init__()\n",
        "        self.embedding_dim = embedding_dim\n",
        "        self.embeddings = nn.Embedding(emb_matrix.shape[0], embedding_dim, padding_idx = 0)\n",
        "        self.embeddings.weight.data.copy_(torch.from_numpy(emb_matrix))\n",
        "        self.lstm = nn.LSTM(embedding_dim, hidden_dim, batch_first=True)\n",
        "        self.embedding_dim = embedding_dim\n",
        "        self.hidden_dim = hidden_dim\n",
        "        self.linear = nn.Linear(hidden_dim, 5)\n",
        "        self.dropout = nn.Dropout(0.2)\n",
        "\n",
        "    def forward(self, x, seq_len):\n",
        "        x = self.embeddings(x)\n",
        "        # x = nn.utils.rnn.pack_padded_sequence(x, self.embedding_dim, batch_first = True)\n",
        "        x = self.dropout(x)\n",
        "        # x_padded = pack_padded_sequence(x, seq_len, batch_first = True)\n",
        "        output, (h_n, c_n) = self.lstm(x)\n",
        "        # print(h_n[-1].shape)\n",
        "        # output (N, ave_len, num_class)\n",
        "        # reshape to out (N, num_class)\n",
        "\n",
        "        return self.linear(h_n[-1])"
      ],
      "metadata": {
        "id": "w1y9PO6JW28H"
      },
      "execution_count": 47,
      "outputs": []
    },
    {
      "cell_type": "code",
      "source": [
        "distil_bert = 'distilbert-base-uncased'\n",
        "        #config = DistilBertConfig(dropout=0.2, attention_dropout=0.2)\n",
        "        #config.output_hidden_states = False\n",
        "transformer_model = DistilBertModel.from_pretrained('distilbert-base-uncased')\n",
        "        \n",
        "embedding =  list(transformer_model.children())[0]\n",
        "bert_word_embeddings = list(embedding.children())[0]"
      ],
      "metadata": {
        "id": "j09LcerVrHTi",
        "colab": {
          "base_uri": "https://localhost:8080/",
          "height": 153,
          "referenced_widgets": [
            "d5c4019d384e48f4b086d17f05ca8edd",
            "4052d265332e4619813f3264d75eea28",
            "962cafdf9e6f458581d6d96b402312e4",
            "7530d02310944e3587a6b25e2fbe1437",
            "2a9ade4eb23b4041b896d3dc9b5dc38c",
            "ae3de966143840d7bfb38c0c6bce1245",
            "ca57d6d4d5e947bba562025c12e36aa6",
            "a4aa66c419cb4a51895ac513d4bf821a",
            "2cf67915848e402b87dbd15800d53287",
            "e842fa6aa27d4ddaa022a0885ef6ff32",
            "e061bd3a00cb4fe3997d22ccc7a7859a",
            "d6046cb2cb05402e975a897f64036ece",
            "835c73e162a54266884cf19b4d4288bb",
            "c001fe3cae724e9da1269d4723d75deb",
            "a6c7b725f0c641fcba1edd20e78182a5",
            "f60bdc968a5f42b4ab07ba0357e95411",
            "ba6a530867724878b042afb80726e157",
            "45ba8bb3ac7d4cd3aa8875baedd7969f",
            "3c051b1b0d79417ca91c3d8b28506386",
            "54d7c9fee63e43fcbf25f78858e7da2f",
            "c40a280013474927a15c1d0dd1404042",
            "745ae0a1fd8347a5ba59ad83742f22d3"
          ]
        },
        "outputId": "993f1cce-1d65-4573-d710-642f376b0862"
      },
      "execution_count": 42,
      "outputs": [
        {
          "output_type": "display_data",
          "data": {
            "application/vnd.jupyter.widget-view+json": {
              "model_id": "d5c4019d384e48f4b086d17f05ca8edd",
              "version_minor": 0,
              "version_major": 2
            },
            "text/plain": [
              "Downloading:   0%|          | 0.00/483 [00:00<?, ?B/s]"
            ]
          },
          "metadata": {}
        },
        {
          "output_type": "display_data",
          "data": {
            "application/vnd.jupyter.widget-view+json": {
              "model_id": "d6046cb2cb05402e975a897f64036ece",
              "version_minor": 0,
              "version_major": 2
            },
            "text/plain": [
              "Downloading:   0%|          | 0.00/256M [00:00<?, ?B/s]"
            ]
          },
          "metadata": {}
        },
        {
          "output_type": "stream",
          "name": "stderr",
          "text": [
            "Some weights of the model checkpoint at distilbert-base-uncased were not used when initializing DistilBertModel: ['vocab_layer_norm.weight', 'vocab_transform.bias', 'vocab_projector.bias', 'vocab_layer_norm.bias', 'vocab_projector.weight', 'vocab_transform.weight']\n",
            "- This IS expected if you are initializing DistilBertModel from the checkpoint of a model trained on another task or with another architecture (e.g. initializing a BertForSequenceClassification model from a BertForPreTraining model).\n",
            "- This IS NOT expected if you are initializing DistilBertModel from the checkpoint of a model that you expect to be exactly identical (initializing a BertForSequenceClassification model from a BertForSequenceClassification model).\n"
          ]
        }
      ]
    },
    {
      "cell_type": "code",
      "source": [
        "class LSTM_fixed_length_Bert(torch.nn.Module) :\n",
        "    def __init__(self, vocab_size, embedding_dim, hidden_dim) :\n",
        "        super().__init__()\n",
        "        self.embeddings = bert_word_embeddings\n",
        "        self.lstm = nn.LSTM(embedding_dim, hidden_dim, batch_first=True)\n",
        "        self.linear = nn.Linear(hidden_dim, 5)\n",
        "        self.dropout = nn.Dropout(0.5)\n",
        "        \n",
        "    def forward(self, x, l):\n",
        "        x = self.embeddings(x)\n",
        "        x = self.dropout(x)\n",
        "        lstm_out, (ht, ct) = self.lstm(x)\n",
        "        return self.linear(ht[-1])"
      ],
      "metadata": {
        "id": "dTueiq-CqPRZ"
      },
      "execution_count": 43,
      "outputs": []
    },
    {
      "cell_type": "code",
      "source": [
        "model_bert = LSTM_fixed_length_Bert(len(word_set), 768, 100)\n",
        "train_model(model_bert, fname = 'bert_lstm_clothing', epochs = 15)"
      ],
      "metadata": {
        "id": "fACGMEuvsToN",
        "colab": {
          "base_uri": "https://localhost:8080/"
        },
        "outputId": "986e0aa0-792f-4c15-c40b-de13dd097eab"
      },
      "execution_count": 45,
      "outputs": [
        {
          "output_type": "stream",
          "name": "stdout",
          "text": [
            "At epoch 0\n"
          ]
        },
        {
          "output_type": "stream",
          "name": "stderr",
          "text": [
            "100%|██████████| 983/983 [00:07<00:00, 127.58it/s]\n"
          ]
        },
        {
          "output_type": "stream",
          "name": "stdout",
          "text": [
            "current in vlaidaiton\n"
          ]
        },
        {
          "output_type": "stream",
          "name": "stderr",
          "text": [
            "/usr/local/lib/python3.7/dist-packages/sklearn/metrics/_classification.py:1308: UndefinedMetricWarning: Precision is ill-defined and being set to 0.0 in labels with no predicted samples. Use `zero_division` parameter to control this behavior.\n",
            "  _warn_prf(average, modifier, msg_start, len(result))\n"
          ]
        },
        {
          "output_type": "stream",
          "name": "stdout",
          "text": [
            "train loss 1.045, train accuracy 0.600, val loss 0.891, val accuracy 0.624, precision 0.554, recall 0.624, F1 0.581\n",
            "At epoch 1\n"
          ]
        },
        {
          "output_type": "stream",
          "name": "stderr",
          "text": [
            "100%|██████████| 983/983 [00:07<00:00, 133.80it/s]\n"
          ]
        },
        {
          "output_type": "stream",
          "name": "stdout",
          "text": [
            "current in vlaidaiton\n"
          ]
        },
        {
          "output_type": "stream",
          "name": "stderr",
          "text": [
            "/usr/local/lib/python3.7/dist-packages/sklearn/metrics/_classification.py:1308: UndefinedMetricWarning: Precision is ill-defined and being set to 0.0 in labels with no predicted samples. Use `zero_division` parameter to control this behavior.\n",
            "  _warn_prf(average, modifier, msg_start, len(result))\n"
          ]
        },
        {
          "output_type": "stream",
          "name": "stdout",
          "text": [
            "train loss 0.721, train accuracy 0.701, val loss 0.911, val accuracy 0.618, precision 0.597, recall 0.618, F1 0.607\n",
            "\t=> Best model saved at 1th epoch with valication accuracy of 0.6183673143386841\n",
            "At epoch 2\n"
          ]
        },
        {
          "output_type": "stream",
          "name": "stderr",
          "text": [
            "100%|██████████| 983/983 [00:07<00:00, 134.13it/s]\n"
          ]
        },
        {
          "output_type": "stream",
          "name": "stdout",
          "text": [
            "current in vlaidaiton\n"
          ]
        },
        {
          "output_type": "stream",
          "name": "stderr",
          "text": [
            "/usr/local/lib/python3.7/dist-packages/sklearn/metrics/_classification.py:1308: UndefinedMetricWarning: Precision is ill-defined and being set to 0.0 in labels with no predicted samples. Use `zero_division` parameter to control this behavior.\n",
            "  _warn_prf(average, modifier, msg_start, len(result))\n"
          ]
        },
        {
          "output_type": "stream",
          "name": "stdout",
          "text": [
            "train loss 0.641, train accuracy 0.740, val loss 0.956, val accuracy 0.583, precision 0.619, recall 0.583, F1 0.590\n",
            "At epoch 3\n"
          ]
        },
        {
          "output_type": "stream",
          "name": "stderr",
          "text": [
            "100%|██████████| 983/983 [00:07<00:00, 133.59it/s]\n"
          ]
        },
        {
          "output_type": "stream",
          "name": "stdout",
          "text": [
            "current in vlaidaiton\n",
            "train loss 0.569, train accuracy 0.770, val loss 1.004, val accuracy 0.633, precision 0.614, recall 0.633, F1 0.610\n",
            "\t=> Best model saved at 3th epoch with valication accuracy of 0.6331632137298584\n",
            "At epoch 4\n"
          ]
        },
        {
          "output_type": "stream",
          "name": "stderr",
          "text": [
            "100%|██████████| 983/983 [00:07<00:00, 133.95it/s]\n"
          ]
        },
        {
          "output_type": "stream",
          "name": "stdout",
          "text": [
            "current in vlaidaiton\n",
            "train loss 0.521, train accuracy 0.798, val loss 1.047, val accuracy 0.634, precision 0.606, recall 0.634, F1 0.616\n",
            "\t=> Best model saved at 4th epoch with valication accuracy of 0.6344387531280518\n",
            "At epoch 5\n"
          ]
        },
        {
          "output_type": "stream",
          "name": "stderr",
          "text": [
            "100%|██████████| 983/983 [00:07<00:00, 133.69it/s]\n"
          ]
        },
        {
          "output_type": "stream",
          "name": "stdout",
          "text": [
            "current in vlaidaiton\n",
            "train loss 0.481, train accuracy 0.819, val loss 1.049, val accuracy 0.611, precision 0.609, recall 0.611, F1 0.608\n",
            "At epoch 6\n"
          ]
        },
        {
          "output_type": "stream",
          "name": "stderr",
          "text": [
            "100%|██████████| 983/983 [00:07<00:00, 133.69it/s]\n"
          ]
        },
        {
          "output_type": "stream",
          "name": "stdout",
          "text": [
            "current in vlaidaiton\n",
            "train loss 0.447, train accuracy 0.835, val loss 1.105, val accuracy 0.609, precision 0.609, recall 0.609, F1 0.608\n",
            "At epoch 7\n"
          ]
        },
        {
          "output_type": "stream",
          "name": "stderr",
          "text": [
            "100%|██████████| 983/983 [00:07<00:00, 133.55it/s]\n"
          ]
        },
        {
          "output_type": "stream",
          "name": "stdout",
          "text": [
            "current in vlaidaiton\n",
            "train loss 0.420, train accuracy 0.847, val loss 1.156, val accuracy 0.625, precision 0.591, recall 0.625, F1 0.601\n",
            "At epoch 8\n"
          ]
        },
        {
          "output_type": "stream",
          "name": "stderr",
          "text": [
            "100%|██████████| 983/983 [00:07<00:00, 133.85it/s]\n"
          ]
        },
        {
          "output_type": "stream",
          "name": "stdout",
          "text": [
            "current in vlaidaiton\n",
            "train loss 0.392, train accuracy 0.857, val loss 1.231, val accuracy 0.603, precision 0.603, recall 0.603, F1 0.599\n",
            "At epoch 9\n"
          ]
        },
        {
          "output_type": "stream",
          "name": "stderr",
          "text": [
            "100%|██████████| 983/983 [00:07<00:00, 133.74it/s]\n"
          ]
        },
        {
          "output_type": "stream",
          "name": "stdout",
          "text": [
            "current in vlaidaiton\n",
            "train loss 0.378, train accuracy 0.862, val loss 1.216, val accuracy 0.624, precision 0.596, recall 0.624, F1 0.605\n",
            "At epoch 10\n"
          ]
        },
        {
          "output_type": "stream",
          "name": "stderr",
          "text": [
            "100%|██████████| 983/983 [00:07<00:00, 134.02it/s]\n"
          ]
        },
        {
          "output_type": "stream",
          "name": "stdout",
          "text": [
            "current in vlaidaiton\n",
            "train loss 0.352, train accuracy 0.879, val loss 1.202, val accuracy 0.601, precision 0.605, recall 0.601, F1 0.602\n",
            "At epoch 11\n"
          ]
        },
        {
          "output_type": "stream",
          "name": "stderr",
          "text": [
            "100%|██████████| 983/983 [00:07<00:00, 134.13it/s]\n"
          ]
        },
        {
          "output_type": "stream",
          "name": "stdout",
          "text": [
            "current in vlaidaiton\n",
            "train loss 0.334, train accuracy 0.882, val loss 1.300, val accuracy 0.577, precision 0.602, recall 0.577, F1 0.587\n",
            "At epoch 12\n"
          ]
        },
        {
          "output_type": "stream",
          "name": "stderr",
          "text": [
            "100%|██████████| 983/983 [00:07<00:00, 134.12it/s]\n"
          ]
        },
        {
          "output_type": "stream",
          "name": "stdout",
          "text": [
            "current in vlaidaiton\n",
            "train loss 0.316, train accuracy 0.892, val loss 1.328, val accuracy 0.610, precision 0.591, recall 0.610, F1 0.598\n",
            "At epoch 13\n"
          ]
        },
        {
          "output_type": "stream",
          "name": "stderr",
          "text": [
            "100%|██████████| 983/983 [00:07<00:00, 133.49it/s]\n"
          ]
        },
        {
          "output_type": "stream",
          "name": "stdout",
          "text": [
            "current in vlaidaiton\n",
            "train loss 0.300, train accuracy 0.895, val loss 1.334, val accuracy 0.621, precision 0.591, recall 0.621, F1 0.600\n",
            "At epoch 14\n"
          ]
        },
        {
          "output_type": "stream",
          "name": "stderr",
          "text": [
            "100%|██████████| 983/983 [00:07<00:00, 133.90it/s]\n"
          ]
        },
        {
          "output_type": "stream",
          "name": "stdout",
          "text": [
            "current in vlaidaiton\n",
            "train loss 0.288, train accuracy 0.899, val loss 1.330, val accuracy 0.601, precision 0.595, recall 0.601, F1 0.596\n"
          ]
        }
      ]
    },
    {
      "cell_type": "code",
      "source": [
        "model = LSTM_word2vec(embeddings_w2v, 300, 100)\n",
        "train_model(model, fname='word2vec_lstm', epochs=20)"
      ],
      "metadata": {
        "id": "xShR5nvtlxXV",
        "colab": {
          "base_uri": "https://localhost:8080/"
        },
        "outputId": "2ba63a6f-78a2-4183-c885-03ee1f2842dc"
      },
      "execution_count": 48,
      "outputs": [
        {
          "output_type": "stream",
          "name": "stdout",
          "text": [
            "At epoch 0\n"
          ]
        },
        {
          "output_type": "stream",
          "name": "stderr",
          "text": [
            "100%|██████████| 983/983 [00:03<00:00, 253.07it/s]\n"
          ]
        },
        {
          "output_type": "stream",
          "name": "stdout",
          "text": [
            "current in vlaidaiton\n"
          ]
        },
        {
          "output_type": "stream",
          "name": "stderr",
          "text": [
            "/usr/local/lib/python3.7/dist-packages/sklearn/metrics/_classification.py:1308: UndefinedMetricWarning: Precision is ill-defined and being set to 0.0 in labels with no predicted samples. Use `zero_division` parameter to control this behavior.\n",
            "  _warn_prf(average, modifier, msg_start, len(result))\n"
          ]
        },
        {
          "output_type": "stream",
          "name": "stdout",
          "text": [
            "train loss 1.137, train accuracy 0.550, val loss 0.970, val accuracy 0.584, precision 0.476, recall 0.584, F1 0.477\n",
            "At epoch 1\n"
          ]
        },
        {
          "output_type": "stream",
          "name": "stderr",
          "text": [
            "100%|██████████| 983/983 [00:03<00:00, 254.73it/s]\n"
          ]
        },
        {
          "output_type": "stream",
          "name": "stdout",
          "text": [
            "current in vlaidaiton\n"
          ]
        },
        {
          "output_type": "stream",
          "name": "stderr",
          "text": [
            "/usr/local/lib/python3.7/dist-packages/sklearn/metrics/_classification.py:1308: UndefinedMetricWarning: Precision is ill-defined and being set to 0.0 in labels with no predicted samples. Use `zero_division` parameter to control this behavior.\n",
            "  _warn_prf(average, modifier, msg_start, len(result))\n"
          ]
        },
        {
          "output_type": "stream",
          "name": "stdout",
          "text": [
            "train loss 0.928, train accuracy 0.615, val loss 0.898, val accuracy 0.630, precision 0.555, recall 0.630, F1 0.572\n",
            "\t=> Best model saved at 1th epoch with valication accuracy of 0.6301020383834839\n",
            "At epoch 2\n"
          ]
        },
        {
          "output_type": "stream",
          "name": "stderr",
          "text": [
            "100%|██████████| 983/983 [00:03<00:00, 253.36it/s]\n"
          ]
        },
        {
          "output_type": "stream",
          "name": "stdout",
          "text": [
            "current in vlaidaiton\n"
          ]
        },
        {
          "output_type": "stream",
          "name": "stderr",
          "text": [
            "/usr/local/lib/python3.7/dist-packages/sklearn/metrics/_classification.py:1308: UndefinedMetricWarning: Precision is ill-defined and being set to 0.0 in labels with no predicted samples. Use `zero_division` parameter to control this behavior.\n",
            "  _warn_prf(average, modifier, msg_start, len(result))\n"
          ]
        },
        {
          "output_type": "stream",
          "name": "stdout",
          "text": [
            "train loss 0.855, train accuracy 0.643, val loss 0.866, val accuracy 0.630, precision 0.582, recall 0.630, F1 0.594\n",
            "At epoch 3\n"
          ]
        },
        {
          "output_type": "stream",
          "name": "stderr",
          "text": [
            "100%|██████████| 983/983 [00:03<00:00, 255.16it/s]\n"
          ]
        },
        {
          "output_type": "stream",
          "name": "stdout",
          "text": [
            "current in vlaidaiton\n"
          ]
        },
        {
          "output_type": "stream",
          "name": "stderr",
          "text": [
            "/usr/local/lib/python3.7/dist-packages/sklearn/metrics/_classification.py:1308: UndefinedMetricWarning: Precision is ill-defined and being set to 0.0 in labels with no predicted samples. Use `zero_division` parameter to control this behavior.\n",
            "  _warn_prf(average, modifier, msg_start, len(result))\n"
          ]
        },
        {
          "output_type": "stream",
          "name": "stdout",
          "text": [
            "train loss 0.813, train accuracy 0.652, val loss 0.847, val accuracy 0.640, precision 0.591, recall 0.640, F1 0.607\n",
            "\t=> Best model saved at 3th epoch with valication accuracy of 0.640051007270813\n",
            "At epoch 4\n"
          ]
        },
        {
          "output_type": "stream",
          "name": "stderr",
          "text": [
            "100%|██████████| 983/983 [00:03<00:00, 254.33it/s]\n"
          ]
        },
        {
          "output_type": "stream",
          "name": "stdout",
          "text": [
            "current in vlaidaiton\n"
          ]
        },
        {
          "output_type": "stream",
          "name": "stderr",
          "text": [
            "/usr/local/lib/python3.7/dist-packages/sklearn/metrics/_classification.py:1308: UndefinedMetricWarning: Precision is ill-defined and being set to 0.0 in labels with no predicted samples. Use `zero_division` parameter to control this behavior.\n",
            "  _warn_prf(average, modifier, msg_start, len(result))\n"
          ]
        },
        {
          "output_type": "stream",
          "name": "stdout",
          "text": [
            "train loss 0.781, train accuracy 0.667, val loss 0.847, val accuracy 0.628, precision 0.608, recall 0.628, F1 0.612\n",
            "At epoch 5\n"
          ]
        },
        {
          "output_type": "stream",
          "name": "stderr",
          "text": [
            "100%|██████████| 983/983 [00:03<00:00, 254.57it/s]\n"
          ]
        },
        {
          "output_type": "stream",
          "name": "stdout",
          "text": [
            "current in vlaidaiton\n"
          ]
        },
        {
          "output_type": "stream",
          "name": "stderr",
          "text": [
            "/usr/local/lib/python3.7/dist-packages/sklearn/metrics/_classification.py:1308: UndefinedMetricWarning: Precision is ill-defined and being set to 0.0 in labels with no predicted samples. Use `zero_division` parameter to control this behavior.\n",
            "  _warn_prf(average, modifier, msg_start, len(result))\n"
          ]
        },
        {
          "output_type": "stream",
          "name": "stdout",
          "text": [
            "train loss 0.752, train accuracy 0.680, val loss 0.858, val accuracy 0.638, precision 0.603, recall 0.638, F1 0.617\n",
            "At epoch 6\n"
          ]
        },
        {
          "output_type": "stream",
          "name": "stderr",
          "text": [
            "100%|██████████| 983/983 [00:03<00:00, 253.41it/s]\n"
          ]
        },
        {
          "output_type": "stream",
          "name": "stdout",
          "text": [
            "current in vlaidaiton\n"
          ]
        },
        {
          "output_type": "stream",
          "name": "stderr",
          "text": [
            "/usr/local/lib/python3.7/dist-packages/sklearn/metrics/_classification.py:1308: UndefinedMetricWarning: Precision is ill-defined and being set to 0.0 in labels with no predicted samples. Use `zero_division` parameter to control this behavior.\n",
            "  _warn_prf(average, modifier, msg_start, len(result))\n"
          ]
        },
        {
          "output_type": "stream",
          "name": "stdout",
          "text": [
            "train loss 0.730, train accuracy 0.693, val loss 0.843, val accuracy 0.646, precision 0.611, recall 0.646, F1 0.627\n",
            "\t=> Best model saved at 6th epoch with valication accuracy of 0.6456632614135742\n",
            "At epoch 7\n"
          ]
        },
        {
          "output_type": "stream",
          "name": "stderr",
          "text": [
            "100%|██████████| 983/983 [00:03<00:00, 255.96it/s]\n"
          ]
        },
        {
          "output_type": "stream",
          "name": "stdout",
          "text": [
            "current in vlaidaiton\n"
          ]
        },
        {
          "output_type": "stream",
          "name": "stderr",
          "text": [
            "/usr/local/lib/python3.7/dist-packages/sklearn/metrics/_classification.py:1308: UndefinedMetricWarning: Precision is ill-defined and being set to 0.0 in labels with no predicted samples. Use `zero_division` parameter to control this behavior.\n",
            "  _warn_prf(average, modifier, msg_start, len(result))\n"
          ]
        },
        {
          "output_type": "stream",
          "name": "stdout",
          "text": [
            "train loss 0.704, train accuracy 0.699, val loss 0.856, val accuracy 0.645, precision 0.608, recall 0.645, F1 0.623\n",
            "At epoch 8\n"
          ]
        },
        {
          "output_type": "stream",
          "name": "stderr",
          "text": [
            "100%|██████████| 983/983 [00:03<00:00, 255.72it/s]\n"
          ]
        },
        {
          "output_type": "stream",
          "name": "stdout",
          "text": [
            "current in vlaidaiton\n",
            "train loss 0.681, train accuracy 0.714, val loss 0.874, val accuracy 0.636, precision 0.629, recall 0.636, F1 0.627\n",
            "At epoch 9\n"
          ]
        },
        {
          "output_type": "stream",
          "name": "stderr",
          "text": [
            "100%|██████████| 983/983 [00:03<00:00, 256.37it/s]\n"
          ]
        },
        {
          "output_type": "stream",
          "name": "stdout",
          "text": [
            "current in vlaidaiton\n",
            "train loss 0.665, train accuracy 0.722, val loss 0.944, val accuracy 0.646, precision 0.611, recall 0.646, F1 0.614\n",
            "\t=> Best model saved at 9th epoch with valication accuracy of 0.6461734175682068\n",
            "At epoch 10\n"
          ]
        },
        {
          "output_type": "stream",
          "name": "stderr",
          "text": [
            "100%|██████████| 983/983 [00:03<00:00, 254.43it/s]\n"
          ]
        },
        {
          "output_type": "stream",
          "name": "stdout",
          "text": [
            "current in vlaidaiton\n",
            "train loss 0.643, train accuracy 0.734, val loss 0.900, val accuracy 0.634, precision 0.622, recall 0.634, F1 0.627\n",
            "At epoch 11\n"
          ]
        },
        {
          "output_type": "stream",
          "name": "stderr",
          "text": [
            "100%|██████████| 983/983 [00:03<00:00, 253.97it/s]\n"
          ]
        },
        {
          "output_type": "stream",
          "name": "stdout",
          "text": [
            "current in vlaidaiton\n",
            "train loss 0.626, train accuracy 0.744, val loss 0.900, val accuracy 0.641, precision 0.624, recall 0.641, F1 0.627\n",
            "At epoch 12\n"
          ]
        },
        {
          "output_type": "stream",
          "name": "stderr",
          "text": [
            "100%|██████████| 983/983 [00:03<00:00, 254.72it/s]\n"
          ]
        },
        {
          "output_type": "stream",
          "name": "stdout",
          "text": [
            "current in vlaidaiton\n",
            "train loss 0.603, train accuracy 0.754, val loss 0.945, val accuracy 0.634, precision 0.624, recall 0.634, F1 0.627\n",
            "At epoch 13\n"
          ]
        },
        {
          "output_type": "stream",
          "name": "stderr",
          "text": [
            "100%|██████████| 983/983 [00:03<00:00, 256.17it/s]\n"
          ]
        },
        {
          "output_type": "stream",
          "name": "stdout",
          "text": [
            "current in vlaidaiton\n",
            "train loss 0.592, train accuracy 0.765, val loss 0.966, val accuracy 0.644, precision 0.616, recall 0.644, F1 0.625\n",
            "At epoch 14\n"
          ]
        },
        {
          "output_type": "stream",
          "name": "stderr",
          "text": [
            "100%|██████████| 983/983 [00:03<00:00, 255.40it/s]\n"
          ]
        },
        {
          "output_type": "stream",
          "name": "stdout",
          "text": [
            "current in vlaidaiton\n",
            "train loss 0.573, train accuracy 0.771, val loss 0.963, val accuracy 0.636, precision 0.617, recall 0.636, F1 0.625\n",
            "At epoch 15\n"
          ]
        },
        {
          "output_type": "stream",
          "name": "stderr",
          "text": [
            "100%|██████████| 983/983 [00:03<00:00, 255.22it/s]\n"
          ]
        },
        {
          "output_type": "stream",
          "name": "stdout",
          "text": [
            "current in vlaidaiton\n",
            "train loss 0.560, train accuracy 0.778, val loss 0.970, val accuracy 0.619, precision 0.620, recall 0.619, F1 0.618\n",
            "At epoch 16\n"
          ]
        },
        {
          "output_type": "stream",
          "name": "stderr",
          "text": [
            "100%|██████████| 983/983 [00:03<00:00, 255.89it/s]\n"
          ]
        },
        {
          "output_type": "stream",
          "name": "stdout",
          "text": [
            "current in vlaidaiton\n",
            "train loss 0.539, train accuracy 0.790, val loss 0.989, val accuracy 0.629, precision 0.624, recall 0.629, F1 0.626\n",
            "At epoch 17\n"
          ]
        },
        {
          "output_type": "stream",
          "name": "stderr",
          "text": [
            "100%|██████████| 983/983 [00:03<00:00, 255.07it/s]\n"
          ]
        },
        {
          "output_type": "stream",
          "name": "stdout",
          "text": [
            "current in vlaidaiton\n",
            "train loss 0.523, train accuracy 0.795, val loss 1.021, val accuracy 0.593, precision 0.628, recall 0.593, F1 0.603\n",
            "At epoch 18\n"
          ]
        },
        {
          "output_type": "stream",
          "name": "stderr",
          "text": [
            "100%|██████████| 983/983 [00:03<00:00, 255.05it/s]\n"
          ]
        },
        {
          "output_type": "stream",
          "name": "stdout",
          "text": [
            "current in vlaidaiton\n",
            "train loss 0.508, train accuracy 0.802, val loss 1.017, val accuracy 0.639, precision 0.615, recall 0.639, F1 0.621\n",
            "At epoch 19\n"
          ]
        },
        {
          "output_type": "stream",
          "name": "stderr",
          "text": [
            "100%|██████████| 983/983 [00:03<00:00, 255.19it/s]\n"
          ]
        },
        {
          "output_type": "stream",
          "name": "stdout",
          "text": [
            "current in vlaidaiton\n",
            "train loss 0.493, train accuracy 0.813, val loss 1.034, val accuracy 0.624, precision 0.622, recall 0.624, F1 0.621\n"
          ]
        }
      ]
    }
  ]
}