{
  "nbformat": 4,
  "nbformat_minor": 0,
  "metadata": {
    "colab": {
      "name": "Glove_LSTM_Clothing.ipynb”",
      "provenance": [],
      "machine_shape": "hm"
    },
    "kernelspec": {
      "name": "python3",
      "display_name": "Python 3"
    },
    "language_info": {
      "name": "python"
    },
    "accelerator": "GPU"
  },
  "cells": [
    {
      "cell_type": "code",
      "execution_count": 1,
      "metadata": {
        "colab": {
          "base_uri": "https://localhost:8080/"
        },
        "id": "rjWPn-GiVGPf",
        "outputId": "b01fe1b2-3648-4b49-db49-632adbb02c7e"
      },
      "outputs": [
        {
          "output_type": "stream",
          "name": "stdout",
          "text": [
            "Mounted at /content/drive\n"
          ]
        }
      ],
      "source": [
        "from google.colab import drive\n",
        "drive.mount('/content/drive')"
      ]
    },
    {
      "cell_type": "code",
      "source": [
        "import torch\n",
        "import torch.nn as nn\n",
        "import pandas as pd\n",
        "import numpy as np\n",
        "import logging\n",
        "import gzip\n",
        "import gensim \n",
        "import re\n",
        "import spacy\n",
        "import math\n",
        "from collections import Counter\n",
        "from torch.utils.data import Dataset, DataLoader\n",
        "import torch.nn.functional as F\n",
        "import string\n",
        "from torch.nn.utils.rnn import pack_padded_sequence, pad_packed_sequence, pad_sequence\n",
        "from sklearn.metrics import accuracy_score, f1_score, precision_score, recall_score, classification_report, confusion_matrix\n",
        "from sklearn.metrics import mean_squared_error\n",
        "from sklearn.model_selection import train_test_split\n",
        "from tqdm import tqdm\n"
      ],
      "metadata": {
        "id": "S7SfU_6lViKR"
      },
      "execution_count": 2,
      "outputs": []
    },
    {
      "cell_type": "code",
      "source": [
        "print(torch.cuda.is_available())\n",
        "device = 'cuda:0' if torch.cuda.is_available() else 'cpu'\n",
        "device"
      ],
      "metadata": {
        "colab": {
          "base_uri": "https://localhost:8080/",
          "height": 53
        },
        "id": "rItWBp7RJEQq",
        "outputId": "b4b9a752-6569-4496-ca19-164c8e673252"
      },
      "execution_count": 3,
      "outputs": [
        {
          "output_type": "stream",
          "name": "stdout",
          "text": [
            "True\n"
          ]
        },
        {
          "output_type": "execute_result",
          "data": {
            "application/vnd.google.colaboratory.intrinsic+json": {
              "type": "string"
            },
            "text/plain": [
              "'cuda:0'"
            ]
          },
          "metadata": {},
          "execution_count": 3
        }
      ]
    },
    {
      "cell_type": "markdown",
      "source": [
        "# Preprocessing & Loading data"
      ],
      "metadata": {
        "id": "3KGKdTO5W7AH"
      }
    },
    {
      "cell_type": "markdown",
      "source": [
        "## Preprocess "
      ],
      "metadata": {
        "id": "vNprrOxtXCMj"
      }
    },
    {
      "cell_type": "markdown",
      "source": [
        "### Clothing Review Dataset"
      ],
      "metadata": {
        "id": "OyA2zPsboOln"
      }
    },
    {
      "cell_type": "code",
      "source": [
        "# Load dataset for clothing reviews\n",
        "reviews = pd.read_csv(\"/content/drive/MyDrive/data /Womens Clothing E-Commerce Reviews.csv\")\n",
        "reviews = reviews.dropna()\n",
        "print(reviews.shape)\n",
        "reviews.head()"
      ],
      "metadata": {
        "colab": {
          "base_uri": "https://localhost:8080/",
          "height": 372
        },
        "id": "imlvO0RAVl5k",
        "outputId": "8492200a-6c15-4326-9cd0-1fd33aedcd77"
      },
      "execution_count": 4,
      "outputs": [
        {
          "output_type": "stream",
          "name": "stdout",
          "text": [
            "(19662, 11)\n"
          ]
        },
        {
          "output_type": "execute_result",
          "data": {
            "text/html": [
              "\n",
              "  <div id=\"df-5092bfff-8743-4b23-8726-871803ded96b\">\n",
              "    <div class=\"colab-df-container\">\n",
              "      <div>\n",
              "<style scoped>\n",
              "    .dataframe tbody tr th:only-of-type {\n",
              "        vertical-align: middle;\n",
              "    }\n",
              "\n",
              "    .dataframe tbody tr th {\n",
              "        vertical-align: top;\n",
              "    }\n",
              "\n",
              "    .dataframe thead th {\n",
              "        text-align: right;\n",
              "    }\n",
              "</style>\n",
              "<table border=\"1\" class=\"dataframe\">\n",
              "  <thead>\n",
              "    <tr style=\"text-align: right;\">\n",
              "      <th></th>\n",
              "      <th>Unnamed: 0</th>\n",
              "      <th>Clothing ID</th>\n",
              "      <th>Age</th>\n",
              "      <th>Title</th>\n",
              "      <th>Review Text</th>\n",
              "      <th>Rating</th>\n",
              "      <th>Recommended IND</th>\n",
              "      <th>Positive Feedback Count</th>\n",
              "      <th>Division Name</th>\n",
              "      <th>Department Name</th>\n",
              "      <th>Class Name</th>\n",
              "    </tr>\n",
              "  </thead>\n",
              "  <tbody>\n",
              "    <tr>\n",
              "      <th>2</th>\n",
              "      <td>2</td>\n",
              "      <td>1077</td>\n",
              "      <td>60</td>\n",
              "      <td>Some major design flaws</td>\n",
              "      <td>I had such high hopes for this dress and reall...</td>\n",
              "      <td>3</td>\n",
              "      <td>0</td>\n",
              "      <td>0</td>\n",
              "      <td>General</td>\n",
              "      <td>Dresses</td>\n",
              "      <td>Dresses</td>\n",
              "    </tr>\n",
              "    <tr>\n",
              "      <th>3</th>\n",
              "      <td>3</td>\n",
              "      <td>1049</td>\n",
              "      <td>50</td>\n",
              "      <td>My favorite buy!</td>\n",
              "      <td>I love, love, love this jumpsuit. it's fun, fl...</td>\n",
              "      <td>5</td>\n",
              "      <td>1</td>\n",
              "      <td>0</td>\n",
              "      <td>General Petite</td>\n",
              "      <td>Bottoms</td>\n",
              "      <td>Pants</td>\n",
              "    </tr>\n",
              "    <tr>\n",
              "      <th>4</th>\n",
              "      <td>4</td>\n",
              "      <td>847</td>\n",
              "      <td>47</td>\n",
              "      <td>Flattering shirt</td>\n",
              "      <td>This shirt is very flattering to all due to th...</td>\n",
              "      <td>5</td>\n",
              "      <td>1</td>\n",
              "      <td>6</td>\n",
              "      <td>General</td>\n",
              "      <td>Tops</td>\n",
              "      <td>Blouses</td>\n",
              "    </tr>\n",
              "    <tr>\n",
              "      <th>5</th>\n",
              "      <td>5</td>\n",
              "      <td>1080</td>\n",
              "      <td>49</td>\n",
              "      <td>Not for the very petite</td>\n",
              "      <td>I love tracy reese dresses, but this one is no...</td>\n",
              "      <td>2</td>\n",
              "      <td>0</td>\n",
              "      <td>4</td>\n",
              "      <td>General</td>\n",
              "      <td>Dresses</td>\n",
              "      <td>Dresses</td>\n",
              "    </tr>\n",
              "    <tr>\n",
              "      <th>6</th>\n",
              "      <td>6</td>\n",
              "      <td>858</td>\n",
              "      <td>39</td>\n",
              "      <td>Cagrcoal shimmer fun</td>\n",
              "      <td>I aded this in my basket at hte last mintue to...</td>\n",
              "      <td>5</td>\n",
              "      <td>1</td>\n",
              "      <td>1</td>\n",
              "      <td>General Petite</td>\n",
              "      <td>Tops</td>\n",
              "      <td>Knits</td>\n",
              "    </tr>\n",
              "  </tbody>\n",
              "</table>\n",
              "</div>\n",
              "      <button class=\"colab-df-convert\" onclick=\"convertToInteractive('df-5092bfff-8743-4b23-8726-871803ded96b')\"\n",
              "              title=\"Convert this dataframe to an interactive table.\"\n",
              "              style=\"display:none;\">\n",
              "        \n",
              "  <svg xmlns=\"http://www.w3.org/2000/svg\" height=\"24px\"viewBox=\"0 0 24 24\"\n",
              "       width=\"24px\">\n",
              "    <path d=\"M0 0h24v24H0V0z\" fill=\"none\"/>\n",
              "    <path d=\"M18.56 5.44l.94 2.06.94-2.06 2.06-.94-2.06-.94-.94-2.06-.94 2.06-2.06.94zm-11 1L8.5 8.5l.94-2.06 2.06-.94-2.06-.94L8.5 2.5l-.94 2.06-2.06.94zm10 10l.94 2.06.94-2.06 2.06-.94-2.06-.94-.94-2.06-.94 2.06-2.06.94z\"/><path d=\"M17.41 7.96l-1.37-1.37c-.4-.4-.92-.59-1.43-.59-.52 0-1.04.2-1.43.59L10.3 9.45l-7.72 7.72c-.78.78-.78 2.05 0 2.83L4 21.41c.39.39.9.59 1.41.59.51 0 1.02-.2 1.41-.59l7.78-7.78 2.81-2.81c.8-.78.8-2.07 0-2.86zM5.41 20L4 18.59l7.72-7.72 1.47 1.35L5.41 20z\"/>\n",
              "  </svg>\n",
              "      </button>\n",
              "      \n",
              "  <style>\n",
              "    .colab-df-container {\n",
              "      display:flex;\n",
              "      flex-wrap:wrap;\n",
              "      gap: 12px;\n",
              "    }\n",
              "\n",
              "    .colab-df-convert {\n",
              "      background-color: #E8F0FE;\n",
              "      border: none;\n",
              "      border-radius: 50%;\n",
              "      cursor: pointer;\n",
              "      display: none;\n",
              "      fill: #1967D2;\n",
              "      height: 32px;\n",
              "      padding: 0 0 0 0;\n",
              "      width: 32px;\n",
              "    }\n",
              "\n",
              "    .colab-df-convert:hover {\n",
              "      background-color: #E2EBFA;\n",
              "      box-shadow: 0px 1px 2px rgba(60, 64, 67, 0.3), 0px 1px 3px 1px rgba(60, 64, 67, 0.15);\n",
              "      fill: #174EA6;\n",
              "    }\n",
              "\n",
              "    [theme=dark] .colab-df-convert {\n",
              "      background-color: #3B4455;\n",
              "      fill: #D2E3FC;\n",
              "    }\n",
              "\n",
              "    [theme=dark] .colab-df-convert:hover {\n",
              "      background-color: #434B5C;\n",
              "      box-shadow: 0px 1px 3px 1px rgba(0, 0, 0, 0.15);\n",
              "      filter: drop-shadow(0px 1px 2px rgba(0, 0, 0, 0.3));\n",
              "      fill: #FFFFFF;\n",
              "    }\n",
              "  </style>\n",
              "\n",
              "      <script>\n",
              "        const buttonEl =\n",
              "          document.querySelector('#df-5092bfff-8743-4b23-8726-871803ded96b button.colab-df-convert');\n",
              "        buttonEl.style.display =\n",
              "          google.colab.kernel.accessAllowed ? 'block' : 'none';\n",
              "\n",
              "        async function convertToInteractive(key) {\n",
              "          const element = document.querySelector('#df-5092bfff-8743-4b23-8726-871803ded96b');\n",
              "          const dataTable =\n",
              "            await google.colab.kernel.invokeFunction('convertToInteractive',\n",
              "                                                     [key], {});\n",
              "          if (!dataTable) return;\n",
              "\n",
              "          const docLinkHtml = 'Like what you see? Visit the ' +\n",
              "            '<a target=\"_blank\" href=https://colab.research.google.com/notebooks/data_table.ipynb>data table notebook</a>'\n",
              "            + ' to learn more about interactive tables.';\n",
              "          element.innerHTML = '';\n",
              "          dataTable['output_type'] = 'display_data';\n",
              "          await google.colab.output.renderOutput(dataTable, element);\n",
              "          const docLink = document.createElement('div');\n",
              "          docLink.innerHTML = docLinkHtml;\n",
              "          element.appendChild(docLink);\n",
              "        }\n",
              "      </script>\n",
              "    </div>\n",
              "  </div>\n",
              "  "
            ],
            "text/plain": [
              "   Unnamed: 0  Clothing ID  Age  ...   Division Name Department Name  Class Name\n",
              "2           2         1077   60  ...         General         Dresses     Dresses\n",
              "3           3         1049   50  ...  General Petite         Bottoms       Pants\n",
              "4           4          847   47  ...         General            Tops     Blouses\n",
              "5           5         1080   49  ...         General         Dresses     Dresses\n",
              "6           6          858   39  ...  General Petite            Tops       Knits\n",
              "\n",
              "[5 rows x 11 columns]"
            ]
          },
          "metadata": {},
          "execution_count": 4
        }
      ]
    },
    {
      "cell_type": "code",
      "source": [
        "reviews['Title'] = reviews['Title'].fillna('')\n",
        "reviews['Review Text'] = reviews['Review Text'].fillna('')\n",
        "reviews['review'] = reviews['Title'] + ' ' + reviews['Review Text']"
      ],
      "metadata": {
        "id": "YAwCLy3fWxfM"
      },
      "execution_count": 5,
      "outputs": []
    },
    {
      "cell_type": "code",
      "source": [
        "reviews = reviews[['review', 'Rating']]\n",
        "reviews.columns = ['review', 'rating']\n",
        "reviews.head()"
      ],
      "metadata": {
        "colab": {
          "base_uri": "https://localhost:8080/",
          "height": 206
        },
        "id": "uJOEZcK9W1Xg",
        "outputId": "d623290d-6982-4742-c13d-f7f3e95a2909"
      },
      "execution_count": 6,
      "outputs": [
        {
          "output_type": "execute_result",
          "data": {
            "text/html": [
              "\n",
              "  <div id=\"df-39e4185f-3eaf-47dd-b956-a4a5bb1e06bd\">\n",
              "    <div class=\"colab-df-container\">\n",
              "      <div>\n",
              "<style scoped>\n",
              "    .dataframe tbody tr th:only-of-type {\n",
              "        vertical-align: middle;\n",
              "    }\n",
              "\n",
              "    .dataframe tbody tr th {\n",
              "        vertical-align: top;\n",
              "    }\n",
              "\n",
              "    .dataframe thead th {\n",
              "        text-align: right;\n",
              "    }\n",
              "</style>\n",
              "<table border=\"1\" class=\"dataframe\">\n",
              "  <thead>\n",
              "    <tr style=\"text-align: right;\">\n",
              "      <th></th>\n",
              "      <th>review</th>\n",
              "      <th>rating</th>\n",
              "    </tr>\n",
              "  </thead>\n",
              "  <tbody>\n",
              "    <tr>\n",
              "      <th>2</th>\n",
              "      <td>Some major design flaws I had such high hopes ...</td>\n",
              "      <td>3</td>\n",
              "    </tr>\n",
              "    <tr>\n",
              "      <th>3</th>\n",
              "      <td>My favorite buy! I love, love, love this jumps...</td>\n",
              "      <td>5</td>\n",
              "    </tr>\n",
              "    <tr>\n",
              "      <th>4</th>\n",
              "      <td>Flattering shirt This shirt is very flattering...</td>\n",
              "      <td>5</td>\n",
              "    </tr>\n",
              "    <tr>\n",
              "      <th>5</th>\n",
              "      <td>Not for the very petite I love tracy reese dre...</td>\n",
              "      <td>2</td>\n",
              "    </tr>\n",
              "    <tr>\n",
              "      <th>6</th>\n",
              "      <td>Cagrcoal shimmer fun I aded this in my basket ...</td>\n",
              "      <td>5</td>\n",
              "    </tr>\n",
              "  </tbody>\n",
              "</table>\n",
              "</div>\n",
              "      <button class=\"colab-df-convert\" onclick=\"convertToInteractive('df-39e4185f-3eaf-47dd-b956-a4a5bb1e06bd')\"\n",
              "              title=\"Convert this dataframe to an interactive table.\"\n",
              "              style=\"display:none;\">\n",
              "        \n",
              "  <svg xmlns=\"http://www.w3.org/2000/svg\" height=\"24px\"viewBox=\"0 0 24 24\"\n",
              "       width=\"24px\">\n",
              "    <path d=\"M0 0h24v24H0V0z\" fill=\"none\"/>\n",
              "    <path d=\"M18.56 5.44l.94 2.06.94-2.06 2.06-.94-2.06-.94-.94-2.06-.94 2.06-2.06.94zm-11 1L8.5 8.5l.94-2.06 2.06-.94-2.06-.94L8.5 2.5l-.94 2.06-2.06.94zm10 10l.94 2.06.94-2.06 2.06-.94-2.06-.94-.94-2.06-.94 2.06-2.06.94z\"/><path d=\"M17.41 7.96l-1.37-1.37c-.4-.4-.92-.59-1.43-.59-.52 0-1.04.2-1.43.59L10.3 9.45l-7.72 7.72c-.78.78-.78 2.05 0 2.83L4 21.41c.39.39.9.59 1.41.59.51 0 1.02-.2 1.41-.59l7.78-7.78 2.81-2.81c.8-.78.8-2.07 0-2.86zM5.41 20L4 18.59l7.72-7.72 1.47 1.35L5.41 20z\"/>\n",
              "  </svg>\n",
              "      </button>\n",
              "      \n",
              "  <style>\n",
              "    .colab-df-container {\n",
              "      display:flex;\n",
              "      flex-wrap:wrap;\n",
              "      gap: 12px;\n",
              "    }\n",
              "\n",
              "    .colab-df-convert {\n",
              "      background-color: #E8F0FE;\n",
              "      border: none;\n",
              "      border-radius: 50%;\n",
              "      cursor: pointer;\n",
              "      display: none;\n",
              "      fill: #1967D2;\n",
              "      height: 32px;\n",
              "      padding: 0 0 0 0;\n",
              "      width: 32px;\n",
              "    }\n",
              "\n",
              "    .colab-df-convert:hover {\n",
              "      background-color: #E2EBFA;\n",
              "      box-shadow: 0px 1px 2px rgba(60, 64, 67, 0.3), 0px 1px 3px 1px rgba(60, 64, 67, 0.15);\n",
              "      fill: #174EA6;\n",
              "    }\n",
              "\n",
              "    [theme=dark] .colab-df-convert {\n",
              "      background-color: #3B4455;\n",
              "      fill: #D2E3FC;\n",
              "    }\n",
              "\n",
              "    [theme=dark] .colab-df-convert:hover {\n",
              "      background-color: #434B5C;\n",
              "      box-shadow: 0px 1px 3px 1px rgba(0, 0, 0, 0.15);\n",
              "      filter: drop-shadow(0px 1px 2px rgba(0, 0, 0, 0.3));\n",
              "      fill: #FFFFFF;\n",
              "    }\n",
              "  </style>\n",
              "\n",
              "      <script>\n",
              "        const buttonEl =\n",
              "          document.querySelector('#df-39e4185f-3eaf-47dd-b956-a4a5bb1e06bd button.colab-df-convert');\n",
              "        buttonEl.style.display =\n",
              "          google.colab.kernel.accessAllowed ? 'block' : 'none';\n",
              "\n",
              "        async function convertToInteractive(key) {\n",
              "          const element = document.querySelector('#df-39e4185f-3eaf-47dd-b956-a4a5bb1e06bd');\n",
              "          const dataTable =\n",
              "            await google.colab.kernel.invokeFunction('convertToInteractive',\n",
              "                                                     [key], {});\n",
              "          if (!dataTable) return;\n",
              "\n",
              "          const docLinkHtml = 'Like what you see? Visit the ' +\n",
              "            '<a target=\"_blank\" href=https://colab.research.google.com/notebooks/data_table.ipynb>data table notebook</a>'\n",
              "            + ' to learn more about interactive tables.';\n",
              "          element.innerHTML = '';\n",
              "          dataTable['output_type'] = 'display_data';\n",
              "          await google.colab.output.renderOutput(dataTable, element);\n",
              "          const docLink = document.createElement('div');\n",
              "          docLink.innerHTML = docLinkHtml;\n",
              "          element.appendChild(docLink);\n",
              "        }\n",
              "      </script>\n",
              "    </div>\n",
              "  </div>\n",
              "  "
            ],
            "text/plain": [
              "                                              review  rating\n",
              "2  Some major design flaws I had such high hopes ...       3\n",
              "3  My favorite buy! I love, love, love this jumps...       5\n",
              "4  Flattering shirt This shirt is very flattering...       5\n",
              "5  Not for the very petite I love tracy reese dre...       2\n",
              "6  Cagrcoal shimmer fun I aded this in my basket ...       5"
            ]
          },
          "metadata": {},
          "execution_count": 6
        }
      ]
    },
    {
      "cell_type": "markdown",
      "source": [
        "#### Tokenize each sentence"
      ],
      "metadata": {
        "id": "nln320q7XrNd"
      }
    },
    {
      "cell_type": "code",
      "source": [
        "#take advantage of nltk to tokenize all sentences\n",
        "import nltk\n",
        "from nltk.corpus import stopwords\n",
        "from nltk.tokenize import word_tokenize\n",
        "nltk.download('stopwords')\n",
        "en_stop_words = set(stopwords.words('english'))\n",
        "tokenizer = nltk.RegexpTokenizer(r'\\w+|\\$[\\d\\.]+')\n",
        "\n",
        "def tokenize_sent(sent):\n",
        "    \n",
        "    tokenized = tokenizer.tokenize(sent)\n",
        "    filtered = [w.lower() for w in tokenized if w.lower() not in en_stop_words]\n",
        "    return filtered\n",
        "\n",
        "reviews['tokenized'] = reviews['review'].apply(lambda x: tokenize_sent(x))"
      ],
      "metadata": {
        "colab": {
          "base_uri": "https://localhost:8080/"
        },
        "id": "PY9XLpc1Lbda",
        "outputId": "36b452a7-7a48-44fa-b4a8-8396231005a9"
      },
      "execution_count": 7,
      "outputs": [
        {
          "output_type": "stream",
          "name": "stdout",
          "text": [
            "[nltk_data] Downloading package stopwords to /root/nltk_data...\n",
            "[nltk_data]   Unzipping corpora/stopwords.zip.\n"
          ]
        }
      ]
    },
    {
      "cell_type": "code",
      "source": [
        "# Sanity cehck for tokenizers\n",
        "print(reviews.head(3))"
      ],
      "metadata": {
        "colab": {
          "base_uri": "https://localhost:8080/"
        },
        "id": "OQnOPLzaM-IQ",
        "outputId": "2e498a9b-875f-40cd-f080-58007b9e31ee"
      },
      "execution_count": 8,
      "outputs": [
        {
          "output_type": "stream",
          "name": "stdout",
          "text": [
            "                                              review  ...                                          tokenized\n",
            "2  Some major design flaws I had such high hopes ...  ...  [major, design, flaws, high, hopes, dress, rea...\n",
            "3  My favorite buy! I love, love, love this jumps...  ...  [favorite, buy, love, love, love, jumpsuit, fu...\n",
            "4  Flattering shirt This shirt is very flattering...  ...  [flattering, shirt, shirt, flattering, due, ad...\n",
            "\n",
            "[3 rows x 3 columns]\n"
          ]
        }
      ]
    },
    {
      "cell_type": "markdown",
      "source": [
        "#### Encode and truncate sentence"
      ],
      "metadata": {
        "id": "jJlI6cYBYXbw"
      }
    },
    {
      "cell_type": "code",
      "source": [
        "# get unique words in the corpus\n",
        "all_words = []\n",
        "for x in reviews['tokenized']:\n",
        "    all_words.extend(x)\n",
        "\n",
        "word_set = list(set(all_words))\n",
        "word_count = Counter(all_words)\n",
        "\n",
        "# filter out words with low frequency\n",
        "for word_list in reviews.tokenized:\n",
        "    new_list = []\n",
        "    for word in word_list:\n",
        "        if word_count[word] > 2:\n",
        "            new_list.append(word)\n",
        "    word_list = new_list\n",
        "\n",
        "# update set of words after removing the ones with low frequency\n",
        "new_word_list = []\n",
        "for x in reviews['tokenized']:\n",
        "    new_word_list.extend(x)\n",
        "word_set = list(set(new_word_list))\n",
        "\n",
        "# map each unique words & unknown token in reviews.encoded to an index\n",
        "word2index = {}\n",
        "word2index['<UNK>'] = 0\n",
        "word2index['<PAD>'] = 1\n",
        "\n",
        "for i, word in enumerate(word_set, 2):\n",
        "    word2index[word] = i\n",
        "\n",
        "# encode the original sequence\n",
        "def encode(sent_list):\n",
        "    result = []\n",
        "    for x in sent_list:\n",
        "        index = word2index[x]\n",
        "        result.append(index)\n",
        "    return result\n",
        "\n",
        "reviews['encoded'] = reviews.tokenized.apply(lambda x: encode(x))\n",
        "\n",
        "print(reviews.head())\n",
        "\n",
        "# get sequence average length\n",
        "total_len = 0\n",
        "for x in reviews.encoded:\n",
        "    total_len += len(x)\n",
        "\n",
        "ave_len = math.floor(total_len/reviews.shape[0])\n",
        "\n",
        "# filter out long sequences --> encode all sequence to length = ave_len\n",
        "# pad short sequence\n",
        "\n",
        "for i, row in reviews.iterrows():\n",
        "    size = min(len(row.encoded), ave_len)\n",
        "    new_encoded = row.encoded[:size]\n",
        "    if size < ave_len:\n",
        "        for j in range(0, ave_len - len(row.encoded)):\n",
        "            new_encoded.append(1)\n",
        "    reviews.at[i, 'encoded'] = new_encoded\n",
        "\n",
        "reviews['review_length'] = reviews.encoded.apply(lambda x: len(x))"
      ],
      "metadata": {
        "id": "-sT1ynqj_7Fo",
        "colab": {
          "base_uri": "https://localhost:8080/"
        },
        "outputId": "407e8ff2-d3a9-4647-d19c-d9d0774f4bfa"
      },
      "execution_count": 9,
      "outputs": [
        {
          "output_type": "stream",
          "name": "stdout",
          "text": [
            "                                              review  ...                                            encoded\n",
            "2  Some major design flaws I had such high hopes ...  ...  [1136, 5844, 8918, 8301, 11010, 2575, 7912, 10...\n",
            "3  My favorite buy! I love, love, love this jumps...  ...  [958, 4960, 6105, 6105, 6105, 347, 714, 10086,...\n",
            "4  Flattering shirt This shirt is very flattering...  ...  [13250, 9258, 9258, 13250, 2779, 9067, 4520, 5...\n",
            "5  Not for the very petite I love tracy reese dre...  ...  [4970, 6105, 3780, 2507, 2352, 10476, 4970, 38...\n",
            "6  Cagrcoal shimmer fun I aded this in my basket ...  ...  [2618, 4320, 714, 7950, 3389, 9512, 446, 1843,...\n",
            "\n",
            "[5 rows x 4 columns]\n"
          ]
        }
      ]
    },
    {
      "cell_type": "code",
      "source": [
        "# sanity check for encoding:\n",
        "print(len(all_words))\n",
        "print(ave_len)\n",
        "lengths = [len(x) for x in reviews.encoded]\n",
        "print(max(lengths))\n",
        "print(min(lengths))\n",
        "print(set(reviews.rating))\n",
        "review_length = reviews.review_length\n",
        "reviews.head()\n",
        "print(len(word_set))"
      ],
      "metadata": {
        "colab": {
          "base_uri": "https://localhost:8080/"
        },
        "id": "5lNy_oCSFrqf",
        "outputId": "476abd54-0232-4976-f1ff-3e48fbbe1dde"
      },
      "execution_count": 10,
      "outputs": [
        {
          "output_type": "stream",
          "name": "stdout",
          "text": [
            "639434\n",
            "32\n",
            "32\n",
            "32\n",
            "{1, 2, 3, 4, 5}\n",
            "14088\n"
          ]
        }
      ]
    },
    {
      "cell_type": "code",
      "source": [
        "# Train test split from skearln\n",
        "data_size = len(reviews['encoded'])\n",
        "assert data_size == len(reviews['rating']) \n",
        "X, y = list(zip(list(reviews['encoded']),(list(reviews['review_length'])))), list(reviews['rating'])\n",
        "# X(data, length)\n",
        "X_train, X_test, y_train, y_test = train_test_split(X, y, test_size=0.2, random_state=43)"
      ],
      "metadata": {
        "id": "glkjNVF-N_0r"
      },
      "execution_count": 11,
      "outputs": []
    },
    {
      "cell_type": "code",
      "source": [
        "# Sanity check for length match\n",
        "print(X_train[0])"
      ],
      "metadata": {
        "colab": {
          "base_uri": "https://localhost:8080/"
        },
        "id": "AlveD7X5cPYp",
        "outputId": "97392cd6-9f0b-4f75-f188-97e4be8dfcb3"
      },
      "execution_count": 12,
      "outputs": [
        {
          "output_type": "stream",
          "name": "stdout",
          "text": [
            "([6147, 7719, 1699, 10109, 14086, 7719, 2978, 4521, 4960, 9273, 6147, 10109, 8826, 3293, 700, 6105, 3826, 5771, 7789, 6117, 13628, 9273, 14088, 3618, 10109, 8826, 3205, 13405, 13773, 14088, 10886, 8826], 32)\n"
          ]
        }
      ]
    },
    {
      "cell_type": "markdown",
      "source": [
        "## Dataset and Dataloader"
      ],
      "metadata": {
        "id": "53k_akR7YiAl"
      }
    },
    {
      "cell_type": "markdown",
      "source": [
        "### Clothing Review Dataset"
      ],
      "metadata": {
        "id": "5jGEsKl8obJ9"
      }
    },
    {
      "cell_type": "code",
      "source": [
        "class Dataset_Glove(Dataset):\n",
        "    def __init__(self, X, y): \n",
        "        self.X = X\n",
        "        y_new = [i-1 for i in y]\n",
        "        self.y = y_new\n",
        "\n",
        "    def __len__(self):\n",
        "        return len(self.X)\n",
        "\n",
        "    def __getitem__(self, idx):\n",
        "        return  self.X[idx], self.y[idx]"
      ],
      "metadata": {
        "id": "nmCLiMzCY-o3"
      },
      "execution_count": 13,
      "outputs": []
    },
    {
      "cell_type": "code",
      "source": [
        "trainSet_glv = Dataset_Glove(X_train, y_train)\n",
        "testSet_glv = Dataset_Glove(X_test, y_test)"
      ],
      "metadata": {
        "id": "yf03irQDieWM"
      },
      "execution_count": 14,
      "outputs": []
    },
    {
      "cell_type": "code",
      "source": [
        "print(trainSet_glv[0])"
      ],
      "metadata": {
        "colab": {
          "base_uri": "https://localhost:8080/"
        },
        "id": "zCt282rkny8w",
        "outputId": "cf20db18-322a-47ff-caef-4571efe02aaa"
      },
      "execution_count": 15,
      "outputs": [
        {
          "output_type": "stream",
          "name": "stdout",
          "text": [
            "(([6147, 7719, 1699, 10109, 14086, 7719, 2978, 4521, 4960, 9273, 6147, 10109, 8826, 3293, 700, 6105, 3826, 5771, 7789, 6117, 13628, 9273, 14088, 3618, 10109, 8826, 3205, 13405, 13773, 14088, 10886, 8826], 32), 4)\n"
          ]
        }
      ]
    },
    {
      "cell_type": "code",
      "source": [
        "def myCollate(batch):\n",
        "    data = [item[0] for item in batch]\n",
        "    label = [item[1] for item in batch]\n",
        "    # sort sequence according to it's length in a batch\n",
        "    data = data\n",
        "    # data.sort(key=lambda x: x[1], reverse = True)\n",
        "\n",
        "    # data (review: list, length: int)\n",
        "    review = torch.tensor([x[0] for x in data], dtype = torch.long)\n",
        "    label = torch.tensor(label, dtype = torch.long)\n",
        "    seq_len = [x[1] for x in data]\n",
        "    return review, label, seq_len"
      ],
      "metadata": {
        "id": "5UJ2oiTW8mYz"
      },
      "execution_count": 16,
      "outputs": []
    },
    {
      "cell_type": "code",
      "source": [
        "trainSet_glv = Dataset_Glove(X_train, y_train)\n",
        "testSet_glv = Dataset_Glove(X_test, y_test)"
      ],
      "metadata": {
        "id": "gioWFxg7AWYZ"
      },
      "execution_count": 17,
      "outputs": []
    },
    {
      "cell_type": "code",
      "source": [
        "trainLoader_glv = DataLoader(dataset = trainSet_glv, batch_size = 16, collate_fn = myCollate, shuffle = True, drop_last = True)\n",
        "testLoader_glv = DataLoader(dataset = testSet_glv, batch_size = 16, collate_fn = myCollate, shuffle = True, drop_last = True)\n",
        "it = iter(trainLoader_glv)\n",
        "x, y, seq_len = it.next()"
      ],
      "metadata": {
        "id": "nf1dmuSrfpWT"
      },
      "execution_count": 18,
      "outputs": []
    },
    {
      "cell_type": "code",
      "source": [
        "x.data"
      ],
      "metadata": {
        "id": "vxupL_Js1usD",
        "colab": {
          "base_uri": "https://localhost:8080/"
        },
        "outputId": "0ce560bd-fd8c-41c1-da5e-c880c813dfe0"
      },
      "execution_count": 19,
      "outputs": [
        {
          "output_type": "execute_result",
          "data": {
            "text/plain": [
              "tensor([[ 9520,  4314, 13835,  5892,   994,  7435, 13249,  8219,  6105,  1766,\n",
              "          7451,  4976, 12670,  9451, 10255,  8177,  8074,  7831,  6823, 10313,\n",
              "          6823,   994, 10122, 10303,  5781,  3037, 10320, 10425,  3444,   994,\n",
              "            89,  9935],\n",
              "        [ 2575, 11814, 12768,  8177, 11683,  8405,  4970,  7809,  8426,  3826,\n",
              "          8117,  3781,  6248,  5072,  4390, 12643, 11829,  4601, 10313, 12268,\n",
              "          8405, 11331, 12268,    89,  8826, 11709, 12268, 10255, 12801, 11707,\n",
              "         11683,  8405],\n",
              "        [13773,  7727, 13824,  2575, 14080,  4160,  6026,  9295, 13250,  7384,\n",
              "          2226, 13782,  9447,  2943,  1416,  2392, 13666,  2302,  2232,  3974,\n",
              "          3033, 14084,  3647,  3826,  4572,  5838,  4860,  8119,  2672,  9400,\n",
              "             1,     1],\n",
              "        [ 9295, 14080, 10052, 11831, 10382,  8119, 10281,  4765, 12718,  6105,\n",
              "          4227,  8177, 13250, 13824, 14080, 10052,  4442,  8962, 11703,  2129,\n",
              "         10447,  2352, 13996,     1,     1,     1,     1,     1,     1,     1,\n",
              "             1,     1],\n",
              "        [11898,  2957,  2218,  9273,  2907,  8177, 13801, 14088, 13782,  3543,\n",
              "          3826,  2308,  8766, 10545,  9893, 11898,  2232,  1202,  9710,  3543,\n",
              "            18,  3876,  2961, 10229,  9710,  2083,     1,     1,     1,     1,\n",
              "             1,     1],\n",
              "        [  297,  7912, 13062,  2970,   846,  5742, 11003,  5676, 10281,  3974,\n",
              "          1558, 12718,  4614,   721, 11884,  3826,   715, 12778,  7114, 11829,\n",
              "          5078,   297,  9170,  8098,  4227,  1699,  6825,   239,  6248, 10317,\n",
              "          7709,  4520],\n",
              "        [ 8861,   958,  9292, 12140,  2291, 13782, 10641,  2036,  9292,  8177,\n",
              "          1609, 13782,   765,  9983,  8301, 13782,  2226,  3484,  5804,  9660,\n",
              "          3863, 10590,  7727, 10257,  3740, 12888,  1194, 12152, 13729, 11478,\n",
              "         11683,  8191],\n",
              "        [ 3869,  6087,  5566,  9780,  8512,   700,  4614,  7347, 13996,  3381,\n",
              "          3869,     5,   347,  7484,  3332, 12675,  3180, 10102,  6246,  8512,\n",
              "          3826,  7994,  8830,  4970, 11683,  8405,  8177,  3033,  6105,  2143,\n",
              "          1774,  2232],\n",
              "        [ 3869,  3869, 13862, 13895,  8826,  7912,  4063,  4017,    89,  7912,\n",
              "          4063, 13740, 11683,  8405,   715,  3033, 10257, 11854,     1,     1,\n",
              "             1,     1,     1,     1,     1,     1,     1,     1,     1,     1,\n",
              "             1,     1],\n",
              "        [ 6105,  2970, 11420,  4908, 13307,  2970,  6747,    29, 13740,    29,\n",
              "           101,   412,  2961,   239,    29, 11683, 10206,  3543,  2961,    29,\n",
              "          4227,  1655,  1224,  4227,  3597,   412,  7437,  4961,  7780,  4961,\n",
              "          1202,  7515],\n",
              "        [10395,  6105,  7812,  3863,  5781,  4601,  1530,  8512,  4573,  3144,\n",
              "          2575, 10476,  4302, 10476,  9489,  8283,  7206,  2961,  6105, 13438,\n",
              "          2970,  4570,  5742, 11401,   421,  2575,  8177,  3033,  1686,  3015,\n",
              "          2899, 14056],\n",
              "        [  265,   994,  3351, 10359, 13773, 13628,  1155, 11898,  8098,  1774,\n",
              "         13161,  5476,   804, 10287,  1558, 13773, 10987, 12718, 11898,  1774,\n",
              "          8037, 10408, 10811,   994,  4390,   765,  2672,  9400,  3919,  4429,\n",
              "          2749,  9170],\n",
              "        [ 3869, 10215, 13773,  4961,  2232, 12587,  6105,     1,     1,     1,\n",
              "             1,     1,     1,     1,     1,     1,     1,     1,     1,     1,\n",
              "             1,     1,     1,     1,     1,     1,     1,     1,     1,     1,\n",
              "             1,     1],\n",
              "        [14080,  9819, 10865,  7727,  2575, 13524,  1119,  6539,  8177,  3033,\n",
              "          8098,  9429,  4227,  5742,   994, 14080,  5437,  8177,  9514,  3647,\n",
              "          7849, 11831,  7913, 11709,    89, 13773,     1,     1,     1,     1,\n",
              "             1,     1],\n",
              "        [ 2954,  8512,  2232,   871,  3648, 10313,  2586,  8512, 10476,  2888,\n",
              "          2036, 12892, 13895, 10476,  2232,  6303, 13773,  8117, 13061, 11492,\n",
              "          3826,  7994,  5935,  5918,  8826,  3203,  3597, 12667,   320, 10541,\n",
              "             1,     1],\n",
              "        [ 4837,  1033, 13153,  3402,  6105, 10590,  6793, 10476, 10546,  3543,\n",
              "           293,  6602,  2586, 12444, 10313, 13153,  4765,  6731,  1033, 12878,\n",
              "          8177,   390,   276, 10313, 10476, 11683,  1033, 13153, 12212,   346,\n",
              "          7314,  7415]])"
            ]
          },
          "metadata": {},
          "execution_count": 19
        }
      ]
    },
    {
      "cell_type": "code",
      "source": [
        "y"
      ],
      "metadata": {
        "id": "iPW8bqg1th7a",
        "colab": {
          "base_uri": "https://localhost:8080/"
        },
        "outputId": "b21875a6-da48-4709-bb86-d47d34c852c9"
      },
      "execution_count": 20,
      "outputs": [
        {
          "output_type": "execute_result",
          "data": {
            "text/plain": [
              "tensor([3, 4, 4, 4, 2, 2, 4, 4, 4, 4, 1, 4, 4, 3, 0, 4])"
            ]
          },
          "metadata": {},
          "execution_count": 20
        }
      ]
    },
    {
      "cell_type": "code",
      "source": [
        "seq_len"
      ],
      "metadata": {
        "id": "o9PING33tjoJ",
        "colab": {
          "base_uri": "https://localhost:8080/"
        },
        "outputId": "9eba685f-8d03-44da-ff3a-9cdee4e0fea9"
      },
      "execution_count": 21,
      "outputs": [
        {
          "output_type": "execute_result",
          "data": {
            "text/plain": [
              "[32, 32, 32, 32, 32, 32, 32, 32, 32, 32, 32, 32, 32, 32, 32, 32]"
            ]
          },
          "metadata": {},
          "execution_count": 21
        }
      ]
    },
    {
      "cell_type": "markdown",
      "source": [
        "## Embedding"
      ],
      "metadata": {
        "id": "dkOEB6jDYT2J"
      }
    },
    {
      "cell_type": "code",
      "source": [
        "def load_glove_vectors(glove_file=\"/content/drive/MyDrive/data /glove.6B.300d.txt\"):\n",
        "    \"\"\"Load the glove word vectors\"\"\"\n",
        "    word_vectors = {}\n",
        "    with open(glove_file) as f:\n",
        "        for line in f:\n",
        "            split = line.split()\n",
        "            word_vectors[split[0]] = np.array([float(x) for x in split[1:]])\n",
        "    return word_vectors\n"
      ],
      "metadata": {
        "id": "kMAextiWYdVH"
      },
      "execution_count": 22,
      "outputs": []
    },
    {
      "cell_type": "code",
      "source": [
        "# create embedding matrix\n",
        "def emb_matrix(model, all_words, word2index):\n",
        "    matrix_size = len(word_set) + 2\n",
        "    emb_matrix = np.zeros((matrix_size, 300))\n",
        "    emb_matrix[0] = np.random.uniform(-0.25, 0.25, 300) # vector for UNK\n",
        "    emb_matrix[1] = np.zeros(300) # vector for padding, has no weight\n",
        "\n",
        "    # vector for every other word in the dictionary\n",
        "    for i in range(2, len(all_words)+2):\n",
        "        word = all_words[i-2]\n",
        "        index = word2index[word]\n",
        "        try:\n",
        "            vector = model[word]\n",
        "        except Exception as e:\n",
        "            # word does not exist in the pretrained embedding\n",
        "            vector = emb_matrix[0]\n",
        "        emb_matrix[index] = vector\n",
        "    return emb_matrix"
      ],
      "metadata": {
        "id": "QRqGHAIJAgAx"
      },
      "execution_count": 23,
      "outputs": []
    },
    {
      "cell_type": "code",
      "source": [
        "glv = load_glove_vectors()\n",
        "data = list(glv.values())\n",
        "an_array=np.array(data)"
      ],
      "metadata": {
        "id": "PDwKI15AwK2Q"
      },
      "execution_count": 24,
      "outputs": []
    },
    {
      "cell_type": "code",
      "source": [
        "embedding = emb_matrix(glv, word_set, word2index)"
      ],
      "metadata": {
        "id": "rKqasNfKXMQU"
      },
      "execution_count": 25,
      "outputs": []
    },
    {
      "cell_type": "code",
      "source": [
        "print(embedding.shape)"
      ],
      "metadata": {
        "id": "y1XRr66CXd76",
        "colab": {
          "base_uri": "https://localhost:8080/"
        },
        "outputId": "48e1fff8-9683-4235-d5e7-460047f9e2d4"
      },
      "execution_count": 26,
      "outputs": [
        {
          "output_type": "stream",
          "name": "stdout",
          "text": [
            "(14090, 300)\n"
          ]
        }
      ]
    },
    {
      "cell_type": "code",
      "source": [
        "print(embedding)"
      ],
      "metadata": {
        "id": "Axpw0w9DyznK",
        "colab": {
          "base_uri": "https://localhost:8080/"
        },
        "outputId": "eb1baf34-d038-448b-db31-a5c7f94d634f"
      },
      "execution_count": 27,
      "outputs": [
        {
          "output_type": "stream",
          "name": "stdout",
          "text": [
            "[[ 0.15430956  0.08365842 -0.10828335 ...  0.05460924  0.19107885\n",
            "   0.14338955]\n",
            " [ 0.          0.          0.         ...  0.          0.\n",
            "   0.        ]\n",
            " [ 0.35896    -0.63622    -0.24773    ...  0.43317     0.3965\n",
            "   0.13253   ]\n",
            " ...\n",
            " [ 0.10107     0.57044    -0.12155    ...  0.41924     0.1839\n",
            "   0.095753  ]\n",
            " [-0.25641    -0.27075    -0.01199    ... -0.34087    -0.3813\n",
            "   0.13515   ]\n",
            " [ 0.27571    -0.47332    -0.30355    ...  0.44401     0.18273\n",
            "   0.3576    ]]\n"
          ]
        }
      ]
    },
    {
      "cell_type": "code",
      "source": [
        "def validation_metrics(model, valid_dl):\n",
        "    print(\"current in vlaidaiton\")\n",
        "    model.eval()\n",
        "    correct = 0\n",
        "    total = 0\n",
        "    sum_loss = 0.0\n",
        "    sum_rmse = 0.0\n",
        "    criterion = nn.CrossEntropyLoss()\n",
        "    model = model.to(device)\n",
        "    y_total = []\n",
        "    y_pred_total = []\n",
        "    for x, y, seq_len in valid_dl:\n",
        "        x = x.long().to(device)\n",
        "        y = y.long().to(device)\n",
        "        y_hat = model(x, seq_len)\n",
        "        loss = criterion(y_hat, y)\n",
        "        \n",
        "        # print(f\"shape of y: {y.shape}\")\n",
        "        # print(f\"shape of y_pred: {y_hat.shape}\")\n",
        "        # print(y_hat)\n",
        "        pred = torch.argmax(y_hat, 1)\n",
        "        y_total.extend(y.tolist())\n",
        "        y_pred_total.extend(pred.tolist())\n",
        "        \n",
        "        # print(pred)\n",
        "        correct += sum((pred == y))\n",
        "        total += y.shape[0]\n",
        "        sum_loss += loss.item()*y.shape[0]\n",
        "        # print(len(y_total))\n",
        "        # print(len(y_pred_total))\n",
        "\n",
        "      # calculate precision, recall, and f1\n",
        "    f1 = (f1_score(y_total, y_pred_total, average='weighted'))\n",
        "    precision = (precision_score(y_total, y_pred_total, average='weighted'))\n",
        "    recall =(recall_score(y_total, y_pred_total, average='weighted'))\n",
        "    return sum_loss/total, correct/total, precision, recall, f1"
      ],
      "metadata": {
        "id": "I40nbCLXlJt9"
      },
      "execution_count": 28,
      "outputs": []
    },
    {
      "cell_type": "code",
      "source": [
        "def train_model(model, fname, epochs = 50, lr = 0.0001):\n",
        "    parameters = filter(lambda p:p.requires_grad, model.parameters())\n",
        "    optimizer = torch.optim.Adam(parameters, lr = lr)\n",
        "    criterion = nn.CrossEntropyLoss()\n",
        "    model = model.to(device)\n",
        "    PATH = '/content/drive/MyDrive/McGill/Comp 550/' + fname\n",
        "    epoch = 0\n",
        "    best_val_acc = 0.0\n",
        "    for i in range(epochs):\n",
        "        epoch += 1\n",
        "        print(f\"At epoch {i}\")\n",
        "        batch_count = 0\n",
        "        model.train()\n",
        "        sum_loss = 0.0\n",
        "        total = 0.0\n",
        "        train_correct = 0.0\n",
        "        for x, y, seq_len in tqdm(trainLoader_glv):\n",
        "            x = x.long().to(device)\n",
        "            y = y.long().to(device)\n",
        "            batch_count += 1\n",
        "            optimizer.zero_grad()\n",
        "            y_pred = model(x, seq_len)\n",
        "            pred = torch.argmax(y_pred, 1)\n",
        "            train_correct += sum((pred == y))\n",
        "            loss = criterion(y_pred, y)\n",
        "            loss.backward()\n",
        "            optimizer.step()\n",
        "            sum_loss += loss.item()*y.shape[0]\n",
        "            total += y.shape[0]\n",
        "        val_loss, val_acc, precision, recall, f1 = validation_metrics(model, testLoader_glv)\n",
        "\n",
        "\n",
        "\n",
        "        print(\"train loss %.3f, train accuracy %.3f, val loss %.3f, val accuracy %.3f, precision %.3f, recall %.3f, F1 %.3f\" \n",
        "              % (sum_loss/total, train_correct/total, val_loss, val_acc, precision, recall, f1))\n",
        "        if val_acc > best_val_acc and i>=2:\n",
        "            best_val_acc = val_acc\n",
        "            NEW_PATH = PATH+f'_{i}_{val_acc}'\n",
        "            #torch.save(model.state_dict(), NEW_PATH)\n",
        "            print(f\"\\t=> Best model saved at {i}th epoch with valication accuracy of {val_acc}\")"
      ],
      "metadata": {
        "id": "YVwWS3rRnOw0"
      },
      "execution_count": 29,
      "outputs": []
    },
    {
      "cell_type": "code",
      "source": [
        "weight = torch.FloatTensor(an_array)\n",
        "glv_embedding = nn.Embedding.from_pretrained(weight)\n",
        "\n",
        "class LSTM_glv(torch.nn.Module):\n",
        "    def __init__(self, emb_matrix, embedding_dim, hidden_dim):\n",
        "        super().__init__()\n",
        "        self.embedding_dim = embedding_dim\n",
        "        self.embeddings = nn.Embedding(emb_matrix.shape[0], embedding_dim, padding_idx = 0)\n",
        "        self.embeddings.weight.data.copy_(torch.from_numpy(emb_matrix))\n",
        "        self.lstm = nn.LSTM(embedding_dim, hidden_dim, batch_first=True)\n",
        "        self.embedding_dim = embedding_dim\n",
        "        self.hidden_dim = hidden_dim\n",
        "        self.linear = nn.Linear(hidden_dim, 5)\n",
        "        self.dropout = nn.Dropout(0.5)\n",
        "\n",
        "    def forward(self, x, seq_len):\n",
        "        x = self.embeddings(x)\n",
        "        # x = nn.utils.rnn.pack_padded_sequence(x, self.embedding_dim, batch_first = True)\n",
        "        x = self.dropout(x)\n",
        "        # x_padded = pack_padded_sequence(x, seq_len, batch_first = True)\n",
        "        output, (h_n, c_n) = self.lstm(x)\n",
        "        # print(h_n[-1].shape)\n",
        "        # output (N, ave_len, num_class)\n",
        "        # reshape to out (N, num_class)\n",
        "        \n",
        "        return self.linear(h_n[-1])"
      ],
      "metadata": {
        "id": "w1y9PO6JW28H"
      },
      "execution_count": 30,
      "outputs": []
    },
    {
      "cell_type": "code",
      "source": [
        "model = LSTM_glv(embedding, 300, 100)\n",
        "train_model(model, fname='glv_lstm', epochs=100)"
      ],
      "metadata": {
        "id": "xShR5nvtlxXV",
        "colab": {
          "base_uri": "https://localhost:8080/"
        },
        "outputId": "eea5dd4c-8aea-4386-d1ad-a30b924dbbad"
      },
      "execution_count": 31,
      "outputs": [
        {
          "output_type": "stream",
          "name": "stdout",
          "text": [
            "At epoch 0\n"
          ]
        },
        {
          "output_type": "stream",
          "name": "stderr",
          "text": [
            "100%|██████████| 983/983 [00:03<00:00, 301.59it/s]\n"
          ]
        },
        {
          "output_type": "stream",
          "name": "stdout",
          "text": [
            "current in vlaidaiton\n"
          ]
        },
        {
          "output_type": "stream",
          "name": "stderr",
          "text": [
            "/usr/local/lib/python3.7/dist-packages/sklearn/metrics/_classification.py:1308: UndefinedMetricWarning: Precision is ill-defined and being set to 0.0 in labels with no predicted samples. Use `zero_division` parameter to control this behavior.\n",
            "  _warn_prf(average, modifier, msg_start, len(result))\n"
          ]
        },
        {
          "output_type": "stream",
          "name": "stdout",
          "text": [
            "train loss 1.195, train accuracy 0.532, val loss 1.078, val accuracy 0.555, precision 0.434, recall 0.555, F1 0.413\n",
            "At epoch 1\n"
          ]
        },
        {
          "output_type": "stream",
          "name": "stderr",
          "text": [
            "100%|██████████| 983/983 [00:03<00:00, 313.71it/s]\n"
          ]
        },
        {
          "output_type": "stream",
          "name": "stdout",
          "text": [
            "current in vlaidaiton\n"
          ]
        },
        {
          "output_type": "stream",
          "name": "stderr",
          "text": [
            "/usr/local/lib/python3.7/dist-packages/sklearn/metrics/_classification.py:1308: UndefinedMetricWarning: Precision is ill-defined and being set to 0.0 in labels with no predicted samples. Use `zero_division` parameter to control this behavior.\n",
            "  _warn_prf(average, modifier, msg_start, len(result))\n"
          ]
        },
        {
          "output_type": "stream",
          "name": "stdout",
          "text": [
            "train loss 1.004, train accuracy 0.584, val loss 0.962, val accuracy 0.604, precision 0.518, recall 0.604, F1 0.505\n",
            "At epoch 2\n"
          ]
        },
        {
          "output_type": "stream",
          "name": "stderr",
          "text": [
            "100%|██████████| 983/983 [00:03<00:00, 312.22it/s]\n"
          ]
        },
        {
          "output_type": "stream",
          "name": "stdout",
          "text": [
            "current in vlaidaiton\n"
          ]
        },
        {
          "output_type": "stream",
          "name": "stderr",
          "text": [
            "/usr/local/lib/python3.7/dist-packages/sklearn/metrics/_classification.py:1308: UndefinedMetricWarning: Precision is ill-defined and being set to 0.0 in labels with no predicted samples. Use `zero_division` parameter to control this behavior.\n",
            "  _warn_prf(average, modifier, msg_start, len(result))\n"
          ]
        },
        {
          "output_type": "stream",
          "name": "stdout",
          "text": [
            "train loss 0.943, train accuracy 0.609, val loss 0.954, val accuracy 0.608, precision 0.492, recall 0.608, F1 0.512\n",
            "\t=> Best model saved at 2th epoch with valication accuracy of 0.608418345451355\n",
            "At epoch 3\n"
          ]
        },
        {
          "output_type": "stream",
          "name": "stderr",
          "text": [
            "100%|██████████| 983/983 [00:03<00:00, 314.06it/s]\n"
          ]
        },
        {
          "output_type": "stream",
          "name": "stdout",
          "text": [
            "current in vlaidaiton\n"
          ]
        },
        {
          "output_type": "stream",
          "name": "stderr",
          "text": [
            "/usr/local/lib/python3.7/dist-packages/sklearn/metrics/_classification.py:1308: UndefinedMetricWarning: Precision is ill-defined and being set to 0.0 in labels with no predicted samples. Use `zero_division` parameter to control this behavior.\n",
            "  _warn_prf(average, modifier, msg_start, len(result))\n"
          ]
        },
        {
          "output_type": "stream",
          "name": "stdout",
          "text": [
            "train loss 0.902, train accuracy 0.621, val loss 0.910, val accuracy 0.627, precision 0.552, recall 0.627, F1 0.551\n",
            "\t=> Best model saved at 3th epoch with valication accuracy of 0.6270408034324646\n",
            "At epoch 4\n"
          ]
        },
        {
          "output_type": "stream",
          "name": "stderr",
          "text": [
            "100%|██████████| 983/983 [00:03<00:00, 312.30it/s]\n"
          ]
        },
        {
          "output_type": "stream",
          "name": "stdout",
          "text": [
            "current in vlaidaiton\n",
            "train loss 0.875, train accuracy 0.628, val loss 0.901, val accuracy 0.637, precision 0.575, recall 0.637, F1 0.579\n",
            "\t=> Best model saved at 4th epoch with valication accuracy of 0.637499988079071\n",
            "At epoch 5\n"
          ]
        },
        {
          "output_type": "stream",
          "name": "stderr",
          "text": [
            "100%|██████████| 983/983 [00:03<00:00, 312.19it/s]\n"
          ]
        },
        {
          "output_type": "stream",
          "name": "stdout",
          "text": [
            "current in vlaidaiton\n",
            "train loss 0.851, train accuracy 0.640, val loss 0.929, val accuracy 0.633, precision 0.561, recall 0.633, F1 0.566\n",
            "At epoch 6\n"
          ]
        },
        {
          "output_type": "stream",
          "name": "stderr",
          "text": [
            "100%|██████████| 983/983 [00:03<00:00, 312.78it/s]\n"
          ]
        },
        {
          "output_type": "stream",
          "name": "stdout",
          "text": [
            "current in vlaidaiton\n",
            "train loss 0.832, train accuracy 0.644, val loss 0.858, val accuracy 0.639, precision 0.601, recall 0.639, F1 0.595\n",
            "\t=> Best model saved at 6th epoch with valication accuracy of 0.639285683631897\n",
            "At epoch 7\n"
          ]
        },
        {
          "output_type": "stream",
          "name": "stderr",
          "text": [
            "100%|██████████| 983/983 [00:03<00:00, 300.11it/s]\n"
          ]
        },
        {
          "output_type": "stream",
          "name": "stdout",
          "text": [
            "current in vlaidaiton\n",
            "train loss 0.817, train accuracy 0.652, val loss 0.897, val accuracy 0.629, precision 0.562, recall 0.629, F1 0.570\n",
            "At epoch 8\n"
          ]
        },
        {
          "output_type": "stream",
          "name": "stderr",
          "text": [
            "100%|██████████| 983/983 [00:03<00:00, 310.10it/s]\n"
          ]
        },
        {
          "output_type": "stream",
          "name": "stdout",
          "text": [
            "current in vlaidaiton\n",
            "train loss 0.804, train accuracy 0.656, val loss 0.868, val accuracy 0.647, precision 0.602, recall 0.647, F1 0.607\n",
            "\t=> Best model saved at 8th epoch with valication accuracy of 0.6466836333274841\n",
            "At epoch 9\n"
          ]
        },
        {
          "output_type": "stream",
          "name": "stderr",
          "text": [
            "100%|██████████| 983/983 [00:03<00:00, 312.87it/s]\n"
          ]
        },
        {
          "output_type": "stream",
          "name": "stdout",
          "text": [
            "current in vlaidaiton\n",
            "train loss 0.788, train accuracy 0.666, val loss 0.866, val accuracy 0.645, precision 0.597, recall 0.645, F1 0.609\n",
            "At epoch 10\n"
          ]
        },
        {
          "output_type": "stream",
          "name": "stderr",
          "text": [
            "100%|██████████| 983/983 [00:03<00:00, 312.38it/s]\n"
          ]
        },
        {
          "output_type": "stream",
          "name": "stdout",
          "text": [
            "current in vlaidaiton\n",
            "train loss 0.771, train accuracy 0.674, val loss 0.906, val accuracy 0.642, precision 0.592, recall 0.642, F1 0.596\n",
            "At epoch 11\n"
          ]
        },
        {
          "output_type": "stream",
          "name": "stderr",
          "text": [
            "100%|██████████| 983/983 [00:03<00:00, 311.31it/s]\n"
          ]
        },
        {
          "output_type": "stream",
          "name": "stdout",
          "text": [
            "current in vlaidaiton\n",
            "train loss 0.760, train accuracy 0.679, val loss 0.900, val accuracy 0.647, precision 0.598, recall 0.647, F1 0.606\n",
            "At epoch 12\n"
          ]
        },
        {
          "output_type": "stream",
          "name": "stderr",
          "text": [
            "100%|██████████| 983/983 [00:03<00:00, 312.15it/s]\n"
          ]
        },
        {
          "output_type": "stream",
          "name": "stdout",
          "text": [
            "current in vlaidaiton\n",
            "train loss 0.749, train accuracy 0.685, val loss 0.854, val accuracy 0.649, precision 0.613, recall 0.649, F1 0.623\n",
            "\t=> Best model saved at 12th epoch with valication accuracy of 0.6489795446395874\n",
            "At epoch 13\n"
          ]
        },
        {
          "output_type": "stream",
          "name": "stderr",
          "text": [
            "100%|██████████| 983/983 [00:03<00:00, 311.93it/s]\n"
          ]
        },
        {
          "output_type": "stream",
          "name": "stdout",
          "text": [
            "current in vlaidaiton\n",
            "train loss 0.740, train accuracy 0.687, val loss 0.843, val accuracy 0.644, precision 0.615, recall 0.644, F1 0.622\n",
            "At epoch 14\n"
          ]
        },
        {
          "output_type": "stream",
          "name": "stderr",
          "text": [
            "100%|██████████| 983/983 [00:03<00:00, 313.02it/s]\n"
          ]
        },
        {
          "output_type": "stream",
          "name": "stdout",
          "text": [
            "current in vlaidaiton\n",
            "train loss 0.728, train accuracy 0.692, val loss 0.878, val accuracy 0.653, precision 0.616, recall 0.653, F1 0.621\n",
            "\t=> Best model saved at 14th epoch with valication accuracy of 0.6530612111091614\n",
            "At epoch 15\n"
          ]
        },
        {
          "output_type": "stream",
          "name": "stderr",
          "text": [
            "100%|██████████| 983/983 [00:03<00:00, 312.51it/s]\n"
          ]
        },
        {
          "output_type": "stream",
          "name": "stdout",
          "text": [
            "current in vlaidaiton\n",
            "train loss 0.717, train accuracy 0.694, val loss 0.867, val accuracy 0.651, precision 0.616, recall 0.651, F1 0.626\n",
            "At epoch 16\n"
          ]
        },
        {
          "output_type": "stream",
          "name": "stderr",
          "text": [
            "100%|██████████| 983/983 [00:03<00:00, 311.23it/s]\n"
          ]
        },
        {
          "output_type": "stream",
          "name": "stdout",
          "text": [
            "current in vlaidaiton\n",
            "train loss 0.707, train accuracy 0.702, val loss 0.882, val accuracy 0.650, precision 0.609, recall 0.650, F1 0.616\n",
            "At epoch 17\n"
          ]
        },
        {
          "output_type": "stream",
          "name": "stderr",
          "text": [
            "100%|██████████| 983/983 [00:03<00:00, 293.38it/s]\n"
          ]
        },
        {
          "output_type": "stream",
          "name": "stdout",
          "text": [
            "current in vlaidaiton\n",
            "train loss 0.698, train accuracy 0.707, val loss 0.890, val accuracy 0.643, precision 0.607, recall 0.643, F1 0.613\n",
            "At epoch 18\n"
          ]
        },
        {
          "output_type": "stream",
          "name": "stderr",
          "text": [
            "100%|██████████| 983/983 [00:03<00:00, 313.74it/s]\n"
          ]
        },
        {
          "output_type": "stream",
          "name": "stdout",
          "text": [
            "current in vlaidaiton\n",
            "train loss 0.689, train accuracy 0.707, val loss 0.884, val accuracy 0.653, precision 0.612, recall 0.653, F1 0.623\n",
            "At epoch 19\n"
          ]
        },
        {
          "output_type": "stream",
          "name": "stderr",
          "text": [
            "100%|██████████| 983/983 [00:03<00:00, 312.95it/s]\n"
          ]
        },
        {
          "output_type": "stream",
          "name": "stdout",
          "text": [
            "current in vlaidaiton\n",
            "train loss 0.676, train accuracy 0.716, val loss 0.889, val accuracy 0.653, precision 0.613, recall 0.653, F1 0.621\n",
            "At epoch 20\n"
          ]
        },
        {
          "output_type": "stream",
          "name": "stderr",
          "text": [
            "100%|██████████| 983/983 [00:03<00:00, 311.43it/s]\n"
          ]
        },
        {
          "output_type": "stream",
          "name": "stdout",
          "text": [
            "current in vlaidaiton\n",
            "train loss 0.669, train accuracy 0.718, val loss 0.890, val accuracy 0.649, precision 0.619, recall 0.649, F1 0.626\n",
            "At epoch 21\n"
          ]
        },
        {
          "output_type": "stream",
          "name": "stderr",
          "text": [
            "100%|██████████| 983/983 [00:03<00:00, 312.35it/s]\n"
          ]
        },
        {
          "output_type": "stream",
          "name": "stdout",
          "text": [
            "current in vlaidaiton\n",
            "train loss 0.658, train accuracy 0.725, val loss 0.905, val accuracy 0.655, precision 0.616, recall 0.655, F1 0.622\n",
            "\t=> Best model saved at 21th epoch with valication accuracy of 0.6548469066619873\n",
            "At epoch 22\n"
          ]
        },
        {
          "output_type": "stream",
          "name": "stderr",
          "text": [
            "100%|██████████| 983/983 [00:03<00:00, 313.41it/s]\n"
          ]
        },
        {
          "output_type": "stream",
          "name": "stdout",
          "text": [
            "current in vlaidaiton\n",
            "train loss 0.653, train accuracy 0.728, val loss 0.913, val accuracy 0.650, precision 0.613, recall 0.650, F1 0.621\n",
            "At epoch 23\n"
          ]
        },
        {
          "output_type": "stream",
          "name": "stderr",
          "text": [
            "100%|██████████| 983/983 [00:03<00:00, 313.38it/s]\n"
          ]
        },
        {
          "output_type": "stream",
          "name": "stdout",
          "text": [
            "current in vlaidaiton\n",
            "train loss 0.642, train accuracy 0.733, val loss 0.918, val accuracy 0.657, precision 0.621, recall 0.657, F1 0.627\n",
            "\t=> Best model saved at 23th epoch with valication accuracy of 0.6566326022148132\n",
            "At epoch 24\n"
          ]
        },
        {
          "output_type": "stream",
          "name": "stderr",
          "text": [
            "100%|██████████| 983/983 [00:03<00:00, 312.17it/s]\n"
          ]
        },
        {
          "output_type": "stream",
          "name": "stdout",
          "text": [
            "current in vlaidaiton\n",
            "train loss 0.627, train accuracy 0.741, val loss 0.911, val accuracy 0.654, precision 0.618, recall 0.654, F1 0.626\n",
            "At epoch 25\n"
          ]
        },
        {
          "output_type": "stream",
          "name": "stderr",
          "text": [
            "100%|██████████| 983/983 [00:03<00:00, 313.02it/s]\n"
          ]
        },
        {
          "output_type": "stream",
          "name": "stdout",
          "text": [
            "current in vlaidaiton\n",
            "train loss 0.626, train accuracy 0.740, val loss 0.946, val accuracy 0.655, precision 0.611, recall 0.655, F1 0.616\n",
            "At epoch 26\n"
          ]
        },
        {
          "output_type": "stream",
          "name": "stderr",
          "text": [
            "100%|██████████| 983/983 [00:03<00:00, 313.67it/s]\n"
          ]
        },
        {
          "output_type": "stream",
          "name": "stdout",
          "text": [
            "current in vlaidaiton\n",
            "train loss 0.614, train accuracy 0.745, val loss 0.941, val accuracy 0.656, precision 0.622, recall 0.656, F1 0.630\n",
            "At epoch 27\n"
          ]
        },
        {
          "output_type": "stream",
          "name": "stderr",
          "text": [
            "100%|██████████| 983/983 [00:03<00:00, 310.43it/s]\n"
          ]
        },
        {
          "output_type": "stream",
          "name": "stdout",
          "text": [
            "current in vlaidaiton\n",
            "train loss 0.604, train accuracy 0.751, val loss 0.937, val accuracy 0.656, precision 0.624, recall 0.656, F1 0.633\n",
            "At epoch 28\n"
          ]
        },
        {
          "output_type": "stream",
          "name": "stderr",
          "text": [
            "100%|██████████| 983/983 [00:03<00:00, 314.45it/s]\n"
          ]
        },
        {
          "output_type": "stream",
          "name": "stdout",
          "text": [
            "current in vlaidaiton\n",
            "train loss 0.593, train accuracy 0.756, val loss 0.939, val accuracy 0.656, precision 0.628, recall 0.656, F1 0.635\n",
            "At epoch 29\n"
          ]
        },
        {
          "output_type": "stream",
          "name": "stderr",
          "text": [
            "100%|██████████| 983/983 [00:03<00:00, 313.32it/s]\n"
          ]
        },
        {
          "output_type": "stream",
          "name": "stdout",
          "text": [
            "current in vlaidaiton\n",
            "train loss 0.584, train accuracy 0.758, val loss 0.975, val accuracy 0.659, precision 0.627, recall 0.659, F1 0.635\n",
            "\t=> Best model saved at 29th epoch with valication accuracy of 0.6586734652519226\n",
            "At epoch 30\n"
          ]
        },
        {
          "output_type": "stream",
          "name": "stderr",
          "text": [
            "100%|██████████| 983/983 [00:03<00:00, 312.13it/s]\n"
          ]
        },
        {
          "output_type": "stream",
          "name": "stdout",
          "text": [
            "current in vlaidaiton\n",
            "train loss 0.577, train accuracy 0.764, val loss 0.951, val accuracy 0.652, precision 0.624, recall 0.652, F1 0.631\n",
            "At epoch 31\n"
          ]
        },
        {
          "output_type": "stream",
          "name": "stderr",
          "text": [
            "100%|██████████| 983/983 [00:03<00:00, 312.90it/s]\n"
          ]
        },
        {
          "output_type": "stream",
          "name": "stdout",
          "text": [
            "current in vlaidaiton\n",
            "train loss 0.569, train accuracy 0.765, val loss 1.041, val accuracy 0.650, precision 0.606, recall 0.650, F1 0.612\n",
            "At epoch 32\n"
          ]
        },
        {
          "output_type": "stream",
          "name": "stderr",
          "text": [
            "100%|██████████| 983/983 [00:03<00:00, 313.73it/s]\n"
          ]
        },
        {
          "output_type": "stream",
          "name": "stdout",
          "text": [
            "current in vlaidaiton\n",
            "train loss 0.559, train accuracy 0.774, val loss 0.966, val accuracy 0.659, precision 0.627, recall 0.659, F1 0.637\n",
            "\t=> Best model saved at 32th epoch with valication accuracy of 0.6591836214065552\n",
            "At epoch 33\n"
          ]
        },
        {
          "output_type": "stream",
          "name": "stderr",
          "text": [
            "100%|██████████| 983/983 [00:03<00:00, 311.41it/s]\n"
          ]
        },
        {
          "output_type": "stream",
          "name": "stdout",
          "text": [
            "current in vlaidaiton\n",
            "train loss 0.550, train accuracy 0.776, val loss 0.983, val accuracy 0.655, precision 0.620, recall 0.655, F1 0.631\n",
            "At epoch 34\n"
          ]
        },
        {
          "output_type": "stream",
          "name": "stderr",
          "text": [
            "100%|██████████| 983/983 [00:03<00:00, 312.47it/s]\n"
          ]
        },
        {
          "output_type": "stream",
          "name": "stdout",
          "text": [
            "current in vlaidaiton\n",
            "train loss 0.539, train accuracy 0.783, val loss 1.000, val accuracy 0.648, precision 0.624, recall 0.648, F1 0.631\n",
            "At epoch 35\n"
          ]
        },
        {
          "output_type": "stream",
          "name": "stderr",
          "text": [
            "100%|██████████| 983/983 [00:03<00:00, 311.43it/s]\n"
          ]
        },
        {
          "output_type": "stream",
          "name": "stdout",
          "text": [
            "current in vlaidaiton\n",
            "train loss 0.531, train accuracy 0.786, val loss 1.021, val accuracy 0.652, precision 0.615, recall 0.652, F1 0.625\n",
            "At epoch 36\n"
          ]
        },
        {
          "output_type": "stream",
          "name": "stderr",
          "text": [
            "100%|██████████| 983/983 [00:03<00:00, 313.28it/s]\n"
          ]
        },
        {
          "output_type": "stream",
          "name": "stdout",
          "text": [
            "current in vlaidaiton\n",
            "train loss 0.518, train accuracy 0.791, val loss 1.051, val accuracy 0.652, precision 0.615, recall 0.652, F1 0.624\n",
            "At epoch 37\n"
          ]
        },
        {
          "output_type": "stream",
          "name": "stderr",
          "text": [
            "100%|██████████| 983/983 [00:03<00:00, 311.75it/s]\n"
          ]
        },
        {
          "output_type": "stream",
          "name": "stdout",
          "text": [
            "current in vlaidaiton\n",
            "train loss 0.517, train accuracy 0.793, val loss 1.034, val accuracy 0.653, precision 0.627, recall 0.653, F1 0.636\n",
            "At epoch 38\n"
          ]
        },
        {
          "output_type": "stream",
          "name": "stderr",
          "text": [
            "100%|██████████| 983/983 [00:03<00:00, 311.14it/s]\n"
          ]
        },
        {
          "output_type": "stream",
          "name": "stdout",
          "text": [
            "current in vlaidaiton\n",
            "train loss 0.511, train accuracy 0.794, val loss 1.040, val accuracy 0.655, precision 0.623, recall 0.655, F1 0.632\n",
            "At epoch 39\n"
          ]
        },
        {
          "output_type": "stream",
          "name": "stderr",
          "text": [
            "100%|██████████| 983/983 [00:03<00:00, 311.81it/s]\n"
          ]
        },
        {
          "output_type": "stream",
          "name": "stdout",
          "text": [
            "current in vlaidaiton\n",
            "train loss 0.498, train accuracy 0.800, val loss 1.038, val accuracy 0.648, precision 0.617, recall 0.648, F1 0.628\n",
            "At epoch 40\n"
          ]
        },
        {
          "output_type": "stream",
          "name": "stderr",
          "text": [
            "100%|██████████| 983/983 [00:03<00:00, 311.95it/s]\n"
          ]
        },
        {
          "output_type": "stream",
          "name": "stdout",
          "text": [
            "current in vlaidaiton\n",
            "train loss 0.491, train accuracy 0.802, val loss 1.063, val accuracy 0.652, precision 0.617, recall 0.652, F1 0.627\n",
            "At epoch 41\n"
          ]
        },
        {
          "output_type": "stream",
          "name": "stderr",
          "text": [
            "100%|██████████| 983/983 [00:03<00:00, 312.53it/s]\n"
          ]
        },
        {
          "output_type": "stream",
          "name": "stdout",
          "text": [
            "current in vlaidaiton\n",
            "train loss 0.485, train accuracy 0.803, val loss 1.072, val accuracy 0.646, precision 0.619, recall 0.646, F1 0.628\n",
            "At epoch 42\n"
          ]
        },
        {
          "output_type": "stream",
          "name": "stderr",
          "text": [
            "100%|██████████| 983/983 [00:03<00:00, 313.92it/s]\n"
          ]
        },
        {
          "output_type": "stream",
          "name": "stdout",
          "text": [
            "current in vlaidaiton\n",
            "train loss 0.474, train accuracy 0.810, val loss 1.198, val accuracy 0.645, precision 0.596, recall 0.645, F1 0.605\n",
            "At epoch 43\n"
          ]
        },
        {
          "output_type": "stream",
          "name": "stderr",
          "text": [
            "100%|██████████| 983/983 [00:03<00:00, 312.24it/s]\n"
          ]
        },
        {
          "output_type": "stream",
          "name": "stdout",
          "text": [
            "current in vlaidaiton\n",
            "train loss 0.470, train accuracy 0.815, val loss 1.055, val accuracy 0.646, precision 0.626, recall 0.646, F1 0.632\n",
            "At epoch 44\n"
          ]
        },
        {
          "output_type": "stream",
          "name": "stderr",
          "text": [
            "100%|██████████| 983/983 [00:03<00:00, 309.73it/s]\n"
          ]
        },
        {
          "output_type": "stream",
          "name": "stdout",
          "text": [
            "current in vlaidaiton\n",
            "train loss 0.460, train accuracy 0.815, val loss 1.051, val accuracy 0.648, precision 0.620, recall 0.648, F1 0.629\n",
            "At epoch 45\n"
          ]
        },
        {
          "output_type": "stream",
          "name": "stderr",
          "text": [
            "100%|██████████| 983/983 [00:03<00:00, 311.74it/s]\n"
          ]
        },
        {
          "output_type": "stream",
          "name": "stdout",
          "text": [
            "current in vlaidaiton\n",
            "train loss 0.448, train accuracy 0.825, val loss 1.108, val accuracy 0.645, precision 0.622, recall 0.645, F1 0.630\n",
            "At epoch 46\n"
          ]
        },
        {
          "output_type": "stream",
          "name": "stderr",
          "text": [
            "100%|██████████| 983/983 [00:03<00:00, 311.93it/s]\n"
          ]
        },
        {
          "output_type": "stream",
          "name": "stdout",
          "text": [
            "current in vlaidaiton\n",
            "train loss 0.444, train accuracy 0.820, val loss 1.099, val accuracy 0.648, precision 0.625, recall 0.648, F1 0.633\n",
            "At epoch 47\n"
          ]
        },
        {
          "output_type": "stream",
          "name": "stderr",
          "text": [
            "100%|██████████| 983/983 [00:03<00:00, 309.52it/s]\n"
          ]
        },
        {
          "output_type": "stream",
          "name": "stdout",
          "text": [
            "current in vlaidaiton\n",
            "train loss 0.433, train accuracy 0.828, val loss 1.176, val accuracy 0.648, precision 0.608, recall 0.648, F1 0.616\n",
            "At epoch 48\n"
          ]
        },
        {
          "output_type": "stream",
          "name": "stderr",
          "text": [
            "100%|██████████| 983/983 [00:03<00:00, 312.49it/s]\n"
          ]
        },
        {
          "output_type": "stream",
          "name": "stdout",
          "text": [
            "current in vlaidaiton\n",
            "train loss 0.434, train accuracy 0.825, val loss 1.167, val accuracy 0.647, precision 0.609, recall 0.647, F1 0.619\n",
            "At epoch 49\n"
          ]
        },
        {
          "output_type": "stream",
          "name": "stderr",
          "text": [
            "100%|██████████| 983/983 [00:03<00:00, 311.46it/s]\n"
          ]
        },
        {
          "output_type": "stream",
          "name": "stdout",
          "text": [
            "current in vlaidaiton\n",
            "train loss 0.422, train accuracy 0.831, val loss 1.192, val accuracy 0.649, precision 0.620, recall 0.649, F1 0.629\n",
            "At epoch 50\n"
          ]
        },
        {
          "output_type": "stream",
          "name": "stderr",
          "text": [
            "100%|██████████| 983/983 [00:03<00:00, 311.83it/s]\n"
          ]
        },
        {
          "output_type": "stream",
          "name": "stdout",
          "text": [
            "current in vlaidaiton\n",
            "train loss 0.414, train accuracy 0.838, val loss 1.167, val accuracy 0.650, precision 0.621, recall 0.650, F1 0.631\n",
            "At epoch 51\n"
          ]
        },
        {
          "output_type": "stream",
          "name": "stderr",
          "text": [
            "100%|██████████| 983/983 [00:03<00:00, 310.95it/s]\n"
          ]
        },
        {
          "output_type": "stream",
          "name": "stdout",
          "text": [
            "current in vlaidaiton\n",
            "train loss 0.409, train accuracy 0.841, val loss 1.168, val accuracy 0.648, precision 0.617, recall 0.648, F1 0.626\n",
            "At epoch 52\n"
          ]
        },
        {
          "output_type": "stream",
          "name": "stderr",
          "text": [
            "100%|██████████| 983/983 [00:03<00:00, 310.20it/s]\n"
          ]
        },
        {
          "output_type": "stream",
          "name": "stdout",
          "text": [
            "current in vlaidaiton\n",
            "train loss 0.400, train accuracy 0.842, val loss 1.196, val accuracy 0.650, precision 0.611, recall 0.650, F1 0.621\n",
            "At epoch 53\n"
          ]
        },
        {
          "output_type": "stream",
          "name": "stderr",
          "text": [
            "100%|██████████| 983/983 [00:03<00:00, 311.77it/s]\n"
          ]
        },
        {
          "output_type": "stream",
          "name": "stdout",
          "text": [
            "current in vlaidaiton\n",
            "train loss 0.394, train accuracy 0.844, val loss 1.230, val accuracy 0.634, precision 0.609, recall 0.634, F1 0.618\n",
            "At epoch 54\n"
          ]
        },
        {
          "output_type": "stream",
          "name": "stderr",
          "text": [
            "100%|██████████| 983/983 [00:03<00:00, 311.99it/s]\n"
          ]
        },
        {
          "output_type": "stream",
          "name": "stdout",
          "text": [
            "current in vlaidaiton\n",
            "train loss 0.384, train accuracy 0.850, val loss 1.183, val accuracy 0.641, precision 0.618, recall 0.641, F1 0.627\n",
            "At epoch 55\n"
          ]
        },
        {
          "output_type": "stream",
          "name": "stderr",
          "text": [
            "100%|██████████| 983/983 [00:03<00:00, 311.97it/s]\n"
          ]
        },
        {
          "output_type": "stream",
          "name": "stdout",
          "text": [
            "current in vlaidaiton\n",
            "train loss 0.381, train accuracy 0.851, val loss 1.215, val accuracy 0.640, precision 0.604, recall 0.640, F1 0.614\n",
            "At epoch 56\n"
          ]
        },
        {
          "output_type": "stream",
          "name": "stderr",
          "text": [
            "100%|██████████| 983/983 [00:03<00:00, 311.17it/s]\n"
          ]
        },
        {
          "output_type": "stream",
          "name": "stdout",
          "text": [
            "current in vlaidaiton\n",
            "train loss 0.371, train accuracy 0.855, val loss 1.351, val accuracy 0.645, precision 0.600, recall 0.645, F1 0.611\n",
            "At epoch 57\n"
          ]
        },
        {
          "output_type": "stream",
          "name": "stderr",
          "text": [
            "100%|██████████| 983/983 [00:03<00:00, 312.18it/s]\n"
          ]
        },
        {
          "output_type": "stream",
          "name": "stdout",
          "text": [
            "current in vlaidaiton\n",
            "train loss 0.360, train accuracy 0.861, val loss 1.253, val accuracy 0.643, precision 0.609, recall 0.643, F1 0.619\n",
            "At epoch 58\n"
          ]
        },
        {
          "output_type": "stream",
          "name": "stderr",
          "text": [
            "100%|██████████| 983/983 [00:03<00:00, 311.67it/s]\n"
          ]
        },
        {
          "output_type": "stream",
          "name": "stdout",
          "text": [
            "current in vlaidaiton\n",
            "train loss 0.365, train accuracy 0.860, val loss 1.239, val accuracy 0.637, precision 0.614, recall 0.637, F1 0.622\n",
            "At epoch 59\n"
          ]
        },
        {
          "output_type": "stream",
          "name": "stderr",
          "text": [
            "100%|██████████| 983/983 [00:03<00:00, 311.65it/s]\n"
          ]
        },
        {
          "output_type": "stream",
          "name": "stdout",
          "text": [
            "current in vlaidaiton\n",
            "train loss 0.356, train accuracy 0.861, val loss 1.284, val accuracy 0.642, precision 0.613, recall 0.642, F1 0.623\n",
            "At epoch 60\n"
          ]
        },
        {
          "output_type": "stream",
          "name": "stderr",
          "text": [
            "100%|██████████| 983/983 [00:03<00:00, 313.02it/s]\n"
          ]
        },
        {
          "output_type": "stream",
          "name": "stdout",
          "text": [
            "current in vlaidaiton\n",
            "train loss 0.344, train accuracy 0.863, val loss 1.306, val accuracy 0.633, precision 0.607, recall 0.633, F1 0.616\n",
            "At epoch 61\n"
          ]
        },
        {
          "output_type": "stream",
          "name": "stderr",
          "text": [
            "100%|██████████| 983/983 [00:03<00:00, 309.33it/s]\n"
          ]
        },
        {
          "output_type": "stream",
          "name": "stdout",
          "text": [
            "current in vlaidaiton\n",
            "train loss 0.339, train accuracy 0.866, val loss 1.394, val accuracy 0.641, precision 0.601, recall 0.641, F1 0.611\n",
            "At epoch 62\n"
          ]
        },
        {
          "output_type": "stream",
          "name": "stderr",
          "text": [
            "100%|██████████| 983/983 [00:03<00:00, 308.58it/s]\n"
          ]
        },
        {
          "output_type": "stream",
          "name": "stdout",
          "text": [
            "current in vlaidaiton\n",
            "train loss 0.332, train accuracy 0.873, val loss 1.334, val accuracy 0.638, precision 0.605, recall 0.638, F1 0.615\n",
            "At epoch 63\n"
          ]
        },
        {
          "output_type": "stream",
          "name": "stderr",
          "text": [
            "100%|██████████| 983/983 [00:03<00:00, 308.59it/s]\n"
          ]
        },
        {
          "output_type": "stream",
          "name": "stdout",
          "text": [
            "current in vlaidaiton\n",
            "train loss 0.333, train accuracy 0.869, val loss 1.315, val accuracy 0.637, precision 0.599, recall 0.637, F1 0.610\n",
            "At epoch 64\n"
          ]
        },
        {
          "output_type": "stream",
          "name": "stderr",
          "text": [
            "100%|██████████| 983/983 [00:03<00:00, 307.49it/s]\n"
          ]
        },
        {
          "output_type": "stream",
          "name": "stdout",
          "text": [
            "current in vlaidaiton\n",
            "train loss 0.315, train accuracy 0.879, val loss 1.402, val accuracy 0.625, precision 0.613, recall 0.625, F1 0.614\n",
            "At epoch 65\n"
          ]
        },
        {
          "output_type": "stream",
          "name": "stderr",
          "text": [
            "100%|██████████| 983/983 [00:03<00:00, 307.60it/s]\n"
          ]
        },
        {
          "output_type": "stream",
          "name": "stdout",
          "text": [
            "current in vlaidaiton\n",
            "train loss 0.315, train accuracy 0.878, val loss 1.349, val accuracy 0.635, precision 0.597, recall 0.635, F1 0.607\n",
            "At epoch 66\n"
          ]
        },
        {
          "output_type": "stream",
          "name": "stderr",
          "text": [
            "100%|██████████| 983/983 [00:03<00:00, 310.22it/s]\n"
          ]
        },
        {
          "output_type": "stream",
          "name": "stdout",
          "text": [
            "current in vlaidaiton\n",
            "train loss 0.304, train accuracy 0.881, val loss 1.345, val accuracy 0.636, precision 0.609, recall 0.636, F1 0.618\n",
            "At epoch 67\n"
          ]
        },
        {
          "output_type": "stream",
          "name": "stderr",
          "text": [
            "100%|██████████| 983/983 [00:03<00:00, 312.01it/s]\n"
          ]
        },
        {
          "output_type": "stream",
          "name": "stdout",
          "text": [
            "current in vlaidaiton\n",
            "train loss 0.301, train accuracy 0.884, val loss 1.363, val accuracy 0.624, precision 0.603, recall 0.624, F1 0.612\n",
            "At epoch 68\n"
          ]
        },
        {
          "output_type": "stream",
          "name": "stderr",
          "text": [
            "100%|██████████| 983/983 [00:03<00:00, 311.74it/s]\n"
          ]
        },
        {
          "output_type": "stream",
          "name": "stdout",
          "text": [
            "current in vlaidaiton\n",
            "train loss 0.297, train accuracy 0.886, val loss 1.435, val accuracy 0.635, precision 0.606, recall 0.635, F1 0.616\n",
            "At epoch 69\n"
          ]
        },
        {
          "output_type": "stream",
          "name": "stderr",
          "text": [
            "100%|██████████| 983/983 [00:03<00:00, 312.48it/s]\n"
          ]
        },
        {
          "output_type": "stream",
          "name": "stdout",
          "text": [
            "current in vlaidaiton\n",
            "train loss 0.296, train accuracy 0.886, val loss 1.390, val accuracy 0.635, precision 0.605, recall 0.635, F1 0.615\n",
            "At epoch 70\n"
          ]
        },
        {
          "output_type": "stream",
          "name": "stderr",
          "text": [
            "100%|██████████| 983/983 [00:03<00:00, 312.68it/s]\n"
          ]
        },
        {
          "output_type": "stream",
          "name": "stdout",
          "text": [
            "current in vlaidaiton\n",
            "train loss 0.284, train accuracy 0.890, val loss 1.419, val accuracy 0.633, precision 0.610, recall 0.633, F1 0.618\n",
            "At epoch 71\n"
          ]
        },
        {
          "output_type": "stream",
          "name": "stderr",
          "text": [
            "100%|██████████| 983/983 [00:03<00:00, 311.65it/s]\n"
          ]
        },
        {
          "output_type": "stream",
          "name": "stdout",
          "text": [
            "current in vlaidaiton\n",
            "train loss 0.284, train accuracy 0.891, val loss 1.402, val accuracy 0.625, precision 0.602, recall 0.625, F1 0.611\n",
            "At epoch 72\n"
          ]
        },
        {
          "output_type": "stream",
          "name": "stderr",
          "text": [
            "100%|██████████| 983/983 [00:03<00:00, 311.06it/s]\n"
          ]
        },
        {
          "output_type": "stream",
          "name": "stdout",
          "text": [
            "current in vlaidaiton\n",
            "train loss 0.274, train accuracy 0.896, val loss 1.471, val accuracy 0.636, precision 0.606, recall 0.636, F1 0.616\n",
            "At epoch 73\n"
          ]
        },
        {
          "output_type": "stream",
          "name": "stderr",
          "text": [
            "100%|██████████| 983/983 [00:03<00:00, 309.66it/s]\n"
          ]
        },
        {
          "output_type": "stream",
          "name": "stdout",
          "text": [
            "current in vlaidaiton\n",
            "train loss 0.270, train accuracy 0.896, val loss 1.513, val accuracy 0.630, precision 0.607, recall 0.630, F1 0.614\n",
            "At epoch 74\n"
          ]
        },
        {
          "output_type": "stream",
          "name": "stderr",
          "text": [
            "100%|██████████| 983/983 [00:03<00:00, 312.24it/s]\n"
          ]
        },
        {
          "output_type": "stream",
          "name": "stdout",
          "text": [
            "current in vlaidaiton\n",
            "train loss 0.257, train accuracy 0.901, val loss 1.449, val accuracy 0.632, precision 0.608, recall 0.632, F1 0.616\n",
            "At epoch 75\n"
          ]
        },
        {
          "output_type": "stream",
          "name": "stderr",
          "text": [
            "100%|██████████| 983/983 [00:03<00:00, 312.12it/s]\n"
          ]
        },
        {
          "output_type": "stream",
          "name": "stdout",
          "text": [
            "current in vlaidaiton\n",
            "train loss 0.257, train accuracy 0.902, val loss 1.479, val accuracy 0.624, precision 0.595, recall 0.624, F1 0.606\n",
            "At epoch 76\n"
          ]
        },
        {
          "output_type": "stream",
          "name": "stderr",
          "text": [
            "100%|██████████| 983/983 [00:03<00:00, 310.73it/s]\n"
          ]
        },
        {
          "output_type": "stream",
          "name": "stdout",
          "text": [
            "current in vlaidaiton\n",
            "train loss 0.251, train accuracy 0.903, val loss 1.564, val accuracy 0.640, precision 0.606, recall 0.640, F1 0.615\n",
            "At epoch 77\n"
          ]
        },
        {
          "output_type": "stream",
          "name": "stderr",
          "text": [
            "100%|██████████| 983/983 [00:03<00:00, 310.48it/s]\n"
          ]
        },
        {
          "output_type": "stream",
          "name": "stdout",
          "text": [
            "current in vlaidaiton\n",
            "train loss 0.251, train accuracy 0.905, val loss 1.513, val accuracy 0.639, precision 0.610, recall 0.639, F1 0.619\n",
            "At epoch 78\n"
          ]
        },
        {
          "output_type": "stream",
          "name": "stderr",
          "text": [
            "100%|██████████| 983/983 [00:03<00:00, 310.24it/s]\n"
          ]
        },
        {
          "output_type": "stream",
          "name": "stdout",
          "text": [
            "current in vlaidaiton\n",
            "train loss 0.241, train accuracy 0.908, val loss 1.532, val accuracy 0.630, precision 0.608, recall 0.630, F1 0.617\n",
            "At epoch 79\n"
          ]
        },
        {
          "output_type": "stream",
          "name": "stderr",
          "text": [
            "100%|██████████| 983/983 [00:03<00:00, 311.36it/s]\n"
          ]
        },
        {
          "output_type": "stream",
          "name": "stdout",
          "text": [
            "current in vlaidaiton\n",
            "train loss 0.236, train accuracy 0.909, val loss 1.557, val accuracy 0.634, precision 0.605, recall 0.634, F1 0.613\n",
            "At epoch 80\n"
          ]
        },
        {
          "output_type": "stream",
          "name": "stderr",
          "text": [
            "100%|██████████| 983/983 [00:03<00:00, 312.64it/s]\n"
          ]
        },
        {
          "output_type": "stream",
          "name": "stdout",
          "text": [
            "current in vlaidaiton\n",
            "train loss 0.231, train accuracy 0.912, val loss 1.555, val accuracy 0.622, precision 0.611, recall 0.622, F1 0.615\n",
            "At epoch 81\n"
          ]
        },
        {
          "output_type": "stream",
          "name": "stderr",
          "text": [
            "100%|██████████| 983/983 [00:03<00:00, 309.37it/s]\n"
          ]
        },
        {
          "output_type": "stream",
          "name": "stdout",
          "text": [
            "current in vlaidaiton\n",
            "train loss 0.224, train accuracy 0.915, val loss 1.654, val accuracy 0.639, precision 0.608, recall 0.639, F1 0.618\n",
            "At epoch 82\n"
          ]
        },
        {
          "output_type": "stream",
          "name": "stderr",
          "text": [
            "100%|██████████| 983/983 [00:03<00:00, 310.01it/s]\n"
          ]
        },
        {
          "output_type": "stream",
          "name": "stdout",
          "text": [
            "current in vlaidaiton\n",
            "train loss 0.223, train accuracy 0.915, val loss 1.562, val accuracy 0.636, precision 0.605, recall 0.636, F1 0.615\n",
            "At epoch 83\n"
          ]
        },
        {
          "output_type": "stream",
          "name": "stderr",
          "text": [
            "100%|██████████| 983/983 [00:03<00:00, 312.21it/s]\n"
          ]
        },
        {
          "output_type": "stream",
          "name": "stdout",
          "text": [
            "current in vlaidaiton\n",
            "train loss 0.216, train accuracy 0.921, val loss 1.591, val accuracy 0.632, precision 0.603, recall 0.632, F1 0.612\n",
            "At epoch 84\n"
          ]
        },
        {
          "output_type": "stream",
          "name": "stderr",
          "text": [
            "100%|██████████| 983/983 [00:03<00:00, 311.32it/s]\n"
          ]
        },
        {
          "output_type": "stream",
          "name": "stdout",
          "text": [
            "current in vlaidaiton\n",
            "train loss 0.215, train accuracy 0.918, val loss 1.685, val accuracy 0.635, precision 0.596, recall 0.635, F1 0.607\n",
            "At epoch 85\n"
          ]
        },
        {
          "output_type": "stream",
          "name": "stderr",
          "text": [
            "100%|██████████| 983/983 [00:03<00:00, 312.00it/s]\n"
          ]
        },
        {
          "output_type": "stream",
          "name": "stdout",
          "text": [
            "current in vlaidaiton\n",
            "train loss 0.213, train accuracy 0.918, val loss 1.604, val accuracy 0.637, precision 0.604, recall 0.637, F1 0.614\n",
            "At epoch 86\n"
          ]
        },
        {
          "output_type": "stream",
          "name": "stderr",
          "text": [
            "100%|██████████| 983/983 [00:03<00:00, 311.68it/s]\n"
          ]
        },
        {
          "output_type": "stream",
          "name": "stdout",
          "text": [
            "current in vlaidaiton\n",
            "train loss 0.209, train accuracy 0.921, val loss 1.651, val accuracy 0.630, precision 0.604, recall 0.630, F1 0.613\n",
            "At epoch 87\n"
          ]
        },
        {
          "output_type": "stream",
          "name": "stderr",
          "text": [
            "100%|██████████| 983/983 [00:03<00:00, 311.05it/s]\n"
          ]
        },
        {
          "output_type": "stream",
          "name": "stdout",
          "text": [
            "current in vlaidaiton\n",
            "train loss 0.203, train accuracy 0.925, val loss 1.654, val accuracy 0.623, precision 0.601, recall 0.623, F1 0.610\n",
            "At epoch 88\n"
          ]
        },
        {
          "output_type": "stream",
          "name": "stderr",
          "text": [
            "100%|██████████| 983/983 [00:03<00:00, 309.64it/s]\n"
          ]
        },
        {
          "output_type": "stream",
          "name": "stdout",
          "text": [
            "current in vlaidaiton\n",
            "train loss 0.199, train accuracy 0.927, val loss 1.685, val accuracy 0.625, precision 0.608, recall 0.625, F1 0.612\n",
            "At epoch 89\n"
          ]
        },
        {
          "output_type": "stream",
          "name": "stderr",
          "text": [
            "100%|██████████| 983/983 [00:03<00:00, 313.25it/s]\n"
          ]
        },
        {
          "output_type": "stream",
          "name": "stdout",
          "text": [
            "current in vlaidaiton\n",
            "train loss 0.196, train accuracy 0.928, val loss 1.772, val accuracy 0.632, precision 0.598, recall 0.632, F1 0.608\n",
            "At epoch 90\n"
          ]
        },
        {
          "output_type": "stream",
          "name": "stderr",
          "text": [
            "100%|██████████| 983/983 [00:03<00:00, 311.50it/s]\n"
          ]
        },
        {
          "output_type": "stream",
          "name": "stdout",
          "text": [
            "current in vlaidaiton\n",
            "train loss 0.196, train accuracy 0.927, val loss 1.609, val accuracy 0.623, precision 0.598, recall 0.623, F1 0.607\n",
            "At epoch 91\n"
          ]
        },
        {
          "output_type": "stream",
          "name": "stderr",
          "text": [
            "100%|██████████| 983/983 [00:03<00:00, 313.09it/s]\n"
          ]
        },
        {
          "output_type": "stream",
          "name": "stdout",
          "text": [
            "current in vlaidaiton\n",
            "train loss 0.190, train accuracy 0.931, val loss 1.667, val accuracy 0.622, precision 0.601, recall 0.622, F1 0.609\n",
            "At epoch 92\n"
          ]
        },
        {
          "output_type": "stream",
          "name": "stderr",
          "text": [
            "100%|██████████| 983/983 [00:03<00:00, 304.84it/s]\n"
          ]
        },
        {
          "output_type": "stream",
          "name": "stdout",
          "text": [
            "current in vlaidaiton\n",
            "train loss 0.190, train accuracy 0.931, val loss 1.655, val accuracy 0.628, precision 0.603, recall 0.628, F1 0.611\n",
            "At epoch 93\n"
          ]
        },
        {
          "output_type": "stream",
          "name": "stderr",
          "text": [
            "100%|██████████| 983/983 [00:03<00:00, 310.09it/s]\n"
          ]
        },
        {
          "output_type": "stream",
          "name": "stdout",
          "text": [
            "current in vlaidaiton\n",
            "train loss 0.181, train accuracy 0.934, val loss 1.632, val accuracy 0.629, precision 0.603, recall 0.629, F1 0.613\n",
            "At epoch 94\n"
          ]
        },
        {
          "output_type": "stream",
          "name": "stderr",
          "text": [
            "100%|██████████| 983/983 [00:03<00:00, 309.68it/s]\n"
          ]
        },
        {
          "output_type": "stream",
          "name": "stdout",
          "text": [
            "current in vlaidaiton\n",
            "train loss 0.181, train accuracy 0.933, val loss 1.781, val accuracy 0.629, precision 0.599, recall 0.629, F1 0.610\n",
            "At epoch 95\n"
          ]
        },
        {
          "output_type": "stream",
          "name": "stderr",
          "text": [
            "100%|██████████| 983/983 [00:03<00:00, 310.69it/s]\n"
          ]
        },
        {
          "output_type": "stream",
          "name": "stdout",
          "text": [
            "current in vlaidaiton\n",
            "train loss 0.176, train accuracy 0.935, val loss 1.724, val accuracy 0.630, precision 0.608, recall 0.630, F1 0.617\n",
            "At epoch 96\n"
          ]
        },
        {
          "output_type": "stream",
          "name": "stderr",
          "text": [
            "100%|██████████| 983/983 [00:03<00:00, 311.55it/s]\n"
          ]
        },
        {
          "output_type": "stream",
          "name": "stdout",
          "text": [
            "current in vlaidaiton\n",
            "train loss 0.172, train accuracy 0.937, val loss 1.780, val accuracy 0.629, precision 0.589, recall 0.629, F1 0.600\n",
            "At epoch 97\n"
          ]
        },
        {
          "output_type": "stream",
          "name": "stderr",
          "text": [
            "100%|██████████| 983/983 [00:03<00:00, 312.52it/s]\n"
          ]
        },
        {
          "output_type": "stream",
          "name": "stdout",
          "text": [
            "current in vlaidaiton\n",
            "train loss 0.169, train accuracy 0.938, val loss 1.787, val accuracy 0.629, precision 0.607, recall 0.629, F1 0.616\n",
            "At epoch 98\n"
          ]
        },
        {
          "output_type": "stream",
          "name": "stderr",
          "text": [
            "100%|██████████| 983/983 [00:03<00:00, 312.32it/s]\n"
          ]
        },
        {
          "output_type": "stream",
          "name": "stdout",
          "text": [
            "current in vlaidaiton\n",
            "train loss 0.163, train accuracy 0.939, val loss 1.824, val accuracy 0.629, precision 0.608, recall 0.629, F1 0.616\n",
            "At epoch 99\n"
          ]
        },
        {
          "output_type": "stream",
          "name": "stderr",
          "text": [
            "100%|██████████| 983/983 [00:03<00:00, 310.94it/s]\n"
          ]
        },
        {
          "output_type": "stream",
          "name": "stdout",
          "text": [
            "current in vlaidaiton\n",
            "train loss 0.165, train accuracy 0.941, val loss 1.810, val accuracy 0.628, precision 0.597, recall 0.628, F1 0.608\n"
          ]
        }
      ]
    },
    {
      "cell_type": "code",
      "source": [
        ""
      ],
      "metadata": {
        "id": "s0P-MnfwynbQ"
      },
      "execution_count": 31,
      "outputs": []
    }
  ]
}
