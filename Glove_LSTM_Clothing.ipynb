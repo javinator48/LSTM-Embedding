{
  "nbformat": 4,
  "nbformat_minor": 0,
  "metadata": {
    "colab": {
      "name": "Glove_LSTM_Clothing.ipynb”",
      "provenance": [],
      "machine_shape": "hm"
    },
    "kernelspec": {
      "name": "python3",
      "display_name": "Python 3"
    },
    "language_info": {
      "name": "python"
    },
    "accelerator": "GPU"
  },
  "cells": [
    {
      "cell_type": "code",
      "execution_count": 32,
      "metadata": {
        "colab": {
          "base_uri": "https://localhost:8080/"
        },
        "id": "rjWPn-GiVGPf",
        "outputId": "dc19a749-77c2-4fd9-dab2-8f63cfc49124"
      },
      "outputs": [
        {
          "output_type": "stream",
          "name": "stdout",
          "text": [
            "Drive already mounted at /content/drive; to attempt to forcibly remount, call drive.mount(\"/content/drive\", force_remount=True).\n"
          ]
        }
      ],
      "source": [
        "from google.colab import drive\n",
        "drive.mount('/content/drive')"
      ]
    },
    {
      "cell_type": "code",
      "source": [
        "import torch\n",
        "import torch.nn as nn\n",
        "import pandas as pd\n",
        "import numpy as np\n",
        "import logging\n",
        "import gzip\n",
        "import gensim \n",
        "import re\n",
        "import spacy\n",
        "import math\n",
        "from collections import Counter\n",
        "from torch.utils.data import Dataset, DataLoader\n",
        "import torch.nn.functional as F\n",
        "import string\n",
        "from torch.nn.utils.rnn import pack_padded_sequence, pad_packed_sequence, pad_sequence\n",
        "from sklearn.metrics import mean_squared_error\n",
        "from sklearn.model_selection import train_test_split\n",
        "from tqdm import tqdm"
      ],
      "metadata": {
        "id": "S7SfU_6lViKR"
      },
      "execution_count": 33,
      "outputs": []
    },
    {
      "cell_type": "code",
      "source": [
        "print(torch.cuda.is_available())\n",
        "device = 'cuda:0' if torch.cuda.is_available() else 'cpu'\n",
        "device"
      ],
      "metadata": {
        "colab": {
          "base_uri": "https://localhost:8080/",
          "height": 53
        },
        "id": "rItWBp7RJEQq",
        "outputId": "3468d540-70a6-46da-bb39-99fb133ce680"
      },
      "execution_count": 34,
      "outputs": [
        {
          "output_type": "stream",
          "name": "stdout",
          "text": [
            "True\n"
          ]
        },
        {
          "output_type": "execute_result",
          "data": {
            "application/vnd.google.colaboratory.intrinsic+json": {
              "type": "string"
            },
            "text/plain": [
              "'cuda:0'"
            ]
          },
          "metadata": {},
          "execution_count": 34
        }
      ]
    },
    {
      "cell_type": "markdown",
      "source": [
        "# Preprocessing & Loading data"
      ],
      "metadata": {
        "id": "3KGKdTO5W7AH"
      }
    },
    {
      "cell_type": "markdown",
      "source": [
        "## Preprocess "
      ],
      "metadata": {
        "id": "vNprrOxtXCMj"
      }
    },
    {
      "cell_type": "markdown",
      "source": [
        "### Clothing Review Dataset"
      ],
      "metadata": {
        "id": "OyA2zPsboOln"
      }
    },
    {
      "cell_type": "code",
      "source": [
        "# Load dataset for clothing reviews\n",
        "reviews = pd.read_csv(\"/content/drive/MyDrive/data /Womens Clothing E-Commerce Reviews.csv\")\n",
        "reviews = reviews.dropna()\n",
        "print(reviews.shape)\n",
        "reviews.head()"
      ],
      "metadata": {
        "colab": {
          "base_uri": "https://localhost:8080/",
          "height": 372
        },
        "id": "imlvO0RAVl5k",
        "outputId": "36f963f1-6a34-4bd0-a06c-67a251e4b715"
      },
      "execution_count": 35,
      "outputs": [
        {
          "output_type": "stream",
          "name": "stdout",
          "text": [
            "(19662, 11)\n"
          ]
        },
        {
          "output_type": "execute_result",
          "data": {
            "text/html": [
              "\n",
              "  <div id=\"df-327e473b-1757-4fd3-85e6-63446f2e9b67\">\n",
              "    <div class=\"colab-df-container\">\n",
              "      <div>\n",
              "<style scoped>\n",
              "    .dataframe tbody tr th:only-of-type {\n",
              "        vertical-align: middle;\n",
              "    }\n",
              "\n",
              "    .dataframe tbody tr th {\n",
              "        vertical-align: top;\n",
              "    }\n",
              "\n",
              "    .dataframe thead th {\n",
              "        text-align: right;\n",
              "    }\n",
              "</style>\n",
              "<table border=\"1\" class=\"dataframe\">\n",
              "  <thead>\n",
              "    <tr style=\"text-align: right;\">\n",
              "      <th></th>\n",
              "      <th>Unnamed: 0</th>\n",
              "      <th>Clothing ID</th>\n",
              "      <th>Age</th>\n",
              "      <th>Title</th>\n",
              "      <th>Review Text</th>\n",
              "      <th>Rating</th>\n",
              "      <th>Recommended IND</th>\n",
              "      <th>Positive Feedback Count</th>\n",
              "      <th>Division Name</th>\n",
              "      <th>Department Name</th>\n",
              "      <th>Class Name</th>\n",
              "    </tr>\n",
              "  </thead>\n",
              "  <tbody>\n",
              "    <tr>\n",
              "      <th>2</th>\n",
              "      <td>2</td>\n",
              "      <td>1077</td>\n",
              "      <td>60</td>\n",
              "      <td>Some major design flaws</td>\n",
              "      <td>I had such high hopes for this dress and reall...</td>\n",
              "      <td>3</td>\n",
              "      <td>0</td>\n",
              "      <td>0</td>\n",
              "      <td>General</td>\n",
              "      <td>Dresses</td>\n",
              "      <td>Dresses</td>\n",
              "    </tr>\n",
              "    <tr>\n",
              "      <th>3</th>\n",
              "      <td>3</td>\n",
              "      <td>1049</td>\n",
              "      <td>50</td>\n",
              "      <td>My favorite buy!</td>\n",
              "      <td>I love, love, love this jumpsuit. it's fun, fl...</td>\n",
              "      <td>5</td>\n",
              "      <td>1</td>\n",
              "      <td>0</td>\n",
              "      <td>General Petite</td>\n",
              "      <td>Bottoms</td>\n",
              "      <td>Pants</td>\n",
              "    </tr>\n",
              "    <tr>\n",
              "      <th>4</th>\n",
              "      <td>4</td>\n",
              "      <td>847</td>\n",
              "      <td>47</td>\n",
              "      <td>Flattering shirt</td>\n",
              "      <td>This shirt is very flattering to all due to th...</td>\n",
              "      <td>5</td>\n",
              "      <td>1</td>\n",
              "      <td>6</td>\n",
              "      <td>General</td>\n",
              "      <td>Tops</td>\n",
              "      <td>Blouses</td>\n",
              "    </tr>\n",
              "    <tr>\n",
              "      <th>5</th>\n",
              "      <td>5</td>\n",
              "      <td>1080</td>\n",
              "      <td>49</td>\n",
              "      <td>Not for the very petite</td>\n",
              "      <td>I love tracy reese dresses, but this one is no...</td>\n",
              "      <td>2</td>\n",
              "      <td>0</td>\n",
              "      <td>4</td>\n",
              "      <td>General</td>\n",
              "      <td>Dresses</td>\n",
              "      <td>Dresses</td>\n",
              "    </tr>\n",
              "    <tr>\n",
              "      <th>6</th>\n",
              "      <td>6</td>\n",
              "      <td>858</td>\n",
              "      <td>39</td>\n",
              "      <td>Cagrcoal shimmer fun</td>\n",
              "      <td>I aded this in my basket at hte last mintue to...</td>\n",
              "      <td>5</td>\n",
              "      <td>1</td>\n",
              "      <td>1</td>\n",
              "      <td>General Petite</td>\n",
              "      <td>Tops</td>\n",
              "      <td>Knits</td>\n",
              "    </tr>\n",
              "  </tbody>\n",
              "</table>\n",
              "</div>\n",
              "      <button class=\"colab-df-convert\" onclick=\"convertToInteractive('df-327e473b-1757-4fd3-85e6-63446f2e9b67')\"\n",
              "              title=\"Convert this dataframe to an interactive table.\"\n",
              "              style=\"display:none;\">\n",
              "        \n",
              "  <svg xmlns=\"http://www.w3.org/2000/svg\" height=\"24px\"viewBox=\"0 0 24 24\"\n",
              "       width=\"24px\">\n",
              "    <path d=\"M0 0h24v24H0V0z\" fill=\"none\"/>\n",
              "    <path d=\"M18.56 5.44l.94 2.06.94-2.06 2.06-.94-2.06-.94-.94-2.06-.94 2.06-2.06.94zm-11 1L8.5 8.5l.94-2.06 2.06-.94-2.06-.94L8.5 2.5l-.94 2.06-2.06.94zm10 10l.94 2.06.94-2.06 2.06-.94-2.06-.94-.94-2.06-.94 2.06-2.06.94z\"/><path d=\"M17.41 7.96l-1.37-1.37c-.4-.4-.92-.59-1.43-.59-.52 0-1.04.2-1.43.59L10.3 9.45l-7.72 7.72c-.78.78-.78 2.05 0 2.83L4 21.41c.39.39.9.59 1.41.59.51 0 1.02-.2 1.41-.59l7.78-7.78 2.81-2.81c.8-.78.8-2.07 0-2.86zM5.41 20L4 18.59l7.72-7.72 1.47 1.35L5.41 20z\"/>\n",
              "  </svg>\n",
              "      </button>\n",
              "      \n",
              "  <style>\n",
              "    .colab-df-container {\n",
              "      display:flex;\n",
              "      flex-wrap:wrap;\n",
              "      gap: 12px;\n",
              "    }\n",
              "\n",
              "    .colab-df-convert {\n",
              "      background-color: #E8F0FE;\n",
              "      border: none;\n",
              "      border-radius: 50%;\n",
              "      cursor: pointer;\n",
              "      display: none;\n",
              "      fill: #1967D2;\n",
              "      height: 32px;\n",
              "      padding: 0 0 0 0;\n",
              "      width: 32px;\n",
              "    }\n",
              "\n",
              "    .colab-df-convert:hover {\n",
              "      background-color: #E2EBFA;\n",
              "      box-shadow: 0px 1px 2px rgba(60, 64, 67, 0.3), 0px 1px 3px 1px rgba(60, 64, 67, 0.15);\n",
              "      fill: #174EA6;\n",
              "    }\n",
              "\n",
              "    [theme=dark] .colab-df-convert {\n",
              "      background-color: #3B4455;\n",
              "      fill: #D2E3FC;\n",
              "    }\n",
              "\n",
              "    [theme=dark] .colab-df-convert:hover {\n",
              "      background-color: #434B5C;\n",
              "      box-shadow: 0px 1px 3px 1px rgba(0, 0, 0, 0.15);\n",
              "      filter: drop-shadow(0px 1px 2px rgba(0, 0, 0, 0.3));\n",
              "      fill: #FFFFFF;\n",
              "    }\n",
              "  </style>\n",
              "\n",
              "      <script>\n",
              "        const buttonEl =\n",
              "          document.querySelector('#df-327e473b-1757-4fd3-85e6-63446f2e9b67 button.colab-df-convert');\n",
              "        buttonEl.style.display =\n",
              "          google.colab.kernel.accessAllowed ? 'block' : 'none';\n",
              "\n",
              "        async function convertToInteractive(key) {\n",
              "          const element = document.querySelector('#df-327e473b-1757-4fd3-85e6-63446f2e9b67');\n",
              "          const dataTable =\n",
              "            await google.colab.kernel.invokeFunction('convertToInteractive',\n",
              "                                                     [key], {});\n",
              "          if (!dataTable) return;\n",
              "\n",
              "          const docLinkHtml = 'Like what you see? Visit the ' +\n",
              "            '<a target=\"_blank\" href=https://colab.research.google.com/notebooks/data_table.ipynb>data table notebook</a>'\n",
              "            + ' to learn more about interactive tables.';\n",
              "          element.innerHTML = '';\n",
              "          dataTable['output_type'] = 'display_data';\n",
              "          await google.colab.output.renderOutput(dataTable, element);\n",
              "          const docLink = document.createElement('div');\n",
              "          docLink.innerHTML = docLinkHtml;\n",
              "          element.appendChild(docLink);\n",
              "        }\n",
              "      </script>\n",
              "    </div>\n",
              "  </div>\n",
              "  "
            ],
            "text/plain": [
              "   Unnamed: 0  Clothing ID  Age  ...   Division Name Department Name  Class Name\n",
              "2           2         1077   60  ...         General         Dresses     Dresses\n",
              "3           3         1049   50  ...  General Petite         Bottoms       Pants\n",
              "4           4          847   47  ...         General            Tops     Blouses\n",
              "5           5         1080   49  ...         General         Dresses     Dresses\n",
              "6           6          858   39  ...  General Petite            Tops       Knits\n",
              "\n",
              "[5 rows x 11 columns]"
            ]
          },
          "metadata": {},
          "execution_count": 35
        }
      ]
    },
    {
      "cell_type": "code",
      "source": [
        "reviews['Title'] = reviews['Title'].fillna('')\n",
        "reviews['Review Text'] = reviews['Review Text'].fillna('')\n",
        "reviews['review'] = reviews['Title'] + ' ' + reviews['Review Text']"
      ],
      "metadata": {
        "id": "YAwCLy3fWxfM"
      },
      "execution_count": 36,
      "outputs": []
    },
    {
      "cell_type": "code",
      "source": [
        "reviews = reviews[['review', 'Rating']]\n",
        "reviews.columns = ['review', 'rating']\n",
        "reviews.head()"
      ],
      "metadata": {
        "colab": {
          "base_uri": "https://localhost:8080/",
          "height": 206
        },
        "id": "uJOEZcK9W1Xg",
        "outputId": "3479b9d2-36a2-401a-ebcf-7eb572b60309"
      },
      "execution_count": 37,
      "outputs": [
        {
          "output_type": "execute_result",
          "data": {
            "text/html": [
              "\n",
              "  <div id=\"df-812b16a2-5530-4c99-854e-845b7a409e73\">\n",
              "    <div class=\"colab-df-container\">\n",
              "      <div>\n",
              "<style scoped>\n",
              "    .dataframe tbody tr th:only-of-type {\n",
              "        vertical-align: middle;\n",
              "    }\n",
              "\n",
              "    .dataframe tbody tr th {\n",
              "        vertical-align: top;\n",
              "    }\n",
              "\n",
              "    .dataframe thead th {\n",
              "        text-align: right;\n",
              "    }\n",
              "</style>\n",
              "<table border=\"1\" class=\"dataframe\">\n",
              "  <thead>\n",
              "    <tr style=\"text-align: right;\">\n",
              "      <th></th>\n",
              "      <th>review</th>\n",
              "      <th>rating</th>\n",
              "    </tr>\n",
              "  </thead>\n",
              "  <tbody>\n",
              "    <tr>\n",
              "      <th>2</th>\n",
              "      <td>Some major design flaws I had such high hopes ...</td>\n",
              "      <td>3</td>\n",
              "    </tr>\n",
              "    <tr>\n",
              "      <th>3</th>\n",
              "      <td>My favorite buy! I love, love, love this jumps...</td>\n",
              "      <td>5</td>\n",
              "    </tr>\n",
              "    <tr>\n",
              "      <th>4</th>\n",
              "      <td>Flattering shirt This shirt is very flattering...</td>\n",
              "      <td>5</td>\n",
              "    </tr>\n",
              "    <tr>\n",
              "      <th>5</th>\n",
              "      <td>Not for the very petite I love tracy reese dre...</td>\n",
              "      <td>2</td>\n",
              "    </tr>\n",
              "    <tr>\n",
              "      <th>6</th>\n",
              "      <td>Cagrcoal shimmer fun I aded this in my basket ...</td>\n",
              "      <td>5</td>\n",
              "    </tr>\n",
              "  </tbody>\n",
              "</table>\n",
              "</div>\n",
              "      <button class=\"colab-df-convert\" onclick=\"convertToInteractive('df-812b16a2-5530-4c99-854e-845b7a409e73')\"\n",
              "              title=\"Convert this dataframe to an interactive table.\"\n",
              "              style=\"display:none;\">\n",
              "        \n",
              "  <svg xmlns=\"http://www.w3.org/2000/svg\" height=\"24px\"viewBox=\"0 0 24 24\"\n",
              "       width=\"24px\">\n",
              "    <path d=\"M0 0h24v24H0V0z\" fill=\"none\"/>\n",
              "    <path d=\"M18.56 5.44l.94 2.06.94-2.06 2.06-.94-2.06-.94-.94-2.06-.94 2.06-2.06.94zm-11 1L8.5 8.5l.94-2.06 2.06-.94-2.06-.94L8.5 2.5l-.94 2.06-2.06.94zm10 10l.94 2.06.94-2.06 2.06-.94-2.06-.94-.94-2.06-.94 2.06-2.06.94z\"/><path d=\"M17.41 7.96l-1.37-1.37c-.4-.4-.92-.59-1.43-.59-.52 0-1.04.2-1.43.59L10.3 9.45l-7.72 7.72c-.78.78-.78 2.05 0 2.83L4 21.41c.39.39.9.59 1.41.59.51 0 1.02-.2 1.41-.59l7.78-7.78 2.81-2.81c.8-.78.8-2.07 0-2.86zM5.41 20L4 18.59l7.72-7.72 1.47 1.35L5.41 20z\"/>\n",
              "  </svg>\n",
              "      </button>\n",
              "      \n",
              "  <style>\n",
              "    .colab-df-container {\n",
              "      display:flex;\n",
              "      flex-wrap:wrap;\n",
              "      gap: 12px;\n",
              "    }\n",
              "\n",
              "    .colab-df-convert {\n",
              "      background-color: #E8F0FE;\n",
              "      border: none;\n",
              "      border-radius: 50%;\n",
              "      cursor: pointer;\n",
              "      display: none;\n",
              "      fill: #1967D2;\n",
              "      height: 32px;\n",
              "      padding: 0 0 0 0;\n",
              "      width: 32px;\n",
              "    }\n",
              "\n",
              "    .colab-df-convert:hover {\n",
              "      background-color: #E2EBFA;\n",
              "      box-shadow: 0px 1px 2px rgba(60, 64, 67, 0.3), 0px 1px 3px 1px rgba(60, 64, 67, 0.15);\n",
              "      fill: #174EA6;\n",
              "    }\n",
              "\n",
              "    [theme=dark] .colab-df-convert {\n",
              "      background-color: #3B4455;\n",
              "      fill: #D2E3FC;\n",
              "    }\n",
              "\n",
              "    [theme=dark] .colab-df-convert:hover {\n",
              "      background-color: #434B5C;\n",
              "      box-shadow: 0px 1px 3px 1px rgba(0, 0, 0, 0.15);\n",
              "      filter: drop-shadow(0px 1px 2px rgba(0, 0, 0, 0.3));\n",
              "      fill: #FFFFFF;\n",
              "    }\n",
              "  </style>\n",
              "\n",
              "      <script>\n",
              "        const buttonEl =\n",
              "          document.querySelector('#df-812b16a2-5530-4c99-854e-845b7a409e73 button.colab-df-convert');\n",
              "        buttonEl.style.display =\n",
              "          google.colab.kernel.accessAllowed ? 'block' : 'none';\n",
              "\n",
              "        async function convertToInteractive(key) {\n",
              "          const element = document.querySelector('#df-812b16a2-5530-4c99-854e-845b7a409e73');\n",
              "          const dataTable =\n",
              "            await google.colab.kernel.invokeFunction('convertToInteractive',\n",
              "                                                     [key], {});\n",
              "          if (!dataTable) return;\n",
              "\n",
              "          const docLinkHtml = 'Like what you see? Visit the ' +\n",
              "            '<a target=\"_blank\" href=https://colab.research.google.com/notebooks/data_table.ipynb>data table notebook</a>'\n",
              "            + ' to learn more about interactive tables.';\n",
              "          element.innerHTML = '';\n",
              "          dataTable['output_type'] = 'display_data';\n",
              "          await google.colab.output.renderOutput(dataTable, element);\n",
              "          const docLink = document.createElement('div');\n",
              "          docLink.innerHTML = docLinkHtml;\n",
              "          element.appendChild(docLink);\n",
              "        }\n",
              "      </script>\n",
              "    </div>\n",
              "  </div>\n",
              "  "
            ],
            "text/plain": [
              "                                              review  rating\n",
              "2  Some major design flaws I had such high hopes ...       3\n",
              "3  My favorite buy! I love, love, love this jumps...       5\n",
              "4  Flattering shirt This shirt is very flattering...       5\n",
              "5  Not for the very petite I love tracy reese dre...       2\n",
              "6  Cagrcoal shimmer fun I aded this in my basket ...       5"
            ]
          },
          "metadata": {},
          "execution_count": 37
        }
      ]
    },
    {
      "cell_type": "markdown",
      "source": [
        "#### Tokenize each sentence"
      ],
      "metadata": {
        "id": "nln320q7XrNd"
      }
    },
    {
      "cell_type": "code",
      "source": [
        "#take advantage of nltk to tokenize all sentences\n",
        "import nltk\n",
        "from nltk.corpus import stopwords\n",
        "from nltk.tokenize import word_tokenize\n",
        "nltk.download('stopwords')\n",
        "en_stop_words = set(stopwords.words('english'))\n",
        "tokenizer = nltk.RegexpTokenizer(r'\\w+|\\$[\\d\\.]+')\n",
        "\n",
        "def tokenize_sent(sent):\n",
        "    \n",
        "    tokenized = tokenizer.tokenize(sent)\n",
        "    filtered = [w.lower() for w in tokenized if w.lower() not in en_stop_words]\n",
        "    return filtered\n",
        "\n",
        "reviews['tokenized'] = reviews['review'].apply(lambda x: tokenize_sent(x))"
      ],
      "metadata": {
        "colab": {
          "base_uri": "https://localhost:8080/"
        },
        "id": "PY9XLpc1Lbda",
        "outputId": "56eba643-0e8b-4e48-e723-0aace6a1bac2"
      },
      "execution_count": 38,
      "outputs": [
        {
          "output_type": "stream",
          "name": "stdout",
          "text": [
            "[nltk_data] Downloading package stopwords to /root/nltk_data...\n",
            "[nltk_data]   Package stopwords is already up-to-date!\n"
          ]
        }
      ]
    },
    {
      "cell_type": "code",
      "source": [
        "# Sanity cehck for tokenizers\n",
        "print(reviews.head(3))"
      ],
      "metadata": {
        "colab": {
          "base_uri": "https://localhost:8080/"
        },
        "id": "OQnOPLzaM-IQ",
        "outputId": "0f49b8db-c6b7-44a1-fded-74e9c6a83967"
      },
      "execution_count": 39,
      "outputs": [
        {
          "output_type": "stream",
          "name": "stdout",
          "text": [
            "                                              review  ...                                          tokenized\n",
            "2  Some major design flaws I had such high hopes ...  ...  [major, design, flaws, high, hopes, dress, rea...\n",
            "3  My favorite buy! I love, love, love this jumps...  ...  [favorite, buy, love, love, love, jumpsuit, fu...\n",
            "4  Flattering shirt This shirt is very flattering...  ...  [flattering, shirt, shirt, flattering, due, ad...\n",
            "\n",
            "[3 rows x 3 columns]\n"
          ]
        }
      ]
    },
    {
      "cell_type": "markdown",
      "source": [
        "#### Encode and truncate sentence"
      ],
      "metadata": {
        "id": "jJlI6cYBYXbw"
      }
    },
    {
      "cell_type": "code",
      "source": [
        "# get unique words in the corpus\n",
        "all_words = []\n",
        "for x in reviews['tokenized']:\n",
        "    all_words.extend(x)\n",
        "\n",
        "word_set = list(set(all_words))\n",
        "word_count = Counter(all_words)\n",
        "\n",
        "# filter out words with low frequency\n",
        "for word_list in reviews.tokenized:\n",
        "    new_list = []\n",
        "    for word in word_list:\n",
        "        if word_count[word] > 2:\n",
        "            new_list.append(word)\n",
        "    word_list = new_list\n",
        "\n",
        "# update set of words after removing the ones with low frequency\n",
        "new_word_list = []\n",
        "for x in reviews['tokenized']:\n",
        "    new_word_list.extend(x)\n",
        "word_set = list(set(new_word_list))\n",
        "\n",
        "# map each unique words & unknown token in reviews.encoded to an index\n",
        "word2index = {}\n",
        "word2index['<UNK>'] = 0\n",
        "word2index['<PAD>'] = 1\n",
        "\n",
        "for i, word in enumerate(word_set, 2):\n",
        "    word2index[word] = i\n",
        "\n",
        "# encode the original sequence\n",
        "def encode(sent_list):\n",
        "    result = []\n",
        "    for x in sent_list:\n",
        "        index = word2index[x]\n",
        "        result.append(index)\n",
        "    return result\n",
        "\n",
        "reviews['encoded'] = reviews.tokenized.apply(lambda x: encode(x))\n",
        "\n",
        "print(reviews.head())\n",
        "\n",
        "# get sequence average length\n",
        "total_len = 0\n",
        "for x in reviews.encoded:\n",
        "    total_len += len(x)\n",
        "\n",
        "ave_len = math.floor(total_len/reviews.shape[0])\n",
        "\n",
        "# filter out long sequences --> encode all sequence to length = ave_len\n",
        "# pad short sequence\n",
        "\n",
        "for i, row in reviews.iterrows():\n",
        "    size = min(len(row.encoded), ave_len)\n",
        "    new_encoded = row.encoded[:size]\n",
        "    if size < ave_len:\n",
        "        for j in range(0, ave_len - len(row.encoded)):\n",
        "            new_encoded.append(1)\n",
        "    reviews.at[i, 'encoded'] = new_encoded\n",
        "\n",
        "reviews['review_length'] = reviews.encoded.apply(lambda x: len(x))"
      ],
      "metadata": {
        "id": "-sT1ynqj_7Fo",
        "colab": {
          "base_uri": "https://localhost:8080/"
        },
        "outputId": "aa12e695-e644-42f0-9805-0fa13672a2af"
      },
      "execution_count": 40,
      "outputs": [
        {
          "output_type": "stream",
          "name": "stdout",
          "text": [
            "                                              review  ...                                            encoded\n",
            "2  Some major design flaws I had such high hopes ...  ...  [2878, 13858, 13950, 12209, 10213, 3101, 135, ...\n",
            "3  My favorite buy! I love, love, love this jumps...  ...  [6918, 6004, 7255, 7255, 7255, 12126, 11136, 4...\n",
            "4  Flattering shirt This shirt is very flattering...  ...  [2724, 1758, 1758, 2724, 12396, 7933, 10849, 1...\n",
            "5  Not for the very petite I love tracy reese dre...  ...  [13875, 7255, 7401, 2828, 1761, 12799, 13875, ...\n",
            "6  Cagrcoal shimmer fun I aded this in my basket ...  ...  [152, 13756, 11136, 7457, 9013, 2222, 10273, 9...\n",
            "\n",
            "[5 rows x 4 columns]\n"
          ]
        }
      ]
    },
    {
      "cell_type": "code",
      "source": [
        "# sanity check for encoding:\n",
        "print(len(all_words))\n",
        "print(ave_len)\n",
        "lengths = [len(x) for x in reviews.encoded]\n",
        "print(max(lengths))\n",
        "print(min(lengths))\n",
        "print(set(reviews.rating))\n",
        "review_length = reviews.review_length\n",
        "reviews.head()\n",
        "print(len(word_set))"
      ],
      "metadata": {
        "colab": {
          "base_uri": "https://localhost:8080/"
        },
        "id": "5lNy_oCSFrqf",
        "outputId": "71fdf846-8824-40f4-f241-a6f75b0d2b88"
      },
      "execution_count": 41,
      "outputs": [
        {
          "output_type": "stream",
          "name": "stdout",
          "text": [
            "639434\n",
            "32\n",
            "32\n",
            "32\n",
            "{1, 2, 3, 4, 5}\n",
            "14088\n"
          ]
        }
      ]
    },
    {
      "cell_type": "code",
      "source": [
        "# Train test split from skearln\n",
        "data_size = len(reviews['encoded'])\n",
        "assert data_size == len(reviews['rating']) \n",
        "X, y = list(zip(list(reviews['encoded']),(list(reviews['review_length'])))), list(reviews['rating'])\n",
        "# X(data, length)\n",
        "X_train, X_test, y_train, y_test = train_test_split(X, y, test_size=0.2, random_state=43)"
      ],
      "metadata": {
        "id": "glkjNVF-N_0r"
      },
      "execution_count": 42,
      "outputs": []
    },
    {
      "cell_type": "code",
      "source": [
        "# Sanity check for length match\n",
        "print(X_train[0])"
      ],
      "metadata": {
        "colab": {
          "base_uri": "https://localhost:8080/"
        },
        "id": "AlveD7X5cPYp",
        "outputId": "0e49d0ce-4064-40e6-f92c-9fa8517773ee"
      },
      "execution_count": 43,
      "outputs": [
        {
          "output_type": "stream",
          "name": "stdout",
          "text": [
            "([5577, 10039, 11559, 5558, 8449, 10039, 4244, 11223, 6004, 307, 5577, 5558, 8892, 10042, 11530, 7255, 11358, 8800, 7315, 453, 3117, 307, 28, 4982, 5558, 8892, 7086, 2484, 12712, 28, 6400, 8892], 32)\n"
          ]
        }
      ]
    },
    {
      "cell_type": "markdown",
      "source": [
        "## Dataset and Dataloader"
      ],
      "metadata": {
        "id": "53k_akR7YiAl"
      }
    },
    {
      "cell_type": "markdown",
      "source": [
        "### Clothing Review Dataset"
      ],
      "metadata": {
        "id": "5jGEsKl8obJ9"
      }
    },
    {
      "cell_type": "code",
      "source": [
        "class Dataset_Glove(Dataset):\n",
        "    def __init__(self, X, y): \n",
        "        self.X = X\n",
        "        y_new = [i-1 for i in y]\n",
        "        self.y = y_new\n",
        "\n",
        "    def __len__(self):\n",
        "        return len(self.X)\n",
        "\n",
        "    def __getitem__(self, idx):\n",
        "        return  self.X[idx], self.y[idx]"
      ],
      "metadata": {
        "id": "nmCLiMzCY-o3"
      },
      "execution_count": 44,
      "outputs": []
    },
    {
      "cell_type": "code",
      "source": [
        "trainSet_glv = Dataset_Glove(X_train, y_train)\n",
        "testSet_glv = Dataset_Glove(X_test, y_test)"
      ],
      "metadata": {
        "id": "yf03irQDieWM"
      },
      "execution_count": 45,
      "outputs": []
    },
    {
      "cell_type": "code",
      "source": [
        "print(trainSet_glv[0])"
      ],
      "metadata": {
        "colab": {
          "base_uri": "https://localhost:8080/"
        },
        "id": "zCt282rkny8w",
        "outputId": "06892d15-ac47-4fae-ffb0-89e5a9f4d623"
      },
      "execution_count": 46,
      "outputs": [
        {
          "output_type": "stream",
          "name": "stdout",
          "text": [
            "(([5577, 10039, 11559, 5558, 8449, 10039, 4244, 11223, 6004, 307, 5577, 5558, 8892, 10042, 11530, 7255, 11358, 8800, 7315, 453, 3117, 307, 28, 4982, 5558, 8892, 7086, 2484, 12712, 28, 6400, 8892], 32), 4)\n"
          ]
        }
      ]
    },
    {
      "cell_type": "code",
      "source": [
        "def myCollate(batch):\n",
        "    data = [item[0] for item in batch]\n",
        "    label = [item[1] for item in batch]\n",
        "    # sort sequence according to it's length in a batch\n",
        "    data = data\n",
        "    # data.sort(key=lambda x: x[1], reverse = True)\n",
        "\n",
        "    # data (review: list, length: int)\n",
        "    review = torch.tensor([x[0] for x in data], dtype = torch.long)\n",
        "    label = torch.tensor(label, dtype = torch.long)\n",
        "    seq_len = [x[1] for x in data]\n",
        "    return review, label, seq_len"
      ],
      "metadata": {
        "id": "5UJ2oiTW8mYz"
      },
      "execution_count": 47,
      "outputs": []
    },
    {
      "cell_type": "code",
      "source": [
        "trainSet_glv = Dataset_Glove(X_train, y_train)\n",
        "testSet_glv = Dataset_Glove(X_test, y_test)"
      ],
      "metadata": {
        "id": "gioWFxg7AWYZ"
      },
      "execution_count": 48,
      "outputs": []
    },
    {
      "cell_type": "code",
      "source": [
        "trainLoader_glv = DataLoader(dataset = trainSet_glv, batch_size = 16, collate_fn = myCollate, shuffle = True, drop_last = True)\n",
        "testLoader_glv = DataLoader(dataset = testSet_glv, batch_size = 16, collate_fn = myCollate, shuffle = True, drop_last = True)\n",
        "it = iter(trainLoader_glv)\n",
        "x, y, seq_len = it.next()"
      ],
      "metadata": {
        "id": "nf1dmuSrfpWT"
      },
      "execution_count": 49,
      "outputs": []
    },
    {
      "cell_type": "code",
      "source": [
        "x.data"
      ],
      "metadata": {
        "id": "vxupL_Js1usD",
        "colab": {
          "base_uri": "https://localhost:8080/"
        },
        "outputId": "dac9ee94-fb86-4990-e87c-69edc69aba45"
      },
      "execution_count": 50,
      "outputs": [
        {
          "output_type": "execute_result",
          "data": {
            "text/plain": [
              "tensor([[ 8892,  1774,  3817,  5418,  1774,  6341,  1758,  9731,  1749, 11573,\n",
              "         13399,  3322,  1758,  5558,  9592,  1336,  2934,  1344,  1113,  5646,\n",
              "          3173, 12738, 11427,     1,     1,     1,     1,     1,     1,     1,\n",
              "             1,     1],\n",
              "        [ 1245, 12712, 12741,  1245,   395, 12741,   135, 12712, 10474, 13316,\n",
              "         11345,  2998,   441, 11345,  4046, 10507, 10238,  3751, 12715, 12762,\n",
              "          4359,  8587, 12762,  7255, 10240,  7942, 10166,  4400,  1574,  2255,\n",
              "          2169,  2420],\n",
              "        [13879,  1245, 10432,  4129,  3708, 11003, 12712,   395, 10432,  2907,\n",
              "          1208,  2668,  8138,  3453,  3016,  8589, 12209,  9875, 13557,  7878,\n",
              "          3380,  3117,  7878, 13557,     1,     1,     1,     1,     1,     1,\n",
              "             1,     1],\n",
              "        [ 9714,  9714,  7727,  1749, 13858,  1113, 12585, 12920,  9229,  5618,\n",
              "          4638,  9798,  2147, 13249,  8866,  8892,   559, 12315,     1,     1,\n",
              "             1,     1,     1,     1,     1,     1,     1,     1,     1,     1,\n",
              "             1,     1],\n",
              "        [12712,  1749,  1014,  8895,   237, 11780, 12889, 12021,  8892,  4937,\n",
              "           490,    58,   480,  1749, 12021, 12712,  4937,  6113, 12762, 11982,\n",
              "          4145,  4135,  1576, 11181,  2077,     1,     1,     1,     1,     1,\n",
              "             1,     1],\n",
              "        [11136,  3708,  3708,   537,  1517,  8514,  8906, 12889, 12774,  7255,\n",
              "         13245,  1749,  8589,  3026,  8895, 11136, 10141,  4145,     1,     1,\n",
              "             1,     1,     1,     1,     1,     1,     1,     1,     1,     1,\n",
              "             1,     1],\n",
              "        [ 7172,  6682,  8449,  9265, 12147,  4823, 13998,   395, 12021, 12712,\n",
              "         13875,  3567,  8843,  4626, 10142,  8892,  7172,   157, 13825, 11530,\n",
              "         10507, 11318,  4238,   666,     1,     1,     1,     1,     1,     1,\n",
              "             1,     1],\n",
              "        [12712,  7465, 12117,  3101,  9875,  3101,  4937,   945,  1113, 11003,\n",
              "          1863,  4823,  3163,  3101, 13397,  5080,  6927,  2961, 13285, 12117,\n",
              "         11517,  9820, 10309,  5402,  7463,  4071,  1113,   945,  6771, 12741,\n",
              "          6349, 14036],\n",
              "        [ 7351,  3101, 12071,  7727, 13867,  3538, 13867,  4333, 12762,  5159,\n",
              "          1737,  9831,  4267, 11015,  2938, 11375,  6622,     1,     1,     1,\n",
              "             1,     1,     1,     1,     1,     1,     1,     1,     1,     1,\n",
              "             1,     1],\n",
              "        [11883, 10318,  8589,  3708,  9951,  1921, 10419, 13879, 11358,  3196,\n",
              "          7463,  6400,  4071,  8136,  9131,  8892,  3708, 11883, 10318,  6622,\n",
              "          4422, 12762,  5159,  4792,  8136,  4422,  8892,  5558,     1,     1,\n",
              "             1,     1],\n",
              "        [ 1812, 13245,  3419, 11092, 11116,   919, 10507,  6746, 13156,   945,\n",
              "          1113,  5156,  7338,  7614,  8892, 12700,  4510,  2907, 13867, 10238,\n",
              "          9378,  1208,   720, 12762,  8906,  9362,  3079,  6697, 13356,   395,\n",
              "          2075,  9875],\n",
              "        [ 4018, 10308,   395,   843, 13879,  1113,  3770,  4559, 13166,  3548,\n",
              "          7196,  9243,  3093, 10067,  4018, 10419,  9176,  9157, 11292,  3121,\n",
              "          2366,     1,     1,     1,     1,     1,     1,     1,     1,     1,\n",
              "             1,     1],\n",
              "        [12460,  6341, 13547,  6341, 10429,  4823,   584, 10238,     1,     1,\n",
              "             1,     1,     1,     1,     1,     1,     1,     1,     1,     1,\n",
              "             1,     1,     1,     1,     1,     1,     1,     1,     1,     1,\n",
              "             1,     1],\n",
              "        [  584, 11517,  9875,  4163,  4359, 10212,   307, 10386, 11358,  3196,\n",
              "          3348,  3519,  9934,  1113,  1812,  4165,  1569, 12197,   307,     1,\n",
              "             1,     1,     1,     1,     1,     1,     1,     1,     1,     1,\n",
              "             1,     1],\n",
              "        [ 9770,  3101,  2908,  2777, 10878,  9770,  3101, 11292,   354,  4677,\n",
              "          1113, 12712, 12507,  3101,  2777, 10878,  1576,  8589, 12209, 12209,\n",
              "          9726,  4321, 10507, 13687,  2831,  3637,   843, 13879,  7338, 11708,\n",
              "         11358, 12962],\n",
              "        [ 4129,  4129,  3101,  1190,   354, 12209,  3026, 12029, 13740, 13438,\n",
              "          1749,  8589, 12021,  1465,  2751,  8892,  8365,  2705,  9103,  1161,\n",
              "          9592,  9103,  9592, 12741,  8060,   317,  5558, 13305,  8218, 12762,\n",
              "          9592,  2724]])"
            ]
          },
          "metadata": {},
          "execution_count": 50
        }
      ]
    },
    {
      "cell_type": "code",
      "source": [
        "y"
      ],
      "metadata": {
        "id": "iPW8bqg1th7a",
        "colab": {
          "base_uri": "https://localhost:8080/"
        },
        "outputId": "db10660c-e617-4e50-d78c-1d594f8b4dfd"
      },
      "execution_count": 51,
      "outputs": [
        {
          "output_type": "execute_result",
          "data": {
            "text/plain": [
              "tensor([0, 4, 3, 1, 4, 3, 4, 4, 3, 1, 4, 2, 3, 4, 3, 3])"
            ]
          },
          "metadata": {},
          "execution_count": 51
        }
      ]
    },
    {
      "cell_type": "code",
      "source": [
        "seq_len"
      ],
      "metadata": {
        "id": "o9PING33tjoJ",
        "colab": {
          "base_uri": "https://localhost:8080/"
        },
        "outputId": "fbb4a364-207c-425a-ad87-9f99b6b6b11d"
      },
      "execution_count": 52,
      "outputs": [
        {
          "output_type": "execute_result",
          "data": {
            "text/plain": [
              "[32, 32, 32, 32, 32, 32, 32, 32, 32, 32, 32, 32, 32, 32, 32, 32]"
            ]
          },
          "metadata": {},
          "execution_count": 52
        }
      ]
    },
    {
      "cell_type": "markdown",
      "source": [
        "## Embedding"
      ],
      "metadata": {
        "id": "dkOEB6jDYT2J"
      }
    },
    {
      "cell_type": "code",
      "source": [
        "def load_glove_vectors(glove_file=\"/content/drive/MyDrive/data /glove.6B.50d.txt\"):\n",
        "    \"\"\"Load the glove word vectors\"\"\"\n",
        "    word_vectors = {}\n",
        "    with open(glove_file) as f:\n",
        "        for line in f:\n",
        "            split = line.split()\n",
        "            word_vectors[split[0]] = np.array([float(x) for x in split[1:]])\n",
        "    return word_vectors\n"
      ],
      "metadata": {
        "id": "kMAextiWYdVH"
      },
      "execution_count": 53,
      "outputs": []
    },
    {
      "cell_type": "code",
      "source": [
        "# create embedding matrix\n",
        "def emb_matrix(model, all_words, word2index):\n",
        "    matrix_size = len(word_set) + 2\n",
        "    emb_matrix = np.zeros((matrix_size, 50))\n",
        "    emb_matrix[0] = np.random.uniform(-0.25, 0.25, 50) # vector for UNK\n",
        "    emb_matrix[1] = np.zeros(50) # vector for padding, has no weight\n",
        "\n",
        "    # vector for every other word in the dictionary\n",
        "    for i in range(2, len(all_words)+2):\n",
        "        word = all_words[i-2]\n",
        "        index = word2index[word]\n",
        "        try:\n",
        "            vector = model[word]\n",
        "        except Exception as e:\n",
        "            # word does not exist in the pretrained embedding\n",
        "            vector = emb_matrix[0]\n",
        "        emb_matrix[index] = vector\n",
        "    return emb_matrix"
      ],
      "metadata": {
        "id": "QRqGHAIJAgAx"
      },
      "execution_count": 54,
      "outputs": []
    },
    {
      "cell_type": "code",
      "source": [
        "glv = load_glove_vectors()\n",
        "data = list(glv.values())\n",
        "an_array=np.array(data)"
      ],
      "metadata": {
        "id": "PDwKI15AwK2Q"
      },
      "execution_count": 55,
      "outputs": []
    },
    {
      "cell_type": "code",
      "source": [
        "embedding = emb_matrix(glv, word_set, word2index)"
      ],
      "metadata": {
        "id": "rKqasNfKXMQU"
      },
      "execution_count": 56,
      "outputs": []
    },
    {
      "cell_type": "code",
      "source": [
        "print(embedding.shape)"
      ],
      "metadata": {
        "id": "y1XRr66CXd76",
        "colab": {
          "base_uri": "https://localhost:8080/"
        },
        "outputId": "11ce5402-bc21-42d2-c969-15d93e40ffff"
      },
      "execution_count": 57,
      "outputs": [
        {
          "output_type": "stream",
          "name": "stdout",
          "text": [
            "(14090, 50)\n"
          ]
        }
      ]
    },
    {
      "cell_type": "code",
      "source": [
        "print(embedding)"
      ],
      "metadata": {
        "id": "Axpw0w9DyznK",
        "colab": {
          "base_uri": "https://localhost:8080/"
        },
        "outputId": "cf44b632-78e0-427a-cfed-c38bda445b01"
      },
      "execution_count": 58,
      "outputs": [
        {
          "output_type": "stream",
          "name": "stdout",
          "text": [
            "[[ 0.21841288 -0.18777747 -0.1930779  ... -0.05635462  0.00554003\n",
            "  -0.08044043]\n",
            " [ 0.          0.          0.         ...  0.          0.\n",
            "   0.        ]\n",
            " [ 0.29602    -0.36204    -0.41564    ... -0.24321    -0.62639\n",
            "  -0.0056615 ]\n",
            " ...\n",
            " [ 0.044296   -0.23973     0.16029    ... -0.51702    -0.090612\n",
            "  -0.30921   ]\n",
            " [ 0.12015    -1.3559     -0.1136     ...  1.0329     -0.45162\n",
            "  -0.54243   ]\n",
            " [-1.2576     -0.16698     0.80361    ... -0.025248    0.25124\n",
            "   0.25934   ]]\n"
          ]
        }
      ]
    },
    {
      "cell_type": "code",
      "source": [
        "def validation_metrics(model, valid_dl):\n",
        "    print(\"current in vlaidaiton\")\n",
        "    model.eval()\n",
        "    correct = 0\n",
        "    total = 0\n",
        "    sum_loss = 0.0\n",
        "    sum_rmse = 0.0\n",
        "    criterion = nn.CrossEntropyLoss()\n",
        "    model = model.to(device)\n",
        "    for x, y, seq_len in valid_dl:\n",
        "        x = x.long().to(device)\n",
        "        y = y.long().to(device)\n",
        "        y_hat = model(x, seq_len)\n",
        "        loss = criterion(y_hat, y)\n",
        "        \n",
        "        # print(f\"shape of y: {y.shape}\")\n",
        "        # print(f\"shape of y_pred: {y_hat.shape}\")\n",
        "        # print(y_hat)\n",
        "        pred = torch.argmax(y_hat, 1)\n",
        "        # print(pred)\n",
        "        correct += sum((pred == y))\n",
        "        total += y.shape[0]\n",
        "        sum_loss += loss.item()*y.shape[0]\n",
        "\n",
        "    return sum_loss/total, correct/total"
      ],
      "metadata": {
        "id": "I40nbCLXlJt9"
      },
      "execution_count": 59,
      "outputs": []
    },
    {
      "cell_type": "code",
      "source": [
        "def train_model(model, fname, epochs = 50, lr = 0.0001):\n",
        "    parameters = filter(lambda p:p.requires_grad, model.parameters())\n",
        "    optimizer = torch.optim.Adam(parameters, lr = lr)\n",
        "    criterion = nn.CrossEntropyLoss()\n",
        "    model = model.to(device)\n",
        "    PATH = '/content/drive/MyDrive/McGill/Comp 550/' + fname\n",
        "    epoch = 0\n",
        "    best_val_acc = 0.0\n",
        "    for i in range(epochs):\n",
        "        epoch += 1\n",
        "        print(f\"At epoch {i}\")\n",
        "        batch_count = 0\n",
        "        model.train()\n",
        "        sum_loss = 0.0\n",
        "        total = 0.0\n",
        "        train_correct = 0.0\n",
        "        for x, y, seq_len in tqdm(trainLoader_glv):\n",
        "            x = x.long().to(device)\n",
        "            y = y.long().to(device)\n",
        "            batch_count += 1\n",
        "            optimizer.zero_grad()\n",
        "            y_pred = model(x, seq_len)\n",
        "            pred = torch.argmax(y_pred, 1)\n",
        "            train_correct += sum((pred == y))\n",
        "            loss = criterion(y_pred, y)\n",
        "            loss.backward()\n",
        "            optimizer.step()\n",
        "            sum_loss += loss.item()*y.shape[0]\n",
        "            total += y.shape[0]\n",
        "        val_loss, val_acc = validation_metrics(model, testLoader_glv)\n",
        "        print(\"train loss %.3f, train accuracy %.3f, val loss %.3f, val accuracy %.3f\" \n",
        "              % (sum_loss/total, train_correct/total, val_loss, val_acc))\n",
        "        if val_acc > best_val_acc and i>=2:\n",
        "            best_val_acc = val_acc\n",
        "            NEW_PATH = PATH+f'_{i}_{val_acc}'\n",
        "            #torch.save(model.state_dict(), NEW_PATH)\n",
        "            print(f\"\\t=> Best model saved at {i}th epoch with valication accuracy of {val_acc}\")"
      ],
      "metadata": {
        "id": "YVwWS3rRnOw0"
      },
      "execution_count": 60,
      "outputs": []
    },
    {
      "cell_type": "code",
      "source": [
        "weight = torch.FloatTensor(an_array)\n",
        "glv_embedding = nn.Embedding.from_pretrained(weight)\n",
        "\n",
        "class LSTM_glv(torch.nn.Module):\n",
        "    def __init__(self, emb_matrix, embedding_dim, hidden_dim):\n",
        "        super().__init__()\n",
        "        self.embedding_dim = embedding_dim\n",
        "        self.embeddings = nn.Embedding(emb_matrix.shape[0], embedding_dim, padding_idx = 0)\n",
        "        self.embeddings.weight.data.copy_(torch.from_numpy(emb_matrix))\n",
        "        self.lstm = nn.LSTM(embedding_dim, hidden_dim, batch_first=True)\n",
        "        self.embedding_dim = embedding_dim\n",
        "        self.hidden_dim = hidden_dim\n",
        "        self.linear = nn.Linear(hidden_dim, 5)\n",
        "        self.dropout = nn.Dropout(0.5)\n",
        "\n",
        "    def forward(self, x, seq_len):\n",
        "        x = self.embeddings(x)\n",
        "        # x = nn.utils.rnn.pack_padded_sequence(x, self.embedding_dim, batch_first = True)\n",
        "        x = self.dropout(x)\n",
        "        # x_padded = pack_padded_sequence(x, seq_len, batch_first = True)\n",
        "        output, (h_n, c_n) = self.lstm(x)\n",
        "        # print(h_n[-1].shape)\n",
        "        # output (N, ave_len, num_class)\n",
        "        # reshape to out (N, num_class)\n",
        "        \n",
        "        return self.linear(h_n[-1])"
      ],
      "metadata": {
        "id": "w1y9PO6JW28H"
      },
      "execution_count": 61,
      "outputs": []
    },
    {
      "cell_type": "code",
      "source": [
        "model = LSTM_glv(embedding, 50, 100)\n",
        "train_model(model, fname='glv_lstm', epochs=10)"
      ],
      "metadata": {
        "id": "xShR5nvtlxXV",
        "colab": {
          "base_uri": "https://localhost:8080/"
        },
        "outputId": "a9158fbf-d2bc-4976-ecfa-9260f7dbbcff"
      },
      "execution_count": 62,
      "outputs": [
        {
          "output_type": "stream",
          "name": "stdout",
          "text": [
            "At epoch 0\n"
          ]
        },
        {
          "output_type": "stream",
          "name": "stderr",
          "text": [
            "100%|██████████| 983/983 [00:03<00:00, 251.51it/s]\n"
          ]
        },
        {
          "output_type": "stream",
          "name": "stdout",
          "text": [
            "current in vlaidaiton\n",
            "train loss 1.226, train accuracy 0.552, val loss 1.130, val accuracy 0.552\n",
            "At epoch 1\n"
          ]
        },
        {
          "output_type": "stream",
          "name": "stderr",
          "text": [
            "100%|██████████| 983/983 [00:03<00:00, 254.64it/s]\n"
          ]
        },
        {
          "output_type": "stream",
          "name": "stdout",
          "text": [
            "current in vlaidaiton\n",
            "train loss 1.108, train accuracy 0.553, val loss 1.099, val accuracy 0.552\n",
            "At epoch 2\n"
          ]
        },
        {
          "output_type": "stream",
          "name": "stderr",
          "text": [
            "100%|██████████| 983/983 [00:03<00:00, 251.50it/s]\n"
          ]
        },
        {
          "output_type": "stream",
          "name": "stdout",
          "text": [
            "current in vlaidaiton\n",
            "train loss 1.074, train accuracy 0.558, val loss 1.041, val accuracy 0.562\n",
            "\t=> Best model saved at 2th epoch with valication accuracy of 0.5625\n",
            "At epoch 3\n"
          ]
        },
        {
          "output_type": "stream",
          "name": "stderr",
          "text": [
            "100%|██████████| 983/983 [00:03<00:00, 251.82it/s]\n"
          ]
        },
        {
          "output_type": "stream",
          "name": "stdout",
          "text": [
            "current in vlaidaiton\n",
            "train loss 1.039, train accuracy 0.569, val loss 0.976, val accuracy 0.590\n",
            "\t=> Best model saved at 3th epoch with valication accuracy of 0.590050995349884\n",
            "At epoch 4\n"
          ]
        },
        {
          "output_type": "stream",
          "name": "stderr",
          "text": [
            "100%|██████████| 983/983 [00:03<00:00, 263.26it/s]\n"
          ]
        },
        {
          "output_type": "stream",
          "name": "stdout",
          "text": [
            "current in vlaidaiton\n",
            "train loss 1.012, train accuracy 0.587, val loss 0.953, val accuracy 0.595\n",
            "\t=> Best model saved at 4th epoch with valication accuracy of 0.5946428179740906\n",
            "At epoch 5\n"
          ]
        },
        {
          "output_type": "stream",
          "name": "stderr",
          "text": [
            "100%|██████████| 983/983 [00:03<00:00, 257.29it/s]\n"
          ]
        },
        {
          "output_type": "stream",
          "name": "stdout",
          "text": [
            "current in vlaidaiton\n",
            "train loss 0.991, train accuracy 0.589, val loss 0.972, val accuracy 0.589\n",
            "At epoch 6\n"
          ]
        },
        {
          "output_type": "stream",
          "name": "stderr",
          "text": [
            "100%|██████████| 983/983 [00:03<00:00, 251.52it/s]\n"
          ]
        },
        {
          "output_type": "stream",
          "name": "stdout",
          "text": [
            "current in vlaidaiton\n",
            "train loss 0.973, train accuracy 0.599, val loss 0.960, val accuracy 0.603\n",
            "\t=> Best model saved at 6th epoch with valication accuracy of 0.6030611991882324\n",
            "At epoch 7\n"
          ]
        },
        {
          "output_type": "stream",
          "name": "stderr",
          "text": [
            "100%|██████████| 983/983 [00:03<00:00, 248.90it/s]\n"
          ]
        },
        {
          "output_type": "stream",
          "name": "stdout",
          "text": [
            "current in vlaidaiton\n",
            "train loss 0.952, train accuracy 0.600, val loss 0.900, val accuracy 0.622\n",
            "\t=> Best model saved at 7th epoch with valication accuracy of 0.6224489808082581\n",
            "At epoch 8\n"
          ]
        },
        {
          "output_type": "stream",
          "name": "stderr",
          "text": [
            "100%|██████████| 983/983 [00:03<00:00, 257.69it/s]\n"
          ]
        },
        {
          "output_type": "stream",
          "name": "stdout",
          "text": [
            "current in vlaidaiton\n",
            "train loss 0.941, train accuracy 0.608, val loss 0.945, val accuracy 0.602\n",
            "At epoch 9\n"
          ]
        },
        {
          "output_type": "stream",
          "name": "stderr",
          "text": [
            "100%|██████████| 983/983 [00:03<00:00, 254.49it/s]\n"
          ]
        },
        {
          "output_type": "stream",
          "name": "stdout",
          "text": [
            "current in vlaidaiton\n",
            "train loss 0.928, train accuracy 0.614, val loss 0.932, val accuracy 0.613\n"
          ]
        }
      ]
    },
    {
      "cell_type": "code",
      "source": [
        ""
      ],
      "metadata": {
        "id": "s0P-MnfwynbQ"
      },
      "execution_count": 62,
      "outputs": []
    }
  ]
}