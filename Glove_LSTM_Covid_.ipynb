{
  "nbformat": 4,
  "nbformat_minor": 0,
  "metadata": {
    "colab": {
      "name": "Glove_LSTM_Covid.ipynb”",
      "provenance": [],
      "machine_shape": "hm",
      "collapsed_sections": [
        "dkOEB6jDYT2J",
        "OqdcZxTlZqz0"
      ]
    },
    "kernelspec": {
      "name": "python3",
      "display_name": "Python 3"
    },
    "language_info": {
      "name": "python"
    },
    "accelerator": "GPU"
  },
  "cells": [
    {
      "cell_type": "code",
      "execution_count": 1,
      "metadata": {
        "colab": {
          "base_uri": "https://localhost:8080/"
        },
        "id": "rjWPn-GiVGPf",
        "outputId": "ac9f4c94-d5e1-4d57-8a09-4f42e20a8212"
      },
      "outputs": [
        {
          "output_type": "stream",
          "name": "stdout",
          "text": [
            "Mounted at /content/drive\n"
          ]
        }
      ],
      "source": [
        "from google.colab import drive\n",
        "drive.mount('/content/drive')"
      ]
    },
    {
      "cell_type": "code",
      "source": [
        "import torch\n",
        "import torch.nn as nn\n",
        "import pandas as pd\n",
        "import numpy as np\n",
        "import logging\n",
        "import gzip\n",
        "import gensim \n",
        "import re\n",
        "import spacy\n",
        "import math\n",
        "from bs4 import BeautifulSoup\n",
        "from collections import Counter\n",
        "from torch.utils.data import Dataset, DataLoader\n",
        "import torch.nn.functional as F\n",
        "import string\n",
        "from torch.nn.utils.rnn import pack_padded_sequence, pad_packed_sequence, pad_sequence\n",
        "from sklearn.metrics import mean_squared_error\n",
        "from sklearn.model_selection import train_test_split\n",
        "from tqdm import tqdm\n",
        "import nltk\n",
        "from nltk.corpus import wordnet\n",
        "from nltk.corpus import stopwords\n",
        "nltk.download('wordnet')\n",
        "nltk.download('stopwords')"
      ],
      "metadata": {
        "id": "S7SfU_6lViKR",
        "colab": {
          "base_uri": "https://localhost:8080/"
        },
        "outputId": "5f02a30d-adf3-4cd5-cf55-6d924000e747"
      },
      "execution_count": 2,
      "outputs": [
        {
          "output_type": "stream",
          "name": "stdout",
          "text": [
            "[nltk_data] Downloading package wordnet to /root/nltk_data...\n",
            "[nltk_data]   Unzipping corpora/wordnet.zip.\n",
            "[nltk_data] Downloading package stopwords to /root/nltk_data...\n",
            "[nltk_data]   Unzipping corpora/stopwords.zip.\n"
          ]
        },
        {
          "output_type": "execute_result",
          "data": {
            "text/plain": [
              "True"
            ]
          },
          "metadata": {},
          "execution_count": 2
        }
      ]
    },
    {
      "cell_type": "code",
      "source": [
        "print(torch.cuda.is_available())\n",
        "device = 'cuda:0' if torch.cuda.is_available() else 'cpu'\n",
        "device"
      ],
      "metadata": {
        "colab": {
          "base_uri": "https://localhost:8080/",
          "height": 53
        },
        "id": "rItWBp7RJEQq",
        "outputId": "7d30bc64-f97d-4a9d-ec63-33d4fd0d413e"
      },
      "execution_count": 3,
      "outputs": [
        {
          "output_type": "stream",
          "name": "stdout",
          "text": [
            "True\n"
          ]
        },
        {
          "output_type": "execute_result",
          "data": {
            "application/vnd.google.colaboratory.intrinsic+json": {
              "type": "string"
            },
            "text/plain": [
              "'cuda:0'"
            ]
          },
          "metadata": {},
          "execution_count": 3
        }
      ]
    },
    {
      "cell_type": "markdown",
      "source": [
        "# Preprocessing & Loading data"
      ],
      "metadata": {
        "id": "3KGKdTO5W7AH"
      }
    },
    {
      "cell_type": "markdown",
      "source": [
        "### Covid dataset"
      ],
      "metadata": {
        "id": "OyA2zPsboOln"
      }
    },
    {
      "cell_type": "code",
      "source": [
        "# Load dataset for clothing reviews\n",
        "covid_train = pd.read_csv(\"/content/drive/MyDrive/data /Corona_NLP_test.csv\", encoding=\"latin1\")\n",
        "covid_train = covid_train.dropna()\n",
        "covid_test = pd.read_csv(\"/content/drive/MyDrive/data /Corona_NLP_test.csv\")\n",
        "covid_test = covid_test.dropna()\n",
        "\n",
        "covid_trian_inds = list(range(0, covid_train.shape[0]))\n",
        "\n",
        "# cat both datasets for preprocessing\n",
        "frames = [covid_train, covid_test]\n",
        "covid = pd.concat(frames)\n",
        "print(covid_train.head())\n",
        "print(covid_test.shape)\n",
        "print(type(covid))"
      ],
      "metadata": {
        "colab": {
          "base_uri": "https://localhost:8080/"
        },
        "id": "imlvO0RAVl5k",
        "outputId": "5eab598b-e30c-4b6b-cfed-07dd1c582c4f"
      },
      "execution_count": 4,
      "outputs": [
        {
          "output_type": "stream",
          "name": "stdout",
          "text": [
            "   UserName  ...           Sentiment\n",
            "0         1  ...  Extremely Negative\n",
            "1         2  ...            Positive\n",
            "3         4  ...            Negative\n",
            "4         5  ...             Neutral\n",
            "5         6  ...             Neutral\n",
            "\n",
            "[5 rows x 6 columns]\n",
            "(2964, 6)\n",
            "<class 'pandas.core.frame.DataFrame'>\n"
          ]
        }
      ]
    },
    {
      "cell_type": "code",
      "source": [
        "covid.head()"
      ],
      "metadata": {
        "colab": {
          "base_uri": "https://localhost:8080/",
          "height": 206
        },
        "id": "-PhdeoWLWgj3",
        "outputId": "d3b55f57-d505-440c-9c72-562a5951ff04"
      },
      "execution_count": 5,
      "outputs": [
        {
          "output_type": "execute_result",
          "data": {
            "text/html": [
              "\n",
              "  <div id=\"df-8367c200-0a1f-4b56-b3c3-4d0db5f4aabb\">\n",
              "    <div class=\"colab-df-container\">\n",
              "      <div>\n",
              "<style scoped>\n",
              "    .dataframe tbody tr th:only-of-type {\n",
              "        vertical-align: middle;\n",
              "    }\n",
              "\n",
              "    .dataframe tbody tr th {\n",
              "        vertical-align: top;\n",
              "    }\n",
              "\n",
              "    .dataframe thead th {\n",
              "        text-align: right;\n",
              "    }\n",
              "</style>\n",
              "<table border=\"1\" class=\"dataframe\">\n",
              "  <thead>\n",
              "    <tr style=\"text-align: right;\">\n",
              "      <th></th>\n",
              "      <th>UserName</th>\n",
              "      <th>ScreenName</th>\n",
              "      <th>Location</th>\n",
              "      <th>TweetAt</th>\n",
              "      <th>OriginalTweet</th>\n",
              "      <th>Sentiment</th>\n",
              "    </tr>\n",
              "  </thead>\n",
              "  <tbody>\n",
              "    <tr>\n",
              "      <th>0</th>\n",
              "      <td>1</td>\n",
              "      <td>44953</td>\n",
              "      <td>NYC</td>\n",
              "      <td>02-03-2020</td>\n",
              "      <td>TRENDING: New Yorkers encounter empty supermar...</td>\n",
              "      <td>Extremely Negative</td>\n",
              "    </tr>\n",
              "    <tr>\n",
              "      <th>1</th>\n",
              "      <td>2</td>\n",
              "      <td>44954</td>\n",
              "      <td>Seattle, WA</td>\n",
              "      <td>02-03-2020</td>\n",
              "      <td>When I couldn't find hand sanitizer at Fred Me...</td>\n",
              "      <td>Positive</td>\n",
              "    </tr>\n",
              "    <tr>\n",
              "      <th>3</th>\n",
              "      <td>4</td>\n",
              "      <td>44956</td>\n",
              "      <td>Chicagoland</td>\n",
              "      <td>02-03-2020</td>\n",
              "      <td>#Panic buying hits #NewYork City as anxious sh...</td>\n",
              "      <td>Negative</td>\n",
              "    </tr>\n",
              "    <tr>\n",
              "      <th>4</th>\n",
              "      <td>5</td>\n",
              "      <td>44957</td>\n",
              "      <td>Melbourne, Victoria</td>\n",
              "      <td>03-03-2020</td>\n",
              "      <td>#toiletpaper #dunnypaper #coronavirus #coronav...</td>\n",
              "      <td>Neutral</td>\n",
              "    </tr>\n",
              "    <tr>\n",
              "      <th>5</th>\n",
              "      <td>6</td>\n",
              "      <td>44958</td>\n",
              "      <td>Los Angeles</td>\n",
              "      <td>03-03-2020</td>\n",
              "      <td>Do you remember the last time you paid $2.99 a...</td>\n",
              "      <td>Neutral</td>\n",
              "    </tr>\n",
              "  </tbody>\n",
              "</table>\n",
              "</div>\n",
              "      <button class=\"colab-df-convert\" onclick=\"convertToInteractive('df-8367c200-0a1f-4b56-b3c3-4d0db5f4aabb')\"\n",
              "              title=\"Convert this dataframe to an interactive table.\"\n",
              "              style=\"display:none;\">\n",
              "        \n",
              "  <svg xmlns=\"http://www.w3.org/2000/svg\" height=\"24px\"viewBox=\"0 0 24 24\"\n",
              "       width=\"24px\">\n",
              "    <path d=\"M0 0h24v24H0V0z\" fill=\"none\"/>\n",
              "    <path d=\"M18.56 5.44l.94 2.06.94-2.06 2.06-.94-2.06-.94-.94-2.06-.94 2.06-2.06.94zm-11 1L8.5 8.5l.94-2.06 2.06-.94-2.06-.94L8.5 2.5l-.94 2.06-2.06.94zm10 10l.94 2.06.94-2.06 2.06-.94-2.06-.94-.94-2.06-.94 2.06-2.06.94z\"/><path d=\"M17.41 7.96l-1.37-1.37c-.4-.4-.92-.59-1.43-.59-.52 0-1.04.2-1.43.59L10.3 9.45l-7.72 7.72c-.78.78-.78 2.05 0 2.83L4 21.41c.39.39.9.59 1.41.59.51 0 1.02-.2 1.41-.59l7.78-7.78 2.81-2.81c.8-.78.8-2.07 0-2.86zM5.41 20L4 18.59l7.72-7.72 1.47 1.35L5.41 20z\"/>\n",
              "  </svg>\n",
              "      </button>\n",
              "      \n",
              "  <style>\n",
              "    .colab-df-container {\n",
              "      display:flex;\n",
              "      flex-wrap:wrap;\n",
              "      gap: 12px;\n",
              "    }\n",
              "\n",
              "    .colab-df-convert {\n",
              "      background-color: #E8F0FE;\n",
              "      border: none;\n",
              "      border-radius: 50%;\n",
              "      cursor: pointer;\n",
              "      display: none;\n",
              "      fill: #1967D2;\n",
              "      height: 32px;\n",
              "      padding: 0 0 0 0;\n",
              "      width: 32px;\n",
              "    }\n",
              "\n",
              "    .colab-df-convert:hover {\n",
              "      background-color: #E2EBFA;\n",
              "      box-shadow: 0px 1px 2px rgba(60, 64, 67, 0.3), 0px 1px 3px 1px rgba(60, 64, 67, 0.15);\n",
              "      fill: #174EA6;\n",
              "    }\n",
              "\n",
              "    [theme=dark] .colab-df-convert {\n",
              "      background-color: #3B4455;\n",
              "      fill: #D2E3FC;\n",
              "    }\n",
              "\n",
              "    [theme=dark] .colab-df-convert:hover {\n",
              "      background-color: #434B5C;\n",
              "      box-shadow: 0px 1px 3px 1px rgba(0, 0, 0, 0.15);\n",
              "      filter: drop-shadow(0px 1px 2px rgba(0, 0, 0, 0.3));\n",
              "      fill: #FFFFFF;\n",
              "    }\n",
              "  </style>\n",
              "\n",
              "      <script>\n",
              "        const buttonEl =\n",
              "          document.querySelector('#df-8367c200-0a1f-4b56-b3c3-4d0db5f4aabb button.colab-df-convert');\n",
              "        buttonEl.style.display =\n",
              "          google.colab.kernel.accessAllowed ? 'block' : 'none';\n",
              "\n",
              "        async function convertToInteractive(key) {\n",
              "          const element = document.querySelector('#df-8367c200-0a1f-4b56-b3c3-4d0db5f4aabb');\n",
              "          const dataTable =\n",
              "            await google.colab.kernel.invokeFunction('convertToInteractive',\n",
              "                                                     [key], {});\n",
              "          if (!dataTable) return;\n",
              "\n",
              "          const docLinkHtml = 'Like what you see? Visit the ' +\n",
              "            '<a target=\"_blank\" href=https://colab.research.google.com/notebooks/data_table.ipynb>data table notebook</a>'\n",
              "            + ' to learn more about interactive tables.';\n",
              "          element.innerHTML = '';\n",
              "          dataTable['output_type'] = 'display_data';\n",
              "          await google.colab.output.renderOutput(dataTable, element);\n",
              "          const docLink = document.createElement('div');\n",
              "          docLink.innerHTML = docLinkHtml;\n",
              "          element.appendChild(docLink);\n",
              "        }\n",
              "      </script>\n",
              "    </div>\n",
              "  </div>\n",
              "  "
            ],
            "text/plain": [
              "   UserName  ...           Sentiment\n",
              "0         1  ...  Extremely Negative\n",
              "1         2  ...            Positive\n",
              "3         4  ...            Negative\n",
              "4         5  ...             Neutral\n",
              "5         6  ...             Neutral\n",
              "\n",
              "[5 rows x 6 columns]"
            ]
          },
          "metadata": {},
          "execution_count": 5
        }
      ]
    },
    {
      "cell_type": "code",
      "source": [
        "# preprocess training and testing set\n",
        "\n",
        "covid = covid[['OriginalTweet', 'Sentiment']]\n",
        "covid.columns = ['tweet', 'sentiment']\n",
        "sentiment_dict = {'negative': 0, 'extremely negative':0, 'neutral':1, 'positive':2, 'extremely positive':2}\n",
        "error_line = []\n",
        "\n",
        "def encode_sentiment(x):\n",
        "    sent_encoded = sentiment_dict[x.lower()]\n",
        "    return sent_encoded\n",
        "\n",
        "covid['sentiment_encoded'] = covid['sentiment'].apply(lambda x: encode_sentiment(x))\n",
        "\n"
      ],
      "metadata": {
        "id": "RlxI_7QNtGiO"
      },
      "execution_count": 6,
      "outputs": []
    },
    {
      "cell_type": "code",
      "source": [
        "covid.head()"
      ],
      "metadata": {
        "colab": {
          "base_uri": "https://localhost:8080/",
          "height": 206
        },
        "id": "iqXDG2q9wLS8",
        "outputId": "592c52b7-7fad-4c92-b930-1a72b5f50fba"
      },
      "execution_count": 7,
      "outputs": [
        {
          "output_type": "execute_result",
          "data": {
            "text/html": [
              "\n",
              "  <div id=\"df-23e1c7bc-a24b-494d-a2ce-1da3beb75f2d\">\n",
              "    <div class=\"colab-df-container\">\n",
              "      <div>\n",
              "<style scoped>\n",
              "    .dataframe tbody tr th:only-of-type {\n",
              "        vertical-align: middle;\n",
              "    }\n",
              "\n",
              "    .dataframe tbody tr th {\n",
              "        vertical-align: top;\n",
              "    }\n",
              "\n",
              "    .dataframe thead th {\n",
              "        text-align: right;\n",
              "    }\n",
              "</style>\n",
              "<table border=\"1\" class=\"dataframe\">\n",
              "  <thead>\n",
              "    <tr style=\"text-align: right;\">\n",
              "      <th></th>\n",
              "      <th>tweet</th>\n",
              "      <th>sentiment</th>\n",
              "      <th>sentiment_encoded</th>\n",
              "    </tr>\n",
              "  </thead>\n",
              "  <tbody>\n",
              "    <tr>\n",
              "      <th>0</th>\n",
              "      <td>TRENDING: New Yorkers encounter empty supermar...</td>\n",
              "      <td>Extremely Negative</td>\n",
              "      <td>0</td>\n",
              "    </tr>\n",
              "    <tr>\n",
              "      <th>1</th>\n",
              "      <td>When I couldn't find hand sanitizer at Fred Me...</td>\n",
              "      <td>Positive</td>\n",
              "      <td>2</td>\n",
              "    </tr>\n",
              "    <tr>\n",
              "      <th>3</th>\n",
              "      <td>#Panic buying hits #NewYork City as anxious sh...</td>\n",
              "      <td>Negative</td>\n",
              "      <td>0</td>\n",
              "    </tr>\n",
              "    <tr>\n",
              "      <th>4</th>\n",
              "      <td>#toiletpaper #dunnypaper #coronavirus #coronav...</td>\n",
              "      <td>Neutral</td>\n",
              "      <td>1</td>\n",
              "    </tr>\n",
              "    <tr>\n",
              "      <th>5</th>\n",
              "      <td>Do you remember the last time you paid $2.99 a...</td>\n",
              "      <td>Neutral</td>\n",
              "      <td>1</td>\n",
              "    </tr>\n",
              "  </tbody>\n",
              "</table>\n",
              "</div>\n",
              "      <button class=\"colab-df-convert\" onclick=\"convertToInteractive('df-23e1c7bc-a24b-494d-a2ce-1da3beb75f2d')\"\n",
              "              title=\"Convert this dataframe to an interactive table.\"\n",
              "              style=\"display:none;\">\n",
              "        \n",
              "  <svg xmlns=\"http://www.w3.org/2000/svg\" height=\"24px\"viewBox=\"0 0 24 24\"\n",
              "       width=\"24px\">\n",
              "    <path d=\"M0 0h24v24H0V0z\" fill=\"none\"/>\n",
              "    <path d=\"M18.56 5.44l.94 2.06.94-2.06 2.06-.94-2.06-.94-.94-2.06-.94 2.06-2.06.94zm-11 1L8.5 8.5l.94-2.06 2.06-.94-2.06-.94L8.5 2.5l-.94 2.06-2.06.94zm10 10l.94 2.06.94-2.06 2.06-.94-2.06-.94-.94-2.06-.94 2.06-2.06.94z\"/><path d=\"M17.41 7.96l-1.37-1.37c-.4-.4-.92-.59-1.43-.59-.52 0-1.04.2-1.43.59L10.3 9.45l-7.72 7.72c-.78.78-.78 2.05 0 2.83L4 21.41c.39.39.9.59 1.41.59.51 0 1.02-.2 1.41-.59l7.78-7.78 2.81-2.81c.8-.78.8-2.07 0-2.86zM5.41 20L4 18.59l7.72-7.72 1.47 1.35L5.41 20z\"/>\n",
              "  </svg>\n",
              "      </button>\n",
              "      \n",
              "  <style>\n",
              "    .colab-df-container {\n",
              "      display:flex;\n",
              "      flex-wrap:wrap;\n",
              "      gap: 12px;\n",
              "    }\n",
              "\n",
              "    .colab-df-convert {\n",
              "      background-color: #E8F0FE;\n",
              "      border: none;\n",
              "      border-radius: 50%;\n",
              "      cursor: pointer;\n",
              "      display: none;\n",
              "      fill: #1967D2;\n",
              "      height: 32px;\n",
              "      padding: 0 0 0 0;\n",
              "      width: 32px;\n",
              "    }\n",
              "\n",
              "    .colab-df-convert:hover {\n",
              "      background-color: #E2EBFA;\n",
              "      box-shadow: 0px 1px 2px rgba(60, 64, 67, 0.3), 0px 1px 3px 1px rgba(60, 64, 67, 0.15);\n",
              "      fill: #174EA6;\n",
              "    }\n",
              "\n",
              "    [theme=dark] .colab-df-convert {\n",
              "      background-color: #3B4455;\n",
              "      fill: #D2E3FC;\n",
              "    }\n",
              "\n",
              "    [theme=dark] .colab-df-convert:hover {\n",
              "      background-color: #434B5C;\n",
              "      box-shadow: 0px 1px 3px 1px rgba(0, 0, 0, 0.15);\n",
              "      filter: drop-shadow(0px 1px 2px rgba(0, 0, 0, 0.3));\n",
              "      fill: #FFFFFF;\n",
              "    }\n",
              "  </style>\n",
              "\n",
              "      <script>\n",
              "        const buttonEl =\n",
              "          document.querySelector('#df-23e1c7bc-a24b-494d-a2ce-1da3beb75f2d button.colab-df-convert');\n",
              "        buttonEl.style.display =\n",
              "          google.colab.kernel.accessAllowed ? 'block' : 'none';\n",
              "\n",
              "        async function convertToInteractive(key) {\n",
              "          const element = document.querySelector('#df-23e1c7bc-a24b-494d-a2ce-1da3beb75f2d');\n",
              "          const dataTable =\n",
              "            await google.colab.kernel.invokeFunction('convertToInteractive',\n",
              "                                                     [key], {});\n",
              "          if (!dataTable) return;\n",
              "\n",
              "          const docLinkHtml = 'Like what you see? Visit the ' +\n",
              "            '<a target=\"_blank\" href=https://colab.research.google.com/notebooks/data_table.ipynb>data table notebook</a>'\n",
              "            + ' to learn more about interactive tables.';\n",
              "          element.innerHTML = '';\n",
              "          dataTable['output_type'] = 'display_data';\n",
              "          await google.colab.output.renderOutput(dataTable, element);\n",
              "          const docLink = document.createElement('div');\n",
              "          docLink.innerHTML = docLinkHtml;\n",
              "          element.appendChild(docLink);\n",
              "        }\n",
              "      </script>\n",
              "    </div>\n",
              "  </div>\n",
              "  "
            ],
            "text/plain": [
              "                                               tweet  ... sentiment_encoded\n",
              "0  TRENDING: New Yorkers encounter empty supermar...  ...                 0\n",
              "1  When I couldn't find hand sanitizer at Fred Me...  ...                 2\n",
              "3  #Panic buying hits #NewYork City as anxious sh...  ...                 0\n",
              "4  #toiletpaper #dunnypaper #coronavirus #coronav...  ...                 1\n",
              "5  Do you remember the last time you paid $2.99 a...  ...                 1\n",
              "\n",
              "[5 rows x 3 columns]"
            ]
          },
          "metadata": {},
          "execution_count": 7
        }
      ]
    },
    {
      "cell_type": "code",
      "source": [
        "print(len(covid.sentiment_encoded))\n",
        "print(covid.shape[0])"
      ],
      "metadata": {
        "colab": {
          "base_uri": "https://localhost:8080/"
        },
        "id": "P3euZ408syAa",
        "outputId": "ef1bbd59-1cc5-444f-f9f5-73007a316ab8"
      },
      "execution_count": 8,
      "outputs": [
        {
          "output_type": "stream",
          "name": "stdout",
          "text": [
            "5928\n",
            "5928\n"
          ]
        }
      ]
    },
    {
      "cell_type": "markdown",
      "source": [
        "#### Tokenize each sentence"
      ],
      "metadata": {
        "id": "nln320q7XrNd"
      }
    },
    {
      "cell_type": "code",
      "source": [
        "# read in data\n",
        "def clear_data(df):\n",
        "    stopword = set(stopwords.words('english'))\n",
        "\n",
        "    # tokenize and post process, remove unnecessary words appearing in tweets(like urls and usernames)\n",
        "    tweet_words = []\n",
        "    str_lis = []\n",
        "    for t in df['tweet']:\n",
        "        t = t.lower()\n",
        "        tokens = tokenize(t)\n",
        "        tmp = []\n",
        "        for token in tokens:\n",
        "            # if token in stopword:\n",
        "            #     continue\n",
        "            if not wordnet.synsets(token):\n",
        "                continue\n",
        "            # repalce usernames with @USER\n",
        "            user = re.sub(r'@[\\w\\W]+', '@USER', token)\n",
        "            # replace with URL\n",
        "            url = re.sub(r'https[\\w\\W]+','URL',user)\n",
        "            if url in stopword:\n",
        "                continue\n",
        "            tmp.append(url)\n",
        "        tweet_words.append(tmp)\n",
        "        st = ' '.join([str(item) for item in tmp])\n",
        "        str_lis.append(st)\n",
        "    df['tweet_words'] = tweet_words\n",
        "    df['tweets'] = str_lis\n",
        "\n",
        "    # remove duplicates\n",
        "    df.drop_duplicates(subset=['tweets'], inplace=True)\n",
        "\n",
        "    df.drop(columns='tweet_words', inplace=True)\n",
        "    print(len(df))\n",
        "    df.to_csv(\"covid.csv\", index=False)\n",
        "    return df\n",
        "\n",
        "def tokenize(text):\n",
        "    words = []\n",
        "    # print(text.split())\n",
        "    for token in text.split():\n",
        "        # find wouldn't kind word\n",
        "        words.extend(re.findall(r\"\\w+-\\w+|https.+|\\.+|\\d+[\\.,]\\d+|[@#]\\w+|[+-]\\d+|(?:(?!n[’'])\\w)+|\\w?[’']\\w+|[^\\s\\w]\", token))\n",
        "        # words.extend(re.findall(r\"(?:(?!.')\\w)+|\\w?'\\w+|[^\\s\\w]\", token))\n",
        "    return words"
      ],
      "metadata": {
        "id": "gRdLqZHkHA3S"
      },
      "execution_count": 9,
      "outputs": []
    },
    {
      "cell_type": "code",
      "source": [
        "covid = clear_data(covid)"
      ],
      "metadata": {
        "colab": {
          "base_uri": "https://localhost:8080/"
        },
        "id": "gT9CkW7TH_u5",
        "outputId": "27dbb55e-dad7-4001-ff8e-d0152805a781"
      },
      "execution_count": 10,
      "outputs": [
        {
          "output_type": "stream",
          "name": "stdout",
          "text": [
            "3086\n"
          ]
        }
      ]
    },
    {
      "cell_type": "code",
      "source": [
        "covid.head()"
      ],
      "metadata": {
        "colab": {
          "base_uri": "https://localhost:8080/",
          "height": 206
        },
        "id": "Tk12DfsmMj0d",
        "outputId": "a64f77a1-ebfd-48b2-d5cf-9eb953e061d0"
      },
      "execution_count": 11,
      "outputs": [
        {
          "output_type": "execute_result",
          "data": {
            "text/html": [
              "\n",
              "  <div id=\"df-59bd5b6f-86af-4ea7-8929-2135da5fed68\">\n",
              "    <div class=\"colab-df-container\">\n",
              "      <div>\n",
              "<style scoped>\n",
              "    .dataframe tbody tr th:only-of-type {\n",
              "        vertical-align: middle;\n",
              "    }\n",
              "\n",
              "    .dataframe tbody tr th {\n",
              "        vertical-align: top;\n",
              "    }\n",
              "\n",
              "    .dataframe thead th {\n",
              "        text-align: right;\n",
              "    }\n",
              "</style>\n",
              "<table border=\"1\" class=\"dataframe\">\n",
              "  <thead>\n",
              "    <tr style=\"text-align: right;\">\n",
              "      <th></th>\n",
              "      <th>tweet</th>\n",
              "      <th>sentiment</th>\n",
              "      <th>sentiment_encoded</th>\n",
              "      <th>tweets</th>\n",
              "    </tr>\n",
              "  </thead>\n",
              "  <tbody>\n",
              "    <tr>\n",
              "      <th>0</th>\n",
              "      <td>TRENDING: New Yorkers encounter empty supermar...</td>\n",
              "      <td>Extremely Negative</td>\n",
              "      <td>0</td>\n",
              "      <td>trending new encounter empty supermarket shelv...</td>\n",
              "    </tr>\n",
              "    <tr>\n",
              "      <th>1</th>\n",
              "      <td>When I couldn't find hand sanitizer at Fred Me...</td>\n",
              "      <td>Positive</td>\n",
              "      <td>2</td>\n",
              "      <td>find hand turned 2 pack check concerns driving...</td>\n",
              "    </tr>\n",
              "    <tr>\n",
              "      <th>3</th>\n",
              "      <td>#Panic buying hits #NewYork City as anxious sh...</td>\n",
              "      <td>Negative</td>\n",
              "      <td>0</td>\n",
              "      <td>buying hits city anxious shoppers stock food a...</td>\n",
              "    </tr>\n",
              "    <tr>\n",
              "      <th>4</th>\n",
              "      <td>#toiletpaper #dunnypaper #coronavirus #coronav...</td>\n",
              "      <td>Neutral</td>\n",
              "      <td>1</td>\n",
              "      <td>one week buying baby milk powder next buying t...</td>\n",
              "    </tr>\n",
              "    <tr>\n",
              "      <th>5</th>\n",
              "      <td>Do you remember the last time you paid $2.99 a...</td>\n",
              "      <td>Neutral</td>\n",
              "      <td>1</td>\n",
              "      <td>remember last time paid gallon regular gas pri...</td>\n",
              "    </tr>\n",
              "  </tbody>\n",
              "</table>\n",
              "</div>\n",
              "      <button class=\"colab-df-convert\" onclick=\"convertToInteractive('df-59bd5b6f-86af-4ea7-8929-2135da5fed68')\"\n",
              "              title=\"Convert this dataframe to an interactive table.\"\n",
              "              style=\"display:none;\">\n",
              "        \n",
              "  <svg xmlns=\"http://www.w3.org/2000/svg\" height=\"24px\"viewBox=\"0 0 24 24\"\n",
              "       width=\"24px\">\n",
              "    <path d=\"M0 0h24v24H0V0z\" fill=\"none\"/>\n",
              "    <path d=\"M18.56 5.44l.94 2.06.94-2.06 2.06-.94-2.06-.94-.94-2.06-.94 2.06-2.06.94zm-11 1L8.5 8.5l.94-2.06 2.06-.94-2.06-.94L8.5 2.5l-.94 2.06-2.06.94zm10 10l.94 2.06.94-2.06 2.06-.94-2.06-.94-.94-2.06-.94 2.06-2.06.94z\"/><path d=\"M17.41 7.96l-1.37-1.37c-.4-.4-.92-.59-1.43-.59-.52 0-1.04.2-1.43.59L10.3 9.45l-7.72 7.72c-.78.78-.78 2.05 0 2.83L4 21.41c.39.39.9.59 1.41.59.51 0 1.02-.2 1.41-.59l7.78-7.78 2.81-2.81c.8-.78.8-2.07 0-2.86zM5.41 20L4 18.59l7.72-7.72 1.47 1.35L5.41 20z\"/>\n",
              "  </svg>\n",
              "      </button>\n",
              "      \n",
              "  <style>\n",
              "    .colab-df-container {\n",
              "      display:flex;\n",
              "      flex-wrap:wrap;\n",
              "      gap: 12px;\n",
              "    }\n",
              "\n",
              "    .colab-df-convert {\n",
              "      background-color: #E8F0FE;\n",
              "      border: none;\n",
              "      border-radius: 50%;\n",
              "      cursor: pointer;\n",
              "      display: none;\n",
              "      fill: #1967D2;\n",
              "      height: 32px;\n",
              "      padding: 0 0 0 0;\n",
              "      width: 32px;\n",
              "    }\n",
              "\n",
              "    .colab-df-convert:hover {\n",
              "      background-color: #E2EBFA;\n",
              "      box-shadow: 0px 1px 2px rgba(60, 64, 67, 0.3), 0px 1px 3px 1px rgba(60, 64, 67, 0.15);\n",
              "      fill: #174EA6;\n",
              "    }\n",
              "\n",
              "    [theme=dark] .colab-df-convert {\n",
              "      background-color: #3B4455;\n",
              "      fill: #D2E3FC;\n",
              "    }\n",
              "\n",
              "    [theme=dark] .colab-df-convert:hover {\n",
              "      background-color: #434B5C;\n",
              "      box-shadow: 0px 1px 3px 1px rgba(0, 0, 0, 0.15);\n",
              "      filter: drop-shadow(0px 1px 2px rgba(0, 0, 0, 0.3));\n",
              "      fill: #FFFFFF;\n",
              "    }\n",
              "  </style>\n",
              "\n",
              "      <script>\n",
              "        const buttonEl =\n",
              "          document.querySelector('#df-59bd5b6f-86af-4ea7-8929-2135da5fed68 button.colab-df-convert');\n",
              "        buttonEl.style.display =\n",
              "          google.colab.kernel.accessAllowed ? 'block' : 'none';\n",
              "\n",
              "        async function convertToInteractive(key) {\n",
              "          const element = document.querySelector('#df-59bd5b6f-86af-4ea7-8929-2135da5fed68');\n",
              "          const dataTable =\n",
              "            await google.colab.kernel.invokeFunction('convertToInteractive',\n",
              "                                                     [key], {});\n",
              "          if (!dataTable) return;\n",
              "\n",
              "          const docLinkHtml = 'Like what you see? Visit the ' +\n",
              "            '<a target=\"_blank\" href=https://colab.research.google.com/notebooks/data_table.ipynb>data table notebook</a>'\n",
              "            + ' to learn more about interactive tables.';\n",
              "          element.innerHTML = '';\n",
              "          dataTable['output_type'] = 'display_data';\n",
              "          await google.colab.output.renderOutput(dataTable, element);\n",
              "          const docLink = document.createElement('div');\n",
              "          docLink.innerHTML = docLinkHtml;\n",
              "          element.appendChild(docLink);\n",
              "        }\n",
              "      </script>\n",
              "    </div>\n",
              "  </div>\n",
              "  "
            ],
            "text/plain": [
              "                                               tweet  ...                                             tweets\n",
              "0  TRENDING: New Yorkers encounter empty supermar...  ...  trending new encounter empty supermarket shelv...\n",
              "1  When I couldn't find hand sanitizer at Fred Me...  ...  find hand turned 2 pack check concerns driving...\n",
              "3  #Panic buying hits #NewYork City as anxious sh...  ...  buying hits city anxious shoppers stock food a...\n",
              "4  #toiletpaper #dunnypaper #coronavirus #coronav...  ...  one week buying baby milk powder next buying t...\n",
              "5  Do you remember the last time you paid $2.99 a...  ...  remember last time paid gallon regular gas pri...\n",
              "\n",
              "[5 rows x 4 columns]"
            ]
          },
          "metadata": {},
          "execution_count": 11
        }
      ]
    },
    {
      "cell_type": "markdown",
      "source": [
        "#### Encode and truncate sentence"
      ],
      "metadata": {
        "id": "jJlI6cYBYXbw"
      }
    },
    {
      "cell_type": "code",
      "source": [
        "# tokenize the tweets into list\n",
        "def encode_tweets(x):\n",
        "    tweet_list = x.split()\n",
        "    return tweet_list\n",
        "\n",
        "covid['tweets_tokenized'] = covid['tweets'].apply(lambda x: encode_tweets(x))\n",
        "covid.reset_index(drop=True, inplace=True)\n",
        "# drop rows wth empty tokenized tweet\n",
        "for i, row in covid.iterrows():\n",
        "    if len(row.tweets_tokenized) < 2:\n",
        "        covid.drop(i, inplace = True)"
      ],
      "metadata": {
        "id": "WN-PNmV5ZaWD"
      },
      "execution_count": 12,
      "outputs": []
    },
    {
      "cell_type": "code",
      "source": [
        "covid.head(30)"
      ],
      "metadata": {
        "colab": {
          "base_uri": "https://localhost:8080/",
          "height": 1000
        },
        "id": "mS6oy6iytLuL",
        "outputId": "099c8cc2-db10-4124-b230-a9729452f575"
      },
      "execution_count": 13,
      "outputs": [
        {
          "output_type": "execute_result",
          "data": {
            "text/html": [
              "\n",
              "  <div id=\"df-bec3dc6d-d6dc-4a46-8182-09996a8e22c8\">\n",
              "    <div class=\"colab-df-container\">\n",
              "      <div>\n",
              "<style scoped>\n",
              "    .dataframe tbody tr th:only-of-type {\n",
              "        vertical-align: middle;\n",
              "    }\n",
              "\n",
              "    .dataframe tbody tr th {\n",
              "        vertical-align: top;\n",
              "    }\n",
              "\n",
              "    .dataframe thead th {\n",
              "        text-align: right;\n",
              "    }\n",
              "</style>\n",
              "<table border=\"1\" class=\"dataframe\">\n",
              "  <thead>\n",
              "    <tr style=\"text-align: right;\">\n",
              "      <th></th>\n",
              "      <th>tweet</th>\n",
              "      <th>sentiment</th>\n",
              "      <th>sentiment_encoded</th>\n",
              "      <th>tweets</th>\n",
              "      <th>tweets_tokenized</th>\n",
              "    </tr>\n",
              "  </thead>\n",
              "  <tbody>\n",
              "    <tr>\n",
              "      <th>0</th>\n",
              "      <td>TRENDING: New Yorkers encounter empty supermar...</td>\n",
              "      <td>Extremely Negative</td>\n",
              "      <td>0</td>\n",
              "      <td>trending new encounter empty supermarket shelv...</td>\n",
              "      <td>[trending, new, encounter, empty, supermarket,...</td>\n",
              "    </tr>\n",
              "    <tr>\n",
              "      <th>1</th>\n",
              "      <td>When I couldn't find hand sanitizer at Fred Me...</td>\n",
              "      <td>Positive</td>\n",
              "      <td>2</td>\n",
              "      <td>find hand turned 2 pack check concerns driving...</td>\n",
              "      <td>[find, hand, turned, 2, pack, check, concerns,...</td>\n",
              "    </tr>\n",
              "    <tr>\n",
              "      <th>2</th>\n",
              "      <td>#Panic buying hits #NewYork City as anxious sh...</td>\n",
              "      <td>Negative</td>\n",
              "      <td>0</td>\n",
              "      <td>buying hits city anxious shoppers stock food a...</td>\n",
              "      <td>[buying, hits, city, anxious, shoppers, stock,...</td>\n",
              "    </tr>\n",
              "    <tr>\n",
              "      <th>3</th>\n",
              "      <td>#toiletpaper #dunnypaper #coronavirus #coronav...</td>\n",
              "      <td>Neutral</td>\n",
              "      <td>1</td>\n",
              "      <td>one week buying baby milk powder next buying t...</td>\n",
              "      <td>[one, week, buying, baby, milk, powder, next, ...</td>\n",
              "    </tr>\n",
              "    <tr>\n",
              "      <th>4</th>\n",
              "      <td>Do you remember the last time you paid $2.99 a...</td>\n",
              "      <td>Neutral</td>\n",
              "      <td>1</td>\n",
              "      <td>remember last time paid gallon regular gas pri...</td>\n",
              "      <td>[remember, last, time, paid, gallon, regular, ...</td>\n",
              "    </tr>\n",
              "    <tr>\n",
              "      <th>5</th>\n",
              "      <td>@DrTedros \"We canÂt stop #COVID19 without pro...</td>\n",
              "      <td>Neutral</td>\n",
              "      <td>1</td>\n",
              "      <td>stop protecting prices surgical masks increase...</td>\n",
              "      <td>[stop, protecting, prices, surgical, masks, in...</td>\n",
              "    </tr>\n",
              "    <tr>\n",
              "      <th>6</th>\n",
              "      <td>Anyone been in a supermarket over the last few...</td>\n",
              "      <td>Extremely Positive</td>\n",
              "      <td>2</td>\n",
              "      <td>supermarket last days went normal shop last ni...</td>\n",
              "      <td>[supermarket, last, days, went, normal, shop, ...</td>\n",
              "    </tr>\n",
              "    <tr>\n",
              "      <th>7</th>\n",
              "      <td>Best quality couches at unbelievably low price...</td>\n",
              "      <td>Positive</td>\n",
              "      <td>2</td>\n",
              "      <td>best quality couches unbelievably low prices a...</td>\n",
              "      <td>[best, quality, couches, unbelievably, low, pr...</td>\n",
              "    </tr>\n",
              "    <tr>\n",
              "      <th>8</th>\n",
              "      <td>Beware of counterfeits trying to sell fake mas...</td>\n",
              "      <td>Extremely Negative</td>\n",
              "      <td>0</td>\n",
              "      <td>beware counterfeits trying sell fake masks che...</td>\n",
              "      <td>[beware, counterfeits, trying, sell, fake, mas...</td>\n",
              "    </tr>\n",
              "    <tr>\n",
              "      <th>9</th>\n",
              "      <td>Panic food buying in Germany due to #coronavir...</td>\n",
              "      <td>Extremely Negative</td>\n",
              "      <td>0</td>\n",
              "      <td>panic food buying germany due begun left behin...</td>\n",
              "      <td>[panic, food, buying, germany, due, begun, lef...</td>\n",
              "    </tr>\n",
              "    <tr>\n",
              "      <th>10</th>\n",
              "      <td>While we were busy watching election returns a...</td>\n",
              "      <td>Positive</td>\n",
              "      <td>2</td>\n",
              "      <td>busy watching election returns bracing outbrea...</td>\n",
              "      <td>[busy, watching, election, returns, bracing, o...</td>\n",
              "    </tr>\n",
              "    <tr>\n",
              "      <th>11</th>\n",
              "      <td>#AirSewa \\r\\r\\n\\r\\r\\n@flyspicejet is not provi...</td>\n",
              "      <td>Extremely Negative</td>\n",
              "      <td>0</td>\n",
              "      <td>providing customers free seats passengers forc...</td>\n",
              "      <td>[providing, customers, free, seats, passengers...</td>\n",
              "    </tr>\n",
              "    <tr>\n",
              "      <th>12</th>\n",
              "      <td>What Precautionary measures have you all taken...</td>\n",
              "      <td>Extremely Positive</td>\n",
              "      <td>2</td>\n",
              "      <td>precautionary measures taken respective restau...</td>\n",
              "      <td>[precautionary, measures, taken, respective, r...</td>\n",
              "    </tr>\n",
              "    <tr>\n",
              "      <th>13</th>\n",
              "      <td>When youÂre stockpiling food &amp;amp; other supp...</td>\n",
              "      <td>Neutral</td>\n",
              "      <td>1</td>\n",
              "      <td>stockpiling food amp supplies buy extra local ...</td>\n",
              "      <td>[stockpiling, food, amp, supplies, buy, extra,...</td>\n",
              "    </tr>\n",
              "    <tr>\n",
              "      <th>14</th>\n",
              "      <td>Studies show the #coronavirus like #COVID19 ca...</td>\n",
              "      <td>Extremely Positive</td>\n",
              "      <td>2</td>\n",
              "      <td>studies show like live nine days hard surfaces...</td>\n",
              "      <td>[studies, show, like, live, nine, days, hard, ...</td>\n",
              "    </tr>\n",
              "    <tr>\n",
              "      <th>15</th>\n",
              "      <td>#CoronaVirus #COVID_19 People are starting to ...</td>\n",
              "      <td>Negative</td>\n",
              "      <td>0</td>\n",
              "      <td>people starting become frightened many shelves...</td>\n",
              "      <td>[people, starting, become, frightened, many, s...</td>\n",
              "    </tr>\n",
              "    <tr>\n",
              "      <th>16</th>\n",
              "      <td>For those of you that think credit/debit is ju...</td>\n",
              "      <td>Extremely Positive</td>\n",
              "      <td>2</td>\n",
              "      <td>think credit debit good comes combating keep m...</td>\n",
              "      <td>[think, credit, debit, good, comes, combating,...</td>\n",
              "    </tr>\n",
              "    <tr>\n",
              "      <th>17</th>\n",
              "      <td>Control over stocks and gold is lost...gold co...</td>\n",
              "      <td>Extremely Positive</td>\n",
              "      <td>2</td>\n",
              "      <td>control stocks gold lost gold coming back nice...</td>\n",
              "      <td>[control, stocks, gold, lost, gold, coming, ba...</td>\n",
              "    </tr>\n",
              "    <tr>\n",
              "      <th>18</th>\n",
              "      <td>Sellers are cashing on your panic to sell face...</td>\n",
              "      <td>Extremely Positive</td>\n",
              "      <td>2</td>\n",
              "      <td>sellers cashing panic sell super inflated pric...</td>\n",
              "      <td>[sellers, cashing, panic, sell, super, inflate...</td>\n",
              "    </tr>\n",
              "    <tr>\n",
              "      <th>19</th>\n",
              "      <td>Canada'sÂ oilpatch is bracing for the impact o...</td>\n",
              "      <td>Extremely Negative</td>\n",
              "      <td>0</td>\n",
              "      <td>canada bracing impact plunging crude prices op...</td>\n",
              "      <td>[canada, bracing, impact, plunging, crude, pri...</td>\n",
              "    </tr>\n",
              "    <tr>\n",
              "      <th>20</th>\n",
              "      <td>Alright yÂall I hope our Melanin prevails but...</td>\n",
              "      <td>Positive</td>\n",
              "      <td>2</td>\n",
              "      <td>alright hope melanin prevails case took precau...</td>\n",
              "      <td>[alright, hope, melanin, prevails, case, took,...</td>\n",
              "    </tr>\n",
              "    <tr>\n",
              "      <th>21</th>\n",
              "      <td>When your usual grocery shopping @woolworths t...</td>\n",
              "      <td>Negative</td>\n",
              "      <td>0</td>\n",
              "      <td>usual grocery shopping turns toilet paper figh...</td>\n",
              "      <td>[usual, grocery, shopping, turns, toilet, pape...</td>\n",
              "    </tr>\n",
              "    <tr>\n",
              "      <th>22</th>\n",
              "      <td>#Coronavirus is \"an exposure of all the holes ...</td>\n",
              "      <td>Positive</td>\n",
              "      <td>2</td>\n",
              "      <td>exposure holes social safety net says governme...</td>\n",
              "      <td>[exposure, holes, social, safety, net, says, g...</td>\n",
              "    </tr>\n",
              "    <tr>\n",
              "      <th>23</th>\n",
              "      <td>Two important phone numbers NYers should know....</td>\n",
              "      <td>Negative</td>\n",
              "      <td>0</td>\n",
              "      <td>two important phone numbers know doctor insura...</td>\n",
              "      <td>[two, important, phone, numbers, know, doctor,...</td>\n",
              "    </tr>\n",
              "    <tr>\n",
              "      <th>24</th>\n",
              "      <td>Tip for all Pro Wrestlers to help combat the #...</td>\n",
              "      <td>Extremely Positive</td>\n",
              "      <td>2</td>\n",
              "      <td>tip pro wrestlers help combat like bring hand ...</td>\n",
              "      <td>[tip, pro, wrestlers, help, combat, like, brin...</td>\n",
              "    </tr>\n",
              "    <tr>\n",
              "      <th>25</th>\n",
              "      <td>Is this effective?\\r\\r\\nIs it necessary?\\r\\r\\n...</td>\n",
              "      <td>Extremely Negative</td>\n",
              "      <td>0</td>\n",
              "      <td>effective necessary optics scare tactics ameri...</td>\n",
              "      <td>[effective, necessary, optics, scare, tactics,...</td>\n",
              "    </tr>\n",
              "    <tr>\n",
              "      <th>26</th>\n",
              "      <td>IMHO Russia's rug pull on oil prices is design...</td>\n",
              "      <td>Extremely Negative</td>\n",
              "      <td>0</td>\n",
              "      <td>russia rug pull oil prices designed end dollar...</td>\n",
              "      <td>[russia, rug, pull, oil, prices, designed, end...</td>\n",
              "    </tr>\n",
              "    <tr>\n",
              "      <th>27</th>\n",
              "      <td>So not due to #Brexit at all then &amp;gt;&amp;gt; Sup...</td>\n",
              "      <td>Neutral</td>\n",
              "      <td>1</td>\n",
              "      <td>due supermarkets begin wave fuelled panic buying</td>\n",
              "      <td>[due, supermarkets, begin, wave, fuelled, pani...</td>\n",
              "    </tr>\n",
              "    <tr>\n",
              "      <th>28</th>\n",
              "      <td>Remember, with all the media deflection storie...</td>\n",
              "      <td>Extremely Negative</td>\n",
              "      <td>0</td>\n",
              "      <td>remember media deflection stories bog rolls fo...</td>\n",
              "      <td>[remember, media, deflection, stories, bog, ro...</td>\n",
              "    </tr>\n",
              "    <tr>\n",
              "      <th>29</th>\n",
              "      <td>Fellow Uni instructors! COVID-19 f2f class can...</td>\n",
              "      <td>Negative</td>\n",
              "      <td>0</td>\n",
              "      <td>fellow instructors class inconvenient remember...</td>\n",
              "      <td>[fellow, instructors, class, inconvenient, rem...</td>\n",
              "    </tr>\n",
              "  </tbody>\n",
              "</table>\n",
              "</div>\n",
              "      <button class=\"colab-df-convert\" onclick=\"convertToInteractive('df-bec3dc6d-d6dc-4a46-8182-09996a8e22c8')\"\n",
              "              title=\"Convert this dataframe to an interactive table.\"\n",
              "              style=\"display:none;\">\n",
              "        \n",
              "  <svg xmlns=\"http://www.w3.org/2000/svg\" height=\"24px\"viewBox=\"0 0 24 24\"\n",
              "       width=\"24px\">\n",
              "    <path d=\"M0 0h24v24H0V0z\" fill=\"none\"/>\n",
              "    <path d=\"M18.56 5.44l.94 2.06.94-2.06 2.06-.94-2.06-.94-.94-2.06-.94 2.06-2.06.94zm-11 1L8.5 8.5l.94-2.06 2.06-.94-2.06-.94L8.5 2.5l-.94 2.06-2.06.94zm10 10l.94 2.06.94-2.06 2.06-.94-2.06-.94-.94-2.06-.94 2.06-2.06.94z\"/><path d=\"M17.41 7.96l-1.37-1.37c-.4-.4-.92-.59-1.43-.59-.52 0-1.04.2-1.43.59L10.3 9.45l-7.72 7.72c-.78.78-.78 2.05 0 2.83L4 21.41c.39.39.9.59 1.41.59.51 0 1.02-.2 1.41-.59l7.78-7.78 2.81-2.81c.8-.78.8-2.07 0-2.86zM5.41 20L4 18.59l7.72-7.72 1.47 1.35L5.41 20z\"/>\n",
              "  </svg>\n",
              "      </button>\n",
              "      \n",
              "  <style>\n",
              "    .colab-df-container {\n",
              "      display:flex;\n",
              "      flex-wrap:wrap;\n",
              "      gap: 12px;\n",
              "    }\n",
              "\n",
              "    .colab-df-convert {\n",
              "      background-color: #E8F0FE;\n",
              "      border: none;\n",
              "      border-radius: 50%;\n",
              "      cursor: pointer;\n",
              "      display: none;\n",
              "      fill: #1967D2;\n",
              "      height: 32px;\n",
              "      padding: 0 0 0 0;\n",
              "      width: 32px;\n",
              "    }\n",
              "\n",
              "    .colab-df-convert:hover {\n",
              "      background-color: #E2EBFA;\n",
              "      box-shadow: 0px 1px 2px rgba(60, 64, 67, 0.3), 0px 1px 3px 1px rgba(60, 64, 67, 0.15);\n",
              "      fill: #174EA6;\n",
              "    }\n",
              "\n",
              "    [theme=dark] .colab-df-convert {\n",
              "      background-color: #3B4455;\n",
              "      fill: #D2E3FC;\n",
              "    }\n",
              "\n",
              "    [theme=dark] .colab-df-convert:hover {\n",
              "      background-color: #434B5C;\n",
              "      box-shadow: 0px 1px 3px 1px rgba(0, 0, 0, 0.15);\n",
              "      filter: drop-shadow(0px 1px 2px rgba(0, 0, 0, 0.3));\n",
              "      fill: #FFFFFF;\n",
              "    }\n",
              "  </style>\n",
              "\n",
              "      <script>\n",
              "        const buttonEl =\n",
              "          document.querySelector('#df-bec3dc6d-d6dc-4a46-8182-09996a8e22c8 button.colab-df-convert');\n",
              "        buttonEl.style.display =\n",
              "          google.colab.kernel.accessAllowed ? 'block' : 'none';\n",
              "\n",
              "        async function convertToInteractive(key) {\n",
              "          const element = document.querySelector('#df-bec3dc6d-d6dc-4a46-8182-09996a8e22c8');\n",
              "          const dataTable =\n",
              "            await google.colab.kernel.invokeFunction('convertToInteractive',\n",
              "                                                     [key], {});\n",
              "          if (!dataTable) return;\n",
              "\n",
              "          const docLinkHtml = 'Like what you see? Visit the ' +\n",
              "            '<a target=\"_blank\" href=https://colab.research.google.com/notebooks/data_table.ipynb>data table notebook</a>'\n",
              "            + ' to learn more about interactive tables.';\n",
              "          element.innerHTML = '';\n",
              "          dataTable['output_type'] = 'display_data';\n",
              "          await google.colab.output.renderOutput(dataTable, element);\n",
              "          const docLink = document.createElement('div');\n",
              "          docLink.innerHTML = docLinkHtml;\n",
              "          element.appendChild(docLink);\n",
              "        }\n",
              "      </script>\n",
              "    </div>\n",
              "  </div>\n",
              "  "
            ],
            "text/plain": [
              "                                                tweet  ...                                   tweets_tokenized\n",
              "0   TRENDING: New Yorkers encounter empty supermar...  ...  [trending, new, encounter, empty, supermarket,...\n",
              "1   When I couldn't find hand sanitizer at Fred Me...  ...  [find, hand, turned, 2, pack, check, concerns,...\n",
              "2   #Panic buying hits #NewYork City as anxious sh...  ...  [buying, hits, city, anxious, shoppers, stock,...\n",
              "3   #toiletpaper #dunnypaper #coronavirus #coronav...  ...  [one, week, buying, baby, milk, powder, next, ...\n",
              "4   Do you remember the last time you paid $2.99 a...  ...  [remember, last, time, paid, gallon, regular, ...\n",
              "5   @DrTedros \"We canÂt stop #COVID19 without pro...  ...  [stop, protecting, prices, surgical, masks, in...\n",
              "6   Anyone been in a supermarket over the last few...  ...  [supermarket, last, days, went, normal, shop, ...\n",
              "7   Best quality couches at unbelievably low price...  ...  [best, quality, couches, unbelievably, low, pr...\n",
              "8   Beware of counterfeits trying to sell fake mas...  ...  [beware, counterfeits, trying, sell, fake, mas...\n",
              "9   Panic food buying in Germany due to #coronavir...  ...  [panic, food, buying, germany, due, begun, lef...\n",
              "10  While we were busy watching election returns a...  ...  [busy, watching, election, returns, bracing, o...\n",
              "11  #AirSewa \\r\\r\\n\\r\\r\\n@flyspicejet is not provi...  ...  [providing, customers, free, seats, passengers...\n",
              "12  What Precautionary measures have you all taken...  ...  [precautionary, measures, taken, respective, r...\n",
              "13  When youÂre stockpiling food &amp; other supp...  ...  [stockpiling, food, amp, supplies, buy, extra,...\n",
              "14  Studies show the #coronavirus like #COVID19 ca...  ...  [studies, show, like, live, nine, days, hard, ...\n",
              "15  #CoronaVirus #COVID_19 People are starting to ...  ...  [people, starting, become, frightened, many, s...\n",
              "16  For those of you that think credit/debit is ju...  ...  [think, credit, debit, good, comes, combating,...\n",
              "17  Control over stocks and gold is lost...gold co...  ...  [control, stocks, gold, lost, gold, coming, ba...\n",
              "18  Sellers are cashing on your panic to sell face...  ...  [sellers, cashing, panic, sell, super, inflate...\n",
              "19  Canada'sÂ oilpatch is bracing for the impact o...  ...  [canada, bracing, impact, plunging, crude, pri...\n",
              "20  Alright yÂall I hope our Melanin prevails but...  ...  [alright, hope, melanin, prevails, case, took,...\n",
              "21  When your usual grocery shopping @woolworths t...  ...  [usual, grocery, shopping, turns, toilet, pape...\n",
              "22  #Coronavirus is \"an exposure of all the holes ...  ...  [exposure, holes, social, safety, net, says, g...\n",
              "23  Two important phone numbers NYers should know....  ...  [two, important, phone, numbers, know, doctor,...\n",
              "24  Tip for all Pro Wrestlers to help combat the #...  ...  [tip, pro, wrestlers, help, combat, like, brin...\n",
              "25  Is this effective?\\r\\r\\nIs it necessary?\\r\\r\\n...  ...  [effective, necessary, optics, scare, tactics,...\n",
              "26  IMHO Russia's rug pull on oil prices is design...  ...  [russia, rug, pull, oil, prices, designed, end...\n",
              "27  So not due to #Brexit at all then &gt;&gt; Sup...  ...  [due, supermarkets, begin, wave, fuelled, pani...\n",
              "28  Remember, with all the media deflection storie...  ...  [remember, media, deflection, stories, bog, ro...\n",
              "29  Fellow Uni instructors! COVID-19 f2f class can...  ...  [fellow, instructors, class, inconvenient, rem...\n",
              "\n",
              "[30 rows x 5 columns]"
            ]
          },
          "metadata": {},
          "execution_count": 13
        }
      ]
    },
    {
      "cell_type": "code",
      "source": [
        "# sanity check for length of tweet\n",
        "len_list = [len(x) for x in covid.tweets_tokenized]\n",
        "max(len_list)"
      ],
      "metadata": {
        "colab": {
          "base_uri": "https://localhost:8080/"
        },
        "id": "qun6UGlzZ9sU",
        "outputId": "aa3e933f-a0fa-4b4c-8216-0c3f6823dcde"
      },
      "execution_count": 14,
      "outputs": [
        {
          "output_type": "execute_result",
          "data": {
            "text/plain": [
              "34"
            ]
          },
          "metadata": {},
          "execution_count": 14
        }
      ]
    },
    {
      "cell_type": "code",
      "source": [
        "# get unique words in the corpus\n",
        "all_words = []\n",
        "for x in covid['tweets_tokenized']:\n",
        "    all_words.extend(x)\n",
        "\n",
        "word_set = list(set(all_words))\n",
        "word_count = Counter(all_words)\n",
        "\n",
        "# filter out words with low frequency\n",
        "for word_list in covid.tweets_tokenized:\n",
        "    new_list = []\n",
        "    for word in word_list:\n",
        "        if word_count[word] > 2:\n",
        "            new_list.append(word)\n",
        "    word_list = new_list\n",
        "\n",
        "# update set of words after removing the ones with low frequency\n",
        "new_word_list = []\n",
        "for x in covid['tweets_tokenized']:\n",
        "    new_word_list.extend(x)\n",
        "word_set = list(set(new_word_list))\n",
        "\n",
        "# map each unique words & unknown token in covid.encoded to an index\n",
        "word2index = {}\n",
        "word2index['<UNK>'] = 0\n",
        "word2index['<PAD>'] = 1\n",
        "\n",
        "for i, word in enumerate(word_set, 2):\n",
        "    word2index[word] = i\n",
        "\n",
        "# encode the original sequence\n",
        "def encode(sent_list):\n",
        "    result = []\n",
        "    for x in sent_list:\n",
        "        index = word2index[x]\n",
        "        result.append(index)\n",
        "    return result\n",
        "\n",
        "covid['encoded_old'] = covid.tweets_tokenized.apply(lambda x: encode(x))\n",
        "\n",
        "\n",
        "# get sequence average length\n",
        "total_len = 0\n",
        "for x in covid.encoded_old:\n",
        "    total_len += len(x)\n",
        "\n",
        "ave_len = math.floor(total_len/covid.shape[0])\n",
        "\n",
        "# filter out long sequences --> encode all sequence to length = ave_len\n",
        "# pad short sequence\n",
        "\n",
        "def fix_tweet(x):\n",
        "    size = min(len(x), ave_len)\n",
        "    new_encoded = x[:size]\n",
        "    len_before_pad = len(new_encoded)\n",
        "    if size < ave_len:\n",
        "        for j in range(0, ave_len - len(x)):\n",
        "            new_encoded.append(0)\n",
        "    return new_encoded\n",
        "\n",
        "covid['encoded'] = covid.encoded_old.apply(lambda x: fix_tweet(x))\n",
        "covid['tweet_length'] = covid.encoded_old.apply(lambda x: min(len(x), ave_len))"
      ],
      "metadata": {
        "id": "-sT1ynqj_7Fo"
      },
      "execution_count": 15,
      "outputs": []
    },
    {
      "cell_type": "code",
      "source": [
        "max(covid.tweet_length)\n",
        "\n",
        "print(word2index['exchange'])\n",
        "covid.head()"
      ],
      "metadata": {
        "colab": {
          "base_uri": "https://localhost:8080/",
          "height": 441
        },
        "id": "AupajdyydM_H",
        "outputId": "6be4d98c-45f7-4685-c18d-6bd6d43201b0"
      },
      "execution_count": 16,
      "outputs": [
        {
          "output_type": "stream",
          "name": "stdout",
          "text": [
            "2272\n"
          ]
        },
        {
          "output_type": "execute_result",
          "data": {
            "text/html": [
              "\n",
              "  <div id=\"df-495f9243-c997-44a4-9e3a-37dccd7cfc10\">\n",
              "    <div class=\"colab-df-container\">\n",
              "      <div>\n",
              "<style scoped>\n",
              "    .dataframe tbody tr th:only-of-type {\n",
              "        vertical-align: middle;\n",
              "    }\n",
              "\n",
              "    .dataframe tbody tr th {\n",
              "        vertical-align: top;\n",
              "    }\n",
              "\n",
              "    .dataframe thead th {\n",
              "        text-align: right;\n",
              "    }\n",
              "</style>\n",
              "<table border=\"1\" class=\"dataframe\">\n",
              "  <thead>\n",
              "    <tr style=\"text-align: right;\">\n",
              "      <th></th>\n",
              "      <th>tweet</th>\n",
              "      <th>sentiment</th>\n",
              "      <th>sentiment_encoded</th>\n",
              "      <th>tweets</th>\n",
              "      <th>tweets_tokenized</th>\n",
              "      <th>encoded_old</th>\n",
              "      <th>encoded</th>\n",
              "      <th>tweet_length</th>\n",
              "    </tr>\n",
              "  </thead>\n",
              "  <tbody>\n",
              "    <tr>\n",
              "      <th>0</th>\n",
              "      <td>TRENDING: New Yorkers encounter empty supermar...</td>\n",
              "      <td>Extremely Negative</td>\n",
              "      <td>0</td>\n",
              "      <td>trending new encounter empty supermarket shelv...</td>\n",
              "      <td>[trending, new, encounter, empty, supermarket,...</td>\n",
              "      <td>[5394, 1677, 5870, 4555, 1509, 1726, 6664, 983...</td>\n",
              "      <td>[5394, 1677, 5870, 4555, 1509, 1726, 6664, 983...</td>\n",
              "      <td>14</td>\n",
              "    </tr>\n",
              "    <tr>\n",
              "      <th>1</th>\n",
              "      <td>When I couldn't find hand sanitizer at Fred Me...</td>\n",
              "      <td>Positive</td>\n",
              "      <td>2</td>\n",
              "      <td>find hand turned 2 pack check concerns driving...</td>\n",
              "      <td>[find, hand, turned, 2, pack, check, concerns,...</td>\n",
              "      <td>[1879, 2904, 5769, 2073, 6475, 4177, 5040, 670...</td>\n",
              "      <td>[1879, 2904, 5769, 2073, 6475, 4177, 5040, 670...</td>\n",
              "      <td>9</td>\n",
              "    </tr>\n",
              "    <tr>\n",
              "      <th>2</th>\n",
              "      <td>#Panic buying hits #NewYork City as anxious sh...</td>\n",
              "      <td>Negative</td>\n",
              "      <td>0</td>\n",
              "      <td>buying hits city anxious shoppers stock food a...</td>\n",
              "      <td>[buying, hits, city, anxious, shoppers, stock,...</td>\n",
              "      <td>[6759, 1920, 3485, 6002, 2675, 5982, 1817, 219...</td>\n",
              "      <td>[6759, 1920, 3485, 6002, 2675, 5982, 1817, 219...</td>\n",
              "      <td>15</td>\n",
              "    </tr>\n",
              "    <tr>\n",
              "      <th>3</th>\n",
              "      <td>#toiletpaper #dunnypaper #coronavirus #coronav...</td>\n",
              "      <td>Neutral</td>\n",
              "      <td>1</td>\n",
              "      <td>one week buying baby milk powder next buying t...</td>\n",
              "      <td>[one, week, buying, baby, milk, powder, next, ...</td>\n",
              "      <td>[3793, 3783, 6759, 3271, 3946, 2601, 1092, 675...</td>\n",
              "      <td>[3793, 3783, 6759, 3271, 3946, 2601, 1092, 675...</td>\n",
              "      <td>10</td>\n",
              "    </tr>\n",
              "    <tr>\n",
              "      <th>4</th>\n",
              "      <td>Do you remember the last time you paid $2.99 a...</td>\n",
              "      <td>Neutral</td>\n",
              "      <td>1</td>\n",
              "      <td>remember last time paid gallon regular gas pri...</td>\n",
              "      <td>[remember, last, time, paid, gallon, regular, ...</td>\n",
              "      <td>[6092, 2973, 6706, 2314, 4515, 5598, 5624, 365...</td>\n",
              "      <td>[6092, 2973, 6706, 2314, 4515, 5598, 5624, 365...</td>\n",
              "      <td>13</td>\n",
              "    </tr>\n",
              "  </tbody>\n",
              "</table>\n",
              "</div>\n",
              "      <button class=\"colab-df-convert\" onclick=\"convertToInteractive('df-495f9243-c997-44a4-9e3a-37dccd7cfc10')\"\n",
              "              title=\"Convert this dataframe to an interactive table.\"\n",
              "              style=\"display:none;\">\n",
              "        \n",
              "  <svg xmlns=\"http://www.w3.org/2000/svg\" height=\"24px\"viewBox=\"0 0 24 24\"\n",
              "       width=\"24px\">\n",
              "    <path d=\"M0 0h24v24H0V0z\" fill=\"none\"/>\n",
              "    <path d=\"M18.56 5.44l.94 2.06.94-2.06 2.06-.94-2.06-.94-.94-2.06-.94 2.06-2.06.94zm-11 1L8.5 8.5l.94-2.06 2.06-.94-2.06-.94L8.5 2.5l-.94 2.06-2.06.94zm10 10l.94 2.06.94-2.06 2.06-.94-2.06-.94-.94-2.06-.94 2.06-2.06.94z\"/><path d=\"M17.41 7.96l-1.37-1.37c-.4-.4-.92-.59-1.43-.59-.52 0-1.04.2-1.43.59L10.3 9.45l-7.72 7.72c-.78.78-.78 2.05 0 2.83L4 21.41c.39.39.9.59 1.41.59.51 0 1.02-.2 1.41-.59l7.78-7.78 2.81-2.81c.8-.78.8-2.07 0-2.86zM5.41 20L4 18.59l7.72-7.72 1.47 1.35L5.41 20z\"/>\n",
              "  </svg>\n",
              "      </button>\n",
              "      \n",
              "  <style>\n",
              "    .colab-df-container {\n",
              "      display:flex;\n",
              "      flex-wrap:wrap;\n",
              "      gap: 12px;\n",
              "    }\n",
              "\n",
              "    .colab-df-convert {\n",
              "      background-color: #E8F0FE;\n",
              "      border: none;\n",
              "      border-radius: 50%;\n",
              "      cursor: pointer;\n",
              "      display: none;\n",
              "      fill: #1967D2;\n",
              "      height: 32px;\n",
              "      padding: 0 0 0 0;\n",
              "      width: 32px;\n",
              "    }\n",
              "\n",
              "    .colab-df-convert:hover {\n",
              "      background-color: #E2EBFA;\n",
              "      box-shadow: 0px 1px 2px rgba(60, 64, 67, 0.3), 0px 1px 3px 1px rgba(60, 64, 67, 0.15);\n",
              "      fill: #174EA6;\n",
              "    }\n",
              "\n",
              "    [theme=dark] .colab-df-convert {\n",
              "      background-color: #3B4455;\n",
              "      fill: #D2E3FC;\n",
              "    }\n",
              "\n",
              "    [theme=dark] .colab-df-convert:hover {\n",
              "      background-color: #434B5C;\n",
              "      box-shadow: 0px 1px 3px 1px rgba(0, 0, 0, 0.15);\n",
              "      filter: drop-shadow(0px 1px 2px rgba(0, 0, 0, 0.3));\n",
              "      fill: #FFFFFF;\n",
              "    }\n",
              "  </style>\n",
              "\n",
              "      <script>\n",
              "        const buttonEl =\n",
              "          document.querySelector('#df-495f9243-c997-44a4-9e3a-37dccd7cfc10 button.colab-df-convert');\n",
              "        buttonEl.style.display =\n",
              "          google.colab.kernel.accessAllowed ? 'block' : 'none';\n",
              "\n",
              "        async function convertToInteractive(key) {\n",
              "          const element = document.querySelector('#df-495f9243-c997-44a4-9e3a-37dccd7cfc10');\n",
              "          const dataTable =\n",
              "            await google.colab.kernel.invokeFunction('convertToInteractive',\n",
              "                                                     [key], {});\n",
              "          if (!dataTable) return;\n",
              "\n",
              "          const docLinkHtml = 'Like what you see? Visit the ' +\n",
              "            '<a target=\"_blank\" href=https://colab.research.google.com/notebooks/data_table.ipynb>data table notebook</a>'\n",
              "            + ' to learn more about interactive tables.';\n",
              "          element.innerHTML = '';\n",
              "          dataTable['output_type'] = 'display_data';\n",
              "          await google.colab.output.renderOutput(dataTable, element);\n",
              "          const docLink = document.createElement('div');\n",
              "          docLink.innerHTML = docLinkHtml;\n",
              "          element.appendChild(docLink);\n",
              "        }\n",
              "      </script>\n",
              "    </div>\n",
              "  </div>\n",
              "  "
            ],
            "text/plain": [
              "                                               tweet  ... tweet_length\n",
              "0  TRENDING: New Yorkers encounter empty supermar...  ...           14\n",
              "1  When I couldn't find hand sanitizer at Fred Me...  ...            9\n",
              "2  #Panic buying hits #NewYork City as anxious sh...  ...           15\n",
              "3  #toiletpaper #dunnypaper #coronavirus #coronav...  ...           10\n",
              "4  Do you remember the last time you paid $2.99 a...  ...           13\n",
              "\n",
              "[5 rows x 8 columns]"
            ]
          },
          "metadata": {},
          "execution_count": 16
        }
      ]
    },
    {
      "cell_type": "code",
      "source": [
        "# sanity check for encoding:\n",
        "print(len(all_words))\n",
        "print(ave_len)\n",
        "lengths = [len(x) for x in covid.encoded]\n",
        "print(max(lengths))\n",
        "print(min(lengths))\n",
        "print(set(covid.sentiment_encoded))\n",
        "tweet_length = covid.tweet_length\n",
        "covid.head()\n",
        "print(len(word_set))"
      ],
      "metadata": {
        "colab": {
          "base_uri": "https://localhost:8080/"
        },
        "id": "5lNy_oCSFrqf",
        "outputId": "dd83a6df-8c55-4090-869e-734a995682b9"
      },
      "execution_count": 17,
      "outputs": [
        {
          "output_type": "stream",
          "name": "stdout",
          "text": [
            "47853\n",
            "15\n",
            "15\n",
            "15\n",
            "{0, 1, 2}\n",
            "6816\n"
          ]
        }
      ]
    },
    {
      "cell_type": "code",
      "source": [
        "# Train test split from skearln\n",
        "data_size = len(covid['encoded'])\n",
        "assert data_size == len(covid['sentiment_encoded']) \n",
        "X, y = list(zip(list(covid['encoded']),(list(covid['tweet_length'])))), list(covid['sentiment_encoded'])\n",
        "# X(data, length)\n",
        "X_train, X_test, y_train, y_test = train_test_split(X, y, test_size=0.2, random_state=43)"
      ],
      "metadata": {
        "id": "glkjNVF-N_0r"
      },
      "execution_count": 18,
      "outputs": []
    },
    {
      "cell_type": "code",
      "source": [
        "# Sanity check for length match\n",
        "print(X_train[2])\n",
        "print(y_train[2])"
      ],
      "metadata": {
        "colab": {
          "base_uri": "https://localhost:8080/"
        },
        "id": "AlveD7X5cPYp",
        "outputId": "6ac1d563-0f3c-4dde-8554-b8389de0387f"
      },
      "execution_count": 19,
      "outputs": [
        {
          "output_type": "stream",
          "name": "stdout",
          "text": [
            "([5767, 3994, 2086, 4589, 5376, 5180, 477, 3654, 0, 0, 0, 0, 0, 0, 0], 8)\n",
            "2\n"
          ]
        }
      ]
    },
    {
      "cell_type": "code",
      "source": [
        ""
      ],
      "metadata": {
        "id": "ZtqV7yfjihvx"
      },
      "execution_count": 19,
      "outputs": []
    },
    {
      "cell_type": "markdown",
      "source": [
        "## Dataset and Dataloader"
      ],
      "metadata": {
        "id": "53k_akR7YiAl"
      }
    },
    {
      "cell_type": "code",
      "source": [
        "class Dataset_word2vec(Dataset):\n",
        "    def __init__(self, X, y):\n",
        "        \n",
        "        self.X = X\n",
        "        self.y = y\n",
        "\n",
        "    def __len__(self):\n",
        "        return len(self.X)\n",
        "\n",
        "    def __getitem__(self, idx):\n",
        "        return  self.X[idx], self.y[idx]"
      ],
      "metadata": {
        "id": "nmCLiMzCY-o3"
      },
      "execution_count": 20,
      "outputs": []
    },
    {
      "cell_type": "code",
      "source": [
        "trainSet_w2v = Dataset_word2vec(X_train, y_train)\n",
        "testSet_w2v = Dataset_word2vec(X_test, y_test)"
      ],
      "metadata": {
        "id": "yf03irQDieWM"
      },
      "execution_count": 21,
      "outputs": []
    },
    {
      "cell_type": "code",
      "source": [
        "print(trainSet_w2v[2])"
      ],
      "metadata": {
        "colab": {
          "base_uri": "https://localhost:8080/"
        },
        "id": "zCt282rkny8w",
        "outputId": "b45e760e-59b7-4fad-a699-6fdf3a69aada"
      },
      "execution_count": 22,
      "outputs": [
        {
          "output_type": "stream",
          "name": "stdout",
          "text": [
            "(([5767, 3994, 2086, 4589, 5376, 5180, 477, 3654, 0, 0, 0, 0, 0, 0, 0], 8), 2)\n"
          ]
        }
      ]
    },
    {
      "cell_type": "code",
      "source": [
        "def myCollate(batch):\n",
        "    data = [item[0] for item in batch]\n",
        "    label = [item[1] for item in batch]\n",
        "    # sort sequence according to it's length in a batch\n",
        "    data = data\n",
        "    # data.sort(key=lambda x: x[1], reverse = True)\n",
        "\n",
        "    # data (review: list, length: int)\n",
        "    review = torch.tensor([x[0] for x in data], dtype = torch.long)\n",
        "    label = torch.tensor(label, dtype = torch.long)\n",
        "    seq_len = [x[1] for x in data]\n",
        "    return review, label, seq_len"
      ],
      "metadata": {
        "id": "5UJ2oiTW8mYz"
      },
      "execution_count": 23,
      "outputs": []
    },
    {
      "cell_type": "code",
      "source": [
        "trainLoader_w2v = DataLoader(dataset = trainSet_w2v, batch_size = 16, collate_fn = myCollate, shuffle = True, drop_last = True)\n",
        "testLoader_w2v = DataLoader(dataset = testSet_w2v, batch_size = 16, collate_fn = myCollate, shuffle = True, drop_last = True)"
      ],
      "metadata": {
        "id": "17kzAjBchH_F"
      },
      "execution_count": 24,
      "outputs": []
    },
    {
      "cell_type": "code",
      "source": [
        "it = iter(trainLoader_w2v)\n",
        "x, y, seq_len = it.next()"
      ],
      "metadata": {
        "id": "nf1dmuSrfpWT"
      },
      "execution_count": 25,
      "outputs": []
    },
    {
      "cell_type": "markdown",
      "source": [
        "## Embedding"
      ],
      "metadata": {
        "id": "dkOEB6jDYT2J"
      }
    },
    {
      "cell_type": "code",
      "source": [
        "def load_glove_vectors(glove_file=\"/content/drive/MyDrive/data /glove.6B.50d.txt\"):\n",
        "    \"\"\"Load the glove word vectors\"\"\"\n",
        "    word_vectors = {}\n",
        "    with open(glove_file) as f:\n",
        "        for line in f:\n",
        "            split = line.split()\n",
        "            word_vectors[split[0]] = np.array([float(x) for x in split[1:]])\n",
        "    return word_vectors\n",
        "\n"
      ],
      "metadata": {
        "id": "kMAextiWYdVH"
      },
      "execution_count": 26,
      "outputs": []
    },
    {
      "cell_type": "code",
      "source": [
        "# create embedding matrix\n",
        "def emb_matrix(model, all_words, word2index):\n",
        "    matrix_size = len(word_set) + 2\n",
        "    emb_matrix = np.zeros((matrix_size, 50))\n",
        "    emb_matrix[0] = np.random.uniform(-0.25, 0.25, 50) # vector for UNK\n",
        "    emb_matrix[1] = np.zeros(50) # vector for padding, has no weight\n",
        "    invalid_len = 0\n",
        "    # vector for every other word in the dictionary\n",
        "    for i in range(2, len(all_words)+2):\n",
        "        word = all_words[i-2]\n",
        "        index = word2index[word]\n",
        "        try:\n",
        "            vector = model[word]\n",
        "        except Exception as e:\n",
        "            invalid_len += 1\n",
        "            # word does not exist in the pretrained embedding\n",
        "            vector = emb_matrix[0]\n",
        "            #print(index)\n",
        "        emb_matrix[index] = vector\n",
        "    return emb_matrix, invalid_len"
      ],
      "metadata": {
        "id": "QRqGHAIJAgAx"
      },
      "execution_count": 27,
      "outputs": []
    },
    {
      "cell_type": "code",
      "source": [
        ""
      ],
      "metadata": {
        "id": "t7fjFoW0NHvi"
      },
      "execution_count": 27,
      "outputs": []
    },
    {
      "cell_type": "code",
      "source": [
        "word2vec = load_glove_vectors()\n",
        "data = list(word2vec.values())\n",
        "an_array=np.array(data)\n"
      ],
      "metadata": {
        "id": "ha0NsaTygCsP"
      },
      "execution_count": 28,
      "outputs": []
    },
    {
      "cell_type": "code",
      "source": [
        "embedding, invalid_len= emb_matrix(word2vec, word_set, word2index)"
      ],
      "metadata": {
        "id": "Y8hhRFJkcKO0"
      },
      "execution_count": 29,
      "outputs": []
    },
    {
      "cell_type": "code",
      "source": [
        "def validation_metrics(model, valid_dl):\n",
        "    print(\"current in vlaidaiton\")\n",
        "    model.eval()\n",
        "    correct = 0\n",
        "    total = 0\n",
        "    sum_loss = 0.0\n",
        "    sum_rmse = 0.0\n",
        "    criterion = nn.CrossEntropyLoss()\n",
        "    model = model.to(device)\n",
        "    for x, y, seq_len in valid_dl:\n",
        "        x = x.long().to(device)\n",
        "        y = y.long().to(device)\n",
        "        y_hat = model(x, seq_len)\n",
        "        loss = criterion(y_hat, y)\n",
        "        pred = torch.argmax(y_hat, 1)\n",
        "        # print(pred)\n",
        "        correct += sum((pred == y))\n",
        "        total += y.shape[0]\n",
        "        sum_loss += loss.item()*y.shape[0]\n",
        "\n",
        "    return sum_loss/total, correct/total"
      ],
      "metadata": {
        "id": "I40nbCLXlJt9"
      },
      "execution_count": 30,
      "outputs": []
    },
    {
      "cell_type": "code",
      "source": [
        "def train_model(model, fname, epochs = 50, lr = 0.00005):\n",
        "    parameters = filter(lambda p:p.requires_grad, model.parameters())\n",
        "    optimizer = torch.optim.Adam(parameters, lr = lr)\n",
        "    criterion = nn.CrossEntropyLoss()\n",
        "    model = model.to(device)\n",
        "    PATH = '/content/drive/MyDrive/data/' + fname\n",
        "    epoch = 0\n",
        "    best_val_acc = 0.0\n",
        "    for i in range(epochs):\n",
        "        epoch += 1\n",
        "        print(f\"At epoch {i}\")\n",
        "        batch_count = 0\n",
        "        model.train()\n",
        "        sum_loss = 0.0\n",
        "        total = 0.0\n",
        "        train_correct = 0.0\n",
        "        for x, y, seq_len in tqdm(trainLoader_w2v):\n",
        "            x = x.long().to(device)\n",
        "            y = y.long().to(device)\n",
        "            batch_count += 1\n",
        "            optimizer.zero_grad()\n",
        "            y_pred = model(x, seq_len)\n",
        "            pred = torch.argmax(y_pred, 1)\n",
        "            train_correct += sum((pred == y))\n",
        "            loss = criterion(y_pred, y)\n",
        "            loss.backward()\n",
        "            optimizer.step()\n",
        "            sum_loss += loss.item()*y.shape[0]\n",
        "            total += y.shape[0]\n",
        "\n",
        "        val_loss, val_acc = validation_metrics(model, testLoader_w2v)\n",
        "        print(\"train loss %.3f, train accuracy %.3f, val loss %.3f, val accuracy %.3f\" \n",
        "              % (sum_loss/total, train_correct/total, val_loss, val_acc))\n",
        "        if val_acc > best_val_acc and i>=2:\n",
        "            best_val_acc = val_acc\n",
        "            NEW_PATH = PATH+f'_{i}_{val_acc}'\n",
        "            # torch.save(model.state_dict(), NEW_PATH)\n",
        "            print(f\"\\t=> Best model saved at {i}th epoch with valication accuracy of {val_acc}\")"
      ],
      "metadata": {
        "id": "YVwWS3rRnOw0"
      },
      "execution_count": 31,
      "outputs": []
    },
    {
      "cell_type": "code",
      "source": [
        "train_examples = []\n",
        "list1=list(word2vec.values())\n",
        "for item in list1:\n",
        "    in_tensor = torch.Tensor(item)\n",
        "    train_examples.append(in_tensor)"
      ],
      "metadata": {
        "id": "sZeLTO_Qgj62"
      },
      "execution_count": 32,
      "outputs": []
    },
    {
      "cell_type": "code",
      "source": [
        "\n",
        "weight = torch.FloatTensor(an_array)\n",
        "word2vec_embedding = nn.Embedding.from_pretrained(weight)\n",
        "\n",
        "class LSTM_Glove(torch.nn.Module):\n",
        "    def __init__(self, emb_matrix, embedding_dim, hidden_dim):\n",
        "        super().__init__()\n",
        "        self.embedding_dim = embedding_dim\n",
        "        self.embeddings = nn.Embedding(emb_matrix.shape[0], embedding_dim, padding_idx = 0)\n",
        "        self.embeddings.weight.data.copy_(torch.from_numpy(emb_matrix))\n",
        "        self.lstm = nn.LSTM(embedding_dim, hidden_dim, batch_first = True)\n",
        "        self.embedding_dim = embedding_dim\n",
        "        self.hidden_dim = hidden_dim\n",
        "        self.linear = nn.Linear(hidden_dim, 3)\n",
        "        self.dropout = nn.Dropout(0.5)\n",
        "\n",
        "    def forward(self, x, seq_len):\n",
        "        x = self.embeddings(x)\n",
        "        x = self.dropout(x)\n",
        "        output, (h_n, c_n) = self.lstm(x)\n",
        "        output = output[:, -1, :]\n",
        "        \n",
        "        return self.linear(output)"
      ],
      "metadata": {
        "id": "w1y9PO6JW28H"
      },
      "execution_count": 33,
      "outputs": []
    },
    {
      "cell_type": "code",
      "source": [
        "model = LSTM_Glove(embedding, 50, 100)\n",
        "train_model(model, fname='word2vec_lstm_covid', epochs=50)"
      ],
      "metadata": {
        "id": "xShR5nvtlxXV",
        "colab": {
          "base_uri": "https://localhost:8080/"
        },
        "outputId": "be996376-af2c-4505-820c-a0b1d2486858"
      },
      "execution_count": 34,
      "outputs": [
        {
          "output_type": "stream",
          "name": "stdout",
          "text": [
            "At epoch 0\n"
          ]
        },
        {
          "output_type": "stream",
          "name": "stderr",
          "text": [
            "100%|██████████| 154/154 [00:00<00:00, 328.42it/s]\n"
          ]
        },
        {
          "output_type": "stream",
          "name": "stdout",
          "text": [
            "current in vlaidaiton\n",
            "train loss 1.071, train accuracy 0.440, val loss 1.040, val accuracy 0.461\n",
            "At epoch 1\n"
          ]
        },
        {
          "output_type": "stream",
          "name": "stderr",
          "text": [
            "100%|██████████| 154/154 [00:00<00:00, 439.72it/s]\n"
          ]
        },
        {
          "output_type": "stream",
          "name": "stdout",
          "text": [
            "current in vlaidaiton\n",
            "train loss 1.018, train accuracy 0.455, val loss 0.985, val accuracy 0.441\n",
            "At epoch 2\n"
          ]
        },
        {
          "output_type": "stream",
          "name": "stderr",
          "text": [
            "100%|██████████| 154/154 [00:00<00:00, 438.40it/s]\n"
          ]
        },
        {
          "output_type": "stream",
          "name": "stdout",
          "text": [
            "current in vlaidaiton\n",
            "train loss 0.981, train accuracy 0.463, val loss 0.978, val accuracy 0.461\n",
            "\t=> Best model saved at 2th epoch with valication accuracy of 0.46052631735801697\n",
            "At epoch 3\n"
          ]
        },
        {
          "output_type": "stream",
          "name": "stderr",
          "text": [
            "100%|██████████| 154/154 [00:00<00:00, 435.97it/s]\n"
          ]
        },
        {
          "output_type": "stream",
          "name": "stdout",
          "text": [
            "current in vlaidaiton\n",
            "train loss 0.973, train accuracy 0.471, val loss 0.971, val accuracy 0.461\n",
            "At epoch 4\n"
          ]
        },
        {
          "output_type": "stream",
          "name": "stderr",
          "text": [
            "100%|██████████| 154/154 [00:00<00:00, 436.00it/s]\n"
          ]
        },
        {
          "output_type": "stream",
          "name": "stdout",
          "text": [
            "current in vlaidaiton\n",
            "train loss 0.969, train accuracy 0.469, val loss 0.974, val accuracy 0.456\n",
            "At epoch 5\n"
          ]
        },
        {
          "output_type": "stream",
          "name": "stderr",
          "text": [
            "100%|██████████| 154/154 [00:00<00:00, 441.17it/s]\n"
          ]
        },
        {
          "output_type": "stream",
          "name": "stdout",
          "text": [
            "current in vlaidaiton\n",
            "train loss 0.962, train accuracy 0.484, val loss 0.973, val accuracy 0.469\n",
            "\t=> Best model saved at 5th epoch with valication accuracy of 0.46875\n",
            "At epoch 6\n"
          ]
        },
        {
          "output_type": "stream",
          "name": "stderr",
          "text": [
            "100%|██████████| 154/154 [00:00<00:00, 443.18it/s]\n"
          ]
        },
        {
          "output_type": "stream",
          "name": "stdout",
          "text": [
            "current in vlaidaiton\n",
            "train loss 0.956, train accuracy 0.497, val loss 0.970, val accuracy 0.484\n",
            "\t=> Best model saved at 6th epoch with valication accuracy of 0.48355263471603394\n",
            "At epoch 7\n"
          ]
        },
        {
          "output_type": "stream",
          "name": "stderr",
          "text": [
            "100%|██████████| 154/154 [00:00<00:00, 439.38it/s]\n"
          ]
        },
        {
          "output_type": "stream",
          "name": "stdout",
          "text": [
            "current in vlaidaiton\n",
            "train loss 0.952, train accuracy 0.514, val loss 0.965, val accuracy 0.498\n",
            "\t=> Best model saved at 7th epoch with valication accuracy of 0.49835526943206787\n",
            "At epoch 8\n"
          ]
        },
        {
          "output_type": "stream",
          "name": "stderr",
          "text": [
            "100%|██████████| 154/154 [00:00<00:00, 422.36it/s]\n"
          ]
        },
        {
          "output_type": "stream",
          "name": "stdout",
          "text": [
            "current in vlaidaiton\n",
            "train loss 0.952, train accuracy 0.513, val loss 0.962, val accuracy 0.482\n",
            "At epoch 9\n"
          ]
        },
        {
          "output_type": "stream",
          "name": "stderr",
          "text": [
            "100%|██████████| 154/154 [00:00<00:00, 434.72it/s]\n"
          ]
        },
        {
          "output_type": "stream",
          "name": "stdout",
          "text": [
            "current in vlaidaiton\n",
            "train loss 0.941, train accuracy 0.526, val loss 0.960, val accuracy 0.497\n",
            "At epoch 10\n"
          ]
        },
        {
          "output_type": "stream",
          "name": "stderr",
          "text": [
            "100%|██████████| 154/154 [00:00<00:00, 438.29it/s]\n"
          ]
        },
        {
          "output_type": "stream",
          "name": "stdout",
          "text": [
            "current in vlaidaiton\n",
            "train loss 0.935, train accuracy 0.529, val loss 0.954, val accuracy 0.502\n",
            "\t=> Best model saved at 10th epoch with valication accuracy of 0.5016447305679321\n",
            "At epoch 11\n"
          ]
        },
        {
          "output_type": "stream",
          "name": "stderr",
          "text": [
            "100%|██████████| 154/154 [00:00<00:00, 441.58it/s]\n"
          ]
        },
        {
          "output_type": "stream",
          "name": "stdout",
          "text": [
            "current in vlaidaiton\n",
            "train loss 0.921, train accuracy 0.545, val loss 0.945, val accuracy 0.533\n",
            "\t=> Best model saved at 11th epoch with valication accuracy of 0.5328947305679321\n",
            "At epoch 12\n"
          ]
        },
        {
          "output_type": "stream",
          "name": "stderr",
          "text": [
            "100%|██████████| 154/154 [00:00<00:00, 438.03it/s]\n"
          ]
        },
        {
          "output_type": "stream",
          "name": "stdout",
          "text": [
            "current in vlaidaiton\n",
            "train loss 0.908, train accuracy 0.571, val loss 0.941, val accuracy 0.541\n",
            "\t=> Best model saved at 12th epoch with valication accuracy of 0.5411184430122375\n",
            "At epoch 13\n"
          ]
        },
        {
          "output_type": "stream",
          "name": "stderr",
          "text": [
            "100%|██████████| 154/154 [00:00<00:00, 440.67it/s]\n"
          ]
        },
        {
          "output_type": "stream",
          "name": "stdout",
          "text": [
            "current in vlaidaiton\n",
            "train loss 0.891, train accuracy 0.577, val loss 0.932, val accuracy 0.562\n",
            "\t=> Best model saved at 13th epoch with valication accuracy of 0.5625\n",
            "At epoch 14\n"
          ]
        },
        {
          "output_type": "stream",
          "name": "stderr",
          "text": [
            "100%|██████████| 154/154 [00:00<00:00, 442.13it/s]\n"
          ]
        },
        {
          "output_type": "stream",
          "name": "stdout",
          "text": [
            "current in vlaidaiton\n",
            "train loss 0.887, train accuracy 0.583, val loss 0.923, val accuracy 0.571\n",
            "\t=> Best model saved at 14th epoch with valication accuracy of 0.5707237124443054\n",
            "At epoch 15\n"
          ]
        },
        {
          "output_type": "stream",
          "name": "stderr",
          "text": [
            "100%|██████████| 154/154 [00:00<00:00, 438.10it/s]\n"
          ]
        },
        {
          "output_type": "stream",
          "name": "stdout",
          "text": [
            "current in vlaidaiton\n",
            "train loss 0.878, train accuracy 0.572, val loss 0.919, val accuracy 0.582\n",
            "\t=> Best model saved at 15th epoch with valication accuracy of 0.5822368264198303\n",
            "At epoch 16\n"
          ]
        },
        {
          "output_type": "stream",
          "name": "stderr",
          "text": [
            "100%|██████████| 154/154 [00:00<00:00, 435.80it/s]\n"
          ]
        },
        {
          "output_type": "stream",
          "name": "stdout",
          "text": [
            "current in vlaidaiton\n",
            "train loss 0.872, train accuracy 0.591, val loss 0.906, val accuracy 0.590\n",
            "\t=> Best model saved at 16th epoch with valication accuracy of 0.5904605388641357\n",
            "At epoch 17\n"
          ]
        },
        {
          "output_type": "stream",
          "name": "stderr",
          "text": [
            "100%|██████████| 154/154 [00:00<00:00, 440.53it/s]\n"
          ]
        },
        {
          "output_type": "stream",
          "name": "stdout",
          "text": [
            "current in vlaidaiton\n",
            "train loss 0.879, train accuracy 0.587, val loss 0.904, val accuracy 0.595\n",
            "\t=> Best model saved at 17th epoch with valication accuracy of 0.5953947305679321\n",
            "At epoch 18\n"
          ]
        },
        {
          "output_type": "stream",
          "name": "stderr",
          "text": [
            "100%|██████████| 154/154 [00:00<00:00, 426.46it/s]\n"
          ]
        },
        {
          "output_type": "stream",
          "name": "stdout",
          "text": [
            "current in vlaidaiton\n",
            "train loss 0.861, train accuracy 0.590, val loss 0.910, val accuracy 0.600\n",
            "\t=> Best model saved at 18th epoch with valication accuracy of 0.6003289222717285\n",
            "At epoch 19\n"
          ]
        },
        {
          "output_type": "stream",
          "name": "stderr",
          "text": [
            "100%|██████████| 154/154 [00:00<00:00, 432.95it/s]\n"
          ]
        },
        {
          "output_type": "stream",
          "name": "stdout",
          "text": [
            "current in vlaidaiton\n",
            "train loss 0.861, train accuracy 0.595, val loss 0.905, val accuracy 0.612\n",
            "\t=> Best model saved at 19th epoch with valication accuracy of 0.6118420958518982\n",
            "At epoch 20\n"
          ]
        },
        {
          "output_type": "stream",
          "name": "stderr",
          "text": [
            "100%|██████████| 154/154 [00:00<00:00, 431.53it/s]\n"
          ]
        },
        {
          "output_type": "stream",
          "name": "stdout",
          "text": [
            "current in vlaidaiton\n",
            "train loss 0.860, train accuracy 0.606, val loss 0.901, val accuracy 0.587\n",
            "At epoch 21\n"
          ]
        },
        {
          "output_type": "stream",
          "name": "stderr",
          "text": [
            "100%|██████████| 154/154 [00:00<00:00, 433.16it/s]\n"
          ]
        },
        {
          "output_type": "stream",
          "name": "stdout",
          "text": [
            "current in vlaidaiton\n",
            "train loss 0.848, train accuracy 0.614, val loss 0.903, val accuracy 0.607\n",
            "At epoch 22\n"
          ]
        },
        {
          "output_type": "stream",
          "name": "stderr",
          "text": [
            "100%|██████████| 154/154 [00:00<00:00, 439.78it/s]\n"
          ]
        },
        {
          "output_type": "stream",
          "name": "stdout",
          "text": [
            "current in vlaidaiton\n",
            "train loss 0.846, train accuracy 0.608, val loss 0.893, val accuracy 0.587\n",
            "At epoch 23\n"
          ]
        },
        {
          "output_type": "stream",
          "name": "stderr",
          "text": [
            "100%|██████████| 154/154 [00:00<00:00, 396.05it/s]\n"
          ]
        },
        {
          "output_type": "stream",
          "name": "stdout",
          "text": [
            "current in vlaidaiton\n",
            "train loss 0.838, train accuracy 0.610, val loss 0.894, val accuracy 0.592\n",
            "At epoch 24\n"
          ]
        },
        {
          "output_type": "stream",
          "name": "stderr",
          "text": [
            "100%|██████████| 154/154 [00:00<00:00, 443.71it/s]\n"
          ]
        },
        {
          "output_type": "stream",
          "name": "stdout",
          "text": [
            "current in vlaidaiton\n",
            "train loss 0.835, train accuracy 0.614, val loss 0.885, val accuracy 0.609\n",
            "At epoch 25\n"
          ]
        },
        {
          "output_type": "stream",
          "name": "stderr",
          "text": [
            "100%|██████████| 154/154 [00:00<00:00, 444.20it/s]\n"
          ]
        },
        {
          "output_type": "stream",
          "name": "stdout",
          "text": [
            "current in vlaidaiton\n",
            "train loss 0.833, train accuracy 0.618, val loss 0.889, val accuracy 0.597\n",
            "At epoch 26\n"
          ]
        },
        {
          "output_type": "stream",
          "name": "stderr",
          "text": [
            "100%|██████████| 154/154 [00:00<00:00, 430.40it/s]\n"
          ]
        },
        {
          "output_type": "stream",
          "name": "stdout",
          "text": [
            "current in vlaidaiton\n",
            "train loss 0.825, train accuracy 0.621, val loss 0.888, val accuracy 0.589\n",
            "At epoch 27\n"
          ]
        },
        {
          "output_type": "stream",
          "name": "stderr",
          "text": [
            "100%|██████████| 154/154 [00:00<00:00, 445.39it/s]\n"
          ]
        },
        {
          "output_type": "stream",
          "name": "stdout",
          "text": [
            "current in vlaidaiton\n",
            "train loss 0.818, train accuracy 0.629, val loss 0.887, val accuracy 0.592\n",
            "At epoch 28\n"
          ]
        },
        {
          "output_type": "stream",
          "name": "stderr",
          "text": [
            "100%|██████████| 154/154 [00:00<00:00, 435.43it/s]\n"
          ]
        },
        {
          "output_type": "stream",
          "name": "stdout",
          "text": [
            "current in vlaidaiton\n",
            "train loss 0.828, train accuracy 0.619, val loss 0.882, val accuracy 0.599\n",
            "At epoch 29\n"
          ]
        },
        {
          "output_type": "stream",
          "name": "stderr",
          "text": [
            "100%|██████████| 154/154 [00:00<00:00, 435.28it/s]\n"
          ]
        },
        {
          "output_type": "stream",
          "name": "stdout",
          "text": [
            "current in vlaidaiton\n",
            "train loss 0.810, train accuracy 0.627, val loss 0.884, val accuracy 0.600\n",
            "At epoch 30\n"
          ]
        },
        {
          "output_type": "stream",
          "name": "stderr",
          "text": [
            "100%|██████████| 154/154 [00:00<00:00, 435.25it/s]\n"
          ]
        },
        {
          "output_type": "stream",
          "name": "stdout",
          "text": [
            "current in vlaidaiton\n",
            "train loss 0.798, train accuracy 0.642, val loss 0.894, val accuracy 0.600\n",
            "At epoch 31\n"
          ]
        },
        {
          "output_type": "stream",
          "name": "stderr",
          "text": [
            "100%|██████████| 154/154 [00:00<00:00, 436.96it/s]\n"
          ]
        },
        {
          "output_type": "stream",
          "name": "stdout",
          "text": [
            "current in vlaidaiton\n",
            "train loss 0.801, train accuracy 0.636, val loss 0.879, val accuracy 0.594\n",
            "At epoch 32\n"
          ]
        },
        {
          "output_type": "stream",
          "name": "stderr",
          "text": [
            "100%|██████████| 154/154 [00:00<00:00, 442.71it/s]\n"
          ]
        },
        {
          "output_type": "stream",
          "name": "stdout",
          "text": [
            "current in vlaidaiton\n",
            "train loss 0.802, train accuracy 0.638, val loss 0.880, val accuracy 0.607\n",
            "At epoch 33\n"
          ]
        },
        {
          "output_type": "stream",
          "name": "stderr",
          "text": [
            "100%|██████████| 154/154 [00:00<00:00, 430.27it/s]\n"
          ]
        },
        {
          "output_type": "stream",
          "name": "stdout",
          "text": [
            "current in vlaidaiton\n",
            "train loss 0.806, train accuracy 0.636, val loss 0.876, val accuracy 0.597\n",
            "At epoch 34\n"
          ]
        },
        {
          "output_type": "stream",
          "name": "stderr",
          "text": [
            "100%|██████████| 154/154 [00:00<00:00, 433.46it/s]\n"
          ]
        },
        {
          "output_type": "stream",
          "name": "stdout",
          "text": [
            "current in vlaidaiton\n",
            "train loss 0.796, train accuracy 0.639, val loss 0.877, val accuracy 0.623\n",
            "\t=> Best model saved at 34th epoch with valication accuracy of 0.6233552694320679\n",
            "At epoch 35\n"
          ]
        },
        {
          "output_type": "stream",
          "name": "stderr",
          "text": [
            "100%|██████████| 154/154 [00:00<00:00, 444.21it/s]\n"
          ]
        },
        {
          "output_type": "stream",
          "name": "stdout",
          "text": [
            "current in vlaidaiton\n",
            "train loss 0.788, train accuracy 0.640, val loss 0.881, val accuracy 0.599\n",
            "At epoch 36\n"
          ]
        },
        {
          "output_type": "stream",
          "name": "stderr",
          "text": [
            "100%|██████████| 154/154 [00:00<00:00, 437.69it/s]\n"
          ]
        },
        {
          "output_type": "stream",
          "name": "stdout",
          "text": [
            "current in vlaidaiton\n",
            "train loss 0.791, train accuracy 0.656, val loss 0.873, val accuracy 0.592\n",
            "At epoch 37\n"
          ]
        },
        {
          "output_type": "stream",
          "name": "stderr",
          "text": [
            "100%|██████████| 154/154 [00:00<00:00, 436.40it/s]\n"
          ]
        },
        {
          "output_type": "stream",
          "name": "stdout",
          "text": [
            "current in vlaidaiton\n",
            "train loss 0.788, train accuracy 0.651, val loss 0.870, val accuracy 0.610\n",
            "At epoch 38\n"
          ]
        },
        {
          "output_type": "stream",
          "name": "stderr",
          "text": [
            "100%|██████████| 154/154 [00:00<00:00, 443.32it/s]\n"
          ]
        },
        {
          "output_type": "stream",
          "name": "stdout",
          "text": [
            "current in vlaidaiton\n",
            "train loss 0.789, train accuracy 0.650, val loss 0.872, val accuracy 0.599\n",
            "At epoch 39\n"
          ]
        },
        {
          "output_type": "stream",
          "name": "stderr",
          "text": [
            "100%|██████████| 154/154 [00:00<00:00, 429.75it/s]\n"
          ]
        },
        {
          "output_type": "stream",
          "name": "stdout",
          "text": [
            "current in vlaidaiton\n",
            "train loss 0.795, train accuracy 0.641, val loss 0.867, val accuracy 0.595\n",
            "At epoch 40\n"
          ]
        },
        {
          "output_type": "stream",
          "name": "stderr",
          "text": [
            "100%|██████████| 154/154 [00:00<00:00, 439.63it/s]\n"
          ]
        },
        {
          "output_type": "stream",
          "name": "stdout",
          "text": [
            "current in vlaidaiton\n",
            "train loss 0.788, train accuracy 0.642, val loss 0.877, val accuracy 0.587\n",
            "At epoch 41\n"
          ]
        },
        {
          "output_type": "stream",
          "name": "stderr",
          "text": [
            "100%|██████████| 154/154 [00:00<00:00, 432.96it/s]\n"
          ]
        },
        {
          "output_type": "stream",
          "name": "stdout",
          "text": [
            "current in vlaidaiton\n",
            "train loss 0.781, train accuracy 0.651, val loss 0.865, val accuracy 0.613\n",
            "At epoch 42\n"
          ]
        },
        {
          "output_type": "stream",
          "name": "stderr",
          "text": [
            "100%|██████████| 154/154 [00:00<00:00, 436.25it/s]\n"
          ]
        },
        {
          "output_type": "stream",
          "name": "stdout",
          "text": [
            "current in vlaidaiton\n",
            "train loss 0.767, train accuracy 0.661, val loss 0.879, val accuracy 0.615\n",
            "At epoch 43\n"
          ]
        },
        {
          "output_type": "stream",
          "name": "stderr",
          "text": [
            "100%|██████████| 154/154 [00:00<00:00, 436.04it/s]\n"
          ]
        },
        {
          "output_type": "stream",
          "name": "stdout",
          "text": [
            "current in vlaidaiton\n",
            "train loss 0.775, train accuracy 0.653, val loss 0.860, val accuracy 0.609\n",
            "At epoch 44\n"
          ]
        },
        {
          "output_type": "stream",
          "name": "stderr",
          "text": [
            "100%|██████████| 154/154 [00:00<00:00, 429.25it/s]\n"
          ]
        },
        {
          "output_type": "stream",
          "name": "stdout",
          "text": [
            "current in vlaidaiton\n",
            "train loss 0.765, train accuracy 0.666, val loss 0.866, val accuracy 0.607\n",
            "At epoch 45\n"
          ]
        },
        {
          "output_type": "stream",
          "name": "stderr",
          "text": [
            "100%|██████████| 154/154 [00:00<00:00, 437.82it/s]\n"
          ]
        },
        {
          "output_type": "stream",
          "name": "stdout",
          "text": [
            "current in vlaidaiton\n",
            "train loss 0.761, train accuracy 0.670, val loss 0.864, val accuracy 0.613\n",
            "At epoch 46\n"
          ]
        },
        {
          "output_type": "stream",
          "name": "stderr",
          "text": [
            "100%|██████████| 154/154 [00:00<00:00, 436.40it/s]\n"
          ]
        },
        {
          "output_type": "stream",
          "name": "stdout",
          "text": [
            "current in vlaidaiton\n",
            "train loss 0.766, train accuracy 0.668, val loss 0.862, val accuracy 0.628\n",
            "\t=> Best model saved at 46th epoch with valication accuracy of 0.6282894611358643\n",
            "At epoch 47\n"
          ]
        },
        {
          "output_type": "stream",
          "name": "stderr",
          "text": [
            "100%|██████████| 154/154 [00:00<00:00, 441.59it/s]\n"
          ]
        },
        {
          "output_type": "stream",
          "name": "stdout",
          "text": [
            "current in vlaidaiton\n",
            "train loss 0.752, train accuracy 0.665, val loss 0.859, val accuracy 0.617\n",
            "At epoch 48\n"
          ]
        },
        {
          "output_type": "stream",
          "name": "stderr",
          "text": [
            "100%|██████████| 154/154 [00:00<00:00, 437.83it/s]\n"
          ]
        },
        {
          "output_type": "stream",
          "name": "stdout",
          "text": [
            "current in vlaidaiton\n",
            "train loss 0.748, train accuracy 0.676, val loss 0.861, val accuracy 0.615\n",
            "At epoch 49\n"
          ]
        },
        {
          "output_type": "stream",
          "name": "stderr",
          "text": [
            "100%|██████████| 154/154 [00:00<00:00, 436.02it/s]"
          ]
        },
        {
          "output_type": "stream",
          "name": "stdout",
          "text": [
            "current in vlaidaiton\n",
            "train loss 0.755, train accuracy 0.664, val loss 0.865, val accuracy 0.620\n"
          ]
        },
        {
          "output_type": "stream",
          "name": "stderr",
          "text": [
            "\n"
          ]
        }
      ]
    },
    {
      "cell_type": "code",
      "source": [
        ""
      ],
      "metadata": {
        "id": "0ct780mwgoRg"
      },
      "execution_count": 34,
      "outputs": []
    },
    {
      "cell_type": "code",
      "source": [
        ""
      ],
      "metadata": {
        "id": "PiGEFGv8BXgC"
      },
      "execution_count": 34,
      "outputs": []
    },
    {
      "cell_type": "code",
      "source": [
        ""
      ],
      "metadata": {
        "id": "UnDCBOmvhGc0"
      },
      "execution_count": 34,
      "outputs": []
    }
  ]
}