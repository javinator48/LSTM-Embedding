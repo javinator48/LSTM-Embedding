{
  "nbformat": 4,
  "nbformat_minor": 0,
  "metadata": {
    "colab": {
      "name": "Glove_LSTM_Covid.ipynb”",
      "provenance": [],
      "machine_shape": "hm",
      "collapsed_sections": [
        "dkOEB6jDYT2J",
        "OqdcZxTlZqz0"
      ]
    },
    "kernelspec": {
      "name": "python3",
      "display_name": "Python 3"
    },
    "language_info": {
      "name": "python"
    },
    "accelerator": "GPU"
  },
  "cells": [
    {
      "cell_type": "code",
      "execution_count": 2,
      "metadata": {
        "colab": {
          "base_uri": "https://localhost:8080/"
        },
        "id": "rjWPn-GiVGPf",
        "outputId": "ef1c40d0-97ef-4e9b-d682-a0467d605a87"
      },
      "outputs": [
        {
          "output_type": "stream",
          "name": "stdout",
          "text": [
            "Mounted at /content/drive\n"
          ]
        }
      ],
      "source": [
        "from google.colab import drive\n",
        "drive.mount('/content/drive')"
      ]
    },
    {
      "cell_type": "markdown",
      "source": [
        ""
      ],
      "metadata": {
        "id": "_puvc1_tDMuI"
      }
    },
    {
      "cell_type": "code",
      "source": [
        "import torch\n",
        "import torch.nn as nn\n",
        "import pandas as pd\n",
        "import numpy as np\n",
        "import logging\n",
        "import gzip\n",
        "import gensim \n",
        "import re\n",
        "import spacy\n",
        "import math\n",
        "from bs4 import BeautifulSoup\n",
        "from collections import Counter\n",
        "from torch.utils.data import Dataset, DataLoader\n",
        "import torch.nn.functional as F\n",
        "import string\n",
        "from torch.nn.utils.rnn import pack_padded_sequence, pad_packed_sequence, pad_sequence\n",
        "from sklearn.metrics import accuracy_score, f1_score, precision_score, recall_score, classification_report, confusion_matrix\n",
        "from sklearn.metrics import mean_squared_error\n",
        "from sklearn.model_selection import train_test_split\n",
        "from tqdm import tqdm\n",
        "import nltk\n",
        "from nltk.corpus import wordnet\n",
        "from nltk.corpus import stopwords\n",
        "nltk.download('wordnet')\n",
        "nltk.download('stopwords')"
      ],
      "metadata": {
        "id": "S7SfU_6lViKR",
        "colab": {
          "base_uri": "https://localhost:8080/"
        },
        "outputId": "6c1ad181-e500-4d85-caa1-222616e4e489"
      },
      "execution_count": 3,
      "outputs": [
        {
          "output_type": "stream",
          "name": "stdout",
          "text": [
            "[nltk_data] Downloading package wordnet to /root/nltk_data...\n",
            "[nltk_data]   Unzipping corpora/wordnet.zip.\n",
            "[nltk_data] Downloading package stopwords to /root/nltk_data...\n",
            "[nltk_data]   Unzipping corpora/stopwords.zip.\n"
          ]
        },
        {
          "output_type": "execute_result",
          "data": {
            "text/plain": [
              "True"
            ]
          },
          "metadata": {},
          "execution_count": 3
        }
      ]
    },
    {
      "cell_type": "code",
      "source": [
        "print(torch.cuda.is_available())\n",
        "device = 'cuda:0' if torch.cuda.is_available() else 'cpu'\n",
        "device"
      ],
      "metadata": {
        "colab": {
          "base_uri": "https://localhost:8080/",
          "height": 53
        },
        "id": "rItWBp7RJEQq",
        "outputId": "e53c42ac-899b-489d-c7b1-a4edbabfb8ed"
      },
      "execution_count": 4,
      "outputs": [
        {
          "output_type": "stream",
          "name": "stdout",
          "text": [
            "True\n"
          ]
        },
        {
          "output_type": "execute_result",
          "data": {
            "application/vnd.google.colaboratory.intrinsic+json": {
              "type": "string"
            },
            "text/plain": [
              "'cuda:0'"
            ]
          },
          "metadata": {},
          "execution_count": 4
        }
      ]
    },
    {
      "cell_type": "markdown",
      "source": [
        "# Preprocessing & Loading data"
      ],
      "metadata": {
        "id": "3KGKdTO5W7AH"
      }
    },
    {
      "cell_type": "markdown",
      "source": [
        "### Covid dataset"
      ],
      "metadata": {
        "id": "OyA2zPsboOln"
      }
    },
    {
      "cell_type": "code",
      "source": [
        "# Load dataset for clothing reviews\n",
        "covid_train = pd.read_csv(\"/content/drive/MyDrive/data /Corona_NLP_test.csv\", encoding=\"latin1\")\n",
        "covid_train = covid_train.dropna()\n",
        "covid_test = pd.read_csv(\"/content/drive/MyDrive/data /Corona_NLP_test.csv\")\n",
        "covid_test = covid_test.dropna()\n",
        "\n",
        "covid_trian_inds = list(range(0, covid_train.shape[0]))\n",
        "\n",
        "# cat both datasets for preprocessing\n",
        "frames = [covid_train, covid_test]\n",
        "covid = pd.concat(frames)\n",
        "print(covid_train.head())\n",
        "print(covid_test.shape)\n",
        "print(type(covid))"
      ],
      "metadata": {
        "colab": {
          "base_uri": "https://localhost:8080/"
        },
        "id": "imlvO0RAVl5k",
        "outputId": "e2d1ab41-34ab-49b7-8d9b-6526ed893298"
      },
      "execution_count": 5,
      "outputs": [
        {
          "output_type": "stream",
          "name": "stdout",
          "text": [
            "   UserName  ...           Sentiment\n",
            "0         1  ...  Extremely Negative\n",
            "1         2  ...            Positive\n",
            "3         4  ...            Negative\n",
            "4         5  ...             Neutral\n",
            "5         6  ...             Neutral\n",
            "\n",
            "[5 rows x 6 columns]\n",
            "(2964, 6)\n",
            "<class 'pandas.core.frame.DataFrame'>\n"
          ]
        }
      ]
    },
    {
      "cell_type": "code",
      "source": [
        "covid.head()"
      ],
      "metadata": {
        "colab": {
          "base_uri": "https://localhost:8080/",
          "height": 206
        },
        "id": "-PhdeoWLWgj3",
        "outputId": "1d551eed-1269-49b3-855c-84fc386c28a1"
      },
      "execution_count": 6,
      "outputs": [
        {
          "output_type": "execute_result",
          "data": {
            "text/html": [
              "\n",
              "  <div id=\"df-6165eb03-ece8-4448-8933-84f970ba98e1\">\n",
              "    <div class=\"colab-df-container\">\n",
              "      <div>\n",
              "<style scoped>\n",
              "    .dataframe tbody tr th:only-of-type {\n",
              "        vertical-align: middle;\n",
              "    }\n",
              "\n",
              "    .dataframe tbody tr th {\n",
              "        vertical-align: top;\n",
              "    }\n",
              "\n",
              "    .dataframe thead th {\n",
              "        text-align: right;\n",
              "    }\n",
              "</style>\n",
              "<table border=\"1\" class=\"dataframe\">\n",
              "  <thead>\n",
              "    <tr style=\"text-align: right;\">\n",
              "      <th></th>\n",
              "      <th>UserName</th>\n",
              "      <th>ScreenName</th>\n",
              "      <th>Location</th>\n",
              "      <th>TweetAt</th>\n",
              "      <th>OriginalTweet</th>\n",
              "      <th>Sentiment</th>\n",
              "    </tr>\n",
              "  </thead>\n",
              "  <tbody>\n",
              "    <tr>\n",
              "      <th>0</th>\n",
              "      <td>1</td>\n",
              "      <td>44953</td>\n",
              "      <td>NYC</td>\n",
              "      <td>02-03-2020</td>\n",
              "      <td>TRENDING: New Yorkers encounter empty supermar...</td>\n",
              "      <td>Extremely Negative</td>\n",
              "    </tr>\n",
              "    <tr>\n",
              "      <th>1</th>\n",
              "      <td>2</td>\n",
              "      <td>44954</td>\n",
              "      <td>Seattle, WA</td>\n",
              "      <td>02-03-2020</td>\n",
              "      <td>When I couldn't find hand sanitizer at Fred Me...</td>\n",
              "      <td>Positive</td>\n",
              "    </tr>\n",
              "    <tr>\n",
              "      <th>3</th>\n",
              "      <td>4</td>\n",
              "      <td>44956</td>\n",
              "      <td>Chicagoland</td>\n",
              "      <td>02-03-2020</td>\n",
              "      <td>#Panic buying hits #NewYork City as anxious sh...</td>\n",
              "      <td>Negative</td>\n",
              "    </tr>\n",
              "    <tr>\n",
              "      <th>4</th>\n",
              "      <td>5</td>\n",
              "      <td>44957</td>\n",
              "      <td>Melbourne, Victoria</td>\n",
              "      <td>03-03-2020</td>\n",
              "      <td>#toiletpaper #dunnypaper #coronavirus #coronav...</td>\n",
              "      <td>Neutral</td>\n",
              "    </tr>\n",
              "    <tr>\n",
              "      <th>5</th>\n",
              "      <td>6</td>\n",
              "      <td>44958</td>\n",
              "      <td>Los Angeles</td>\n",
              "      <td>03-03-2020</td>\n",
              "      <td>Do you remember the last time you paid $2.99 a...</td>\n",
              "      <td>Neutral</td>\n",
              "    </tr>\n",
              "  </tbody>\n",
              "</table>\n",
              "</div>\n",
              "      <button class=\"colab-df-convert\" onclick=\"convertToInteractive('df-6165eb03-ece8-4448-8933-84f970ba98e1')\"\n",
              "              title=\"Convert this dataframe to an interactive table.\"\n",
              "              style=\"display:none;\">\n",
              "        \n",
              "  <svg xmlns=\"http://www.w3.org/2000/svg\" height=\"24px\"viewBox=\"0 0 24 24\"\n",
              "       width=\"24px\">\n",
              "    <path d=\"M0 0h24v24H0V0z\" fill=\"none\"/>\n",
              "    <path d=\"M18.56 5.44l.94 2.06.94-2.06 2.06-.94-2.06-.94-.94-2.06-.94 2.06-2.06.94zm-11 1L8.5 8.5l.94-2.06 2.06-.94-2.06-.94L8.5 2.5l-.94 2.06-2.06.94zm10 10l.94 2.06.94-2.06 2.06-.94-2.06-.94-.94-2.06-.94 2.06-2.06.94z\"/><path d=\"M17.41 7.96l-1.37-1.37c-.4-.4-.92-.59-1.43-.59-.52 0-1.04.2-1.43.59L10.3 9.45l-7.72 7.72c-.78.78-.78 2.05 0 2.83L4 21.41c.39.39.9.59 1.41.59.51 0 1.02-.2 1.41-.59l7.78-7.78 2.81-2.81c.8-.78.8-2.07 0-2.86zM5.41 20L4 18.59l7.72-7.72 1.47 1.35L5.41 20z\"/>\n",
              "  </svg>\n",
              "      </button>\n",
              "      \n",
              "  <style>\n",
              "    .colab-df-container {\n",
              "      display:flex;\n",
              "      flex-wrap:wrap;\n",
              "      gap: 12px;\n",
              "    }\n",
              "\n",
              "    .colab-df-convert {\n",
              "      background-color: #E8F0FE;\n",
              "      border: none;\n",
              "      border-radius: 50%;\n",
              "      cursor: pointer;\n",
              "      display: none;\n",
              "      fill: #1967D2;\n",
              "      height: 32px;\n",
              "      padding: 0 0 0 0;\n",
              "      width: 32px;\n",
              "    }\n",
              "\n",
              "    .colab-df-convert:hover {\n",
              "      background-color: #E2EBFA;\n",
              "      box-shadow: 0px 1px 2px rgba(60, 64, 67, 0.3), 0px 1px 3px 1px rgba(60, 64, 67, 0.15);\n",
              "      fill: #174EA6;\n",
              "    }\n",
              "\n",
              "    [theme=dark] .colab-df-convert {\n",
              "      background-color: #3B4455;\n",
              "      fill: #D2E3FC;\n",
              "    }\n",
              "\n",
              "    [theme=dark] .colab-df-convert:hover {\n",
              "      background-color: #434B5C;\n",
              "      box-shadow: 0px 1px 3px 1px rgba(0, 0, 0, 0.15);\n",
              "      filter: drop-shadow(0px 1px 2px rgba(0, 0, 0, 0.3));\n",
              "      fill: #FFFFFF;\n",
              "    }\n",
              "  </style>\n",
              "\n",
              "      <script>\n",
              "        const buttonEl =\n",
              "          document.querySelector('#df-6165eb03-ece8-4448-8933-84f970ba98e1 button.colab-df-convert');\n",
              "        buttonEl.style.display =\n",
              "          google.colab.kernel.accessAllowed ? 'block' : 'none';\n",
              "\n",
              "        async function convertToInteractive(key) {\n",
              "          const element = document.querySelector('#df-6165eb03-ece8-4448-8933-84f970ba98e1');\n",
              "          const dataTable =\n",
              "            await google.colab.kernel.invokeFunction('convertToInteractive',\n",
              "                                                     [key], {});\n",
              "          if (!dataTable) return;\n",
              "\n",
              "          const docLinkHtml = 'Like what you see? Visit the ' +\n",
              "            '<a target=\"_blank\" href=https://colab.research.google.com/notebooks/data_table.ipynb>data table notebook</a>'\n",
              "            + ' to learn more about interactive tables.';\n",
              "          element.innerHTML = '';\n",
              "          dataTable['output_type'] = 'display_data';\n",
              "          await google.colab.output.renderOutput(dataTable, element);\n",
              "          const docLink = document.createElement('div');\n",
              "          docLink.innerHTML = docLinkHtml;\n",
              "          element.appendChild(docLink);\n",
              "        }\n",
              "      </script>\n",
              "    </div>\n",
              "  </div>\n",
              "  "
            ],
            "text/plain": [
              "   UserName  ...           Sentiment\n",
              "0         1  ...  Extremely Negative\n",
              "1         2  ...            Positive\n",
              "3         4  ...            Negative\n",
              "4         5  ...             Neutral\n",
              "5         6  ...             Neutral\n",
              "\n",
              "[5 rows x 6 columns]"
            ]
          },
          "metadata": {},
          "execution_count": 6
        }
      ]
    },
    {
      "cell_type": "code",
      "source": [
        "# preprocess training and testing set\n",
        "\n",
        "covid = covid[['OriginalTweet', 'Sentiment']]\n",
        "covid.columns = ['tweet', 'sentiment']\n",
        "sentiment_dict = {'negative': 0, 'extremely negative':0, 'neutral':1, 'positive':2, 'extremely positive':2}\n",
        "error_line = []\n",
        "\n",
        "def encode_sentiment(x):\n",
        "    sent_encoded = sentiment_dict[x.lower()]\n",
        "    return sent_encoded\n",
        "\n",
        "covid['sentiment_encoded'] = covid['sentiment'].apply(lambda x: encode_sentiment(x))\n",
        "\n"
      ],
      "metadata": {
        "id": "RlxI_7QNtGiO",
        "colab": {
          "base_uri": "https://localhost:8080/"
        },
        "outputId": "da71c25b-4816-46f0-b79e-c5e087293069"
      },
      "execution_count": 7,
      "outputs": [
        {
          "output_type": "stream",
          "name": "stderr",
          "text": [
            "/usr/local/lib/python3.7/dist-packages/ipykernel_launcher.py:12: SettingWithCopyWarning: \n",
            "A value is trying to be set on a copy of a slice from a DataFrame.\n",
            "Try using .loc[row_indexer,col_indexer] = value instead\n",
            "\n",
            "See the caveats in the documentation: https://pandas.pydata.org/pandas-docs/stable/user_guide/indexing.html#returning-a-view-versus-a-copy\n",
            "  if sys.path[0] == '':\n"
          ]
        }
      ]
    },
    {
      "cell_type": "code",
      "source": [
        "covid.head()"
      ],
      "metadata": {
        "colab": {
          "base_uri": "https://localhost:8080/",
          "height": 206
        },
        "id": "iqXDG2q9wLS8",
        "outputId": "d46eb81f-e32f-46cb-c58d-99aa78c6abcb"
      },
      "execution_count": 8,
      "outputs": [
        {
          "output_type": "execute_result",
          "data": {
            "text/html": [
              "\n",
              "  <div id=\"df-b16667a7-fb64-4f46-92b6-69e82a9a057a\">\n",
              "    <div class=\"colab-df-container\">\n",
              "      <div>\n",
              "<style scoped>\n",
              "    .dataframe tbody tr th:only-of-type {\n",
              "        vertical-align: middle;\n",
              "    }\n",
              "\n",
              "    .dataframe tbody tr th {\n",
              "        vertical-align: top;\n",
              "    }\n",
              "\n",
              "    .dataframe thead th {\n",
              "        text-align: right;\n",
              "    }\n",
              "</style>\n",
              "<table border=\"1\" class=\"dataframe\">\n",
              "  <thead>\n",
              "    <tr style=\"text-align: right;\">\n",
              "      <th></th>\n",
              "      <th>tweet</th>\n",
              "      <th>sentiment</th>\n",
              "      <th>sentiment_encoded</th>\n",
              "    </tr>\n",
              "  </thead>\n",
              "  <tbody>\n",
              "    <tr>\n",
              "      <th>0</th>\n",
              "      <td>TRENDING: New Yorkers encounter empty supermar...</td>\n",
              "      <td>Extremely Negative</td>\n",
              "      <td>0</td>\n",
              "    </tr>\n",
              "    <tr>\n",
              "      <th>1</th>\n",
              "      <td>When I couldn't find hand sanitizer at Fred Me...</td>\n",
              "      <td>Positive</td>\n",
              "      <td>2</td>\n",
              "    </tr>\n",
              "    <tr>\n",
              "      <th>3</th>\n",
              "      <td>#Panic buying hits #NewYork City as anxious sh...</td>\n",
              "      <td>Negative</td>\n",
              "      <td>0</td>\n",
              "    </tr>\n",
              "    <tr>\n",
              "      <th>4</th>\n",
              "      <td>#toiletpaper #dunnypaper #coronavirus #coronav...</td>\n",
              "      <td>Neutral</td>\n",
              "      <td>1</td>\n",
              "    </tr>\n",
              "    <tr>\n",
              "      <th>5</th>\n",
              "      <td>Do you remember the last time you paid $2.99 a...</td>\n",
              "      <td>Neutral</td>\n",
              "      <td>1</td>\n",
              "    </tr>\n",
              "  </tbody>\n",
              "</table>\n",
              "</div>\n",
              "      <button class=\"colab-df-convert\" onclick=\"convertToInteractive('df-b16667a7-fb64-4f46-92b6-69e82a9a057a')\"\n",
              "              title=\"Convert this dataframe to an interactive table.\"\n",
              "              style=\"display:none;\">\n",
              "        \n",
              "  <svg xmlns=\"http://www.w3.org/2000/svg\" height=\"24px\"viewBox=\"0 0 24 24\"\n",
              "       width=\"24px\">\n",
              "    <path d=\"M0 0h24v24H0V0z\" fill=\"none\"/>\n",
              "    <path d=\"M18.56 5.44l.94 2.06.94-2.06 2.06-.94-2.06-.94-.94-2.06-.94 2.06-2.06.94zm-11 1L8.5 8.5l.94-2.06 2.06-.94-2.06-.94L8.5 2.5l-.94 2.06-2.06.94zm10 10l.94 2.06.94-2.06 2.06-.94-2.06-.94-.94-2.06-.94 2.06-2.06.94z\"/><path d=\"M17.41 7.96l-1.37-1.37c-.4-.4-.92-.59-1.43-.59-.52 0-1.04.2-1.43.59L10.3 9.45l-7.72 7.72c-.78.78-.78 2.05 0 2.83L4 21.41c.39.39.9.59 1.41.59.51 0 1.02-.2 1.41-.59l7.78-7.78 2.81-2.81c.8-.78.8-2.07 0-2.86zM5.41 20L4 18.59l7.72-7.72 1.47 1.35L5.41 20z\"/>\n",
              "  </svg>\n",
              "      </button>\n",
              "      \n",
              "  <style>\n",
              "    .colab-df-container {\n",
              "      display:flex;\n",
              "      flex-wrap:wrap;\n",
              "      gap: 12px;\n",
              "    }\n",
              "\n",
              "    .colab-df-convert {\n",
              "      background-color: #E8F0FE;\n",
              "      border: none;\n",
              "      border-radius: 50%;\n",
              "      cursor: pointer;\n",
              "      display: none;\n",
              "      fill: #1967D2;\n",
              "      height: 32px;\n",
              "      padding: 0 0 0 0;\n",
              "      width: 32px;\n",
              "    }\n",
              "\n",
              "    .colab-df-convert:hover {\n",
              "      background-color: #E2EBFA;\n",
              "      box-shadow: 0px 1px 2px rgba(60, 64, 67, 0.3), 0px 1px 3px 1px rgba(60, 64, 67, 0.15);\n",
              "      fill: #174EA6;\n",
              "    }\n",
              "\n",
              "    [theme=dark] .colab-df-convert {\n",
              "      background-color: #3B4455;\n",
              "      fill: #D2E3FC;\n",
              "    }\n",
              "\n",
              "    [theme=dark] .colab-df-convert:hover {\n",
              "      background-color: #434B5C;\n",
              "      box-shadow: 0px 1px 3px 1px rgba(0, 0, 0, 0.15);\n",
              "      filter: drop-shadow(0px 1px 2px rgba(0, 0, 0, 0.3));\n",
              "      fill: #FFFFFF;\n",
              "    }\n",
              "  </style>\n",
              "\n",
              "      <script>\n",
              "        const buttonEl =\n",
              "          document.querySelector('#df-b16667a7-fb64-4f46-92b6-69e82a9a057a button.colab-df-convert');\n",
              "        buttonEl.style.display =\n",
              "          google.colab.kernel.accessAllowed ? 'block' : 'none';\n",
              "\n",
              "        async function convertToInteractive(key) {\n",
              "          const element = document.querySelector('#df-b16667a7-fb64-4f46-92b6-69e82a9a057a');\n",
              "          const dataTable =\n",
              "            await google.colab.kernel.invokeFunction('convertToInteractive',\n",
              "                                                     [key], {});\n",
              "          if (!dataTable) return;\n",
              "\n",
              "          const docLinkHtml = 'Like what you see? Visit the ' +\n",
              "            '<a target=\"_blank\" href=https://colab.research.google.com/notebooks/data_table.ipynb>data table notebook</a>'\n",
              "            + ' to learn more about interactive tables.';\n",
              "          element.innerHTML = '';\n",
              "          dataTable['output_type'] = 'display_data';\n",
              "          await google.colab.output.renderOutput(dataTable, element);\n",
              "          const docLink = document.createElement('div');\n",
              "          docLink.innerHTML = docLinkHtml;\n",
              "          element.appendChild(docLink);\n",
              "        }\n",
              "      </script>\n",
              "    </div>\n",
              "  </div>\n",
              "  "
            ],
            "text/plain": [
              "                                               tweet  ... sentiment_encoded\n",
              "0  TRENDING: New Yorkers encounter empty supermar...  ...                 0\n",
              "1  When I couldn't find hand sanitizer at Fred Me...  ...                 2\n",
              "3  #Panic buying hits #NewYork City as anxious sh...  ...                 0\n",
              "4  #toiletpaper #dunnypaper #coronavirus #coronav...  ...                 1\n",
              "5  Do you remember the last time you paid $2.99 a...  ...                 1\n",
              "\n",
              "[5 rows x 3 columns]"
            ]
          },
          "metadata": {},
          "execution_count": 8
        }
      ]
    },
    {
      "cell_type": "code",
      "source": [
        "print(len(covid.sentiment_encoded))\n",
        "print(covid.shape[0])"
      ],
      "metadata": {
        "colab": {
          "base_uri": "https://localhost:8080/"
        },
        "id": "P3euZ408syAa",
        "outputId": "9531a495-e8a8-467b-a5e7-566736450f17"
      },
      "execution_count": 9,
      "outputs": [
        {
          "output_type": "stream",
          "name": "stdout",
          "text": [
            "5928\n",
            "5928\n"
          ]
        }
      ]
    },
    {
      "cell_type": "markdown",
      "source": [
        "#### Tokenize each sentence"
      ],
      "metadata": {
        "id": "nln320q7XrNd"
      }
    },
    {
      "cell_type": "code",
      "source": [
        "# read in data\n",
        "def clear_data(df):\n",
        "    stopword = set(stopwords.words('english'))\n",
        "\n",
        "    # tokenize and post process, remove unnecessary words appearing in tweets(like urls and usernames)\n",
        "    tweet_words = []\n",
        "    str_lis = []\n",
        "    for t in df['tweet']:\n",
        "        t = t.lower()\n",
        "        tokens = tokenize(t)\n",
        "        tmp = []\n",
        "        for token in tokens:\n",
        "            # if token in stopword:\n",
        "            #     continue\n",
        "            if not wordnet.synsets(token):\n",
        "                continue\n",
        "            # repalce usernames with @USER\n",
        "            user = re.sub(r'@[\\w\\W]+', '@USER', token)\n",
        "            # replace with URL\n",
        "            url = re.sub(r'https[\\w\\W]+','URL',user)\n",
        "            if url in stopword:\n",
        "                continue\n",
        "            tmp.append(url)\n",
        "        tweet_words.append(tmp)\n",
        "        st = ' '.join([str(item) for item in tmp])\n",
        "        str_lis.append(st)\n",
        "    df['tweet_words'] = tweet_words\n",
        "    df['tweets'] = str_lis\n",
        "\n",
        "    # remove duplicates\n",
        "    df.drop_duplicates(subset=['tweets'], inplace=True)\n",
        "\n",
        "    df.drop(columns='tweet_words', inplace=True)\n",
        "    print(len(df))\n",
        "    df.to_csv(\"covid.csv\", index=False)\n",
        "    return df\n",
        "\n",
        "def tokenize(text):\n",
        "    words = []\n",
        "    # print(text.split())\n",
        "    for token in text.split():\n",
        "        # find wouldn't kind word\n",
        "        words.extend(re.findall(r\"\\w+-\\w+|https.+|\\.+|\\d+[\\.,]\\d+|[@#]\\w+|[+-]\\d+|(?:(?!n[’'])\\w)+|\\w?[’']\\w+|[^\\s\\w]\", token))\n",
        "        # words.extend(re.findall(r\"(?:(?!.')\\w)+|\\w?'\\w+|[^\\s\\w]\", token))\n",
        "    return words"
      ],
      "metadata": {
        "id": "gRdLqZHkHA3S"
      },
      "execution_count": 10,
      "outputs": []
    },
    {
      "cell_type": "code",
      "source": [
        "covid = clear_data(covid)"
      ],
      "metadata": {
        "colab": {
          "base_uri": "https://localhost:8080/"
        },
        "id": "gT9CkW7TH_u5",
        "outputId": "6be90f34-3645-4a08-e98d-f0be6a606762"
      },
      "execution_count": 11,
      "outputs": [
        {
          "output_type": "stream",
          "name": "stdout",
          "text": [
            "3086\n"
          ]
        }
      ]
    },
    {
      "cell_type": "code",
      "source": [
        "covid.head()"
      ],
      "metadata": {
        "colab": {
          "base_uri": "https://localhost:8080/",
          "height": 206
        },
        "id": "Tk12DfsmMj0d",
        "outputId": "cf1e80b0-62b6-408e-de37-658569cbfcdb"
      },
      "execution_count": 12,
      "outputs": [
        {
          "output_type": "execute_result",
          "data": {
            "text/html": [
              "\n",
              "  <div id=\"df-a198e2b9-239b-4b2b-b01d-8caecb2763ef\">\n",
              "    <div class=\"colab-df-container\">\n",
              "      <div>\n",
              "<style scoped>\n",
              "    .dataframe tbody tr th:only-of-type {\n",
              "        vertical-align: middle;\n",
              "    }\n",
              "\n",
              "    .dataframe tbody tr th {\n",
              "        vertical-align: top;\n",
              "    }\n",
              "\n",
              "    .dataframe thead th {\n",
              "        text-align: right;\n",
              "    }\n",
              "</style>\n",
              "<table border=\"1\" class=\"dataframe\">\n",
              "  <thead>\n",
              "    <tr style=\"text-align: right;\">\n",
              "      <th></th>\n",
              "      <th>tweet</th>\n",
              "      <th>sentiment</th>\n",
              "      <th>sentiment_encoded</th>\n",
              "      <th>tweets</th>\n",
              "    </tr>\n",
              "  </thead>\n",
              "  <tbody>\n",
              "    <tr>\n",
              "      <th>0</th>\n",
              "      <td>TRENDING: New Yorkers encounter empty supermar...</td>\n",
              "      <td>Extremely Negative</td>\n",
              "      <td>0</td>\n",
              "      <td>trending new encounter empty supermarket shelv...</td>\n",
              "    </tr>\n",
              "    <tr>\n",
              "      <th>1</th>\n",
              "      <td>When I couldn't find hand sanitizer at Fred Me...</td>\n",
              "      <td>Positive</td>\n",
              "      <td>2</td>\n",
              "      <td>find hand turned 2 pack check concerns driving...</td>\n",
              "    </tr>\n",
              "    <tr>\n",
              "      <th>3</th>\n",
              "      <td>#Panic buying hits #NewYork City as anxious sh...</td>\n",
              "      <td>Negative</td>\n",
              "      <td>0</td>\n",
              "      <td>buying hits city anxious shoppers stock food a...</td>\n",
              "    </tr>\n",
              "    <tr>\n",
              "      <th>4</th>\n",
              "      <td>#toiletpaper #dunnypaper #coronavirus #coronav...</td>\n",
              "      <td>Neutral</td>\n",
              "      <td>1</td>\n",
              "      <td>one week buying baby milk powder next buying t...</td>\n",
              "    </tr>\n",
              "    <tr>\n",
              "      <th>5</th>\n",
              "      <td>Do you remember the last time you paid $2.99 a...</td>\n",
              "      <td>Neutral</td>\n",
              "      <td>1</td>\n",
              "      <td>remember last time paid gallon regular gas pri...</td>\n",
              "    </tr>\n",
              "  </tbody>\n",
              "</table>\n",
              "</div>\n",
              "      <button class=\"colab-df-convert\" onclick=\"convertToInteractive('df-a198e2b9-239b-4b2b-b01d-8caecb2763ef')\"\n",
              "              title=\"Convert this dataframe to an interactive table.\"\n",
              "              style=\"display:none;\">\n",
              "        \n",
              "  <svg xmlns=\"http://www.w3.org/2000/svg\" height=\"24px\"viewBox=\"0 0 24 24\"\n",
              "       width=\"24px\">\n",
              "    <path d=\"M0 0h24v24H0V0z\" fill=\"none\"/>\n",
              "    <path d=\"M18.56 5.44l.94 2.06.94-2.06 2.06-.94-2.06-.94-.94-2.06-.94 2.06-2.06.94zm-11 1L8.5 8.5l.94-2.06 2.06-.94-2.06-.94L8.5 2.5l-.94 2.06-2.06.94zm10 10l.94 2.06.94-2.06 2.06-.94-2.06-.94-.94-2.06-.94 2.06-2.06.94z\"/><path d=\"M17.41 7.96l-1.37-1.37c-.4-.4-.92-.59-1.43-.59-.52 0-1.04.2-1.43.59L10.3 9.45l-7.72 7.72c-.78.78-.78 2.05 0 2.83L4 21.41c.39.39.9.59 1.41.59.51 0 1.02-.2 1.41-.59l7.78-7.78 2.81-2.81c.8-.78.8-2.07 0-2.86zM5.41 20L4 18.59l7.72-7.72 1.47 1.35L5.41 20z\"/>\n",
              "  </svg>\n",
              "      </button>\n",
              "      \n",
              "  <style>\n",
              "    .colab-df-container {\n",
              "      display:flex;\n",
              "      flex-wrap:wrap;\n",
              "      gap: 12px;\n",
              "    }\n",
              "\n",
              "    .colab-df-convert {\n",
              "      background-color: #E8F0FE;\n",
              "      border: none;\n",
              "      border-radius: 50%;\n",
              "      cursor: pointer;\n",
              "      display: none;\n",
              "      fill: #1967D2;\n",
              "      height: 32px;\n",
              "      padding: 0 0 0 0;\n",
              "      width: 32px;\n",
              "    }\n",
              "\n",
              "    .colab-df-convert:hover {\n",
              "      background-color: #E2EBFA;\n",
              "      box-shadow: 0px 1px 2px rgba(60, 64, 67, 0.3), 0px 1px 3px 1px rgba(60, 64, 67, 0.15);\n",
              "      fill: #174EA6;\n",
              "    }\n",
              "\n",
              "    [theme=dark] .colab-df-convert {\n",
              "      background-color: #3B4455;\n",
              "      fill: #D2E3FC;\n",
              "    }\n",
              "\n",
              "    [theme=dark] .colab-df-convert:hover {\n",
              "      background-color: #434B5C;\n",
              "      box-shadow: 0px 1px 3px 1px rgba(0, 0, 0, 0.15);\n",
              "      filter: drop-shadow(0px 1px 2px rgba(0, 0, 0, 0.3));\n",
              "      fill: #FFFFFF;\n",
              "    }\n",
              "  </style>\n",
              "\n",
              "      <script>\n",
              "        const buttonEl =\n",
              "          document.querySelector('#df-a198e2b9-239b-4b2b-b01d-8caecb2763ef button.colab-df-convert');\n",
              "        buttonEl.style.display =\n",
              "          google.colab.kernel.accessAllowed ? 'block' : 'none';\n",
              "\n",
              "        async function convertToInteractive(key) {\n",
              "          const element = document.querySelector('#df-a198e2b9-239b-4b2b-b01d-8caecb2763ef');\n",
              "          const dataTable =\n",
              "            await google.colab.kernel.invokeFunction('convertToInteractive',\n",
              "                                                     [key], {});\n",
              "          if (!dataTable) return;\n",
              "\n",
              "          const docLinkHtml = 'Like what you see? Visit the ' +\n",
              "            '<a target=\"_blank\" href=https://colab.research.google.com/notebooks/data_table.ipynb>data table notebook</a>'\n",
              "            + ' to learn more about interactive tables.';\n",
              "          element.innerHTML = '';\n",
              "          dataTable['output_type'] = 'display_data';\n",
              "          await google.colab.output.renderOutput(dataTable, element);\n",
              "          const docLink = document.createElement('div');\n",
              "          docLink.innerHTML = docLinkHtml;\n",
              "          element.appendChild(docLink);\n",
              "        }\n",
              "      </script>\n",
              "    </div>\n",
              "  </div>\n",
              "  "
            ],
            "text/plain": [
              "                                               tweet  ...                                             tweets\n",
              "0  TRENDING: New Yorkers encounter empty supermar...  ...  trending new encounter empty supermarket shelv...\n",
              "1  When I couldn't find hand sanitizer at Fred Me...  ...  find hand turned 2 pack check concerns driving...\n",
              "3  #Panic buying hits #NewYork City as anxious sh...  ...  buying hits city anxious shoppers stock food a...\n",
              "4  #toiletpaper #dunnypaper #coronavirus #coronav...  ...  one week buying baby milk powder next buying t...\n",
              "5  Do you remember the last time you paid $2.99 a...  ...  remember last time paid gallon regular gas pri...\n",
              "\n",
              "[5 rows x 4 columns]"
            ]
          },
          "metadata": {},
          "execution_count": 12
        }
      ]
    },
    {
      "cell_type": "markdown",
      "source": [
        "#### Encode and truncate sentence"
      ],
      "metadata": {
        "id": "jJlI6cYBYXbw"
      }
    },
    {
      "cell_type": "code",
      "source": [
        "# tokenize the tweets into list\n",
        "def encode_tweets(x):\n",
        "    tweet_list = x.split()\n",
        "    return tweet_list\n",
        "\n",
        "covid['tweets_tokenized'] = covid['tweets'].apply(lambda x: encode_tweets(x))\n",
        "covid.reset_index(drop=True, inplace=True)\n",
        "# drop rows wth empty tokenized tweet\n",
        "for i, row in covid.iterrows():\n",
        "    if len(row.tweets_tokenized) < 2:\n",
        "        covid.drop(i, inplace = True)"
      ],
      "metadata": {
        "id": "WN-PNmV5ZaWD"
      },
      "execution_count": 13,
      "outputs": []
    },
    {
      "cell_type": "code",
      "source": [
        "covid.head(30)"
      ],
      "metadata": {
        "colab": {
          "base_uri": "https://localhost:8080/",
          "height": 1000
        },
        "id": "mS6oy6iytLuL",
        "outputId": "365862b2-0fa5-47ca-8e0f-a697cc377f03"
      },
      "execution_count": 14,
      "outputs": [
        {
          "output_type": "execute_result",
          "data": {
            "text/html": [
              "\n",
              "  <div id=\"df-b45a37eb-1a4f-4653-9048-daa92783c6e8\">\n",
              "    <div class=\"colab-df-container\">\n",
              "      <div>\n",
              "<style scoped>\n",
              "    .dataframe tbody tr th:only-of-type {\n",
              "        vertical-align: middle;\n",
              "    }\n",
              "\n",
              "    .dataframe tbody tr th {\n",
              "        vertical-align: top;\n",
              "    }\n",
              "\n",
              "    .dataframe thead th {\n",
              "        text-align: right;\n",
              "    }\n",
              "</style>\n",
              "<table border=\"1\" class=\"dataframe\">\n",
              "  <thead>\n",
              "    <tr style=\"text-align: right;\">\n",
              "      <th></th>\n",
              "      <th>tweet</th>\n",
              "      <th>sentiment</th>\n",
              "      <th>sentiment_encoded</th>\n",
              "      <th>tweets</th>\n",
              "      <th>tweets_tokenized</th>\n",
              "    </tr>\n",
              "  </thead>\n",
              "  <tbody>\n",
              "    <tr>\n",
              "      <th>0</th>\n",
              "      <td>TRENDING: New Yorkers encounter empty supermar...</td>\n",
              "      <td>Extremely Negative</td>\n",
              "      <td>0</td>\n",
              "      <td>trending new encounter empty supermarket shelv...</td>\n",
              "      <td>[trending, new, encounter, empty, supermarket,...</td>\n",
              "    </tr>\n",
              "    <tr>\n",
              "      <th>1</th>\n",
              "      <td>When I couldn't find hand sanitizer at Fred Me...</td>\n",
              "      <td>Positive</td>\n",
              "      <td>2</td>\n",
              "      <td>find hand turned 2 pack check concerns driving...</td>\n",
              "      <td>[find, hand, turned, 2, pack, check, concerns,...</td>\n",
              "    </tr>\n",
              "    <tr>\n",
              "      <th>2</th>\n",
              "      <td>#Panic buying hits #NewYork City as anxious sh...</td>\n",
              "      <td>Negative</td>\n",
              "      <td>0</td>\n",
              "      <td>buying hits city anxious shoppers stock food a...</td>\n",
              "      <td>[buying, hits, city, anxious, shoppers, stock,...</td>\n",
              "    </tr>\n",
              "    <tr>\n",
              "      <th>3</th>\n",
              "      <td>#toiletpaper #dunnypaper #coronavirus #coronav...</td>\n",
              "      <td>Neutral</td>\n",
              "      <td>1</td>\n",
              "      <td>one week buying baby milk powder next buying t...</td>\n",
              "      <td>[one, week, buying, baby, milk, powder, next, ...</td>\n",
              "    </tr>\n",
              "    <tr>\n",
              "      <th>4</th>\n",
              "      <td>Do you remember the last time you paid $2.99 a...</td>\n",
              "      <td>Neutral</td>\n",
              "      <td>1</td>\n",
              "      <td>remember last time paid gallon regular gas pri...</td>\n",
              "      <td>[remember, last, time, paid, gallon, regular, ...</td>\n",
              "    </tr>\n",
              "    <tr>\n",
              "      <th>5</th>\n",
              "      <td>@DrTedros \"We canÂt stop #COVID19 without pro...</td>\n",
              "      <td>Neutral</td>\n",
              "      <td>1</td>\n",
              "      <td>stop protecting prices surgical masks increase...</td>\n",
              "      <td>[stop, protecting, prices, surgical, masks, in...</td>\n",
              "    </tr>\n",
              "    <tr>\n",
              "      <th>6</th>\n",
              "      <td>Anyone been in a supermarket over the last few...</td>\n",
              "      <td>Extremely Positive</td>\n",
              "      <td>2</td>\n",
              "      <td>supermarket last days went normal shop last ni...</td>\n",
              "      <td>[supermarket, last, days, went, normal, shop, ...</td>\n",
              "    </tr>\n",
              "    <tr>\n",
              "      <th>7</th>\n",
              "      <td>Best quality couches at unbelievably low price...</td>\n",
              "      <td>Positive</td>\n",
              "      <td>2</td>\n",
              "      <td>best quality couches unbelievably low prices a...</td>\n",
              "      <td>[best, quality, couches, unbelievably, low, pr...</td>\n",
              "    </tr>\n",
              "    <tr>\n",
              "      <th>8</th>\n",
              "      <td>Beware of counterfeits trying to sell fake mas...</td>\n",
              "      <td>Extremely Negative</td>\n",
              "      <td>0</td>\n",
              "      <td>beware counterfeits trying sell fake masks che...</td>\n",
              "      <td>[beware, counterfeits, trying, sell, fake, mas...</td>\n",
              "    </tr>\n",
              "    <tr>\n",
              "      <th>9</th>\n",
              "      <td>Panic food buying in Germany due to #coronavir...</td>\n",
              "      <td>Extremely Negative</td>\n",
              "      <td>0</td>\n",
              "      <td>panic food buying germany due begun left behin...</td>\n",
              "      <td>[panic, food, buying, germany, due, begun, lef...</td>\n",
              "    </tr>\n",
              "    <tr>\n",
              "      <th>10</th>\n",
              "      <td>While we were busy watching election returns a...</td>\n",
              "      <td>Positive</td>\n",
              "      <td>2</td>\n",
              "      <td>busy watching election returns bracing outbrea...</td>\n",
              "      <td>[busy, watching, election, returns, bracing, o...</td>\n",
              "    </tr>\n",
              "    <tr>\n",
              "      <th>11</th>\n",
              "      <td>#AirSewa \\r\\r\\n\\r\\r\\n@flyspicejet is not provi...</td>\n",
              "      <td>Extremely Negative</td>\n",
              "      <td>0</td>\n",
              "      <td>providing customers free seats passengers forc...</td>\n",
              "      <td>[providing, customers, free, seats, passengers...</td>\n",
              "    </tr>\n",
              "    <tr>\n",
              "      <th>12</th>\n",
              "      <td>What Precautionary measures have you all taken...</td>\n",
              "      <td>Extremely Positive</td>\n",
              "      <td>2</td>\n",
              "      <td>precautionary measures taken respective restau...</td>\n",
              "      <td>[precautionary, measures, taken, respective, r...</td>\n",
              "    </tr>\n",
              "    <tr>\n",
              "      <th>13</th>\n",
              "      <td>When youÂre stockpiling food &amp;amp; other supp...</td>\n",
              "      <td>Neutral</td>\n",
              "      <td>1</td>\n",
              "      <td>stockpiling food amp supplies buy extra local ...</td>\n",
              "      <td>[stockpiling, food, amp, supplies, buy, extra,...</td>\n",
              "    </tr>\n",
              "    <tr>\n",
              "      <th>14</th>\n",
              "      <td>Studies show the #coronavirus like #COVID19 ca...</td>\n",
              "      <td>Extremely Positive</td>\n",
              "      <td>2</td>\n",
              "      <td>studies show like live nine days hard surfaces...</td>\n",
              "      <td>[studies, show, like, live, nine, days, hard, ...</td>\n",
              "    </tr>\n",
              "    <tr>\n",
              "      <th>15</th>\n",
              "      <td>#CoronaVirus #COVID_19 People are starting to ...</td>\n",
              "      <td>Negative</td>\n",
              "      <td>0</td>\n",
              "      <td>people starting become frightened many shelves...</td>\n",
              "      <td>[people, starting, become, frightened, many, s...</td>\n",
              "    </tr>\n",
              "    <tr>\n",
              "      <th>16</th>\n",
              "      <td>For those of you that think credit/debit is ju...</td>\n",
              "      <td>Extremely Positive</td>\n",
              "      <td>2</td>\n",
              "      <td>think credit debit good comes combating keep m...</td>\n",
              "      <td>[think, credit, debit, good, comes, combating,...</td>\n",
              "    </tr>\n",
              "    <tr>\n",
              "      <th>17</th>\n",
              "      <td>Control over stocks and gold is lost...gold co...</td>\n",
              "      <td>Extremely Positive</td>\n",
              "      <td>2</td>\n",
              "      <td>control stocks gold lost gold coming back nice...</td>\n",
              "      <td>[control, stocks, gold, lost, gold, coming, ba...</td>\n",
              "    </tr>\n",
              "    <tr>\n",
              "      <th>18</th>\n",
              "      <td>Sellers are cashing on your panic to sell face...</td>\n",
              "      <td>Extremely Positive</td>\n",
              "      <td>2</td>\n",
              "      <td>sellers cashing panic sell super inflated pric...</td>\n",
              "      <td>[sellers, cashing, panic, sell, super, inflate...</td>\n",
              "    </tr>\n",
              "    <tr>\n",
              "      <th>19</th>\n",
              "      <td>Canada'sÂ oilpatch is bracing for the impact o...</td>\n",
              "      <td>Extremely Negative</td>\n",
              "      <td>0</td>\n",
              "      <td>canada bracing impact plunging crude prices op...</td>\n",
              "      <td>[canada, bracing, impact, plunging, crude, pri...</td>\n",
              "    </tr>\n",
              "    <tr>\n",
              "      <th>20</th>\n",
              "      <td>Alright yÂall I hope our Melanin prevails but...</td>\n",
              "      <td>Positive</td>\n",
              "      <td>2</td>\n",
              "      <td>alright hope melanin prevails case took precau...</td>\n",
              "      <td>[alright, hope, melanin, prevails, case, took,...</td>\n",
              "    </tr>\n",
              "    <tr>\n",
              "      <th>21</th>\n",
              "      <td>When your usual grocery shopping @woolworths t...</td>\n",
              "      <td>Negative</td>\n",
              "      <td>0</td>\n",
              "      <td>usual grocery shopping turns toilet paper figh...</td>\n",
              "      <td>[usual, grocery, shopping, turns, toilet, pape...</td>\n",
              "    </tr>\n",
              "    <tr>\n",
              "      <th>22</th>\n",
              "      <td>#Coronavirus is \"an exposure of all the holes ...</td>\n",
              "      <td>Positive</td>\n",
              "      <td>2</td>\n",
              "      <td>exposure holes social safety net says governme...</td>\n",
              "      <td>[exposure, holes, social, safety, net, says, g...</td>\n",
              "    </tr>\n",
              "    <tr>\n",
              "      <th>23</th>\n",
              "      <td>Two important phone numbers NYers should know....</td>\n",
              "      <td>Negative</td>\n",
              "      <td>0</td>\n",
              "      <td>two important phone numbers know doctor insura...</td>\n",
              "      <td>[two, important, phone, numbers, know, doctor,...</td>\n",
              "    </tr>\n",
              "    <tr>\n",
              "      <th>24</th>\n",
              "      <td>Tip for all Pro Wrestlers to help combat the #...</td>\n",
              "      <td>Extremely Positive</td>\n",
              "      <td>2</td>\n",
              "      <td>tip pro wrestlers help combat like bring hand ...</td>\n",
              "      <td>[tip, pro, wrestlers, help, combat, like, brin...</td>\n",
              "    </tr>\n",
              "    <tr>\n",
              "      <th>25</th>\n",
              "      <td>Is this effective?\\r\\r\\nIs it necessary?\\r\\r\\n...</td>\n",
              "      <td>Extremely Negative</td>\n",
              "      <td>0</td>\n",
              "      <td>effective necessary optics scare tactics ameri...</td>\n",
              "      <td>[effective, necessary, optics, scare, tactics,...</td>\n",
              "    </tr>\n",
              "    <tr>\n",
              "      <th>26</th>\n",
              "      <td>IMHO Russia's rug pull on oil prices is design...</td>\n",
              "      <td>Extremely Negative</td>\n",
              "      <td>0</td>\n",
              "      <td>russia rug pull oil prices designed end dollar...</td>\n",
              "      <td>[russia, rug, pull, oil, prices, designed, end...</td>\n",
              "    </tr>\n",
              "    <tr>\n",
              "      <th>27</th>\n",
              "      <td>So not due to #Brexit at all then &amp;gt;&amp;gt; Sup...</td>\n",
              "      <td>Neutral</td>\n",
              "      <td>1</td>\n",
              "      <td>due supermarkets begin wave fuelled panic buying</td>\n",
              "      <td>[due, supermarkets, begin, wave, fuelled, pani...</td>\n",
              "    </tr>\n",
              "    <tr>\n",
              "      <th>28</th>\n",
              "      <td>Remember, with all the media deflection storie...</td>\n",
              "      <td>Extremely Negative</td>\n",
              "      <td>0</td>\n",
              "      <td>remember media deflection stories bog rolls fo...</td>\n",
              "      <td>[remember, media, deflection, stories, bog, ro...</td>\n",
              "    </tr>\n",
              "    <tr>\n",
              "      <th>29</th>\n",
              "      <td>Fellow Uni instructors! COVID-19 f2f class can...</td>\n",
              "      <td>Negative</td>\n",
              "      <td>0</td>\n",
              "      <td>fellow instructors class inconvenient remember...</td>\n",
              "      <td>[fellow, instructors, class, inconvenient, rem...</td>\n",
              "    </tr>\n",
              "  </tbody>\n",
              "</table>\n",
              "</div>\n",
              "      <button class=\"colab-df-convert\" onclick=\"convertToInteractive('df-b45a37eb-1a4f-4653-9048-daa92783c6e8')\"\n",
              "              title=\"Convert this dataframe to an interactive table.\"\n",
              "              style=\"display:none;\">\n",
              "        \n",
              "  <svg xmlns=\"http://www.w3.org/2000/svg\" height=\"24px\"viewBox=\"0 0 24 24\"\n",
              "       width=\"24px\">\n",
              "    <path d=\"M0 0h24v24H0V0z\" fill=\"none\"/>\n",
              "    <path d=\"M18.56 5.44l.94 2.06.94-2.06 2.06-.94-2.06-.94-.94-2.06-.94 2.06-2.06.94zm-11 1L8.5 8.5l.94-2.06 2.06-.94-2.06-.94L8.5 2.5l-.94 2.06-2.06.94zm10 10l.94 2.06.94-2.06 2.06-.94-2.06-.94-.94-2.06-.94 2.06-2.06.94z\"/><path d=\"M17.41 7.96l-1.37-1.37c-.4-.4-.92-.59-1.43-.59-.52 0-1.04.2-1.43.59L10.3 9.45l-7.72 7.72c-.78.78-.78 2.05 0 2.83L4 21.41c.39.39.9.59 1.41.59.51 0 1.02-.2 1.41-.59l7.78-7.78 2.81-2.81c.8-.78.8-2.07 0-2.86zM5.41 20L4 18.59l7.72-7.72 1.47 1.35L5.41 20z\"/>\n",
              "  </svg>\n",
              "      </button>\n",
              "      \n",
              "  <style>\n",
              "    .colab-df-container {\n",
              "      display:flex;\n",
              "      flex-wrap:wrap;\n",
              "      gap: 12px;\n",
              "    }\n",
              "\n",
              "    .colab-df-convert {\n",
              "      background-color: #E8F0FE;\n",
              "      border: none;\n",
              "      border-radius: 50%;\n",
              "      cursor: pointer;\n",
              "      display: none;\n",
              "      fill: #1967D2;\n",
              "      height: 32px;\n",
              "      padding: 0 0 0 0;\n",
              "      width: 32px;\n",
              "    }\n",
              "\n",
              "    .colab-df-convert:hover {\n",
              "      background-color: #E2EBFA;\n",
              "      box-shadow: 0px 1px 2px rgba(60, 64, 67, 0.3), 0px 1px 3px 1px rgba(60, 64, 67, 0.15);\n",
              "      fill: #174EA6;\n",
              "    }\n",
              "\n",
              "    [theme=dark] .colab-df-convert {\n",
              "      background-color: #3B4455;\n",
              "      fill: #D2E3FC;\n",
              "    }\n",
              "\n",
              "    [theme=dark] .colab-df-convert:hover {\n",
              "      background-color: #434B5C;\n",
              "      box-shadow: 0px 1px 3px 1px rgba(0, 0, 0, 0.15);\n",
              "      filter: drop-shadow(0px 1px 2px rgba(0, 0, 0, 0.3));\n",
              "      fill: #FFFFFF;\n",
              "    }\n",
              "  </style>\n",
              "\n",
              "      <script>\n",
              "        const buttonEl =\n",
              "          document.querySelector('#df-b45a37eb-1a4f-4653-9048-daa92783c6e8 button.colab-df-convert');\n",
              "        buttonEl.style.display =\n",
              "          google.colab.kernel.accessAllowed ? 'block' : 'none';\n",
              "\n",
              "        async function convertToInteractive(key) {\n",
              "          const element = document.querySelector('#df-b45a37eb-1a4f-4653-9048-daa92783c6e8');\n",
              "          const dataTable =\n",
              "            await google.colab.kernel.invokeFunction('convertToInteractive',\n",
              "                                                     [key], {});\n",
              "          if (!dataTable) return;\n",
              "\n",
              "          const docLinkHtml = 'Like what you see? Visit the ' +\n",
              "            '<a target=\"_blank\" href=https://colab.research.google.com/notebooks/data_table.ipynb>data table notebook</a>'\n",
              "            + ' to learn more about interactive tables.';\n",
              "          element.innerHTML = '';\n",
              "          dataTable['output_type'] = 'display_data';\n",
              "          await google.colab.output.renderOutput(dataTable, element);\n",
              "          const docLink = document.createElement('div');\n",
              "          docLink.innerHTML = docLinkHtml;\n",
              "          element.appendChild(docLink);\n",
              "        }\n",
              "      </script>\n",
              "    </div>\n",
              "  </div>\n",
              "  "
            ],
            "text/plain": [
              "                                                tweet  ...                                   tweets_tokenized\n",
              "0   TRENDING: New Yorkers encounter empty supermar...  ...  [trending, new, encounter, empty, supermarket,...\n",
              "1   When I couldn't find hand sanitizer at Fred Me...  ...  [find, hand, turned, 2, pack, check, concerns,...\n",
              "2   #Panic buying hits #NewYork City as anxious sh...  ...  [buying, hits, city, anxious, shoppers, stock,...\n",
              "3   #toiletpaper #dunnypaper #coronavirus #coronav...  ...  [one, week, buying, baby, milk, powder, next, ...\n",
              "4   Do you remember the last time you paid $2.99 a...  ...  [remember, last, time, paid, gallon, regular, ...\n",
              "5   @DrTedros \"We canÂt stop #COVID19 without pro...  ...  [stop, protecting, prices, surgical, masks, in...\n",
              "6   Anyone been in a supermarket over the last few...  ...  [supermarket, last, days, went, normal, shop, ...\n",
              "7   Best quality couches at unbelievably low price...  ...  [best, quality, couches, unbelievably, low, pr...\n",
              "8   Beware of counterfeits trying to sell fake mas...  ...  [beware, counterfeits, trying, sell, fake, mas...\n",
              "9   Panic food buying in Germany due to #coronavir...  ...  [panic, food, buying, germany, due, begun, lef...\n",
              "10  While we were busy watching election returns a...  ...  [busy, watching, election, returns, bracing, o...\n",
              "11  #AirSewa \\r\\r\\n\\r\\r\\n@flyspicejet is not provi...  ...  [providing, customers, free, seats, passengers...\n",
              "12  What Precautionary measures have you all taken...  ...  [precautionary, measures, taken, respective, r...\n",
              "13  When youÂre stockpiling food &amp; other supp...  ...  [stockpiling, food, amp, supplies, buy, extra,...\n",
              "14  Studies show the #coronavirus like #COVID19 ca...  ...  [studies, show, like, live, nine, days, hard, ...\n",
              "15  #CoronaVirus #COVID_19 People are starting to ...  ...  [people, starting, become, frightened, many, s...\n",
              "16  For those of you that think credit/debit is ju...  ...  [think, credit, debit, good, comes, combating,...\n",
              "17  Control over stocks and gold is lost...gold co...  ...  [control, stocks, gold, lost, gold, coming, ba...\n",
              "18  Sellers are cashing on your panic to sell face...  ...  [sellers, cashing, panic, sell, super, inflate...\n",
              "19  Canada'sÂ oilpatch is bracing for the impact o...  ...  [canada, bracing, impact, plunging, crude, pri...\n",
              "20  Alright yÂall I hope our Melanin prevails but...  ...  [alright, hope, melanin, prevails, case, took,...\n",
              "21  When your usual grocery shopping @woolworths t...  ...  [usual, grocery, shopping, turns, toilet, pape...\n",
              "22  #Coronavirus is \"an exposure of all the holes ...  ...  [exposure, holes, social, safety, net, says, g...\n",
              "23  Two important phone numbers NYers should know....  ...  [two, important, phone, numbers, know, doctor,...\n",
              "24  Tip for all Pro Wrestlers to help combat the #...  ...  [tip, pro, wrestlers, help, combat, like, brin...\n",
              "25  Is this effective?\\r\\r\\nIs it necessary?\\r\\r\\n...  ...  [effective, necessary, optics, scare, tactics,...\n",
              "26  IMHO Russia's rug pull on oil prices is design...  ...  [russia, rug, pull, oil, prices, designed, end...\n",
              "27  So not due to #Brexit at all then &gt;&gt; Sup...  ...  [due, supermarkets, begin, wave, fuelled, pani...\n",
              "28  Remember, with all the media deflection storie...  ...  [remember, media, deflection, stories, bog, ro...\n",
              "29  Fellow Uni instructors! COVID-19 f2f class can...  ...  [fellow, instructors, class, inconvenient, rem...\n",
              "\n",
              "[30 rows x 5 columns]"
            ]
          },
          "metadata": {},
          "execution_count": 14
        }
      ]
    },
    {
      "cell_type": "code",
      "source": [
        "# sanity check for length of tweet\n",
        "len_list = [len(x) for x in covid.tweets_tokenized]\n",
        "max(len_list)"
      ],
      "metadata": {
        "colab": {
          "base_uri": "https://localhost:8080/"
        },
        "id": "qun6UGlzZ9sU",
        "outputId": "89e686c4-280a-4842-a9e5-26122ad2bb64"
      },
      "execution_count": 15,
      "outputs": [
        {
          "output_type": "execute_result",
          "data": {
            "text/plain": [
              "34"
            ]
          },
          "metadata": {},
          "execution_count": 15
        }
      ]
    },
    {
      "cell_type": "code",
      "source": [
        "# get unique words in the corpus\n",
        "all_words = []\n",
        "for x in covid['tweets_tokenized']:\n",
        "    all_words.extend(x)\n",
        "\n",
        "word_set = list(set(all_words))\n",
        "word_count = Counter(all_words)\n",
        "\n",
        "# filter out words with low frequency\n",
        "for word_list in covid.tweets_tokenized:\n",
        "    new_list = []\n",
        "    for word in word_list:\n",
        "        if word_count[word] > 2:\n",
        "            new_list.append(word)\n",
        "    word_list = new_list\n",
        "\n",
        "# update set of words after removing the ones with low frequency\n",
        "new_word_list = []\n",
        "for x in covid['tweets_tokenized']:\n",
        "    new_word_list.extend(x)\n",
        "word_set = list(set(new_word_list))\n",
        "\n",
        "# map each unique words & unknown token in covid.encoded to an index\n",
        "word2index = {}\n",
        "word2index['<UNK>'] = 0\n",
        "word2index['<PAD>'] = 1\n",
        "\n",
        "for i, word in enumerate(word_set, 2):\n",
        "    word2index[word] = i\n",
        "\n",
        "# encode the original sequence\n",
        "def encode(sent_list):\n",
        "    result = []\n",
        "    for x in sent_list:\n",
        "        index = word2index[x]\n",
        "        result.append(index)\n",
        "    return result\n",
        "\n",
        "covid['encoded_old'] = covid.tweets_tokenized.apply(lambda x: encode(x))\n",
        "\n",
        "\n",
        "# get sequence average length\n",
        "total_len = 0\n",
        "for x in covid.encoded_old:\n",
        "    total_len += len(x)\n",
        "\n",
        "ave_len = math.floor(total_len/covid.shape[0])\n",
        "\n",
        "# filter out long sequences --> encode all sequence to length = ave_len\n",
        "# pad short sequence\n",
        "\n",
        "def fix_tweet(x):\n",
        "    size = min(len(x), ave_len)\n",
        "    new_encoded = x[:size]\n",
        "    len_before_pad = len(new_encoded)\n",
        "    if size < ave_len:\n",
        "        for j in range(0, ave_len - len(x)):\n",
        "            new_encoded.append(0)\n",
        "    return new_encoded\n",
        "\n",
        "covid['encoded'] = covid.encoded_old.apply(lambda x: fix_tweet(x))\n",
        "covid['tweet_length'] = covid.encoded_old.apply(lambda x: min(len(x), ave_len))"
      ],
      "metadata": {
        "id": "-sT1ynqj_7Fo"
      },
      "execution_count": 16,
      "outputs": []
    },
    {
      "cell_type": "code",
      "source": [
        "max(covid.tweet_length)\n",
        "\n",
        "print(word2index['exchange'])\n",
        "covid.head()"
      ],
      "metadata": {
        "colab": {
          "base_uri": "https://localhost:8080/",
          "height": 441
        },
        "id": "AupajdyydM_H",
        "outputId": "85da871e-c357-4f67-ae5f-df93fedffe55"
      },
      "execution_count": 17,
      "outputs": [
        {
          "output_type": "stream",
          "name": "stdout",
          "text": [
            "717\n"
          ]
        },
        {
          "output_type": "execute_result",
          "data": {
            "text/html": [
              "\n",
              "  <div id=\"df-12a65ff6-7463-493a-997a-39d73d8bfe03\">\n",
              "    <div class=\"colab-df-container\">\n",
              "      <div>\n",
              "<style scoped>\n",
              "    .dataframe tbody tr th:only-of-type {\n",
              "        vertical-align: middle;\n",
              "    }\n",
              "\n",
              "    .dataframe tbody tr th {\n",
              "        vertical-align: top;\n",
              "    }\n",
              "\n",
              "    .dataframe thead th {\n",
              "        text-align: right;\n",
              "    }\n",
              "</style>\n",
              "<table border=\"1\" class=\"dataframe\">\n",
              "  <thead>\n",
              "    <tr style=\"text-align: right;\">\n",
              "      <th></th>\n",
              "      <th>tweet</th>\n",
              "      <th>sentiment</th>\n",
              "      <th>sentiment_encoded</th>\n",
              "      <th>tweets</th>\n",
              "      <th>tweets_tokenized</th>\n",
              "      <th>encoded_old</th>\n",
              "      <th>encoded</th>\n",
              "      <th>tweet_length</th>\n",
              "    </tr>\n",
              "  </thead>\n",
              "  <tbody>\n",
              "    <tr>\n",
              "      <th>0</th>\n",
              "      <td>TRENDING: New Yorkers encounter empty supermar...</td>\n",
              "      <td>Extremely Negative</td>\n",
              "      <td>0</td>\n",
              "      <td>trending new encounter empty supermarket shelv...</td>\n",
              "      <td>[trending, new, encounter, empty, supermarket,...</td>\n",
              "      <td>[181, 5875, 5518, 5788, 5077, 1123, 4754, 1008...</td>\n",
              "      <td>[181, 5875, 5518, 5788, 5077, 1123, 4754, 1008...</td>\n",
              "      <td>14</td>\n",
              "    </tr>\n",
              "    <tr>\n",
              "      <th>1</th>\n",
              "      <td>When I couldn't find hand sanitizer at Fred Me...</td>\n",
              "      <td>Positive</td>\n",
              "      <td>2</td>\n",
              "      <td>find hand turned 2 pack check concerns driving...</td>\n",
              "      <td>[find, hand, turned, 2, pack, check, concerns,...</td>\n",
              "      <td>[1757, 770, 3485, 5274, 2063, 4411, 3990, 1020...</td>\n",
              "      <td>[1757, 770, 3485, 5274, 2063, 4411, 3990, 1020...</td>\n",
              "      <td>9</td>\n",
              "    </tr>\n",
              "    <tr>\n",
              "      <th>2</th>\n",
              "      <td>#Panic buying hits #NewYork City as anxious sh...</td>\n",
              "      <td>Negative</td>\n",
              "      <td>0</td>\n",
              "      <td>buying hits city anxious shoppers stock food a...</td>\n",
              "      <td>[buying, hits, city, anxious, shoppers, stock,...</td>\n",
              "      <td>[554, 1668, 2549, 5835, 4526, 940, 2509, 4901,...</td>\n",
              "      <td>[554, 1668, 2549, 5835, 4526, 940, 2509, 4901,...</td>\n",
              "      <td>15</td>\n",
              "    </tr>\n",
              "    <tr>\n",
              "      <th>3</th>\n",
              "      <td>#toiletpaper #dunnypaper #coronavirus #coronav...</td>\n",
              "      <td>Neutral</td>\n",
              "      <td>1</td>\n",
              "      <td>one week buying baby milk powder next buying t...</td>\n",
              "      <td>[one, week, buying, baby, milk, powder, next, ...</td>\n",
              "      <td>[2733, 6033, 554, 4360, 946, 6713, 2366, 554, ...</td>\n",
              "      <td>[2733, 6033, 554, 4360, 946, 6713, 2366, 554, ...</td>\n",
              "      <td>10</td>\n",
              "    </tr>\n",
              "    <tr>\n",
              "      <th>4</th>\n",
              "      <td>Do you remember the last time you paid $2.99 a...</td>\n",
              "      <td>Neutral</td>\n",
              "      <td>1</td>\n",
              "      <td>remember last time paid gallon regular gas pri...</td>\n",
              "      <td>[remember, last, time, paid, gallon, regular, ...</td>\n",
              "      <td>[2197, 50, 1669, 3663, 1080, 167, 4447, 1144, ...</td>\n",
              "      <td>[2197, 50, 1669, 3663, 1080, 167, 4447, 1144, ...</td>\n",
              "      <td>13</td>\n",
              "    </tr>\n",
              "  </tbody>\n",
              "</table>\n",
              "</div>\n",
              "      <button class=\"colab-df-convert\" onclick=\"convertToInteractive('df-12a65ff6-7463-493a-997a-39d73d8bfe03')\"\n",
              "              title=\"Convert this dataframe to an interactive table.\"\n",
              "              style=\"display:none;\">\n",
              "        \n",
              "  <svg xmlns=\"http://www.w3.org/2000/svg\" height=\"24px\"viewBox=\"0 0 24 24\"\n",
              "       width=\"24px\">\n",
              "    <path d=\"M0 0h24v24H0V0z\" fill=\"none\"/>\n",
              "    <path d=\"M18.56 5.44l.94 2.06.94-2.06 2.06-.94-2.06-.94-.94-2.06-.94 2.06-2.06.94zm-11 1L8.5 8.5l.94-2.06 2.06-.94-2.06-.94L8.5 2.5l-.94 2.06-2.06.94zm10 10l.94 2.06.94-2.06 2.06-.94-2.06-.94-.94-2.06-.94 2.06-2.06.94z\"/><path d=\"M17.41 7.96l-1.37-1.37c-.4-.4-.92-.59-1.43-.59-.52 0-1.04.2-1.43.59L10.3 9.45l-7.72 7.72c-.78.78-.78 2.05 0 2.83L4 21.41c.39.39.9.59 1.41.59.51 0 1.02-.2 1.41-.59l7.78-7.78 2.81-2.81c.8-.78.8-2.07 0-2.86zM5.41 20L4 18.59l7.72-7.72 1.47 1.35L5.41 20z\"/>\n",
              "  </svg>\n",
              "      </button>\n",
              "      \n",
              "  <style>\n",
              "    .colab-df-container {\n",
              "      display:flex;\n",
              "      flex-wrap:wrap;\n",
              "      gap: 12px;\n",
              "    }\n",
              "\n",
              "    .colab-df-convert {\n",
              "      background-color: #E8F0FE;\n",
              "      border: none;\n",
              "      border-radius: 50%;\n",
              "      cursor: pointer;\n",
              "      display: none;\n",
              "      fill: #1967D2;\n",
              "      height: 32px;\n",
              "      padding: 0 0 0 0;\n",
              "      width: 32px;\n",
              "    }\n",
              "\n",
              "    .colab-df-convert:hover {\n",
              "      background-color: #E2EBFA;\n",
              "      box-shadow: 0px 1px 2px rgba(60, 64, 67, 0.3), 0px 1px 3px 1px rgba(60, 64, 67, 0.15);\n",
              "      fill: #174EA6;\n",
              "    }\n",
              "\n",
              "    [theme=dark] .colab-df-convert {\n",
              "      background-color: #3B4455;\n",
              "      fill: #D2E3FC;\n",
              "    }\n",
              "\n",
              "    [theme=dark] .colab-df-convert:hover {\n",
              "      background-color: #434B5C;\n",
              "      box-shadow: 0px 1px 3px 1px rgba(0, 0, 0, 0.15);\n",
              "      filter: drop-shadow(0px 1px 2px rgba(0, 0, 0, 0.3));\n",
              "      fill: #FFFFFF;\n",
              "    }\n",
              "  </style>\n",
              "\n",
              "      <script>\n",
              "        const buttonEl =\n",
              "          document.querySelector('#df-12a65ff6-7463-493a-997a-39d73d8bfe03 button.colab-df-convert');\n",
              "        buttonEl.style.display =\n",
              "          google.colab.kernel.accessAllowed ? 'block' : 'none';\n",
              "\n",
              "        async function convertToInteractive(key) {\n",
              "          const element = document.querySelector('#df-12a65ff6-7463-493a-997a-39d73d8bfe03');\n",
              "          const dataTable =\n",
              "            await google.colab.kernel.invokeFunction('convertToInteractive',\n",
              "                                                     [key], {});\n",
              "          if (!dataTable) return;\n",
              "\n",
              "          const docLinkHtml = 'Like what you see? Visit the ' +\n",
              "            '<a target=\"_blank\" href=https://colab.research.google.com/notebooks/data_table.ipynb>data table notebook</a>'\n",
              "            + ' to learn more about interactive tables.';\n",
              "          element.innerHTML = '';\n",
              "          dataTable['output_type'] = 'display_data';\n",
              "          await google.colab.output.renderOutput(dataTable, element);\n",
              "          const docLink = document.createElement('div');\n",
              "          docLink.innerHTML = docLinkHtml;\n",
              "          element.appendChild(docLink);\n",
              "        }\n",
              "      </script>\n",
              "    </div>\n",
              "  </div>\n",
              "  "
            ],
            "text/plain": [
              "                                               tweet  ... tweet_length\n",
              "0  TRENDING: New Yorkers encounter empty supermar...  ...           14\n",
              "1  When I couldn't find hand sanitizer at Fred Me...  ...            9\n",
              "2  #Panic buying hits #NewYork City as anxious sh...  ...           15\n",
              "3  #toiletpaper #dunnypaper #coronavirus #coronav...  ...           10\n",
              "4  Do you remember the last time you paid $2.99 a...  ...           13\n",
              "\n",
              "[5 rows x 8 columns]"
            ]
          },
          "metadata": {},
          "execution_count": 17
        }
      ]
    },
    {
      "cell_type": "code",
      "source": [
        "# sanity check for encoding:\n",
        "print(len(all_words))\n",
        "print(ave_len)\n",
        "lengths = [len(x) for x in covid.encoded]\n",
        "print(max(lengths))\n",
        "print(min(lengths))\n",
        "print(set(covid.sentiment_encoded))\n",
        "tweet_length = covid.tweet_length\n",
        "covid.head()\n",
        "print(len(word_set))"
      ],
      "metadata": {
        "colab": {
          "base_uri": "https://localhost:8080/"
        },
        "id": "5lNy_oCSFrqf",
        "outputId": "b7570c52-2a6f-43f1-bd83-1e28563ed369"
      },
      "execution_count": 18,
      "outputs": [
        {
          "output_type": "stream",
          "name": "stdout",
          "text": [
            "47853\n",
            "15\n",
            "15\n",
            "15\n",
            "{0, 1, 2}\n",
            "6816\n"
          ]
        }
      ]
    },
    {
      "cell_type": "code",
      "source": [
        "# Train test split from skearln\n",
        "data_size = len(covid['encoded'])\n",
        "assert data_size == len(covid['sentiment_encoded']) \n",
        "X, y = list(zip(list(covid['encoded']),(list(covid['tweet_length'])))), list(covid['sentiment_encoded'])\n",
        "# X(data, length)\n",
        "X_train, X_test, y_train, y_test = train_test_split(X, y, test_size=0.2, random_state=43)"
      ],
      "metadata": {
        "id": "glkjNVF-N_0r"
      },
      "execution_count": 19,
      "outputs": []
    },
    {
      "cell_type": "code",
      "source": [
        "# Sanity check for length match\n",
        "print(X_train[2])\n",
        "print(y_train[2])"
      ],
      "metadata": {
        "colab": {
          "base_uri": "https://localhost:8080/"
        },
        "id": "AlveD7X5cPYp",
        "outputId": "6444b859-cd02-43a6-ae76-947b1cb108ac"
      },
      "execution_count": 20,
      "outputs": [
        {
          "output_type": "stream",
          "name": "stdout",
          "text": [
            "([6173, 5751, 2463, 2988, 6255, 2932, 2317, 1144, 0, 0, 0, 0, 0, 0, 0], 8)\n",
            "2\n"
          ]
        }
      ]
    },
    {
      "cell_type": "code",
      "source": [
        ""
      ],
      "metadata": {
        "id": "ZtqV7yfjihvx"
      },
      "execution_count": 20,
      "outputs": []
    },
    {
      "cell_type": "markdown",
      "source": [
        "## Dataset and Dataloader"
      ],
      "metadata": {
        "id": "53k_akR7YiAl"
      }
    },
    {
      "cell_type": "code",
      "source": [
        "class Dataset_word2vec(Dataset):\n",
        "    def __init__(self, X, y):\n",
        "        \n",
        "        self.X = X\n",
        "        self.y = y\n",
        "\n",
        "    def __len__(self):\n",
        "        return len(self.X)\n",
        "\n",
        "    def __getitem__(self, idx):\n",
        "        return  self.X[idx], self.y[idx]"
      ],
      "metadata": {
        "id": "nmCLiMzCY-o3"
      },
      "execution_count": 21,
      "outputs": []
    },
    {
      "cell_type": "code",
      "source": [
        "trainSet_w2v = Dataset_word2vec(X_train, y_train)\n",
        "testSet_w2v = Dataset_word2vec(X_test, y_test)"
      ],
      "metadata": {
        "id": "yf03irQDieWM"
      },
      "execution_count": 22,
      "outputs": []
    },
    {
      "cell_type": "code",
      "source": [
        "print(trainSet_w2v[2])"
      ],
      "metadata": {
        "colab": {
          "base_uri": "https://localhost:8080/"
        },
        "id": "zCt282rkny8w",
        "outputId": "972ff60b-9f99-48e0-cfe0-00825d26d1fb"
      },
      "execution_count": 23,
      "outputs": [
        {
          "output_type": "stream",
          "name": "stdout",
          "text": [
            "(([6173, 5751, 2463, 2988, 6255, 2932, 2317, 1144, 0, 0, 0, 0, 0, 0, 0], 8), 2)\n"
          ]
        }
      ]
    },
    {
      "cell_type": "code",
      "source": [
        "def myCollate(batch):\n",
        "    data = [item[0] for item in batch]\n",
        "    label = [item[1] for item in batch]\n",
        "    # sort sequence according to it's length in a batch\n",
        "    data = data\n",
        "    # data.sort(key=lambda x: x[1], reverse = True)\n",
        "\n",
        "    # data (review: list, length: int)\n",
        "    review = torch.tensor([x[0] for x in data], dtype = torch.long)\n",
        "    label = torch.tensor(label, dtype = torch.long)\n",
        "    seq_len = [x[1] for x in data]\n",
        "    return review, label, seq_len"
      ],
      "metadata": {
        "id": "5UJ2oiTW8mYz"
      },
      "execution_count": 24,
      "outputs": []
    },
    {
      "cell_type": "code",
      "source": [
        "trainLoader_w2v = DataLoader(dataset = trainSet_w2v, batch_size = 16, collate_fn = myCollate, shuffle = True, drop_last = True)\n",
        "testLoader_w2v = DataLoader(dataset = testSet_w2v, batch_size = 16, collate_fn = myCollate, shuffle = True, drop_last = True)"
      ],
      "metadata": {
        "id": "17kzAjBchH_F"
      },
      "execution_count": 25,
      "outputs": []
    },
    {
      "cell_type": "code",
      "source": [
        "it = iter(trainLoader_w2v)\n",
        "x, y, seq_len = it.next()"
      ],
      "metadata": {
        "id": "nf1dmuSrfpWT"
      },
      "execution_count": 26,
      "outputs": []
    },
    {
      "cell_type": "markdown",
      "source": [
        "## Embedding"
      ],
      "metadata": {
        "id": "dkOEB6jDYT2J"
      }
    },
    {
      "cell_type": "code",
      "source": [
        "def load_glove_vectors(glove_file=\"/content/drive/MyDrive/data /glove.6B.300d.txt\"):\n",
        "    \"\"\"Load the glove word vectors\"\"\"\n",
        "    word_vectors = {}\n",
        "    with open(glove_file) as f:\n",
        "        for line in f:\n",
        "            split = line.split()\n",
        "            word_vectors[split[0]] = np.array([float(x) for x in split[1:]])\n",
        "    return word_vectors\n",
        "\n"
      ],
      "metadata": {
        "id": "kMAextiWYdVH"
      },
      "execution_count": 27,
      "outputs": []
    },
    {
      "cell_type": "code",
      "source": [
        "# create embedding matrix\n",
        "def emb_matrix(model, all_words, word2index):\n",
        "    matrix_size = len(word_set) + 2\n",
        "    emb_matrix = np.zeros((matrix_size, 300))\n",
        "    emb_matrix[0] = np.random.uniform(-0.25, 0.25, 300) # vector for UNK\n",
        "    emb_matrix[1] = np.zeros(300) # vector for padding, has no weight\n",
        "    invalid_len = 0\n",
        "    # vector for every other word in the dictionary\n",
        "    for i in range(2, len(all_words)+2):\n",
        "        word = all_words[i-2]\n",
        "        index = word2index[word]\n",
        "        try:\n",
        "            vector = model[word]\n",
        "        except Exception as e:\n",
        "            invalid_len += 1\n",
        "            # word does not exist in the pretrained embedding\n",
        "            vector = emb_matrix[0]\n",
        "            #print(index)\n",
        "        emb_matrix[index] = vector\n",
        "    return emb_matrix, invalid_len"
      ],
      "metadata": {
        "id": "QRqGHAIJAgAx"
      },
      "execution_count": 28,
      "outputs": []
    },
    {
      "cell_type": "code",
      "source": [
        "word2vec = load_glove_vectors()\n",
        "data = list(word2vec.values())\n",
        "an_array=np.array(data)\n"
      ],
      "metadata": {
        "id": "ha0NsaTygCsP"
      },
      "execution_count": 29,
      "outputs": []
    },
    {
      "cell_type": "code",
      "source": [
        "embedding, invalid_len= emb_matrix(word2vec, word_set, word2index)"
      ],
      "metadata": {
        "id": "Y8hhRFJkcKO0"
      },
      "execution_count": 30,
      "outputs": []
    },
    {
      "cell_type": "code",
      "source": [
        "def validation_metrics(model, valid_dl):\n",
        "    print(\"current in vlaidaiton\")\n",
        "    model.eval()\n",
        "    correct = 0\n",
        "    total = 0\n",
        "    sum_loss = 0.0\n",
        "    sum_rmse = 0.0\n",
        "    criterion = nn.CrossEntropyLoss()\n",
        "    model = model.to(device)\n",
        "    y_total = []\n",
        "    y_pred_total = []\n",
        "    for x, y, seq_len in valid_dl:\n",
        "        x = x.long().to(device)\n",
        "        y = y.long().to(device)\n",
        "        y_hat = model(x, seq_len)\n",
        "        loss = criterion(y_hat, y)\n",
        "        \n",
        "        # print(f\"shape of y: {y.shape}\")\n",
        "        # print(f\"shape of y_pred: {y_hat.shape}\")\n",
        "        # print(y_hat)\n",
        "        pred = torch.argmax(y_hat, 1)\n",
        "        y_total.extend(y.tolist())\n",
        "        y_pred_total.extend(pred.tolist())\n",
        "        \n",
        "        # print(pred)\n",
        "        correct += sum((pred == y))\n",
        "        total += y.shape[0]\n",
        "        sum_loss += loss.item()*y.shape[0]\n",
        "        # print(len(y_total))\n",
        "        # print(len(y_pred_total))\n",
        "\n",
        "      # calculate precision, recall, and f1\n",
        "    f1 = (f1_score(y_total, y_pred_total, average='weighted'))\n",
        "    precision = (precision_score(y_total, y_pred_total, average='weighted'))\n",
        "    recall =(recall_score(y_total, y_pred_total, average='weighted'))\n",
        "    return sum_loss/total, correct/total, precision, recall, f1"
      ],
      "metadata": {
        "id": "I40nbCLXlJt9"
      },
      "execution_count": 31,
      "outputs": []
    },
    {
      "cell_type": "code",
      "source": [
        "def train_model(model, fname, epochs = 50, lr = 0.00003):\n",
        "    parameters = filter(lambda p:p.requires_grad, model.parameters())\n",
        "    optimizer = torch.optim.Adam(parameters, lr = lr)\n",
        "    criterion = nn.CrossEntropyLoss()\n",
        "    model = model.to(device)\n",
        "    PATH = '/content/drive/MyDrive/data/' + fname\n",
        "    epoch = 0\n",
        "    best_val_acc = 0.0\n",
        "    for i in range(epochs):\n",
        "        epoch += 1\n",
        "        print(f\"At epoch {i}\")\n",
        "        batch_count = 0\n",
        "        model.train()\n",
        "        sum_loss = 0.0\n",
        "        total = 0.0\n",
        "        train_correct = 0.0\n",
        "        for x, y, seq_len in tqdm(trainLoader_w2v):\n",
        "            x = x.long().to(device)\n",
        "            y = y.long().to(device)\n",
        "            batch_count += 1\n",
        "            optimizer.zero_grad()\n",
        "            y_pred = model(x, seq_len)\n",
        "            pred = torch.argmax(y_pred, 1)\n",
        "            train_correct += sum((pred == y))\n",
        "            loss = criterion(y_pred, y)\n",
        "            loss.backward()\n",
        "            optimizer.step()\n",
        "            sum_loss += loss.item()*y.shape[0]\n",
        "            total += y.shape[0]\n",
        "\n",
        "        val_loss, val_acc, precision, recall, f1 = validation_metrics(model, testLoader_w2v)\n",
        "        print(\"train loss %.3f, train accuracy %.3f, val loss %.3f, val accuracy %.3f, precision %.3f, recall %.3f, F1 %.3f\" \n",
        "              % (sum_loss/total, train_correct/total, val_loss, val_acc, precision, recall, f1))\n",
        "        if val_acc > best_val_acc and i>=2:\n",
        "            best_val_acc = val_acc\n",
        "            NEW_PATH = PATH+f'_{i}_{val_acc}'\n",
        "            # torch.save(model.state_dict(), NEW_PATH)\n",
        "            print(f\"\\t=> Best model saved at {i}th epoch with valication accuracy of {val_acc}\")"
      ],
      "metadata": {
        "id": "YVwWS3rRnOw0"
      },
      "execution_count": 32,
      "outputs": []
    },
    {
      "cell_type": "code",
      "source": [
        "train_examples = []\n",
        "list1=list(word2vec.values())\n",
        "for item in list1:\n",
        "    in_tensor = torch.Tensor(item)\n",
        "    train_examples.append(in_tensor)"
      ],
      "metadata": {
        "id": "sZeLTO_Qgj62"
      },
      "execution_count": 33,
      "outputs": []
    },
    {
      "cell_type": "code",
      "source": [
        "\n",
        "weight = torch.FloatTensor(an_array)\n",
        "word2vec_embedding = nn.Embedding.from_pretrained(weight)\n",
        "\n",
        "class LSTM_Glove(torch.nn.Module):\n",
        "    def __init__(self, emb_matrix, embedding_dim, hidden_dim):\n",
        "        super().__init__()\n",
        "        self.embedding_dim = embedding_dim\n",
        "        self.embeddings = nn.Embedding(emb_matrix.shape[0], embedding_dim, padding_idx = 0)\n",
        "        self.embeddings.weight.data.copy_(torch.from_numpy(emb_matrix))\n",
        "        self.lstm = nn.LSTM(embedding_dim, hidden_dim, batch_first = True)\n",
        "        self.embedding_dim = embedding_dim\n",
        "        self.hidden_dim = hidden_dim\n",
        "        self.linear = nn.Linear(hidden_dim, 3)\n",
        "        self.dropout = nn.Dropout(0.5)\n",
        "\n",
        "    def forward(self, x, seq_len):\n",
        "        x = self.embeddings(x)\n",
        "        x = self.dropout(x)\n",
        "        output, (h_n, c_n) = self.lstm(x)\n",
        "        output = output[:, -1, :]\n",
        "        \n",
        "        return self.linear(output)"
      ],
      "metadata": {
        "id": "w1y9PO6JW28H"
      },
      "execution_count": 34,
      "outputs": []
    },
    {
      "cell_type": "code",
      "source": [
        "model = LSTM_Glove(embedding, 300, 100)\n",
        "train_model(model, fname='word2vec_lstm_covid', epochs=200)"
      ],
      "metadata": {
        "id": "xShR5nvtlxXV",
        "colab": {
          "base_uri": "https://localhost:8080/"
        },
        "outputId": "acb258d0-8d3f-4110-a093-299880f497b1"
      },
      "execution_count": 35,
      "outputs": [
        {
          "output_type": "stream",
          "name": "stdout",
          "text": [
            "At epoch 0\n"
          ]
        },
        {
          "output_type": "stream",
          "name": "stderr",
          "text": [
            "100%|██████████| 154/154 [00:00<00:00, 329.08it/s]\n"
          ]
        },
        {
          "output_type": "stream",
          "name": "stdout",
          "text": [
            "current in vlaidaiton\n",
            "train loss 1.095, train accuracy 0.369, val loss 1.073, val accuracy 0.414, precision 0.444, recall 0.414, F1 0.340\n",
            "At epoch 1\n"
          ]
        },
        {
          "output_type": "stream",
          "name": "stderr",
          "text": [
            "100%|██████████| 154/154 [00:00<00:00, 436.10it/s]\n",
            "/usr/local/lib/python3.7/dist-packages/sklearn/metrics/_classification.py:1308: UndefinedMetricWarning: Precision is ill-defined and being set to 0.0 in labels with no predicted samples. Use `zero_division` parameter to control this behavior.\n",
            "  _warn_prf(average, modifier, msg_start, len(result))\n"
          ]
        },
        {
          "output_type": "stream",
          "name": "stdout",
          "text": [
            "current in vlaidaiton\n",
            "train loss 1.061, train accuracy 0.441, val loss 1.037, val accuracy 0.442, precision 0.371, recall 0.442, F1 0.403\n",
            "At epoch 2\n"
          ]
        },
        {
          "output_type": "stream",
          "name": "stderr",
          "text": [
            "100%|██████████| 154/154 [00:00<00:00, 434.87it/s]\n",
            "/usr/local/lib/python3.7/dist-packages/sklearn/metrics/_classification.py:1308: UndefinedMetricWarning: Precision is ill-defined and being set to 0.0 in labels with no predicted samples. Use `zero_division` parameter to control this behavior.\n",
            "  _warn_prf(average, modifier, msg_start, len(result))\n"
          ]
        },
        {
          "output_type": "stream",
          "name": "stdout",
          "text": [
            "current in vlaidaiton\n",
            "train loss 1.025, train accuracy 0.460, val loss 0.998, val accuracy 0.465, precision 0.401, recall 0.465, F1 0.419\n",
            "\t=> Best model saved at 2th epoch with valication accuracy of 0.46546053886413574\n",
            "At epoch 3\n"
          ]
        },
        {
          "output_type": "stream",
          "name": "stderr",
          "text": [
            "100%|██████████| 154/154 [00:00<00:00, 433.67it/s]\n",
            "/usr/local/lib/python3.7/dist-packages/sklearn/metrics/_classification.py:1308: UndefinedMetricWarning: Precision is ill-defined and being set to 0.0 in labels with no predicted samples. Use `zero_division` parameter to control this behavior.\n",
            "  _warn_prf(average, modifier, msg_start, len(result))\n"
          ]
        },
        {
          "output_type": "stream",
          "name": "stdout",
          "text": [
            "current in vlaidaiton\n",
            "train loss 0.991, train accuracy 0.461, val loss 0.978, val accuracy 0.469, precision 0.412, recall 0.469, F1 0.406\n",
            "\t=> Best model saved at 3th epoch with valication accuracy of 0.46875\n",
            "At epoch 4\n"
          ]
        },
        {
          "output_type": "stream",
          "name": "stderr",
          "text": [
            "100%|██████████| 154/154 [00:00<00:00, 435.67it/s]\n"
          ]
        },
        {
          "output_type": "stream",
          "name": "stdout",
          "text": [
            "current in vlaidaiton\n",
            "train loss 0.970, train accuracy 0.478, val loss 0.968, val accuracy 0.492, precision 0.522, recall 0.492, F1 0.469\n",
            "\t=> Best model saved at 4th epoch with valication accuracy of 0.49177631735801697\n",
            "At epoch 5\n"
          ]
        },
        {
          "output_type": "stream",
          "name": "stderr",
          "text": [
            "100%|██████████| 154/154 [00:00<00:00, 432.92it/s]\n"
          ]
        },
        {
          "output_type": "stream",
          "name": "stdout",
          "text": [
            "current in vlaidaiton\n",
            "train loss 0.961, train accuracy 0.507, val loss 0.972, val accuracy 0.498, precision 0.513, recall 0.498, F1 0.484\n",
            "\t=> Best model saved at 5th epoch with valication accuracy of 0.49835526943206787\n",
            "At epoch 6\n"
          ]
        },
        {
          "output_type": "stream",
          "name": "stderr",
          "text": [
            "100%|██████████| 154/154 [00:00<00:00, 435.02it/s]\n"
          ]
        },
        {
          "output_type": "stream",
          "name": "stdout",
          "text": [
            "current in vlaidaiton\n",
            "train loss 0.955, train accuracy 0.513, val loss 0.971, val accuracy 0.503, precision 0.518, recall 0.503, F1 0.486\n",
            "\t=> Best model saved at 6th epoch with valication accuracy of 0.5032894611358643\n",
            "At epoch 7\n"
          ]
        },
        {
          "output_type": "stream",
          "name": "stderr",
          "text": [
            "100%|██████████| 154/154 [00:00<00:00, 435.25it/s]\n"
          ]
        },
        {
          "output_type": "stream",
          "name": "stdout",
          "text": [
            "current in vlaidaiton\n",
            "train loss 0.952, train accuracy 0.512, val loss 0.968, val accuracy 0.507, precision 0.517, recall 0.507, F1 0.492\n",
            "\t=> Best model saved at 7th epoch with valication accuracy of 0.5065789222717285\n",
            "At epoch 8\n"
          ]
        },
        {
          "output_type": "stream",
          "name": "stderr",
          "text": [
            "100%|██████████| 154/154 [00:00<00:00, 436.87it/s]\n"
          ]
        },
        {
          "output_type": "stream",
          "name": "stdout",
          "text": [
            "current in vlaidaiton\n",
            "train loss 0.947, train accuracy 0.523, val loss 0.969, val accuracy 0.500, precision 0.510, recall 0.500, F1 0.482\n",
            "At epoch 9\n"
          ]
        },
        {
          "output_type": "stream",
          "name": "stderr",
          "text": [
            "100%|██████████| 154/154 [00:00<00:00, 437.81it/s]\n"
          ]
        },
        {
          "output_type": "stream",
          "name": "stdout",
          "text": [
            "current in vlaidaiton\n",
            "train loss 0.942, train accuracy 0.526, val loss 0.964, val accuracy 0.502, precision 0.515, recall 0.502, F1 0.480\n",
            "At epoch 10\n"
          ]
        },
        {
          "output_type": "stream",
          "name": "stderr",
          "text": [
            "100%|██████████| 154/154 [00:00<00:00, 434.02it/s]\n"
          ]
        },
        {
          "output_type": "stream",
          "name": "stdout",
          "text": [
            "current in vlaidaiton\n",
            "train loss 0.936, train accuracy 0.543, val loss 0.958, val accuracy 0.495, precision 0.506, recall 0.495, F1 0.479\n",
            "At epoch 11\n"
          ]
        },
        {
          "output_type": "stream",
          "name": "stderr",
          "text": [
            "100%|██████████| 154/154 [00:00<00:00, 435.71it/s]\n"
          ]
        },
        {
          "output_type": "stream",
          "name": "stdout",
          "text": [
            "current in vlaidaiton\n",
            "train loss 0.930, train accuracy 0.548, val loss 0.957, val accuracy 0.497, precision 0.505, recall 0.497, F1 0.483\n",
            "At epoch 12\n"
          ]
        },
        {
          "output_type": "stream",
          "name": "stderr",
          "text": [
            "100%|██████████| 154/154 [00:00<00:00, 431.39it/s]\n"
          ]
        },
        {
          "output_type": "stream",
          "name": "stdout",
          "text": [
            "current in vlaidaiton\n",
            "train loss 0.921, train accuracy 0.555, val loss 0.955, val accuracy 0.507, precision 0.517, recall 0.507, F1 0.490\n",
            "At epoch 13\n"
          ]
        },
        {
          "output_type": "stream",
          "name": "stderr",
          "text": [
            "100%|██████████| 154/154 [00:00<00:00, 437.71it/s]\n"
          ]
        },
        {
          "output_type": "stream",
          "name": "stdout",
          "text": [
            "current in vlaidaiton\n",
            "train loss 0.915, train accuracy 0.562, val loss 0.949, val accuracy 0.525, precision 0.541, recall 0.525, F1 0.500\n",
            "\t=> Best model saved at 13th epoch with valication accuracy of 0.5246710777282715\n",
            "At epoch 14\n"
          ]
        },
        {
          "output_type": "stream",
          "name": "stderr",
          "text": [
            "100%|██████████| 154/154 [00:00<00:00, 440.30it/s]\n"
          ]
        },
        {
          "output_type": "stream",
          "name": "stdout",
          "text": [
            "current in vlaidaiton\n",
            "train loss 0.905, train accuracy 0.555, val loss 0.942, val accuracy 0.544, precision 0.559, recall 0.544, F1 0.525\n",
            "\t=> Best model saved at 14th epoch with valication accuracy of 0.5444079041481018\n",
            "At epoch 15\n"
          ]
        },
        {
          "output_type": "stream",
          "name": "stderr",
          "text": [
            "100%|██████████| 154/154 [00:00<00:00, 430.44it/s]\n"
          ]
        },
        {
          "output_type": "stream",
          "name": "stdout",
          "text": [
            "current in vlaidaiton\n",
            "train loss 0.889, train accuracy 0.579, val loss 0.927, val accuracy 0.551, precision 0.559, recall 0.551, F1 0.535\n",
            "\t=> Best model saved at 15th epoch with valication accuracy of 0.5509868264198303\n",
            "At epoch 16\n"
          ]
        },
        {
          "output_type": "stream",
          "name": "stderr",
          "text": [
            "100%|██████████| 154/154 [00:00<00:00, 441.13it/s]\n"
          ]
        },
        {
          "output_type": "stream",
          "name": "stdout",
          "text": [
            "current in vlaidaiton\n",
            "train loss 0.866, train accuracy 0.605, val loss 0.909, val accuracy 0.566, precision 0.565, recall 0.566, F1 0.562\n",
            "\t=> Best model saved at 16th epoch with valication accuracy of 0.5657894611358643\n",
            "At epoch 17\n"
          ]
        },
        {
          "output_type": "stream",
          "name": "stderr",
          "text": [
            "100%|██████████| 154/154 [00:00<00:00, 433.00it/s]\n"
          ]
        },
        {
          "output_type": "stream",
          "name": "stdout",
          "text": [
            "current in vlaidaiton\n",
            "train loss 0.848, train accuracy 0.612, val loss 0.894, val accuracy 0.592, precision 0.593, recall 0.592, F1 0.583\n",
            "\t=> Best model saved at 17th epoch with valication accuracy of 0.5921052694320679\n",
            "At epoch 18\n"
          ]
        },
        {
          "output_type": "stream",
          "name": "stderr",
          "text": [
            "100%|██████████| 154/154 [00:00<00:00, 436.94it/s]\n"
          ]
        },
        {
          "output_type": "stream",
          "name": "stdout",
          "text": [
            "current in vlaidaiton\n",
            "train loss 0.829, train accuracy 0.625, val loss 0.885, val accuracy 0.609, precision 0.609, recall 0.609, F1 0.602\n",
            "\t=> Best model saved at 18th epoch with valication accuracy of 0.6085526347160339\n",
            "At epoch 19\n"
          ]
        },
        {
          "output_type": "stream",
          "name": "stderr",
          "text": [
            "100%|██████████| 154/154 [00:00<00:00, 436.41it/s]\n"
          ]
        },
        {
          "output_type": "stream",
          "name": "stdout",
          "text": [
            "current in vlaidaiton\n",
            "train loss 0.818, train accuracy 0.631, val loss 0.876, val accuracy 0.625, precision 0.624, recall 0.625, F1 0.616\n",
            "\t=> Best model saved at 19th epoch with valication accuracy of 0.625\n",
            "At epoch 20\n"
          ]
        },
        {
          "output_type": "stream",
          "name": "stderr",
          "text": [
            "100%|██████████| 154/154 [00:00<00:00, 426.58it/s]\n"
          ]
        },
        {
          "output_type": "stream",
          "name": "stdout",
          "text": [
            "current in vlaidaiton\n",
            "train loss 0.802, train accuracy 0.649, val loss 0.855, val accuracy 0.637, precision 0.633, recall 0.637, F1 0.631\n",
            "\t=> Best model saved at 20th epoch with valication accuracy of 0.6365131735801697\n",
            "At epoch 21\n"
          ]
        },
        {
          "output_type": "stream",
          "name": "stderr",
          "text": [
            "100%|██████████| 154/154 [00:00<00:00, 436.22it/s]\n"
          ]
        },
        {
          "output_type": "stream",
          "name": "stdout",
          "text": [
            "current in vlaidaiton\n",
            "train loss 0.792, train accuracy 0.655, val loss 0.852, val accuracy 0.645, precision 0.641, recall 0.645, F1 0.637\n",
            "\t=> Best model saved at 21th epoch with valication accuracy of 0.6447368264198303\n",
            "At epoch 22\n"
          ]
        },
        {
          "output_type": "stream",
          "name": "stderr",
          "text": [
            "100%|██████████| 154/154 [00:00<00:00, 426.99it/s]\n"
          ]
        },
        {
          "output_type": "stream",
          "name": "stdout",
          "text": [
            "current in vlaidaiton\n",
            "train loss 0.777, train accuracy 0.671, val loss 0.851, val accuracy 0.648, precision 0.646, recall 0.648, F1 0.640\n",
            "\t=> Best model saved at 22th epoch with valication accuracy of 0.6480263471603394\n",
            "At epoch 23\n"
          ]
        },
        {
          "output_type": "stream",
          "name": "stderr",
          "text": [
            "100%|██████████| 154/154 [00:00<00:00, 428.47it/s]\n"
          ]
        },
        {
          "output_type": "stream",
          "name": "stdout",
          "text": [
            "current in vlaidaiton\n",
            "train loss 0.761, train accuracy 0.671, val loss 0.854, val accuracy 0.650, precision 0.645, recall 0.650, F1 0.643\n",
            "\t=> Best model saved at 23th epoch with valication accuracy of 0.6496710777282715\n",
            "At epoch 24\n"
          ]
        },
        {
          "output_type": "stream",
          "name": "stderr",
          "text": [
            "100%|██████████| 154/154 [00:00<00:00, 435.05it/s]\n"
          ]
        },
        {
          "output_type": "stream",
          "name": "stdout",
          "text": [
            "current in vlaidaiton\n",
            "train loss 0.757, train accuracy 0.679, val loss 0.846, val accuracy 0.656, precision 0.653, recall 0.656, F1 0.648\n",
            "\t=> Best model saved at 24th epoch with valication accuracy of 0.65625\n",
            "At epoch 25\n"
          ]
        },
        {
          "output_type": "stream",
          "name": "stderr",
          "text": [
            "100%|██████████| 154/154 [00:00<00:00, 433.51it/s]\n"
          ]
        },
        {
          "output_type": "stream",
          "name": "stdout",
          "text": [
            "current in vlaidaiton\n",
            "train loss 0.741, train accuracy 0.684, val loss 0.862, val accuracy 0.656, precision 0.652, recall 0.656, F1 0.647\n",
            "At epoch 26\n"
          ]
        },
        {
          "output_type": "stream",
          "name": "stderr",
          "text": [
            "100%|██████████| 154/154 [00:00<00:00, 432.59it/s]\n"
          ]
        },
        {
          "output_type": "stream",
          "name": "stdout",
          "text": [
            "current in vlaidaiton\n",
            "train loss 0.731, train accuracy 0.702, val loss 0.840, val accuracy 0.663, precision 0.661, recall 0.663, F1 0.654\n",
            "\t=> Best model saved at 26th epoch with valication accuracy of 0.6628289818763733\n",
            "At epoch 27\n"
          ]
        },
        {
          "output_type": "stream",
          "name": "stderr",
          "text": [
            "100%|██████████| 154/154 [00:00<00:00, 430.56it/s]\n"
          ]
        },
        {
          "output_type": "stream",
          "name": "stdout",
          "text": [
            "current in vlaidaiton\n",
            "train loss 0.732, train accuracy 0.682, val loss 0.842, val accuracy 0.658, precision 0.654, recall 0.658, F1 0.649\n",
            "At epoch 28\n"
          ]
        },
        {
          "output_type": "stream",
          "name": "stderr",
          "text": [
            "100%|██████████| 154/154 [00:00<00:00, 434.35it/s]\n"
          ]
        },
        {
          "output_type": "stream",
          "name": "stdout",
          "text": [
            "current in vlaidaiton\n",
            "train loss 0.708, train accuracy 0.703, val loss 0.855, val accuracy 0.656, precision 0.652, recall 0.656, F1 0.648\n",
            "At epoch 29\n"
          ]
        },
        {
          "output_type": "stream",
          "name": "stderr",
          "text": [
            "100%|██████████| 154/154 [00:00<00:00, 431.02it/s]\n"
          ]
        },
        {
          "output_type": "stream",
          "name": "stdout",
          "text": [
            "current in vlaidaiton\n",
            "train loss 0.714, train accuracy 0.696, val loss 0.852, val accuracy 0.655, precision 0.650, recall 0.655, F1 0.646\n",
            "At epoch 30\n"
          ]
        },
        {
          "output_type": "stream",
          "name": "stderr",
          "text": [
            "100%|██████████| 154/154 [00:00<00:00, 429.09it/s]\n"
          ]
        },
        {
          "output_type": "stream",
          "name": "stdout",
          "text": [
            "current in vlaidaiton\n",
            "train loss 0.704, train accuracy 0.698, val loss 0.858, val accuracy 0.660, precision 0.656, recall 0.660, F1 0.649\n",
            "At epoch 31\n"
          ]
        },
        {
          "output_type": "stream",
          "name": "stderr",
          "text": [
            "100%|██████████| 154/154 [00:00<00:00, 407.13it/s]\n"
          ]
        },
        {
          "output_type": "stream",
          "name": "stdout",
          "text": [
            "current in vlaidaiton\n",
            "train loss 0.691, train accuracy 0.713, val loss 0.861, val accuracy 0.656, precision 0.653, recall 0.656, F1 0.647\n",
            "At epoch 32\n"
          ]
        },
        {
          "output_type": "stream",
          "name": "stderr",
          "text": [
            "100%|██████████| 154/154 [00:00<00:00, 425.52it/s]\n"
          ]
        },
        {
          "output_type": "stream",
          "name": "stdout",
          "text": [
            "current in vlaidaiton\n",
            "train loss 0.687, train accuracy 0.711, val loss 0.864, val accuracy 0.661, precision 0.660, recall 0.661, F1 0.652\n",
            "At epoch 33\n"
          ]
        },
        {
          "output_type": "stream",
          "name": "stderr",
          "text": [
            "100%|██████████| 154/154 [00:00<00:00, 436.07it/s]\n"
          ]
        },
        {
          "output_type": "stream",
          "name": "stdout",
          "text": [
            "current in vlaidaiton\n",
            "train loss 0.679, train accuracy 0.718, val loss 0.849, val accuracy 0.664, precision 0.662, recall 0.664, F1 0.655\n",
            "\t=> Best model saved at 33th epoch with valication accuracy of 0.6644737124443054\n",
            "At epoch 34\n"
          ]
        },
        {
          "output_type": "stream",
          "name": "stderr",
          "text": [
            "100%|██████████| 154/154 [00:00<00:00, 434.23it/s]\n"
          ]
        },
        {
          "output_type": "stream",
          "name": "stdout",
          "text": [
            "current in vlaidaiton\n",
            "train loss 0.676, train accuracy 0.724, val loss 0.840, val accuracy 0.671, precision 0.669, recall 0.671, F1 0.662\n",
            "\t=> Best model saved at 34th epoch with valication accuracy of 0.6710526347160339\n",
            "At epoch 35\n"
          ]
        },
        {
          "output_type": "stream",
          "name": "stderr",
          "text": [
            "100%|██████████| 154/154 [00:00<00:00, 430.07it/s]\n"
          ]
        },
        {
          "output_type": "stream",
          "name": "stdout",
          "text": [
            "current in vlaidaiton\n",
            "train loss 0.660, train accuracy 0.733, val loss 0.865, val accuracy 0.661, precision 0.660, recall 0.661, F1 0.651\n",
            "At epoch 36\n"
          ]
        },
        {
          "output_type": "stream",
          "name": "stderr",
          "text": [
            "100%|██████████| 154/154 [00:00<00:00, 437.19it/s]\n"
          ]
        },
        {
          "output_type": "stream",
          "name": "stdout",
          "text": [
            "current in vlaidaiton\n",
            "train loss 0.652, train accuracy 0.733, val loss 0.844, val accuracy 0.668, precision 0.666, recall 0.668, F1 0.659\n",
            "At epoch 37\n"
          ]
        },
        {
          "output_type": "stream",
          "name": "stderr",
          "text": [
            "100%|██████████| 154/154 [00:00<00:00, 429.78it/s]\n"
          ]
        },
        {
          "output_type": "stream",
          "name": "stdout",
          "text": [
            "current in vlaidaiton\n",
            "train loss 0.645, train accuracy 0.735, val loss 0.856, val accuracy 0.661, precision 0.660, recall 0.661, F1 0.653\n",
            "At epoch 38\n"
          ]
        },
        {
          "output_type": "stream",
          "name": "stderr",
          "text": [
            "100%|██████████| 154/154 [00:00<00:00, 432.72it/s]\n"
          ]
        },
        {
          "output_type": "stream",
          "name": "stdout",
          "text": [
            "current in vlaidaiton\n",
            "train loss 0.627, train accuracy 0.740, val loss 0.863, val accuracy 0.663, precision 0.663, recall 0.663, F1 0.653\n",
            "At epoch 39\n"
          ]
        },
        {
          "output_type": "stream",
          "name": "stderr",
          "text": [
            "100%|██████████| 154/154 [00:00<00:00, 432.36it/s]\n"
          ]
        },
        {
          "output_type": "stream",
          "name": "stdout",
          "text": [
            "current in vlaidaiton\n",
            "train loss 0.635, train accuracy 0.738, val loss 0.871, val accuracy 0.651, precision 0.654, recall 0.651, F1 0.643\n",
            "At epoch 40\n"
          ]
        },
        {
          "output_type": "stream",
          "name": "stderr",
          "text": [
            "100%|██████████| 154/154 [00:00<00:00, 431.33it/s]\n"
          ]
        },
        {
          "output_type": "stream",
          "name": "stdout",
          "text": [
            "current in vlaidaiton\n",
            "train loss 0.631, train accuracy 0.747, val loss 0.867, val accuracy 0.651, precision 0.652, recall 0.651, F1 0.644\n",
            "At epoch 41\n"
          ]
        },
        {
          "output_type": "stream",
          "name": "stderr",
          "text": [
            "100%|██████████| 154/154 [00:00<00:00, 435.53it/s]\n"
          ]
        },
        {
          "output_type": "stream",
          "name": "stdout",
          "text": [
            "current in vlaidaiton\n",
            "train loss 0.607, train accuracy 0.756, val loss 0.868, val accuracy 0.666, precision 0.668, recall 0.666, F1 0.657\n",
            "At epoch 42\n"
          ]
        },
        {
          "output_type": "stream",
          "name": "stderr",
          "text": [
            "100%|██████████| 154/154 [00:00<00:00, 410.14it/s]\n"
          ]
        },
        {
          "output_type": "stream",
          "name": "stdout",
          "text": [
            "current in vlaidaiton\n",
            "train loss 0.618, train accuracy 0.757, val loss 0.869, val accuracy 0.669, precision 0.672, recall 0.669, F1 0.661\n",
            "At epoch 43\n"
          ]
        },
        {
          "output_type": "stream",
          "name": "stderr",
          "text": [
            "100%|██████████| 154/154 [00:00<00:00, 432.15it/s]\n"
          ]
        },
        {
          "output_type": "stream",
          "name": "stdout",
          "text": [
            "current in vlaidaiton\n",
            "train loss 0.604, train accuracy 0.757, val loss 0.863, val accuracy 0.663, precision 0.666, recall 0.663, F1 0.655\n",
            "At epoch 44\n"
          ]
        },
        {
          "output_type": "stream",
          "name": "stderr",
          "text": [
            "100%|██████████| 154/154 [00:00<00:00, 431.70it/s]\n"
          ]
        },
        {
          "output_type": "stream",
          "name": "stdout",
          "text": [
            "current in vlaidaiton\n",
            "train loss 0.591, train accuracy 0.761, val loss 0.862, val accuracy 0.663, precision 0.666, recall 0.663, F1 0.654\n",
            "At epoch 45\n"
          ]
        },
        {
          "output_type": "stream",
          "name": "stderr",
          "text": [
            "100%|██████████| 154/154 [00:00<00:00, 435.49it/s]\n"
          ]
        },
        {
          "output_type": "stream",
          "name": "stdout",
          "text": [
            "current in vlaidaiton\n",
            "train loss 0.593, train accuracy 0.765, val loss 0.860, val accuracy 0.668, precision 0.671, recall 0.668, F1 0.660\n",
            "At epoch 46\n"
          ]
        },
        {
          "output_type": "stream",
          "name": "stderr",
          "text": [
            "100%|██████████| 154/154 [00:00<00:00, 436.92it/s]\n"
          ]
        },
        {
          "output_type": "stream",
          "name": "stdout",
          "text": [
            "current in vlaidaiton\n",
            "train loss 0.590, train accuracy 0.765, val loss 0.865, val accuracy 0.664, precision 0.667, recall 0.664, F1 0.656\n",
            "At epoch 47\n"
          ]
        },
        {
          "output_type": "stream",
          "name": "stderr",
          "text": [
            "100%|██████████| 154/154 [00:00<00:00, 433.84it/s]\n"
          ]
        },
        {
          "output_type": "stream",
          "name": "stdout",
          "text": [
            "current in vlaidaiton\n",
            "train loss 0.594, train accuracy 0.769, val loss 0.857, val accuracy 0.669, precision 0.672, recall 0.669, F1 0.662\n",
            "At epoch 48\n"
          ]
        },
        {
          "output_type": "stream",
          "name": "stderr",
          "text": [
            "100%|██████████| 154/154 [00:00<00:00, 425.97it/s]\n"
          ]
        },
        {
          "output_type": "stream",
          "name": "stdout",
          "text": [
            "current in vlaidaiton\n",
            "train loss 0.571, train accuracy 0.763, val loss 0.886, val accuracy 0.660, precision 0.666, recall 0.660, F1 0.650\n",
            "At epoch 49\n"
          ]
        },
        {
          "output_type": "stream",
          "name": "stderr",
          "text": [
            "100%|██████████| 154/154 [00:00<00:00, 437.92it/s]\n"
          ]
        },
        {
          "output_type": "stream",
          "name": "stdout",
          "text": [
            "current in vlaidaiton\n",
            "train loss 0.565, train accuracy 0.779, val loss 0.870, val accuracy 0.666, precision 0.671, recall 0.666, F1 0.657\n",
            "At epoch 50\n"
          ]
        },
        {
          "output_type": "stream",
          "name": "stderr",
          "text": [
            "100%|██████████| 154/154 [00:00<00:00, 428.66it/s]\n"
          ]
        },
        {
          "output_type": "stream",
          "name": "stdout",
          "text": [
            "current in vlaidaiton\n",
            "train loss 0.557, train accuracy 0.774, val loss 0.874, val accuracy 0.663, precision 0.668, recall 0.663, F1 0.654\n",
            "At epoch 51\n"
          ]
        },
        {
          "output_type": "stream",
          "name": "stderr",
          "text": [
            "100%|██████████| 154/154 [00:00<00:00, 436.77it/s]\n"
          ]
        },
        {
          "output_type": "stream",
          "name": "stdout",
          "text": [
            "current in vlaidaiton\n",
            "train loss 0.570, train accuracy 0.769, val loss 0.864, val accuracy 0.668, precision 0.672, recall 0.668, F1 0.660\n",
            "At epoch 52\n"
          ]
        },
        {
          "output_type": "stream",
          "name": "stderr",
          "text": [
            "100%|██████████| 154/154 [00:00<00:00, 433.71it/s]\n"
          ]
        },
        {
          "output_type": "stream",
          "name": "stdout",
          "text": [
            "current in vlaidaiton\n",
            "train loss 0.560, train accuracy 0.781, val loss 0.870, val accuracy 0.664, precision 0.666, recall 0.664, F1 0.656\n",
            "At epoch 53\n"
          ]
        },
        {
          "output_type": "stream",
          "name": "stderr",
          "text": [
            "100%|██████████| 154/154 [00:00<00:00, 436.77it/s]\n"
          ]
        },
        {
          "output_type": "stream",
          "name": "stdout",
          "text": [
            "current in vlaidaiton\n",
            "train loss 0.541, train accuracy 0.785, val loss 0.877, val accuracy 0.674, precision 0.680, recall 0.674, F1 0.666\n",
            "\t=> Best model saved at 53th epoch with valication accuracy of 0.6743420958518982\n",
            "At epoch 54\n"
          ]
        },
        {
          "output_type": "stream",
          "name": "stderr",
          "text": [
            "100%|██████████| 154/154 [00:00<00:00, 436.81it/s]\n"
          ]
        },
        {
          "output_type": "stream",
          "name": "stdout",
          "text": [
            "current in vlaidaiton\n",
            "train loss 0.541, train accuracy 0.784, val loss 0.872, val accuracy 0.669, precision 0.672, recall 0.669, F1 0.662\n",
            "At epoch 55\n"
          ]
        },
        {
          "output_type": "stream",
          "name": "stderr",
          "text": [
            "100%|██████████| 154/154 [00:00<00:00, 434.84it/s]\n"
          ]
        },
        {
          "output_type": "stream",
          "name": "stdout",
          "text": [
            "current in vlaidaiton\n",
            "train loss 0.532, train accuracy 0.790, val loss 0.873, val accuracy 0.666, precision 0.670, recall 0.666, F1 0.658\n",
            "At epoch 56\n"
          ]
        },
        {
          "output_type": "stream",
          "name": "stderr",
          "text": [
            "100%|██████████| 154/154 [00:00<00:00, 436.53it/s]\n"
          ]
        },
        {
          "output_type": "stream",
          "name": "stdout",
          "text": [
            "current in vlaidaiton\n",
            "train loss 0.538, train accuracy 0.792, val loss 0.904, val accuracy 0.656, precision 0.665, recall 0.656, F1 0.648\n",
            "At epoch 57\n"
          ]
        },
        {
          "output_type": "stream",
          "name": "stderr",
          "text": [
            "100%|██████████| 154/154 [00:00<00:00, 429.25it/s]\n"
          ]
        },
        {
          "output_type": "stream",
          "name": "stdout",
          "text": [
            "current in vlaidaiton\n",
            "train loss 0.524, train accuracy 0.794, val loss 0.884, val accuracy 0.673, precision 0.679, recall 0.673, F1 0.665\n",
            "At epoch 58\n"
          ]
        },
        {
          "output_type": "stream",
          "name": "stderr",
          "text": [
            "100%|██████████| 154/154 [00:00<00:00, 418.76it/s]\n"
          ]
        },
        {
          "output_type": "stream",
          "name": "stdout",
          "text": [
            "current in vlaidaiton\n",
            "train loss 0.517, train accuracy 0.793, val loss 0.897, val accuracy 0.661, precision 0.667, recall 0.661, F1 0.653\n",
            "At epoch 59\n"
          ]
        },
        {
          "output_type": "stream",
          "name": "stderr",
          "text": [
            "100%|██████████| 154/154 [00:00<00:00, 408.06it/s]\n"
          ]
        },
        {
          "output_type": "stream",
          "name": "stdout",
          "text": [
            "current in vlaidaiton\n",
            "train loss 0.520, train accuracy 0.797, val loss 0.886, val accuracy 0.668, precision 0.680, recall 0.668, F1 0.657\n",
            "At epoch 60\n"
          ]
        },
        {
          "output_type": "stream",
          "name": "stderr",
          "text": [
            "100%|██████████| 154/154 [00:00<00:00, 436.48it/s]\n"
          ]
        },
        {
          "output_type": "stream",
          "name": "stdout",
          "text": [
            "current in vlaidaiton\n",
            "train loss 0.515, train accuracy 0.797, val loss 0.897, val accuracy 0.666, precision 0.673, recall 0.666, F1 0.657\n",
            "At epoch 61\n"
          ]
        },
        {
          "output_type": "stream",
          "name": "stderr",
          "text": [
            "100%|██████████| 154/154 [00:00<00:00, 430.74it/s]\n"
          ]
        },
        {
          "output_type": "stream",
          "name": "stdout",
          "text": [
            "current in vlaidaiton\n",
            "train loss 0.507, train accuracy 0.807, val loss 0.886, val accuracy 0.679, precision 0.685, recall 0.679, F1 0.672\n",
            "\t=> Best model saved at 61th epoch with valication accuracy of 0.6792763471603394\n",
            "At epoch 62\n"
          ]
        },
        {
          "output_type": "stream",
          "name": "stderr",
          "text": [
            "100%|██████████| 154/154 [00:00<00:00, 434.08it/s]\n"
          ]
        },
        {
          "output_type": "stream",
          "name": "stdout",
          "text": [
            "current in vlaidaiton\n",
            "train loss 0.484, train accuracy 0.806, val loss 0.911, val accuracy 0.674, precision 0.683, recall 0.674, F1 0.667\n",
            "At epoch 63\n"
          ]
        },
        {
          "output_type": "stream",
          "name": "stderr",
          "text": [
            "100%|██████████| 154/154 [00:00<00:00, 436.20it/s]\n"
          ]
        },
        {
          "output_type": "stream",
          "name": "stdout",
          "text": [
            "current in vlaidaiton\n",
            "train loss 0.485, train accuracy 0.815, val loss 0.883, val accuracy 0.676, precision 0.678, recall 0.676, F1 0.670\n",
            "At epoch 64\n"
          ]
        },
        {
          "output_type": "stream",
          "name": "stderr",
          "text": [
            "100%|██████████| 154/154 [00:00<00:00, 435.27it/s]\n"
          ]
        },
        {
          "output_type": "stream",
          "name": "stdout",
          "text": [
            "current in vlaidaiton\n",
            "train loss 0.495, train accuracy 0.803, val loss 0.908, val accuracy 0.676, precision 0.683, recall 0.676, F1 0.668\n",
            "At epoch 65\n"
          ]
        },
        {
          "output_type": "stream",
          "name": "stderr",
          "text": [
            "100%|██████████| 154/154 [00:00<00:00, 432.18it/s]\n"
          ]
        },
        {
          "output_type": "stream",
          "name": "stdout",
          "text": [
            "current in vlaidaiton\n",
            "train loss 0.497, train accuracy 0.805, val loss 0.926, val accuracy 0.664, precision 0.672, recall 0.664, F1 0.656\n",
            "At epoch 66\n"
          ]
        },
        {
          "output_type": "stream",
          "name": "stderr",
          "text": [
            "100%|██████████| 154/154 [00:00<00:00, 435.39it/s]\n"
          ]
        },
        {
          "output_type": "stream",
          "name": "stdout",
          "text": [
            "current in vlaidaiton\n",
            "train loss 0.487, train accuracy 0.814, val loss 0.884, val accuracy 0.683, precision 0.686, recall 0.683, F1 0.679\n",
            "\t=> Best model saved at 66th epoch with valication accuracy of 0.6825658082962036\n",
            "At epoch 67\n"
          ]
        },
        {
          "output_type": "stream",
          "name": "stderr",
          "text": [
            "100%|██████████| 154/154 [00:00<00:00, 432.98it/s]\n"
          ]
        },
        {
          "output_type": "stream",
          "name": "stdout",
          "text": [
            "current in vlaidaiton\n",
            "train loss 0.490, train accuracy 0.808, val loss 0.889, val accuracy 0.683, precision 0.690, recall 0.683, F1 0.676\n",
            "At epoch 68\n"
          ]
        },
        {
          "output_type": "stream",
          "name": "stderr",
          "text": [
            "100%|██████████| 154/154 [00:00<00:00, 436.14it/s]\n"
          ]
        },
        {
          "output_type": "stream",
          "name": "stdout",
          "text": [
            "current in vlaidaiton\n",
            "train loss 0.487, train accuracy 0.806, val loss 0.885, val accuracy 0.683, precision 0.687, recall 0.683, F1 0.677\n",
            "At epoch 69\n"
          ]
        },
        {
          "output_type": "stream",
          "name": "stderr",
          "text": [
            "100%|██████████| 154/154 [00:00<00:00, 439.34it/s]\n"
          ]
        },
        {
          "output_type": "stream",
          "name": "stdout",
          "text": [
            "current in vlaidaiton\n",
            "train loss 0.460, train accuracy 0.829, val loss 0.915, val accuracy 0.688, precision 0.698, recall 0.688, F1 0.682\n",
            "\t=> Best model saved at 69th epoch with valication accuracy of 0.6875\n",
            "At epoch 70\n"
          ]
        },
        {
          "output_type": "stream",
          "name": "stderr",
          "text": [
            "100%|██████████| 154/154 [00:00<00:00, 433.72it/s]\n"
          ]
        },
        {
          "output_type": "stream",
          "name": "stdout",
          "text": [
            "current in vlaidaiton\n",
            "train loss 0.465, train accuracy 0.822, val loss 0.924, val accuracy 0.673, precision 0.684, recall 0.673, F1 0.664\n",
            "At epoch 71\n"
          ]
        },
        {
          "output_type": "stream",
          "name": "stderr",
          "text": [
            "100%|██████████| 154/154 [00:00<00:00, 439.56it/s]\n"
          ]
        },
        {
          "output_type": "stream",
          "name": "stdout",
          "text": [
            "current in vlaidaiton\n",
            "train loss 0.462, train accuracy 0.822, val loss 0.921, val accuracy 0.683, precision 0.692, recall 0.683, F1 0.677\n",
            "At epoch 72\n"
          ]
        },
        {
          "output_type": "stream",
          "name": "stderr",
          "text": [
            "100%|██████████| 154/154 [00:00<00:00, 425.11it/s]\n"
          ]
        },
        {
          "output_type": "stream",
          "name": "stdout",
          "text": [
            "current in vlaidaiton\n",
            "train loss 0.453, train accuracy 0.829, val loss 0.914, val accuracy 0.681, precision 0.692, recall 0.681, F1 0.673\n",
            "At epoch 73\n"
          ]
        },
        {
          "output_type": "stream",
          "name": "stderr",
          "text": [
            "100%|██████████| 154/154 [00:00<00:00, 434.01it/s]\n"
          ]
        },
        {
          "output_type": "stream",
          "name": "stdout",
          "text": [
            "current in vlaidaiton\n",
            "train loss 0.440, train accuracy 0.830, val loss 0.937, val accuracy 0.686, precision 0.697, recall 0.686, F1 0.680\n",
            "At epoch 74\n"
          ]
        },
        {
          "output_type": "stream",
          "name": "stderr",
          "text": [
            "100%|██████████| 154/154 [00:00<00:00, 439.60it/s]\n"
          ]
        },
        {
          "output_type": "stream",
          "name": "stdout",
          "text": [
            "current in vlaidaiton\n",
            "train loss 0.445, train accuracy 0.828, val loss 0.956, val accuracy 0.684, precision 0.701, recall 0.684, F1 0.675\n",
            "At epoch 75\n"
          ]
        },
        {
          "output_type": "stream",
          "name": "stderr",
          "text": [
            "100%|██████████| 154/154 [00:00<00:00, 432.81it/s]\n"
          ]
        },
        {
          "output_type": "stream",
          "name": "stdout",
          "text": [
            "current in vlaidaiton\n",
            "train loss 0.434, train accuracy 0.831, val loss 0.945, val accuracy 0.676, precision 0.688, recall 0.676, F1 0.666\n",
            "At epoch 76\n"
          ]
        },
        {
          "output_type": "stream",
          "name": "stderr",
          "text": [
            "100%|██████████| 154/154 [00:00<00:00, 435.79it/s]\n"
          ]
        },
        {
          "output_type": "stream",
          "name": "stdout",
          "text": [
            "current in vlaidaiton\n",
            "train loss 0.425, train accuracy 0.844, val loss 0.922, val accuracy 0.686, precision 0.693, recall 0.686, F1 0.680\n",
            "At epoch 77\n"
          ]
        },
        {
          "output_type": "stream",
          "name": "stderr",
          "text": [
            "100%|██████████| 154/154 [00:00<00:00, 437.21it/s]\n"
          ]
        },
        {
          "output_type": "stream",
          "name": "stdout",
          "text": [
            "current in vlaidaiton\n",
            "train loss 0.411, train accuracy 0.841, val loss 0.931, val accuracy 0.688, precision 0.694, recall 0.688, F1 0.680\n",
            "At epoch 78\n"
          ]
        },
        {
          "output_type": "stream",
          "name": "stderr",
          "text": [
            "100%|██████████| 154/154 [00:00<00:00, 433.58it/s]\n"
          ]
        },
        {
          "output_type": "stream",
          "name": "stdout",
          "text": [
            "current in vlaidaiton\n",
            "train loss 0.434, train accuracy 0.831, val loss 0.922, val accuracy 0.692, precision 0.698, recall 0.692, F1 0.688\n",
            "\t=> Best model saved at 78th epoch with valication accuracy of 0.6924341917037964\n",
            "At epoch 79\n"
          ]
        },
        {
          "output_type": "stream",
          "name": "stderr",
          "text": [
            "100%|██████████| 154/154 [00:00<00:00, 429.04it/s]\n"
          ]
        },
        {
          "output_type": "stream",
          "name": "stdout",
          "text": [
            "current in vlaidaiton\n",
            "train loss 0.414, train accuracy 0.847, val loss 0.917, val accuracy 0.694, precision 0.700, recall 0.694, F1 0.690\n",
            "\t=> Best model saved at 79th epoch with valication accuracy of 0.6940789818763733\n",
            "At epoch 80\n"
          ]
        },
        {
          "output_type": "stream",
          "name": "stderr",
          "text": [
            "100%|██████████| 154/154 [00:00<00:00, 436.95it/s]\n"
          ]
        },
        {
          "output_type": "stream",
          "name": "stdout",
          "text": [
            "current in vlaidaiton\n",
            "train loss 0.405, train accuracy 0.850, val loss 0.975, val accuracy 0.678, precision 0.690, recall 0.678, F1 0.670\n",
            "At epoch 81\n"
          ]
        },
        {
          "output_type": "stream",
          "name": "stderr",
          "text": [
            "100%|██████████| 154/154 [00:00<00:00, 434.82it/s]\n"
          ]
        },
        {
          "output_type": "stream",
          "name": "stdout",
          "text": [
            "current in vlaidaiton\n",
            "train loss 0.411, train accuracy 0.841, val loss 0.940, val accuracy 0.684, precision 0.691, recall 0.684, F1 0.679\n",
            "At epoch 82\n"
          ]
        },
        {
          "output_type": "stream",
          "name": "stderr",
          "text": [
            "100%|██████████| 154/154 [00:00<00:00, 435.15it/s]\n"
          ]
        },
        {
          "output_type": "stream",
          "name": "stdout",
          "text": [
            "current in vlaidaiton\n",
            "train loss 0.392, train accuracy 0.852, val loss 0.951, val accuracy 0.684, precision 0.693, recall 0.684, F1 0.679\n",
            "At epoch 83\n"
          ]
        },
        {
          "output_type": "stream",
          "name": "stderr",
          "text": [
            "100%|██████████| 154/154 [00:00<00:00, 435.20it/s]\n"
          ]
        },
        {
          "output_type": "stream",
          "name": "stdout",
          "text": [
            "current in vlaidaiton\n",
            "train loss 0.408, train accuracy 0.844, val loss 0.952, val accuracy 0.678, precision 0.691, recall 0.678, F1 0.672\n",
            "At epoch 84\n"
          ]
        },
        {
          "output_type": "stream",
          "name": "stderr",
          "text": [
            "100%|██████████| 154/154 [00:00<00:00, 440.26it/s]\n"
          ]
        },
        {
          "output_type": "stream",
          "name": "stdout",
          "text": [
            "current in vlaidaiton\n",
            "train loss 0.405, train accuracy 0.851, val loss 0.958, val accuracy 0.691, precision 0.698, recall 0.691, F1 0.686\n",
            "At epoch 85\n"
          ]
        },
        {
          "output_type": "stream",
          "name": "stderr",
          "text": [
            "100%|██████████| 154/154 [00:00<00:00, 437.96it/s]\n"
          ]
        },
        {
          "output_type": "stream",
          "name": "stdout",
          "text": [
            "current in vlaidaiton\n",
            "train loss 0.404, train accuracy 0.852, val loss 0.964, val accuracy 0.697, precision 0.713, recall 0.697, F1 0.690\n",
            "\t=> Best model saved at 85th epoch with valication accuracy of 0.6973684430122375\n",
            "At epoch 86\n"
          ]
        },
        {
          "output_type": "stream",
          "name": "stderr",
          "text": [
            "100%|██████████| 154/154 [00:00<00:00, 425.57it/s]\n"
          ]
        },
        {
          "output_type": "stream",
          "name": "stdout",
          "text": [
            "current in vlaidaiton\n",
            "train loss 0.382, train accuracy 0.863, val loss 0.955, val accuracy 0.689, precision 0.696, recall 0.689, F1 0.684\n",
            "At epoch 87\n"
          ]
        },
        {
          "output_type": "stream",
          "name": "stderr",
          "text": [
            "100%|██████████| 154/154 [00:00<00:00, 425.31it/s]\n"
          ]
        },
        {
          "output_type": "stream",
          "name": "stdout",
          "text": [
            "current in vlaidaiton\n",
            "train loss 0.397, train accuracy 0.854, val loss 0.969, val accuracy 0.686, precision 0.697, recall 0.686, F1 0.680\n",
            "At epoch 88\n"
          ]
        },
        {
          "output_type": "stream",
          "name": "stderr",
          "text": [
            "100%|██████████| 154/154 [00:00<00:00, 428.50it/s]\n"
          ]
        },
        {
          "output_type": "stream",
          "name": "stdout",
          "text": [
            "current in vlaidaiton\n",
            "train loss 0.382, train accuracy 0.854, val loss 0.991, val accuracy 0.679, precision 0.691, recall 0.679, F1 0.672\n",
            "At epoch 89\n"
          ]
        },
        {
          "output_type": "stream",
          "name": "stderr",
          "text": [
            "100%|██████████| 154/154 [00:00<00:00, 437.40it/s]\n"
          ]
        },
        {
          "output_type": "stream",
          "name": "stdout",
          "text": [
            "current in vlaidaiton\n",
            "train loss 0.385, train accuracy 0.856, val loss 0.974, val accuracy 0.688, precision 0.696, recall 0.688, F1 0.681\n",
            "At epoch 90\n"
          ]
        },
        {
          "output_type": "stream",
          "name": "stderr",
          "text": [
            "100%|██████████| 154/154 [00:00<00:00, 441.18it/s]\n"
          ]
        },
        {
          "output_type": "stream",
          "name": "stdout",
          "text": [
            "current in vlaidaiton\n",
            "train loss 0.375, train accuracy 0.858, val loss 0.973, val accuracy 0.691, precision 0.698, recall 0.691, F1 0.686\n",
            "At epoch 91\n"
          ]
        },
        {
          "output_type": "stream",
          "name": "stderr",
          "text": [
            "100%|██████████| 154/154 [00:00<00:00, 424.01it/s]\n"
          ]
        },
        {
          "output_type": "stream",
          "name": "stdout",
          "text": [
            "current in vlaidaiton\n",
            "train loss 0.368, train accuracy 0.860, val loss 0.995, val accuracy 0.691, precision 0.702, recall 0.691, F1 0.684\n",
            "At epoch 92\n"
          ]
        },
        {
          "output_type": "stream",
          "name": "stderr",
          "text": [
            "100%|██████████| 154/154 [00:00<00:00, 437.34it/s]\n"
          ]
        },
        {
          "output_type": "stream",
          "name": "stdout",
          "text": [
            "current in vlaidaiton\n",
            "train loss 0.369, train accuracy 0.863, val loss 0.968, val accuracy 0.688, precision 0.695, recall 0.688, F1 0.683\n",
            "At epoch 93\n"
          ]
        },
        {
          "output_type": "stream",
          "name": "stderr",
          "text": [
            "100%|██████████| 154/154 [00:00<00:00, 431.33it/s]\n"
          ]
        },
        {
          "output_type": "stream",
          "name": "stdout",
          "text": [
            "current in vlaidaiton\n",
            "train loss 0.351, train accuracy 0.873, val loss 0.993, val accuracy 0.688, precision 0.697, recall 0.688, F1 0.681\n",
            "At epoch 94\n"
          ]
        },
        {
          "output_type": "stream",
          "name": "stderr",
          "text": [
            "100%|██████████| 154/154 [00:00<00:00, 438.08it/s]\n"
          ]
        },
        {
          "output_type": "stream",
          "name": "stdout",
          "text": [
            "current in vlaidaiton\n",
            "train loss 0.359, train accuracy 0.866, val loss 0.991, val accuracy 0.689, precision 0.698, recall 0.689, F1 0.683\n",
            "At epoch 95\n"
          ]
        },
        {
          "output_type": "stream",
          "name": "stderr",
          "text": [
            "100%|██████████| 154/154 [00:00<00:00, 438.47it/s]\n"
          ]
        },
        {
          "output_type": "stream",
          "name": "stdout",
          "text": [
            "current in vlaidaiton\n",
            "train loss 0.355, train accuracy 0.864, val loss 1.013, val accuracy 0.689, precision 0.697, recall 0.689, F1 0.683\n",
            "At epoch 96\n"
          ]
        },
        {
          "output_type": "stream",
          "name": "stderr",
          "text": [
            "100%|██████████| 154/154 [00:00<00:00, 431.12it/s]\n"
          ]
        },
        {
          "output_type": "stream",
          "name": "stdout",
          "text": [
            "current in vlaidaiton\n",
            "train loss 0.355, train accuracy 0.862, val loss 0.986, val accuracy 0.697, precision 0.703, recall 0.697, F1 0.692\n",
            "At epoch 97\n"
          ]
        },
        {
          "output_type": "stream",
          "name": "stderr",
          "text": [
            "100%|██████████| 154/154 [00:00<00:00, 439.10it/s]\n"
          ]
        },
        {
          "output_type": "stream",
          "name": "stdout",
          "text": [
            "current in vlaidaiton\n",
            "train loss 0.361, train accuracy 0.873, val loss 0.952, val accuracy 0.697, precision 0.700, recall 0.697, F1 0.694\n",
            "At epoch 98\n"
          ]
        },
        {
          "output_type": "stream",
          "name": "stderr",
          "text": [
            "100%|██████████| 154/154 [00:00<00:00, 423.85it/s]\n"
          ]
        },
        {
          "output_type": "stream",
          "name": "stdout",
          "text": [
            "current in vlaidaiton\n",
            "train loss 0.347, train accuracy 0.869, val loss 0.991, val accuracy 0.689, precision 0.696, recall 0.689, F1 0.684\n",
            "At epoch 99\n"
          ]
        },
        {
          "output_type": "stream",
          "name": "stderr",
          "text": [
            "100%|██████████| 154/154 [00:00<00:00, 430.18it/s]\n"
          ]
        },
        {
          "output_type": "stream",
          "name": "stdout",
          "text": [
            "current in vlaidaiton\n",
            "train loss 0.329, train accuracy 0.880, val loss 1.041, val accuracy 0.702, precision 0.715, recall 0.702, F1 0.696\n",
            "\t=> Best model saved at 99th epoch with valication accuracy of 0.7023026347160339\n",
            "At epoch 100\n"
          ]
        },
        {
          "output_type": "stream",
          "name": "stderr",
          "text": [
            "100%|██████████| 154/154 [00:00<00:00, 438.49it/s]\n"
          ]
        },
        {
          "output_type": "stream",
          "name": "stdout",
          "text": [
            "current in vlaidaiton\n",
            "train loss 0.335, train accuracy 0.868, val loss 1.028, val accuracy 0.694, precision 0.704, recall 0.694, F1 0.688\n",
            "At epoch 101\n"
          ]
        },
        {
          "output_type": "stream",
          "name": "stderr",
          "text": [
            "100%|██████████| 154/154 [00:00<00:00, 426.52it/s]\n"
          ]
        },
        {
          "output_type": "stream",
          "name": "stdout",
          "text": [
            "current in vlaidaiton\n",
            "train loss 0.337, train accuracy 0.875, val loss 0.997, val accuracy 0.692, precision 0.699, recall 0.692, F1 0.687\n",
            "At epoch 102\n"
          ]
        },
        {
          "output_type": "stream",
          "name": "stderr",
          "text": [
            "100%|██████████| 154/154 [00:00<00:00, 432.63it/s]\n"
          ]
        },
        {
          "output_type": "stream",
          "name": "stdout",
          "text": [
            "current in vlaidaiton\n",
            "train loss 0.339, train accuracy 0.877, val loss 1.006, val accuracy 0.699, precision 0.707, recall 0.699, F1 0.694\n",
            "At epoch 103\n"
          ]
        },
        {
          "output_type": "stream",
          "name": "stderr",
          "text": [
            "100%|██████████| 154/154 [00:00<00:00, 434.69it/s]\n"
          ]
        },
        {
          "output_type": "stream",
          "name": "stdout",
          "text": [
            "current in vlaidaiton\n",
            "train loss 0.328, train accuracy 0.879, val loss 0.998, val accuracy 0.692, precision 0.701, recall 0.692, F1 0.686\n",
            "At epoch 104\n"
          ]
        },
        {
          "output_type": "stream",
          "name": "stderr",
          "text": [
            "100%|██████████| 154/154 [00:00<00:00, 436.21it/s]\n"
          ]
        },
        {
          "output_type": "stream",
          "name": "stdout",
          "text": [
            "current in vlaidaiton\n",
            "train loss 0.315, train accuracy 0.881, val loss 1.066, val accuracy 0.692, precision 0.704, recall 0.692, F1 0.686\n",
            "At epoch 105\n"
          ]
        },
        {
          "output_type": "stream",
          "name": "stderr",
          "text": [
            "100%|██████████| 154/154 [00:00<00:00, 436.82it/s]\n"
          ]
        },
        {
          "output_type": "stream",
          "name": "stdout",
          "text": [
            "current in vlaidaiton\n",
            "train loss 0.324, train accuracy 0.878, val loss 1.022, val accuracy 0.689, precision 0.695, recall 0.689, F1 0.684\n",
            "At epoch 106\n"
          ]
        },
        {
          "output_type": "stream",
          "name": "stderr",
          "text": [
            "100%|██████████| 154/154 [00:00<00:00, 429.27it/s]\n"
          ]
        },
        {
          "output_type": "stream",
          "name": "stdout",
          "text": [
            "current in vlaidaiton\n",
            "train loss 0.311, train accuracy 0.889, val loss 1.079, val accuracy 0.699, precision 0.712, recall 0.699, F1 0.693\n",
            "At epoch 107\n"
          ]
        },
        {
          "output_type": "stream",
          "name": "stderr",
          "text": [
            "100%|██████████| 154/154 [00:00<00:00, 431.15it/s]\n"
          ]
        },
        {
          "output_type": "stream",
          "name": "stdout",
          "text": [
            "current in vlaidaiton\n",
            "train loss 0.322, train accuracy 0.877, val loss 1.017, val accuracy 0.701, precision 0.705, recall 0.701, F1 0.696\n",
            "At epoch 108\n"
          ]
        },
        {
          "output_type": "stream",
          "name": "stderr",
          "text": [
            "100%|██████████| 154/154 [00:00<00:00, 430.33it/s]\n"
          ]
        },
        {
          "output_type": "stream",
          "name": "stdout",
          "text": [
            "current in vlaidaiton\n",
            "train loss 0.315, train accuracy 0.884, val loss 1.041, val accuracy 0.696, precision 0.702, recall 0.696, F1 0.691\n",
            "At epoch 109\n"
          ]
        },
        {
          "output_type": "stream",
          "name": "stderr",
          "text": [
            "100%|██████████| 154/154 [00:00<00:00, 440.27it/s]\n"
          ]
        },
        {
          "output_type": "stream",
          "name": "stdout",
          "text": [
            "current in vlaidaiton\n",
            "train loss 0.307, train accuracy 0.890, val loss 1.055, val accuracy 0.697, precision 0.707, recall 0.697, F1 0.692\n",
            "At epoch 110\n"
          ]
        },
        {
          "output_type": "stream",
          "name": "stderr",
          "text": [
            "100%|██████████| 154/154 [00:00<00:00, 439.35it/s]\n"
          ]
        },
        {
          "output_type": "stream",
          "name": "stdout",
          "text": [
            "current in vlaidaiton\n",
            "train loss 0.313, train accuracy 0.890, val loss 1.042, val accuracy 0.702, precision 0.711, recall 0.702, F1 0.697\n",
            "At epoch 111\n"
          ]
        },
        {
          "output_type": "stream",
          "name": "stderr",
          "text": [
            "100%|██████████| 154/154 [00:00<00:00, 438.05it/s]\n"
          ]
        },
        {
          "output_type": "stream",
          "name": "stdout",
          "text": [
            "current in vlaidaiton\n",
            "train loss 0.307, train accuracy 0.884, val loss 1.033, val accuracy 0.696, precision 0.702, recall 0.696, F1 0.691\n",
            "At epoch 112\n"
          ]
        },
        {
          "output_type": "stream",
          "name": "stderr",
          "text": [
            "100%|██████████| 154/154 [00:00<00:00, 435.10it/s]\n"
          ]
        },
        {
          "output_type": "stream",
          "name": "stdout",
          "text": [
            "current in vlaidaiton\n",
            "train loss 0.304, train accuracy 0.885, val loss 1.041, val accuracy 0.699, precision 0.707, recall 0.699, F1 0.693\n",
            "At epoch 113\n"
          ]
        },
        {
          "output_type": "stream",
          "name": "stderr",
          "text": [
            "100%|██████████| 154/154 [00:00<00:00, 434.83it/s]\n"
          ]
        },
        {
          "output_type": "stream",
          "name": "stdout",
          "text": [
            "current in vlaidaiton\n",
            "train loss 0.298, train accuracy 0.892, val loss 1.056, val accuracy 0.694, precision 0.702, recall 0.694, F1 0.687\n",
            "At epoch 114\n"
          ]
        },
        {
          "output_type": "stream",
          "name": "stderr",
          "text": [
            "100%|██████████| 154/154 [00:00<00:00, 434.45it/s]\n"
          ]
        },
        {
          "output_type": "stream",
          "name": "stdout",
          "text": [
            "current in vlaidaiton\n",
            "train loss 0.283, train accuracy 0.900, val loss 1.057, val accuracy 0.692, precision 0.694, recall 0.692, F1 0.687\n",
            "At epoch 115\n"
          ]
        },
        {
          "output_type": "stream",
          "name": "stderr",
          "text": [
            "100%|██████████| 154/154 [00:00<00:00, 435.45it/s]\n"
          ]
        },
        {
          "output_type": "stream",
          "name": "stdout",
          "text": [
            "current in vlaidaiton\n",
            "train loss 0.286, train accuracy 0.895, val loss 1.097, val accuracy 0.691, precision 0.698, recall 0.691, F1 0.685\n",
            "At epoch 116\n"
          ]
        },
        {
          "output_type": "stream",
          "name": "stderr",
          "text": [
            "100%|██████████| 154/154 [00:00<00:00, 431.44it/s]\n"
          ]
        },
        {
          "output_type": "stream",
          "name": "stdout",
          "text": [
            "current in vlaidaiton\n",
            "train loss 0.294, train accuracy 0.892, val loss 1.090, val accuracy 0.683, precision 0.692, recall 0.683, F1 0.677\n",
            "At epoch 117\n"
          ]
        },
        {
          "output_type": "stream",
          "name": "stderr",
          "text": [
            "100%|██████████| 154/154 [00:00<00:00, 436.07it/s]\n"
          ]
        },
        {
          "output_type": "stream",
          "name": "stdout",
          "text": [
            "current in vlaidaiton\n",
            "train loss 0.270, train accuracy 0.901, val loss 1.111, val accuracy 0.692, precision 0.699, recall 0.692, F1 0.687\n",
            "At epoch 118\n"
          ]
        },
        {
          "output_type": "stream",
          "name": "stderr",
          "text": [
            "100%|██████████| 154/154 [00:00<00:00, 436.88it/s]\n"
          ]
        },
        {
          "output_type": "stream",
          "name": "stdout",
          "text": [
            "current in vlaidaiton\n",
            "train loss 0.283, train accuracy 0.894, val loss 1.065, val accuracy 0.686, precision 0.692, recall 0.686, F1 0.680\n",
            "At epoch 119\n"
          ]
        },
        {
          "output_type": "stream",
          "name": "stderr",
          "text": [
            "100%|██████████| 154/154 [00:00<00:00, 431.94it/s]\n"
          ]
        },
        {
          "output_type": "stream",
          "name": "stdout",
          "text": [
            "current in vlaidaiton\n",
            "train loss 0.283, train accuracy 0.900, val loss 1.089, val accuracy 0.697, precision 0.709, recall 0.697, F1 0.691\n",
            "At epoch 120\n"
          ]
        },
        {
          "output_type": "stream",
          "name": "stderr",
          "text": [
            "100%|██████████| 154/154 [00:00<00:00, 435.91it/s]\n"
          ]
        },
        {
          "output_type": "stream",
          "name": "stdout",
          "text": [
            "current in vlaidaiton\n",
            "train loss 0.278, train accuracy 0.901, val loss 1.083, val accuracy 0.683, precision 0.688, recall 0.683, F1 0.678\n",
            "At epoch 121\n"
          ]
        },
        {
          "output_type": "stream",
          "name": "stderr",
          "text": [
            "100%|██████████| 154/154 [00:00<00:00, 432.67it/s]\n"
          ]
        },
        {
          "output_type": "stream",
          "name": "stdout",
          "text": [
            "current in vlaidaiton\n",
            "train loss 0.263, train accuracy 0.907, val loss 1.109, val accuracy 0.681, precision 0.689, recall 0.681, F1 0.676\n",
            "At epoch 122\n"
          ]
        },
        {
          "output_type": "stream",
          "name": "stderr",
          "text": [
            "100%|██████████| 154/154 [00:00<00:00, 436.43it/s]\n"
          ]
        },
        {
          "output_type": "stream",
          "name": "stdout",
          "text": [
            "current in vlaidaiton\n",
            "train loss 0.265, train accuracy 0.908, val loss 1.139, val accuracy 0.702, precision 0.717, recall 0.702, F1 0.696\n",
            "At epoch 123\n"
          ]
        },
        {
          "output_type": "stream",
          "name": "stderr",
          "text": [
            "100%|██████████| 154/154 [00:00<00:00, 426.69it/s]\n"
          ]
        },
        {
          "output_type": "stream",
          "name": "stdout",
          "text": [
            "current in vlaidaiton\n",
            "train loss 0.263, train accuracy 0.905, val loss 1.172, val accuracy 0.694, precision 0.709, recall 0.694, F1 0.685\n",
            "At epoch 124\n"
          ]
        },
        {
          "output_type": "stream",
          "name": "stderr",
          "text": [
            "100%|██████████| 154/154 [00:00<00:00, 437.32it/s]\n"
          ]
        },
        {
          "output_type": "stream",
          "name": "stdout",
          "text": [
            "current in vlaidaiton\n",
            "train loss 0.256, train accuracy 0.909, val loss 1.114, val accuracy 0.697, precision 0.704, recall 0.697, F1 0.692\n",
            "At epoch 125\n"
          ]
        },
        {
          "output_type": "stream",
          "name": "stderr",
          "text": [
            "100%|██████████| 154/154 [00:00<00:00, 433.90it/s]\n"
          ]
        },
        {
          "output_type": "stream",
          "name": "stdout",
          "text": [
            "current in vlaidaiton\n",
            "train loss 0.266, train accuracy 0.903, val loss 1.104, val accuracy 0.699, precision 0.708, recall 0.699, F1 0.694\n",
            "At epoch 126\n"
          ]
        },
        {
          "output_type": "stream",
          "name": "stderr",
          "text": [
            "100%|██████████| 154/154 [00:00<00:00, 428.48it/s]\n"
          ]
        },
        {
          "output_type": "stream",
          "name": "stdout",
          "text": [
            "current in vlaidaiton\n",
            "train loss 0.253, train accuracy 0.905, val loss 1.132, val accuracy 0.699, precision 0.710, recall 0.699, F1 0.693\n",
            "At epoch 127\n"
          ]
        },
        {
          "output_type": "stream",
          "name": "stderr",
          "text": [
            "100%|██████████| 154/154 [00:00<00:00, 432.36it/s]\n"
          ]
        },
        {
          "output_type": "stream",
          "name": "stdout",
          "text": [
            "current in vlaidaiton\n",
            "train loss 0.245, train accuracy 0.910, val loss 1.120, val accuracy 0.694, precision 0.702, recall 0.694, F1 0.689\n",
            "At epoch 128\n"
          ]
        },
        {
          "output_type": "stream",
          "name": "stderr",
          "text": [
            "100%|██████████| 154/154 [00:00<00:00, 434.32it/s]\n"
          ]
        },
        {
          "output_type": "stream",
          "name": "stdout",
          "text": [
            "current in vlaidaiton\n",
            "train loss 0.248, train accuracy 0.914, val loss 1.141, val accuracy 0.689, precision 0.697, recall 0.689, F1 0.682\n",
            "At epoch 129\n"
          ]
        },
        {
          "output_type": "stream",
          "name": "stderr",
          "text": [
            "100%|██████████| 154/154 [00:00<00:00, 430.39it/s]\n"
          ]
        },
        {
          "output_type": "stream",
          "name": "stdout",
          "text": [
            "current in vlaidaiton\n",
            "train loss 0.247, train accuracy 0.911, val loss 1.123, val accuracy 0.686, precision 0.692, recall 0.686, F1 0.681\n",
            "At epoch 130\n"
          ]
        },
        {
          "output_type": "stream",
          "name": "stderr",
          "text": [
            "100%|██████████| 154/154 [00:00<00:00, 435.37it/s]\n"
          ]
        },
        {
          "output_type": "stream",
          "name": "stdout",
          "text": [
            "current in vlaidaiton\n",
            "train loss 0.246, train accuracy 0.915, val loss 1.159, val accuracy 0.694, precision 0.706, recall 0.694, F1 0.689\n",
            "At epoch 131\n"
          ]
        },
        {
          "output_type": "stream",
          "name": "stderr",
          "text": [
            "100%|██████████| 154/154 [00:00<00:00, 422.43it/s]\n"
          ]
        },
        {
          "output_type": "stream",
          "name": "stdout",
          "text": [
            "current in vlaidaiton\n",
            "train loss 0.254, train accuracy 0.905, val loss 1.121, val accuracy 0.702, precision 0.715, recall 0.702, F1 0.697\n",
            "At epoch 132\n"
          ]
        },
        {
          "output_type": "stream",
          "name": "stderr",
          "text": [
            "100%|██████████| 154/154 [00:00<00:00, 435.18it/s]\n"
          ]
        },
        {
          "output_type": "stream",
          "name": "stdout",
          "text": [
            "current in vlaidaiton\n",
            "train loss 0.239, train accuracy 0.912, val loss 1.113, val accuracy 0.691, precision 0.696, recall 0.691, F1 0.687\n",
            "At epoch 133\n"
          ]
        },
        {
          "output_type": "stream",
          "name": "stderr",
          "text": [
            "100%|██████████| 154/154 [00:00<00:00, 434.67it/s]\n"
          ]
        },
        {
          "output_type": "stream",
          "name": "stdout",
          "text": [
            "current in vlaidaiton\n",
            "train loss 0.246, train accuracy 0.914, val loss 1.119, val accuracy 0.697, precision 0.704, recall 0.697, F1 0.692\n",
            "At epoch 134\n"
          ]
        },
        {
          "output_type": "stream",
          "name": "stderr",
          "text": [
            "100%|██████████| 154/154 [00:00<00:00, 424.37it/s]\n"
          ]
        },
        {
          "output_type": "stream",
          "name": "stdout",
          "text": [
            "current in vlaidaiton\n",
            "train loss 0.247, train accuracy 0.911, val loss 1.144, val accuracy 0.696, precision 0.704, recall 0.696, F1 0.690\n",
            "At epoch 135\n"
          ]
        },
        {
          "output_type": "stream",
          "name": "stderr",
          "text": [
            "100%|██████████| 154/154 [00:00<00:00, 435.34it/s]\n"
          ]
        },
        {
          "output_type": "stream",
          "name": "stdout",
          "text": [
            "current in vlaidaiton\n",
            "train loss 0.234, train accuracy 0.916, val loss 1.164, val accuracy 0.696, precision 0.702, recall 0.696, F1 0.690\n",
            "At epoch 136\n"
          ]
        },
        {
          "output_type": "stream",
          "name": "stderr",
          "text": [
            "100%|██████████| 154/154 [00:00<00:00, 433.23it/s]\n"
          ]
        },
        {
          "output_type": "stream",
          "name": "stdout",
          "text": [
            "current in vlaidaiton\n",
            "train loss 0.228, train accuracy 0.918, val loss 1.162, val accuracy 0.689, precision 0.694, recall 0.689, F1 0.684\n",
            "At epoch 137\n"
          ]
        },
        {
          "output_type": "stream",
          "name": "stderr",
          "text": [
            "100%|██████████| 154/154 [00:00<00:00, 434.78it/s]\n"
          ]
        },
        {
          "output_type": "stream",
          "name": "stdout",
          "text": [
            "current in vlaidaiton\n",
            "train loss 0.216, train accuracy 0.920, val loss 1.187, val accuracy 0.689, precision 0.697, recall 0.689, F1 0.684\n",
            "At epoch 138\n"
          ]
        },
        {
          "output_type": "stream",
          "name": "stderr",
          "text": [
            "100%|██████████| 154/154 [00:00<00:00, 431.57it/s]\n"
          ]
        },
        {
          "output_type": "stream",
          "name": "stdout",
          "text": [
            "current in vlaidaiton\n",
            "train loss 0.238, train accuracy 0.916, val loss 1.148, val accuracy 0.692, precision 0.698, recall 0.692, F1 0.688\n",
            "At epoch 139\n"
          ]
        },
        {
          "output_type": "stream",
          "name": "stderr",
          "text": [
            "100%|██████████| 154/154 [00:00<00:00, 436.32it/s]\n"
          ]
        },
        {
          "output_type": "stream",
          "name": "stdout",
          "text": [
            "current in vlaidaiton\n",
            "train loss 0.225, train accuracy 0.921, val loss 1.187, val accuracy 0.694, precision 0.706, recall 0.694, F1 0.688\n",
            "At epoch 140\n"
          ]
        },
        {
          "output_type": "stream",
          "name": "stderr",
          "text": [
            "100%|██████████| 154/154 [00:00<00:00, 435.99it/s]\n"
          ]
        },
        {
          "output_type": "stream",
          "name": "stdout",
          "text": [
            "current in vlaidaiton\n",
            "train loss 0.213, train accuracy 0.925, val loss 1.214, val accuracy 0.692, precision 0.702, recall 0.692, F1 0.687\n",
            "At epoch 141\n"
          ]
        },
        {
          "output_type": "stream",
          "name": "stderr",
          "text": [
            "100%|██████████| 154/154 [00:00<00:00, 406.60it/s]\n"
          ]
        },
        {
          "output_type": "stream",
          "name": "stdout",
          "text": [
            "current in vlaidaiton\n",
            "train loss 0.224, train accuracy 0.923, val loss 1.170, val accuracy 0.684, precision 0.688, recall 0.684, F1 0.680\n",
            "At epoch 142\n"
          ]
        },
        {
          "output_type": "stream",
          "name": "stderr",
          "text": [
            "100%|██████████| 154/154 [00:00<00:00, 427.20it/s]\n"
          ]
        },
        {
          "output_type": "stream",
          "name": "stdout",
          "text": [
            "current in vlaidaiton\n",
            "train loss 0.226, train accuracy 0.926, val loss 1.209, val accuracy 0.694, precision 0.703, recall 0.694, F1 0.689\n",
            "At epoch 143\n"
          ]
        },
        {
          "output_type": "stream",
          "name": "stderr",
          "text": [
            "100%|██████████| 154/154 [00:00<00:00, 431.35it/s]\n"
          ]
        },
        {
          "output_type": "stream",
          "name": "stdout",
          "text": [
            "current in vlaidaiton\n",
            "train loss 0.228, train accuracy 0.917, val loss 1.197, val accuracy 0.688, precision 0.698, recall 0.688, F1 0.682\n",
            "At epoch 144\n"
          ]
        },
        {
          "output_type": "stream",
          "name": "stderr",
          "text": [
            "100%|██████████| 154/154 [00:00<00:00, 423.91it/s]\n"
          ]
        },
        {
          "output_type": "stream",
          "name": "stdout",
          "text": [
            "current in vlaidaiton\n",
            "train loss 0.204, train accuracy 0.930, val loss 1.182, val accuracy 0.689, precision 0.694, recall 0.689, F1 0.684\n",
            "At epoch 145\n"
          ]
        },
        {
          "output_type": "stream",
          "name": "stderr",
          "text": [
            "100%|██████████| 154/154 [00:00<00:00, 435.09it/s]\n"
          ]
        },
        {
          "output_type": "stream",
          "name": "stdout",
          "text": [
            "current in vlaidaiton\n",
            "train loss 0.219, train accuracy 0.922, val loss 1.203, val accuracy 0.696, precision 0.704, recall 0.696, F1 0.689\n",
            "At epoch 146\n"
          ]
        },
        {
          "output_type": "stream",
          "name": "stderr",
          "text": [
            "100%|██████████| 154/154 [00:00<00:00, 427.76it/s]\n"
          ]
        },
        {
          "output_type": "stream",
          "name": "stdout",
          "text": [
            "current in vlaidaiton\n",
            "train loss 0.223, train accuracy 0.917, val loss 1.185, val accuracy 0.692, precision 0.700, recall 0.692, F1 0.686\n",
            "At epoch 147\n"
          ]
        },
        {
          "output_type": "stream",
          "name": "stderr",
          "text": [
            "100%|██████████| 154/154 [00:00<00:00, 436.92it/s]\n"
          ]
        },
        {
          "output_type": "stream",
          "name": "stdout",
          "text": [
            "current in vlaidaiton\n",
            "train loss 0.208, train accuracy 0.923, val loss 1.182, val accuracy 0.697, precision 0.702, recall 0.697, F1 0.691\n",
            "At epoch 148\n"
          ]
        },
        {
          "output_type": "stream",
          "name": "stderr",
          "text": [
            "100%|██████████| 154/154 [00:00<00:00, 434.10it/s]\n"
          ]
        },
        {
          "output_type": "stream",
          "name": "stdout",
          "text": [
            "current in vlaidaiton\n",
            "train loss 0.204, train accuracy 0.935, val loss 1.169, val accuracy 0.699, precision 0.703, recall 0.699, F1 0.694\n",
            "At epoch 149\n"
          ]
        },
        {
          "output_type": "stream",
          "name": "stderr",
          "text": [
            "100%|██████████| 154/154 [00:00<00:00, 434.09it/s]\n"
          ]
        },
        {
          "output_type": "stream",
          "name": "stdout",
          "text": [
            "current in vlaidaiton\n",
            "train loss 0.204, train accuracy 0.928, val loss 1.191, val accuracy 0.691, precision 0.698, recall 0.691, F1 0.685\n",
            "At epoch 150\n"
          ]
        },
        {
          "output_type": "stream",
          "name": "stderr",
          "text": [
            "100%|██████████| 154/154 [00:00<00:00, 435.10it/s]\n"
          ]
        },
        {
          "output_type": "stream",
          "name": "stdout",
          "text": [
            "current in vlaidaiton\n",
            "train loss 0.190, train accuracy 0.933, val loss 1.240, val accuracy 0.694, precision 0.703, recall 0.694, F1 0.688\n",
            "At epoch 151\n"
          ]
        },
        {
          "output_type": "stream",
          "name": "stderr",
          "text": [
            "100%|██████████| 154/154 [00:00<00:00, 427.91it/s]\n"
          ]
        },
        {
          "output_type": "stream",
          "name": "stdout",
          "text": [
            "current in vlaidaiton\n",
            "train loss 0.196, train accuracy 0.929, val loss 1.256, val accuracy 0.691, precision 0.700, recall 0.691, F1 0.685\n",
            "At epoch 152\n"
          ]
        },
        {
          "output_type": "stream",
          "name": "stderr",
          "text": [
            "100%|██████████| 154/154 [00:00<00:00, 435.57it/s]\n"
          ]
        },
        {
          "output_type": "stream",
          "name": "stdout",
          "text": [
            "current in vlaidaiton\n",
            "train loss 0.203, train accuracy 0.932, val loss 1.212, val accuracy 0.684, precision 0.689, recall 0.684, F1 0.680\n",
            "At epoch 153\n"
          ]
        },
        {
          "output_type": "stream",
          "name": "stderr",
          "text": [
            "100%|██████████| 154/154 [00:00<00:00, 432.41it/s]\n"
          ]
        },
        {
          "output_type": "stream",
          "name": "stdout",
          "text": [
            "current in vlaidaiton\n",
            "train loss 0.195, train accuracy 0.931, val loss 1.242, val accuracy 0.688, precision 0.697, recall 0.688, F1 0.682\n",
            "At epoch 154\n"
          ]
        },
        {
          "output_type": "stream",
          "name": "stderr",
          "text": [
            "100%|██████████| 154/154 [00:00<00:00, 430.98it/s]\n"
          ]
        },
        {
          "output_type": "stream",
          "name": "stdout",
          "text": [
            "current in vlaidaiton\n",
            "train loss 0.200, train accuracy 0.927, val loss 1.185, val accuracy 0.683, precision 0.686, recall 0.683, F1 0.678\n",
            "At epoch 155\n"
          ]
        },
        {
          "output_type": "stream",
          "name": "stderr",
          "text": [
            "100%|██████████| 154/154 [00:00<00:00, 432.90it/s]\n"
          ]
        },
        {
          "output_type": "stream",
          "name": "stdout",
          "text": [
            "current in vlaidaiton\n",
            "train loss 0.179, train accuracy 0.940, val loss 1.218, val accuracy 0.689, precision 0.692, recall 0.689, F1 0.684\n",
            "At epoch 156\n"
          ]
        },
        {
          "output_type": "stream",
          "name": "stderr",
          "text": [
            "100%|██████████| 154/154 [00:00<00:00, 428.65it/s]\n"
          ]
        },
        {
          "output_type": "stream",
          "name": "stdout",
          "text": [
            "current in vlaidaiton\n",
            "train loss 0.179, train accuracy 0.939, val loss 1.224, val accuracy 0.691, precision 0.695, recall 0.691, F1 0.687\n",
            "At epoch 157\n"
          ]
        },
        {
          "output_type": "stream",
          "name": "stderr",
          "text": [
            "100%|██████████| 154/154 [00:00<00:00, 434.27it/s]\n"
          ]
        },
        {
          "output_type": "stream",
          "name": "stdout",
          "text": [
            "current in vlaidaiton\n",
            "train loss 0.188, train accuracy 0.936, val loss 1.182, val accuracy 0.696, precision 0.696, recall 0.696, F1 0.693\n",
            "At epoch 158\n"
          ]
        },
        {
          "output_type": "stream",
          "name": "stderr",
          "text": [
            "100%|██████████| 154/154 [00:00<00:00, 433.43it/s]\n"
          ]
        },
        {
          "output_type": "stream",
          "name": "stdout",
          "text": [
            "current in vlaidaiton\n",
            "train loss 0.184, train accuracy 0.934, val loss 1.249, val accuracy 0.694, precision 0.704, recall 0.694, F1 0.687\n",
            "At epoch 159\n"
          ]
        },
        {
          "output_type": "stream",
          "name": "stderr",
          "text": [
            "100%|██████████| 154/154 [00:00<00:00, 424.96it/s]\n"
          ]
        },
        {
          "output_type": "stream",
          "name": "stdout",
          "text": [
            "current in vlaidaiton\n",
            "train loss 0.190, train accuracy 0.934, val loss 1.187, val accuracy 0.684, precision 0.687, recall 0.684, F1 0.679\n",
            "At epoch 160\n"
          ]
        },
        {
          "output_type": "stream",
          "name": "stderr",
          "text": [
            "100%|██████████| 154/154 [00:00<00:00, 411.55it/s]\n"
          ]
        },
        {
          "output_type": "stream",
          "name": "stdout",
          "text": [
            "current in vlaidaiton\n",
            "train loss 0.174, train accuracy 0.941, val loss 1.333, val accuracy 0.684, precision 0.700, recall 0.684, F1 0.676\n",
            "At epoch 161\n"
          ]
        },
        {
          "output_type": "stream",
          "name": "stderr",
          "text": [
            "100%|██████████| 154/154 [00:00<00:00, 435.77it/s]\n"
          ]
        },
        {
          "output_type": "stream",
          "name": "stdout",
          "text": [
            "current in vlaidaiton\n",
            "train loss 0.173, train accuracy 0.942, val loss 1.256, val accuracy 0.692, precision 0.699, recall 0.692, F1 0.686\n",
            "At epoch 162\n"
          ]
        },
        {
          "output_type": "stream",
          "name": "stderr",
          "text": [
            "100%|██████████| 154/154 [00:00<00:00, 435.48it/s]\n"
          ]
        },
        {
          "output_type": "stream",
          "name": "stdout",
          "text": [
            "current in vlaidaiton\n",
            "train loss 0.171, train accuracy 0.942, val loss 1.221, val accuracy 0.691, precision 0.696, recall 0.691, F1 0.685\n",
            "At epoch 163\n"
          ]
        },
        {
          "output_type": "stream",
          "name": "stderr",
          "text": [
            "100%|██████████| 154/154 [00:00<00:00, 437.23it/s]\n"
          ]
        },
        {
          "output_type": "stream",
          "name": "stdout",
          "text": [
            "current in vlaidaiton\n",
            "train loss 0.175, train accuracy 0.944, val loss 1.318, val accuracy 0.692, precision 0.705, recall 0.692, F1 0.686\n",
            "At epoch 164\n"
          ]
        },
        {
          "output_type": "stream",
          "name": "stderr",
          "text": [
            "100%|██████████| 154/154 [00:00<00:00, 435.26it/s]\n"
          ]
        },
        {
          "output_type": "stream",
          "name": "stdout",
          "text": [
            "current in vlaidaiton\n",
            "train loss 0.162, train accuracy 0.941, val loss 1.299, val accuracy 0.689, precision 0.697, recall 0.689, F1 0.683\n",
            "At epoch 165\n"
          ]
        },
        {
          "output_type": "stream",
          "name": "stderr",
          "text": [
            "100%|██████████| 154/154 [00:00<00:00, 437.55it/s]\n"
          ]
        },
        {
          "output_type": "stream",
          "name": "stdout",
          "text": [
            "current in vlaidaiton\n",
            "train loss 0.172, train accuracy 0.942, val loss 1.293, val accuracy 0.692, precision 0.706, recall 0.692, F1 0.686\n",
            "At epoch 166\n"
          ]
        },
        {
          "output_type": "stream",
          "name": "stderr",
          "text": [
            "100%|██████████| 154/154 [00:00<00:00, 433.82it/s]\n"
          ]
        },
        {
          "output_type": "stream",
          "name": "stdout",
          "text": [
            "current in vlaidaiton\n",
            "train loss 0.159, train accuracy 0.946, val loss 1.260, val accuracy 0.699, precision 0.707, recall 0.699, F1 0.694\n",
            "At epoch 167\n"
          ]
        },
        {
          "output_type": "stream",
          "name": "stderr",
          "text": [
            "100%|██████████| 154/154 [00:00<00:00, 431.84it/s]\n"
          ]
        },
        {
          "output_type": "stream",
          "name": "stdout",
          "text": [
            "current in vlaidaiton\n",
            "train loss 0.160, train accuracy 0.944, val loss 1.281, val accuracy 0.691, precision 0.698, recall 0.691, F1 0.685\n",
            "At epoch 168\n"
          ]
        },
        {
          "output_type": "stream",
          "name": "stderr",
          "text": [
            "100%|██████████| 154/154 [00:00<00:00, 433.20it/s]\n"
          ]
        },
        {
          "output_type": "stream",
          "name": "stdout",
          "text": [
            "current in vlaidaiton\n",
            "train loss 0.178, train accuracy 0.938, val loss 1.250, val accuracy 0.688, precision 0.692, recall 0.688, F1 0.683\n",
            "At epoch 169\n"
          ]
        },
        {
          "output_type": "stream",
          "name": "stderr",
          "text": [
            "100%|██████████| 154/154 [00:00<00:00, 423.01it/s]\n"
          ]
        },
        {
          "output_type": "stream",
          "name": "stdout",
          "text": [
            "current in vlaidaiton\n",
            "train loss 0.160, train accuracy 0.944, val loss 1.248, val accuracy 0.696, precision 0.701, recall 0.696, F1 0.690\n",
            "At epoch 170\n"
          ]
        },
        {
          "output_type": "stream",
          "name": "stderr",
          "text": [
            "100%|██████████| 154/154 [00:00<00:00, 436.96it/s]\n"
          ]
        },
        {
          "output_type": "stream",
          "name": "stdout",
          "text": [
            "current in vlaidaiton\n",
            "train loss 0.153, train accuracy 0.948, val loss 1.275, val accuracy 0.694, precision 0.697, recall 0.694, F1 0.689\n",
            "At epoch 171\n"
          ]
        },
        {
          "output_type": "stream",
          "name": "stderr",
          "text": [
            "100%|██████████| 154/154 [00:00<00:00, 436.72it/s]\n"
          ]
        },
        {
          "output_type": "stream",
          "name": "stdout",
          "text": [
            "current in vlaidaiton\n",
            "train loss 0.156, train accuracy 0.944, val loss 1.288, val accuracy 0.697, precision 0.704, recall 0.697, F1 0.691\n",
            "At epoch 172\n"
          ]
        },
        {
          "output_type": "stream",
          "name": "stderr",
          "text": [
            "100%|██████████| 154/154 [00:00<00:00, 434.23it/s]\n"
          ]
        },
        {
          "output_type": "stream",
          "name": "stdout",
          "text": [
            "current in vlaidaiton\n",
            "train loss 0.141, train accuracy 0.951, val loss 1.313, val accuracy 0.689, precision 0.694, recall 0.689, F1 0.684\n",
            "At epoch 173\n"
          ]
        },
        {
          "output_type": "stream",
          "name": "stderr",
          "text": [
            "100%|██████████| 154/154 [00:00<00:00, 439.39it/s]\n"
          ]
        },
        {
          "output_type": "stream",
          "name": "stdout",
          "text": [
            "current in vlaidaiton\n",
            "train loss 0.155, train accuracy 0.945, val loss 1.323, val accuracy 0.692, precision 0.700, recall 0.692, F1 0.687\n",
            "At epoch 174\n"
          ]
        },
        {
          "output_type": "stream",
          "name": "stderr",
          "text": [
            "100%|██████████| 154/154 [00:00<00:00, 430.78it/s]\n"
          ]
        },
        {
          "output_type": "stream",
          "name": "stdout",
          "text": [
            "current in vlaidaiton\n",
            "train loss 0.145, train accuracy 0.952, val loss 1.344, val accuracy 0.702, precision 0.715, recall 0.702, F1 0.695\n",
            "At epoch 175\n"
          ]
        },
        {
          "output_type": "stream",
          "name": "stderr",
          "text": [
            "100%|██████████| 154/154 [00:00<00:00, 438.28it/s]\n"
          ]
        },
        {
          "output_type": "stream",
          "name": "stdout",
          "text": [
            "current in vlaidaiton\n",
            "train loss 0.170, train accuracy 0.940, val loss 1.310, val accuracy 0.699, precision 0.709, recall 0.699, F1 0.692\n",
            "At epoch 176\n"
          ]
        },
        {
          "output_type": "stream",
          "name": "stderr",
          "text": [
            "100%|██████████| 154/154 [00:00<00:00, 439.03it/s]\n"
          ]
        },
        {
          "output_type": "stream",
          "name": "stdout",
          "text": [
            "current in vlaidaiton\n",
            "train loss 0.152, train accuracy 0.946, val loss 1.314, val accuracy 0.694, precision 0.701, recall 0.694, F1 0.690\n",
            "At epoch 177\n"
          ]
        },
        {
          "output_type": "stream",
          "name": "stderr",
          "text": [
            "100%|██████████| 154/154 [00:00<00:00, 432.57it/s]\n"
          ]
        },
        {
          "output_type": "stream",
          "name": "stdout",
          "text": [
            "current in vlaidaiton\n",
            "train loss 0.149, train accuracy 0.948, val loss 1.304, val accuracy 0.702, precision 0.710, recall 0.702, F1 0.697\n",
            "At epoch 178\n"
          ]
        },
        {
          "output_type": "stream",
          "name": "stderr",
          "text": [
            "100%|██████████| 154/154 [00:00<00:00, 430.22it/s]\n"
          ]
        },
        {
          "output_type": "stream",
          "name": "stdout",
          "text": [
            "current in vlaidaiton\n",
            "train loss 0.151, train accuracy 0.948, val loss 1.364, val accuracy 0.696, precision 0.703, recall 0.696, F1 0.689\n",
            "At epoch 179\n"
          ]
        },
        {
          "output_type": "stream",
          "name": "stderr",
          "text": [
            "100%|██████████| 154/154 [00:00<00:00, 430.74it/s]\n"
          ]
        },
        {
          "output_type": "stream",
          "name": "stdout",
          "text": [
            "current in vlaidaiton\n",
            "train loss 0.143, train accuracy 0.953, val loss 1.358, val accuracy 0.691, precision 0.699, recall 0.691, F1 0.685\n",
            "At epoch 180\n"
          ]
        },
        {
          "output_type": "stream",
          "name": "stderr",
          "text": [
            "100%|██████████| 154/154 [00:00<00:00, 433.92it/s]\n"
          ]
        },
        {
          "output_type": "stream",
          "name": "stdout",
          "text": [
            "current in vlaidaiton\n",
            "train loss 0.146, train accuracy 0.948, val loss 1.333, val accuracy 0.699, precision 0.706, recall 0.699, F1 0.694\n",
            "At epoch 181\n"
          ]
        },
        {
          "output_type": "stream",
          "name": "stderr",
          "text": [
            "100%|██████████| 154/154 [00:00<00:00, 436.65it/s]\n"
          ]
        },
        {
          "output_type": "stream",
          "name": "stdout",
          "text": [
            "current in vlaidaiton\n",
            "train loss 0.145, train accuracy 0.950, val loss 1.316, val accuracy 0.701, precision 0.708, recall 0.701, F1 0.694\n",
            "At epoch 182\n"
          ]
        },
        {
          "output_type": "stream",
          "name": "stderr",
          "text": [
            "100%|██████████| 154/154 [00:00<00:00, 423.83it/s]\n"
          ]
        },
        {
          "output_type": "stream",
          "name": "stdout",
          "text": [
            "current in vlaidaiton\n",
            "train loss 0.148, train accuracy 0.948, val loss 1.378, val accuracy 0.694, precision 0.704, recall 0.694, F1 0.687\n",
            "At epoch 183\n"
          ]
        },
        {
          "output_type": "stream",
          "name": "stderr",
          "text": [
            "100%|██████████| 154/154 [00:00<00:00, 437.46it/s]\n"
          ]
        },
        {
          "output_type": "stream",
          "name": "stdout",
          "text": [
            "current in vlaidaiton\n",
            "train loss 0.128, train accuracy 0.958, val loss 1.296, val accuracy 0.694, precision 0.695, recall 0.694, F1 0.690\n",
            "At epoch 184\n"
          ]
        },
        {
          "output_type": "stream",
          "name": "stderr",
          "text": [
            "100%|██████████| 154/154 [00:00<00:00, 429.36it/s]\n"
          ]
        },
        {
          "output_type": "stream",
          "name": "stdout",
          "text": [
            "current in vlaidaiton\n",
            "train loss 0.145, train accuracy 0.950, val loss 1.335, val accuracy 0.694, precision 0.702, recall 0.694, F1 0.689\n",
            "At epoch 185\n"
          ]
        },
        {
          "output_type": "stream",
          "name": "stderr",
          "text": [
            "100%|██████████| 154/154 [00:00<00:00, 435.43it/s]\n"
          ]
        },
        {
          "output_type": "stream",
          "name": "stdout",
          "text": [
            "current in vlaidaiton\n",
            "train loss 0.141, train accuracy 0.946, val loss 1.363, val accuracy 0.694, precision 0.698, recall 0.694, F1 0.688\n",
            "At epoch 186\n"
          ]
        },
        {
          "output_type": "stream",
          "name": "stderr",
          "text": [
            "100%|██████████| 154/154 [00:00<00:00, 434.18it/s]\n"
          ]
        },
        {
          "output_type": "stream",
          "name": "stdout",
          "text": [
            "current in vlaidaiton\n",
            "train loss 0.131, train accuracy 0.955, val loss 1.333, val accuracy 0.696, precision 0.702, recall 0.696, F1 0.690\n",
            "At epoch 187\n"
          ]
        },
        {
          "output_type": "stream",
          "name": "stderr",
          "text": [
            "100%|██████████| 154/154 [00:00<00:00, 428.27it/s]\n"
          ]
        },
        {
          "output_type": "stream",
          "name": "stdout",
          "text": [
            "current in vlaidaiton\n",
            "train loss 0.145, train accuracy 0.951, val loss 1.320, val accuracy 0.697, precision 0.700, recall 0.697, F1 0.691\n",
            "At epoch 188\n"
          ]
        },
        {
          "output_type": "stream",
          "name": "stderr",
          "text": [
            "100%|██████████| 154/154 [00:00<00:00, 431.80it/s]\n"
          ]
        },
        {
          "output_type": "stream",
          "name": "stdout",
          "text": [
            "current in vlaidaiton\n",
            "train loss 0.133, train accuracy 0.954, val loss 1.434, val accuracy 0.694, precision 0.711, recall 0.694, F1 0.686\n",
            "At epoch 189\n"
          ]
        },
        {
          "output_type": "stream",
          "name": "stderr",
          "text": [
            "100%|██████████| 154/154 [00:00<00:00, 427.31it/s]\n"
          ]
        },
        {
          "output_type": "stream",
          "name": "stdout",
          "text": [
            "current in vlaidaiton\n",
            "train loss 0.123, train accuracy 0.957, val loss 1.337, val accuracy 0.694, precision 0.697, recall 0.694, F1 0.689\n",
            "At epoch 190\n"
          ]
        },
        {
          "output_type": "stream",
          "name": "stderr",
          "text": [
            "100%|██████████| 154/154 [00:00<00:00, 436.59it/s]\n"
          ]
        },
        {
          "output_type": "stream",
          "name": "stdout",
          "text": [
            "current in vlaidaiton\n",
            "train loss 0.134, train accuracy 0.954, val loss 1.349, val accuracy 0.697, precision 0.700, recall 0.697, F1 0.691\n",
            "At epoch 191\n"
          ]
        },
        {
          "output_type": "stream",
          "name": "stderr",
          "text": [
            "100%|██████████| 154/154 [00:00<00:00, 435.59it/s]\n"
          ]
        },
        {
          "output_type": "stream",
          "name": "stdout",
          "text": [
            "current in vlaidaiton\n",
            "train loss 0.132, train accuracy 0.954, val loss 1.377, val accuracy 0.696, precision 0.701, recall 0.696, F1 0.688\n",
            "At epoch 192\n"
          ]
        },
        {
          "output_type": "stream",
          "name": "stderr",
          "text": [
            "100%|██████████| 154/154 [00:00<00:00, 420.62it/s]\n"
          ]
        },
        {
          "output_type": "stream",
          "name": "stdout",
          "text": [
            "current in vlaidaiton\n",
            "train loss 0.129, train accuracy 0.953, val loss 1.382, val accuracy 0.697, precision 0.702, recall 0.697, F1 0.690\n",
            "At epoch 193\n"
          ]
        },
        {
          "output_type": "stream",
          "name": "stderr",
          "text": [
            "100%|██████████| 154/154 [00:00<00:00, 433.16it/s]\n"
          ]
        },
        {
          "output_type": "stream",
          "name": "stdout",
          "text": [
            "current in vlaidaiton\n",
            "train loss 0.129, train accuracy 0.955, val loss 1.408, val accuracy 0.701, precision 0.707, recall 0.701, F1 0.693\n",
            "At epoch 194\n"
          ]
        },
        {
          "output_type": "stream",
          "name": "stderr",
          "text": [
            "100%|██████████| 154/154 [00:00<00:00, 436.85it/s]\n"
          ]
        },
        {
          "output_type": "stream",
          "name": "stdout",
          "text": [
            "current in vlaidaiton\n",
            "train loss 0.125, train accuracy 0.958, val loss 1.415, val accuracy 0.688, precision 0.697, recall 0.688, F1 0.680\n",
            "At epoch 195\n"
          ]
        },
        {
          "output_type": "stream",
          "name": "stderr",
          "text": [
            "100%|██████████| 154/154 [00:00<00:00, 438.06it/s]\n"
          ]
        },
        {
          "output_type": "stream",
          "name": "stdout",
          "text": [
            "current in vlaidaiton\n",
            "train loss 0.132, train accuracy 0.952, val loss 1.356, val accuracy 0.701, precision 0.710, recall 0.701, F1 0.695\n",
            "At epoch 196\n"
          ]
        },
        {
          "output_type": "stream",
          "name": "stderr",
          "text": [
            "100%|██████████| 154/154 [00:00<00:00, 429.87it/s]\n"
          ]
        },
        {
          "output_type": "stream",
          "name": "stdout",
          "text": [
            "current in vlaidaiton\n",
            "train loss 0.128, train accuracy 0.960, val loss 1.388, val accuracy 0.691, precision 0.701, recall 0.691, F1 0.683\n",
            "At epoch 197\n"
          ]
        },
        {
          "output_type": "stream",
          "name": "stderr",
          "text": [
            "100%|██████████| 154/154 [00:00<00:00, 427.49it/s]\n"
          ]
        },
        {
          "output_type": "stream",
          "name": "stdout",
          "text": [
            "current in vlaidaiton\n",
            "train loss 0.117, train accuracy 0.968, val loss 1.391, val accuracy 0.694, precision 0.698, recall 0.694, F1 0.688\n",
            "At epoch 198\n"
          ]
        },
        {
          "output_type": "stream",
          "name": "stderr",
          "text": [
            "100%|██████████| 154/154 [00:00<00:00, 435.88it/s]\n"
          ]
        },
        {
          "output_type": "stream",
          "name": "stdout",
          "text": [
            "current in vlaidaiton\n",
            "train loss 0.118, train accuracy 0.962, val loss 1.424, val accuracy 0.696, precision 0.705, recall 0.696, F1 0.689\n",
            "At epoch 199\n"
          ]
        },
        {
          "output_type": "stream",
          "name": "stderr",
          "text": [
            "100%|██████████| 154/154 [00:00<00:00, 434.56it/s]"
          ]
        },
        {
          "output_type": "stream",
          "name": "stdout",
          "text": [
            "current in vlaidaiton\n",
            "train loss 0.115, train accuracy 0.963, val loss 1.439, val accuracy 0.688, precision 0.696, recall 0.688, F1 0.680\n"
          ]
        },
        {
          "output_type": "stream",
          "name": "stderr",
          "text": [
            "\n"
          ]
        }
      ]
    },
    {
      "cell_type": "code",
      "source": [
        ""
      ],
      "metadata": {
        "id": "0ct780mwgoRg"
      },
      "execution_count": 35,
      "outputs": []
    },
    {
      "cell_type": "code",
      "source": [
        ""
      ],
      "metadata": {
        "id": "PiGEFGv8BXgC"
      },
      "execution_count": 35,
      "outputs": []
    },
    {
      "cell_type": "code",
      "source": [
        ""
      ],
      "metadata": {
        "id": "UnDCBOmvhGc0"
      },
      "execution_count": 35,
      "outputs": []
    }
  ]
}
