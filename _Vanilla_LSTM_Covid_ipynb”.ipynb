{
  "nbformat": 4,
  "nbformat_minor": 0,
  "metadata": {
    "colab": {
      "name": "\"Vanilla_LSTM_Covid.ipynb”",
      "provenance": [],
      "machine_shape": "hm",
      "collapsed_sections": [
        "dkOEB6jDYT2J",
        "OqdcZxTlZqz0"
      ]
    },
    "kernelspec": {
      "name": "python3",
      "display_name": "Python 3"
    },
    "language_info": {
      "name": "python"
    },
    "accelerator": "GPU"
  },
  "cells": [
    {
      "cell_type": "code",
      "execution_count": null,
      "metadata": {
        "colab": {
          "base_uri": "https://localhost:8080/"
        },
        "id": "rjWPn-GiVGPf",
        "outputId": "54bb616b-8045-42a0-9cbb-981d06be58eb"
      },
      "outputs": [
        {
          "output_type": "stream",
          "name": "stdout",
          "text": [
            "Drive already mounted at /content/drive; to attempt to forcibly remount, call drive.mount(\"/content/drive\", force_remount=True).\n"
          ]
        }
      ],
      "source": [
        "from google.colab import drive\n",
        "drive.mount('/content/drive')"
      ]
    },
    {
      "cell_type": "code",
      "source": [
        "import torch\n",
        "import torch.nn as nn\n",
        "import pandas as pd\n",
        "import numpy as np\n",
        "import logging\n",
        "import gzip\n",
        "import gensim \n",
        "import re\n",
        "import spacy\n",
        "import math\n",
        "from bs4 import BeautifulSoup\n",
        "from collections import Counter\n",
        "from torch.utils.data import Dataset, DataLoader\n",
        "import torch.nn.functional as F\n",
        "import string\n",
        "from torch.nn.utils.rnn import pack_padded_sequence, pad_packed_sequence, pad_sequence\n",
        "from sklearn.metrics import mean_squared_error\n",
        "from sklearn.metrics import accuracy_score, f1_score, precision_score, recall_score, classification_report, confusion_matrix\n",
        "from sklearn.model_selection import train_test_split\n",
        "from tqdm import tqdm\n",
        "import nltk\n",
        "from nltk.corpus import wordnet\n",
        "from nltk.corpus import stopwords\n",
        "nltk.download('wordnet')\n",
        "nltk.download('stopwords')"
      ],
      "metadata": {
        "id": "S7SfU_6lViKR",
        "colab": {
          "base_uri": "https://localhost:8080/"
        },
        "outputId": "5ad257bb-58c7-4887-f213-ad5db586a766"
      },
      "execution_count": null,
      "outputs": [
        {
          "output_type": "stream",
          "name": "stdout",
          "text": [
            "[nltk_data] Downloading package wordnet to /root/nltk_data...\n",
            "[nltk_data]   Package wordnet is already up-to-date!\n",
            "[nltk_data] Downloading package stopwords to /root/nltk_data...\n",
            "[nltk_data]   Package stopwords is already up-to-date!\n"
          ]
        },
        {
          "output_type": "execute_result",
          "data": {
            "text/plain": [
              "True"
            ]
          },
          "metadata": {},
          "execution_count": 59
        }
      ]
    },
    {
      "cell_type": "code",
      "source": [
        "print(torch.cuda.is_available())\n",
        "device = 'cuda:0' if torch.cuda.is_available() else 'cpu'\n",
        "device"
      ],
      "metadata": {
        "colab": {
          "base_uri": "https://localhost:8080/",
          "height": 53
        },
        "id": "rItWBp7RJEQq",
        "outputId": "22e62706-0914-49bd-927d-68070019603e"
      },
      "execution_count": null,
      "outputs": [
        {
          "output_type": "stream",
          "name": "stdout",
          "text": [
            "True\n"
          ]
        },
        {
          "output_type": "execute_result",
          "data": {
            "application/vnd.google.colaboratory.intrinsic+json": {
              "type": "string"
            },
            "text/plain": [
              "'cuda:0'"
            ]
          },
          "metadata": {},
          "execution_count": 60
        }
      ]
    },
    {
      "cell_type": "markdown",
      "source": [
        "# Preprocessing & Loading data"
      ],
      "metadata": {
        "id": "3KGKdTO5W7AH"
      }
    },
    {
      "cell_type": "markdown",
      "source": [
        "### Covid dataset"
      ],
      "metadata": {
        "id": "OyA2zPsboOln"
      }
    },
    {
      "cell_type": "code",
      "source": [
        "# Load dataset for clothing reviews\n",
        "covid_train = pd.read_csv(\"/content/drive/MyDrive/data /Corona_NLP_test.csv\", encoding=\"latin1\")\n",
        "covid_train = covid_train.dropna()\n",
        "covid_test = pd.read_csv(\"/content/drive/MyDrive/data /Corona_NLP_test.csv\")\n",
        "covid_test = covid_test.dropna()\n",
        "\n",
        "covid_trian_inds = list(range(0, covid_train.shape[0]))\n",
        "\n",
        "# cat both datasets for preprocessing\n",
        "frames = [covid_train, covid_test]\n",
        "covid = pd.concat(frames)\n",
        "print(covid_train.head())\n",
        "print(covid_test.shape)\n",
        "print(type(covid))"
      ],
      "metadata": {
        "colab": {
          "base_uri": "https://localhost:8080/"
        },
        "id": "imlvO0RAVl5k",
        "outputId": "af88ae90-101f-4157-ab15-a1ec4e37a742"
      },
      "execution_count": null,
      "outputs": [
        {
          "output_type": "stream",
          "name": "stdout",
          "text": [
            "   UserName  ...           Sentiment\n",
            "0         1  ...  Extremely Negative\n",
            "1         2  ...            Positive\n",
            "3         4  ...            Negative\n",
            "4         5  ...             Neutral\n",
            "5         6  ...             Neutral\n",
            "\n",
            "[5 rows x 6 columns]\n",
            "(2964, 6)\n",
            "<class 'pandas.core.frame.DataFrame'>\n"
          ]
        }
      ]
    },
    {
      "cell_type": "code",
      "source": [
        "covid.head()"
      ],
      "metadata": {
        "colab": {
          "base_uri": "https://localhost:8080/",
          "height": 206
        },
        "id": "-PhdeoWLWgj3",
        "outputId": "09df1b33-aeaa-4fcb-92b2-a98b1fb5015e"
      },
      "execution_count": null,
      "outputs": [
        {
          "output_type": "execute_result",
          "data": {
            "text/html": [
              "\n",
              "  <div id=\"df-ce8071c3-5fae-4226-8841-8b506436e7b5\">\n",
              "    <div class=\"colab-df-container\">\n",
              "      <div>\n",
              "<style scoped>\n",
              "    .dataframe tbody tr th:only-of-type {\n",
              "        vertical-align: middle;\n",
              "    }\n",
              "\n",
              "    .dataframe tbody tr th {\n",
              "        vertical-align: top;\n",
              "    }\n",
              "\n",
              "    .dataframe thead th {\n",
              "        text-align: right;\n",
              "    }\n",
              "</style>\n",
              "<table border=\"1\" class=\"dataframe\">\n",
              "  <thead>\n",
              "    <tr style=\"text-align: right;\">\n",
              "      <th></th>\n",
              "      <th>UserName</th>\n",
              "      <th>ScreenName</th>\n",
              "      <th>Location</th>\n",
              "      <th>TweetAt</th>\n",
              "      <th>OriginalTweet</th>\n",
              "      <th>Sentiment</th>\n",
              "    </tr>\n",
              "  </thead>\n",
              "  <tbody>\n",
              "    <tr>\n",
              "      <th>0</th>\n",
              "      <td>1</td>\n",
              "      <td>44953</td>\n",
              "      <td>NYC</td>\n",
              "      <td>02-03-2020</td>\n",
              "      <td>TRENDING: New Yorkers encounter empty supermar...</td>\n",
              "      <td>Extremely Negative</td>\n",
              "    </tr>\n",
              "    <tr>\n",
              "      <th>1</th>\n",
              "      <td>2</td>\n",
              "      <td>44954</td>\n",
              "      <td>Seattle, WA</td>\n",
              "      <td>02-03-2020</td>\n",
              "      <td>When I couldn't find hand sanitizer at Fred Me...</td>\n",
              "      <td>Positive</td>\n",
              "    </tr>\n",
              "    <tr>\n",
              "      <th>3</th>\n",
              "      <td>4</td>\n",
              "      <td>44956</td>\n",
              "      <td>Chicagoland</td>\n",
              "      <td>02-03-2020</td>\n",
              "      <td>#Panic buying hits #NewYork City as anxious sh...</td>\n",
              "      <td>Negative</td>\n",
              "    </tr>\n",
              "    <tr>\n",
              "      <th>4</th>\n",
              "      <td>5</td>\n",
              "      <td>44957</td>\n",
              "      <td>Melbourne, Victoria</td>\n",
              "      <td>03-03-2020</td>\n",
              "      <td>#toiletpaper #dunnypaper #coronavirus #coronav...</td>\n",
              "      <td>Neutral</td>\n",
              "    </tr>\n",
              "    <tr>\n",
              "      <th>5</th>\n",
              "      <td>6</td>\n",
              "      <td>44958</td>\n",
              "      <td>Los Angeles</td>\n",
              "      <td>03-03-2020</td>\n",
              "      <td>Do you remember the last time you paid $2.99 a...</td>\n",
              "      <td>Neutral</td>\n",
              "    </tr>\n",
              "  </tbody>\n",
              "</table>\n",
              "</div>\n",
              "      <button class=\"colab-df-convert\" onclick=\"convertToInteractive('df-ce8071c3-5fae-4226-8841-8b506436e7b5')\"\n",
              "              title=\"Convert this dataframe to an interactive table.\"\n",
              "              style=\"display:none;\">\n",
              "        \n",
              "  <svg xmlns=\"http://www.w3.org/2000/svg\" height=\"24px\"viewBox=\"0 0 24 24\"\n",
              "       width=\"24px\">\n",
              "    <path d=\"M0 0h24v24H0V0z\" fill=\"none\"/>\n",
              "    <path d=\"M18.56 5.44l.94 2.06.94-2.06 2.06-.94-2.06-.94-.94-2.06-.94 2.06-2.06.94zm-11 1L8.5 8.5l.94-2.06 2.06-.94-2.06-.94L8.5 2.5l-.94 2.06-2.06.94zm10 10l.94 2.06.94-2.06 2.06-.94-2.06-.94-.94-2.06-.94 2.06-2.06.94z\"/><path d=\"M17.41 7.96l-1.37-1.37c-.4-.4-.92-.59-1.43-.59-.52 0-1.04.2-1.43.59L10.3 9.45l-7.72 7.72c-.78.78-.78 2.05 0 2.83L4 21.41c.39.39.9.59 1.41.59.51 0 1.02-.2 1.41-.59l7.78-7.78 2.81-2.81c.8-.78.8-2.07 0-2.86zM5.41 20L4 18.59l7.72-7.72 1.47 1.35L5.41 20z\"/>\n",
              "  </svg>\n",
              "      </button>\n",
              "      \n",
              "  <style>\n",
              "    .colab-df-container {\n",
              "      display:flex;\n",
              "      flex-wrap:wrap;\n",
              "      gap: 12px;\n",
              "    }\n",
              "\n",
              "    .colab-df-convert {\n",
              "      background-color: #E8F0FE;\n",
              "      border: none;\n",
              "      border-radius: 50%;\n",
              "      cursor: pointer;\n",
              "      display: none;\n",
              "      fill: #1967D2;\n",
              "      height: 32px;\n",
              "      padding: 0 0 0 0;\n",
              "      width: 32px;\n",
              "    }\n",
              "\n",
              "    .colab-df-convert:hover {\n",
              "      background-color: #E2EBFA;\n",
              "      box-shadow: 0px 1px 2px rgba(60, 64, 67, 0.3), 0px 1px 3px 1px rgba(60, 64, 67, 0.15);\n",
              "      fill: #174EA6;\n",
              "    }\n",
              "\n",
              "    [theme=dark] .colab-df-convert {\n",
              "      background-color: #3B4455;\n",
              "      fill: #D2E3FC;\n",
              "    }\n",
              "\n",
              "    [theme=dark] .colab-df-convert:hover {\n",
              "      background-color: #434B5C;\n",
              "      box-shadow: 0px 1px 3px 1px rgba(0, 0, 0, 0.15);\n",
              "      filter: drop-shadow(0px 1px 2px rgba(0, 0, 0, 0.3));\n",
              "      fill: #FFFFFF;\n",
              "    }\n",
              "  </style>\n",
              "\n",
              "      <script>\n",
              "        const buttonEl =\n",
              "          document.querySelector('#df-ce8071c3-5fae-4226-8841-8b506436e7b5 button.colab-df-convert');\n",
              "        buttonEl.style.display =\n",
              "          google.colab.kernel.accessAllowed ? 'block' : 'none';\n",
              "\n",
              "        async function convertToInteractive(key) {\n",
              "          const element = document.querySelector('#df-ce8071c3-5fae-4226-8841-8b506436e7b5');\n",
              "          const dataTable =\n",
              "            await google.colab.kernel.invokeFunction('convertToInteractive',\n",
              "                                                     [key], {});\n",
              "          if (!dataTable) return;\n",
              "\n",
              "          const docLinkHtml = 'Like what you see? Visit the ' +\n",
              "            '<a target=\"_blank\" href=https://colab.research.google.com/notebooks/data_table.ipynb>data table notebook</a>'\n",
              "            + ' to learn more about interactive tables.';\n",
              "          element.innerHTML = '';\n",
              "          dataTable['output_type'] = 'display_data';\n",
              "          await google.colab.output.renderOutput(dataTable, element);\n",
              "          const docLink = document.createElement('div');\n",
              "          docLink.innerHTML = docLinkHtml;\n",
              "          element.appendChild(docLink);\n",
              "        }\n",
              "      </script>\n",
              "    </div>\n",
              "  </div>\n",
              "  "
            ],
            "text/plain": [
              "   UserName  ...           Sentiment\n",
              "0         1  ...  Extremely Negative\n",
              "1         2  ...            Positive\n",
              "3         4  ...            Negative\n",
              "4         5  ...             Neutral\n",
              "5         6  ...             Neutral\n",
              "\n",
              "[5 rows x 6 columns]"
            ]
          },
          "metadata": {},
          "execution_count": 62
        }
      ]
    },
    {
      "cell_type": "code",
      "source": [
        "# preprocess training and testing set\n",
        "\n",
        "covid = covid[['OriginalTweet', 'Sentiment']]\n",
        "covid.columns = ['tweet', 'sentiment']\n",
        "sentiment_dict = {'negative': 0, 'extremely negative':0, 'neutral':1, 'positive':2, 'extremely positive':2}\n",
        "error_line = []\n",
        "\n",
        "def encode_sentiment(x):\n",
        "    sent_encoded = sentiment_dict[x.lower()]\n",
        "    return sent_encoded\n",
        "\n",
        "covid['sentiment_encoded'] = covid['sentiment'].apply(lambda x: encode_sentiment(x))\n",
        "\n"
      ],
      "metadata": {
        "id": "RlxI_7QNtGiO"
      },
      "execution_count": null,
      "outputs": []
    },
    {
      "cell_type": "code",
      "source": [
        "covid.head()"
      ],
      "metadata": {
        "colab": {
          "base_uri": "https://localhost:8080/",
          "height": 206
        },
        "id": "iqXDG2q9wLS8",
        "outputId": "29a6a22e-83c6-4783-b949-4b6ef93bab0f"
      },
      "execution_count": null,
      "outputs": [
        {
          "output_type": "execute_result",
          "data": {
            "text/html": [
              "\n",
              "  <div id=\"df-46de37b5-db7c-46c4-8f7d-058fb1f9c82f\">\n",
              "    <div class=\"colab-df-container\">\n",
              "      <div>\n",
              "<style scoped>\n",
              "    .dataframe tbody tr th:only-of-type {\n",
              "        vertical-align: middle;\n",
              "    }\n",
              "\n",
              "    .dataframe tbody tr th {\n",
              "        vertical-align: top;\n",
              "    }\n",
              "\n",
              "    .dataframe thead th {\n",
              "        text-align: right;\n",
              "    }\n",
              "</style>\n",
              "<table border=\"1\" class=\"dataframe\">\n",
              "  <thead>\n",
              "    <tr style=\"text-align: right;\">\n",
              "      <th></th>\n",
              "      <th>tweet</th>\n",
              "      <th>sentiment</th>\n",
              "      <th>sentiment_encoded</th>\n",
              "    </tr>\n",
              "  </thead>\n",
              "  <tbody>\n",
              "    <tr>\n",
              "      <th>0</th>\n",
              "      <td>TRENDING: New Yorkers encounter empty supermar...</td>\n",
              "      <td>Extremely Negative</td>\n",
              "      <td>0</td>\n",
              "    </tr>\n",
              "    <tr>\n",
              "      <th>1</th>\n",
              "      <td>When I couldn't find hand sanitizer at Fred Me...</td>\n",
              "      <td>Positive</td>\n",
              "      <td>2</td>\n",
              "    </tr>\n",
              "    <tr>\n",
              "      <th>3</th>\n",
              "      <td>#Panic buying hits #NewYork City as anxious sh...</td>\n",
              "      <td>Negative</td>\n",
              "      <td>0</td>\n",
              "    </tr>\n",
              "    <tr>\n",
              "      <th>4</th>\n",
              "      <td>#toiletpaper #dunnypaper #coronavirus #coronav...</td>\n",
              "      <td>Neutral</td>\n",
              "      <td>1</td>\n",
              "    </tr>\n",
              "    <tr>\n",
              "      <th>5</th>\n",
              "      <td>Do you remember the last time you paid $2.99 a...</td>\n",
              "      <td>Neutral</td>\n",
              "      <td>1</td>\n",
              "    </tr>\n",
              "  </tbody>\n",
              "</table>\n",
              "</div>\n",
              "      <button class=\"colab-df-convert\" onclick=\"convertToInteractive('df-46de37b5-db7c-46c4-8f7d-058fb1f9c82f')\"\n",
              "              title=\"Convert this dataframe to an interactive table.\"\n",
              "              style=\"display:none;\">\n",
              "        \n",
              "  <svg xmlns=\"http://www.w3.org/2000/svg\" height=\"24px\"viewBox=\"0 0 24 24\"\n",
              "       width=\"24px\">\n",
              "    <path d=\"M0 0h24v24H0V0z\" fill=\"none\"/>\n",
              "    <path d=\"M18.56 5.44l.94 2.06.94-2.06 2.06-.94-2.06-.94-.94-2.06-.94 2.06-2.06.94zm-11 1L8.5 8.5l.94-2.06 2.06-.94-2.06-.94L8.5 2.5l-.94 2.06-2.06.94zm10 10l.94 2.06.94-2.06 2.06-.94-2.06-.94-.94-2.06-.94 2.06-2.06.94z\"/><path d=\"M17.41 7.96l-1.37-1.37c-.4-.4-.92-.59-1.43-.59-.52 0-1.04.2-1.43.59L10.3 9.45l-7.72 7.72c-.78.78-.78 2.05 0 2.83L4 21.41c.39.39.9.59 1.41.59.51 0 1.02-.2 1.41-.59l7.78-7.78 2.81-2.81c.8-.78.8-2.07 0-2.86zM5.41 20L4 18.59l7.72-7.72 1.47 1.35L5.41 20z\"/>\n",
              "  </svg>\n",
              "      </button>\n",
              "      \n",
              "  <style>\n",
              "    .colab-df-container {\n",
              "      display:flex;\n",
              "      flex-wrap:wrap;\n",
              "      gap: 12px;\n",
              "    }\n",
              "\n",
              "    .colab-df-convert {\n",
              "      background-color: #E8F0FE;\n",
              "      border: none;\n",
              "      border-radius: 50%;\n",
              "      cursor: pointer;\n",
              "      display: none;\n",
              "      fill: #1967D2;\n",
              "      height: 32px;\n",
              "      padding: 0 0 0 0;\n",
              "      width: 32px;\n",
              "    }\n",
              "\n",
              "    .colab-df-convert:hover {\n",
              "      background-color: #E2EBFA;\n",
              "      box-shadow: 0px 1px 2px rgba(60, 64, 67, 0.3), 0px 1px 3px 1px rgba(60, 64, 67, 0.15);\n",
              "      fill: #174EA6;\n",
              "    }\n",
              "\n",
              "    [theme=dark] .colab-df-convert {\n",
              "      background-color: #3B4455;\n",
              "      fill: #D2E3FC;\n",
              "    }\n",
              "\n",
              "    [theme=dark] .colab-df-convert:hover {\n",
              "      background-color: #434B5C;\n",
              "      box-shadow: 0px 1px 3px 1px rgba(0, 0, 0, 0.15);\n",
              "      filter: drop-shadow(0px 1px 2px rgba(0, 0, 0, 0.3));\n",
              "      fill: #FFFFFF;\n",
              "    }\n",
              "  </style>\n",
              "\n",
              "      <script>\n",
              "        const buttonEl =\n",
              "          document.querySelector('#df-46de37b5-db7c-46c4-8f7d-058fb1f9c82f button.colab-df-convert');\n",
              "        buttonEl.style.display =\n",
              "          google.colab.kernel.accessAllowed ? 'block' : 'none';\n",
              "\n",
              "        async function convertToInteractive(key) {\n",
              "          const element = document.querySelector('#df-46de37b5-db7c-46c4-8f7d-058fb1f9c82f');\n",
              "          const dataTable =\n",
              "            await google.colab.kernel.invokeFunction('convertToInteractive',\n",
              "                                                     [key], {});\n",
              "          if (!dataTable) return;\n",
              "\n",
              "          const docLinkHtml = 'Like what you see? Visit the ' +\n",
              "            '<a target=\"_blank\" href=https://colab.research.google.com/notebooks/data_table.ipynb>data table notebook</a>'\n",
              "            + ' to learn more about interactive tables.';\n",
              "          element.innerHTML = '';\n",
              "          dataTable['output_type'] = 'display_data';\n",
              "          await google.colab.output.renderOutput(dataTable, element);\n",
              "          const docLink = document.createElement('div');\n",
              "          docLink.innerHTML = docLinkHtml;\n",
              "          element.appendChild(docLink);\n",
              "        }\n",
              "      </script>\n",
              "    </div>\n",
              "  </div>\n",
              "  "
            ],
            "text/plain": [
              "                                               tweet  ... sentiment_encoded\n",
              "0  TRENDING: New Yorkers encounter empty supermar...  ...                 0\n",
              "1  When I couldn't find hand sanitizer at Fred Me...  ...                 2\n",
              "3  #Panic buying hits #NewYork City as anxious sh...  ...                 0\n",
              "4  #toiletpaper #dunnypaper #coronavirus #coronav...  ...                 1\n",
              "5  Do you remember the last time you paid $2.99 a...  ...                 1\n",
              "\n",
              "[5 rows x 3 columns]"
            ]
          },
          "metadata": {},
          "execution_count": 64
        }
      ]
    },
    {
      "cell_type": "code",
      "source": [
        "print(len(covid.sentiment_encoded))\n",
        "print(covid.shape[0])"
      ],
      "metadata": {
        "colab": {
          "base_uri": "https://localhost:8080/"
        },
        "id": "P3euZ408syAa",
        "outputId": "8927020b-00ee-41bb-9402-8b043e9dbbd7"
      },
      "execution_count": null,
      "outputs": [
        {
          "output_type": "stream",
          "name": "stdout",
          "text": [
            "5928\n",
            "5928\n"
          ]
        }
      ]
    },
    {
      "cell_type": "markdown",
      "source": [
        "#### Tokenize each sentence"
      ],
      "metadata": {
        "id": "nln320q7XrNd"
      }
    },
    {
      "cell_type": "code",
      "source": [
        "# read in data\n",
        "def clear_data(df):\n",
        "    stopword = set(stopwords.words('english'))\n",
        "\n",
        "    # tokenize and post process, remove unnecessary words appearing in tweets(like urls and usernames)\n",
        "    tweet_words = []\n",
        "    str_lis = []\n",
        "    for t in df['tweet']:\n",
        "        t = t.lower()\n",
        "        tokens = tokenize(t)\n",
        "        tmp = []\n",
        "        for token in tokens:\n",
        "            # if token in stopword:\n",
        "            #     continue\n",
        "            if not wordnet.synsets(token):\n",
        "                continue\n",
        "            # repalce usernames with @USER\n",
        "            user = re.sub(r'@[\\w\\W]+', '@USER', token)\n",
        "            # replace with URL\n",
        "            url = re.sub(r'https[\\w\\W]+','URL',user)\n",
        "            if url in stopword:\n",
        "                continue\n",
        "            tmp.append(url)\n",
        "        tweet_words.append(tmp)\n",
        "        st = ' '.join([str(item) for item in tmp])\n",
        "        str_lis.append(st)\n",
        "    df['tweet_words'] = tweet_words\n",
        "    df['tweets'] = str_lis\n",
        "\n",
        "    # remove duplicates\n",
        "    df.drop_duplicates(subset=['tweets'], inplace=True)\n",
        "\n",
        "    df.drop(columns='tweet_words', inplace=True)\n",
        "    print(len(df))\n",
        "    df.to_csv(\"covid.csv\", index=False)\n",
        "    return df\n",
        "\n",
        "def tokenize(text):\n",
        "    words = []\n",
        "    # print(text.split())\n",
        "    for token in text.split():\n",
        "        # find wouldn't kind word\n",
        "        words.extend(re.findall(r\"\\w+-\\w+|https.+|\\.+|\\d+[\\.,]\\d+|[@#]\\w+|[+-]\\d+|(?:(?!n[’'])\\w)+|\\w?[’']\\w+|[^\\s\\w]\", token))\n",
        "        # words.extend(re.findall(r\"(?:(?!.')\\w)+|\\w?'\\w+|[^\\s\\w]\", token))\n",
        "    return words"
      ],
      "metadata": {
        "id": "gRdLqZHkHA3S"
      },
      "execution_count": null,
      "outputs": []
    },
    {
      "cell_type": "code",
      "source": [
        "covid = clear_data(covid)"
      ],
      "metadata": {
        "colab": {
          "base_uri": "https://localhost:8080/"
        },
        "id": "gT9CkW7TH_u5",
        "outputId": "2ad7311f-3b57-43dd-b837-68999eca36af"
      },
      "execution_count": null,
      "outputs": [
        {
          "output_type": "stream",
          "name": "stdout",
          "text": [
            "3086\n"
          ]
        }
      ]
    },
    {
      "cell_type": "code",
      "source": [
        "covid.head()"
      ],
      "metadata": {
        "colab": {
          "base_uri": "https://localhost:8080/",
          "height": 206
        },
        "id": "Tk12DfsmMj0d",
        "outputId": "33607d29-9d50-4328-dd3d-7c3b1a20e4e4"
      },
      "execution_count": null,
      "outputs": [
        {
          "output_type": "execute_result",
          "data": {
            "text/html": [
              "\n",
              "  <div id=\"df-1fe31682-be69-492d-8871-d06285d798f6\">\n",
              "    <div class=\"colab-df-container\">\n",
              "      <div>\n",
              "<style scoped>\n",
              "    .dataframe tbody tr th:only-of-type {\n",
              "        vertical-align: middle;\n",
              "    }\n",
              "\n",
              "    .dataframe tbody tr th {\n",
              "        vertical-align: top;\n",
              "    }\n",
              "\n",
              "    .dataframe thead th {\n",
              "        text-align: right;\n",
              "    }\n",
              "</style>\n",
              "<table border=\"1\" class=\"dataframe\">\n",
              "  <thead>\n",
              "    <tr style=\"text-align: right;\">\n",
              "      <th></th>\n",
              "      <th>tweet</th>\n",
              "      <th>sentiment</th>\n",
              "      <th>sentiment_encoded</th>\n",
              "      <th>tweets</th>\n",
              "    </tr>\n",
              "  </thead>\n",
              "  <tbody>\n",
              "    <tr>\n",
              "      <th>0</th>\n",
              "      <td>TRENDING: New Yorkers encounter empty supermar...</td>\n",
              "      <td>Extremely Negative</td>\n",
              "      <td>0</td>\n",
              "      <td>trending new encounter empty supermarket shelv...</td>\n",
              "    </tr>\n",
              "    <tr>\n",
              "      <th>1</th>\n",
              "      <td>When I couldn't find hand sanitizer at Fred Me...</td>\n",
              "      <td>Positive</td>\n",
              "      <td>2</td>\n",
              "      <td>find hand turned 2 pack check concerns driving...</td>\n",
              "    </tr>\n",
              "    <tr>\n",
              "      <th>3</th>\n",
              "      <td>#Panic buying hits #NewYork City as anxious sh...</td>\n",
              "      <td>Negative</td>\n",
              "      <td>0</td>\n",
              "      <td>buying hits city anxious shoppers stock food a...</td>\n",
              "    </tr>\n",
              "    <tr>\n",
              "      <th>4</th>\n",
              "      <td>#toiletpaper #dunnypaper #coronavirus #coronav...</td>\n",
              "      <td>Neutral</td>\n",
              "      <td>1</td>\n",
              "      <td>one week buying baby milk powder next buying t...</td>\n",
              "    </tr>\n",
              "    <tr>\n",
              "      <th>5</th>\n",
              "      <td>Do you remember the last time you paid $2.99 a...</td>\n",
              "      <td>Neutral</td>\n",
              "      <td>1</td>\n",
              "      <td>remember last time paid gallon regular gas pri...</td>\n",
              "    </tr>\n",
              "  </tbody>\n",
              "</table>\n",
              "</div>\n",
              "      <button class=\"colab-df-convert\" onclick=\"convertToInteractive('df-1fe31682-be69-492d-8871-d06285d798f6')\"\n",
              "              title=\"Convert this dataframe to an interactive table.\"\n",
              "              style=\"display:none;\">\n",
              "        \n",
              "  <svg xmlns=\"http://www.w3.org/2000/svg\" height=\"24px\"viewBox=\"0 0 24 24\"\n",
              "       width=\"24px\">\n",
              "    <path d=\"M0 0h24v24H0V0z\" fill=\"none\"/>\n",
              "    <path d=\"M18.56 5.44l.94 2.06.94-2.06 2.06-.94-2.06-.94-.94-2.06-.94 2.06-2.06.94zm-11 1L8.5 8.5l.94-2.06 2.06-.94-2.06-.94L8.5 2.5l-.94 2.06-2.06.94zm10 10l.94 2.06.94-2.06 2.06-.94-2.06-.94-.94-2.06-.94 2.06-2.06.94z\"/><path d=\"M17.41 7.96l-1.37-1.37c-.4-.4-.92-.59-1.43-.59-.52 0-1.04.2-1.43.59L10.3 9.45l-7.72 7.72c-.78.78-.78 2.05 0 2.83L4 21.41c.39.39.9.59 1.41.59.51 0 1.02-.2 1.41-.59l7.78-7.78 2.81-2.81c.8-.78.8-2.07 0-2.86zM5.41 20L4 18.59l7.72-7.72 1.47 1.35L5.41 20z\"/>\n",
              "  </svg>\n",
              "      </button>\n",
              "      \n",
              "  <style>\n",
              "    .colab-df-container {\n",
              "      display:flex;\n",
              "      flex-wrap:wrap;\n",
              "      gap: 12px;\n",
              "    }\n",
              "\n",
              "    .colab-df-convert {\n",
              "      background-color: #E8F0FE;\n",
              "      border: none;\n",
              "      border-radius: 50%;\n",
              "      cursor: pointer;\n",
              "      display: none;\n",
              "      fill: #1967D2;\n",
              "      height: 32px;\n",
              "      padding: 0 0 0 0;\n",
              "      width: 32px;\n",
              "    }\n",
              "\n",
              "    .colab-df-convert:hover {\n",
              "      background-color: #E2EBFA;\n",
              "      box-shadow: 0px 1px 2px rgba(60, 64, 67, 0.3), 0px 1px 3px 1px rgba(60, 64, 67, 0.15);\n",
              "      fill: #174EA6;\n",
              "    }\n",
              "\n",
              "    [theme=dark] .colab-df-convert {\n",
              "      background-color: #3B4455;\n",
              "      fill: #D2E3FC;\n",
              "    }\n",
              "\n",
              "    [theme=dark] .colab-df-convert:hover {\n",
              "      background-color: #434B5C;\n",
              "      box-shadow: 0px 1px 3px 1px rgba(0, 0, 0, 0.15);\n",
              "      filter: drop-shadow(0px 1px 2px rgba(0, 0, 0, 0.3));\n",
              "      fill: #FFFFFF;\n",
              "    }\n",
              "  </style>\n",
              "\n",
              "      <script>\n",
              "        const buttonEl =\n",
              "          document.querySelector('#df-1fe31682-be69-492d-8871-d06285d798f6 button.colab-df-convert');\n",
              "        buttonEl.style.display =\n",
              "          google.colab.kernel.accessAllowed ? 'block' : 'none';\n",
              "\n",
              "        async function convertToInteractive(key) {\n",
              "          const element = document.querySelector('#df-1fe31682-be69-492d-8871-d06285d798f6');\n",
              "          const dataTable =\n",
              "            await google.colab.kernel.invokeFunction('convertToInteractive',\n",
              "                                                     [key], {});\n",
              "          if (!dataTable) return;\n",
              "\n",
              "          const docLinkHtml = 'Like what you see? Visit the ' +\n",
              "            '<a target=\"_blank\" href=https://colab.research.google.com/notebooks/data_table.ipynb>data table notebook</a>'\n",
              "            + ' to learn more about interactive tables.';\n",
              "          element.innerHTML = '';\n",
              "          dataTable['output_type'] = 'display_data';\n",
              "          await google.colab.output.renderOutput(dataTable, element);\n",
              "          const docLink = document.createElement('div');\n",
              "          docLink.innerHTML = docLinkHtml;\n",
              "          element.appendChild(docLink);\n",
              "        }\n",
              "      </script>\n",
              "    </div>\n",
              "  </div>\n",
              "  "
            ],
            "text/plain": [
              "                                               tweet  ...                                             tweets\n",
              "0  TRENDING: New Yorkers encounter empty supermar...  ...  trending new encounter empty supermarket shelv...\n",
              "1  When I couldn't find hand sanitizer at Fred Me...  ...  find hand turned 2 pack check concerns driving...\n",
              "3  #Panic buying hits #NewYork City as anxious sh...  ...  buying hits city anxious shoppers stock food a...\n",
              "4  #toiletpaper #dunnypaper #coronavirus #coronav...  ...  one week buying baby milk powder next buying t...\n",
              "5  Do you remember the last time you paid $2.99 a...  ...  remember last time paid gallon regular gas pri...\n",
              "\n",
              "[5 rows x 4 columns]"
            ]
          },
          "metadata": {},
          "execution_count": 68
        }
      ]
    },
    {
      "cell_type": "markdown",
      "source": [
        "#### Encode and truncate sentence"
      ],
      "metadata": {
        "id": "jJlI6cYBYXbw"
      }
    },
    {
      "cell_type": "code",
      "source": [
        "# tokenize the tweets into list\n",
        "def encode_tweets(x):\n",
        "    tweet_list = x.split()\n",
        "    return tweet_list\n",
        "\n",
        "covid['tweets_tokenized'] = covid['tweets'].apply(lambda x: encode_tweets(x))\n",
        "covid.reset_index(drop=True, inplace=True)\n",
        "# drop rows wth empty tokenized tweet\n",
        "for i, row in covid.iterrows():\n",
        "    if len(row.tweets_tokenized) < 2:\n",
        "        covid.drop(i, inplace = True)"
      ],
      "metadata": {
        "id": "WN-PNmV5ZaWD"
      },
      "execution_count": null,
      "outputs": []
    },
    {
      "cell_type": "code",
      "source": [
        "covid.head(30)"
      ],
      "metadata": {
        "colab": {
          "base_uri": "https://localhost:8080/",
          "height": 1000
        },
        "id": "mS6oy6iytLuL",
        "outputId": "40475724-68d6-4376-c266-ba2390e5867f"
      },
      "execution_count": null,
      "outputs": [
        {
          "output_type": "execute_result",
          "data": {
            "text/html": [
              "\n",
              "  <div id=\"df-feb67442-29ea-4936-89f3-5f072a664537\">\n",
              "    <div class=\"colab-df-container\">\n",
              "      <div>\n",
              "<style scoped>\n",
              "    .dataframe tbody tr th:only-of-type {\n",
              "        vertical-align: middle;\n",
              "    }\n",
              "\n",
              "    .dataframe tbody tr th {\n",
              "        vertical-align: top;\n",
              "    }\n",
              "\n",
              "    .dataframe thead th {\n",
              "        text-align: right;\n",
              "    }\n",
              "</style>\n",
              "<table border=\"1\" class=\"dataframe\">\n",
              "  <thead>\n",
              "    <tr style=\"text-align: right;\">\n",
              "      <th></th>\n",
              "      <th>tweet</th>\n",
              "      <th>sentiment</th>\n",
              "      <th>sentiment_encoded</th>\n",
              "      <th>tweets</th>\n",
              "      <th>tweets_tokenized</th>\n",
              "    </tr>\n",
              "  </thead>\n",
              "  <tbody>\n",
              "    <tr>\n",
              "      <th>0</th>\n",
              "      <td>TRENDING: New Yorkers encounter empty supermar...</td>\n",
              "      <td>Extremely Negative</td>\n",
              "      <td>0</td>\n",
              "      <td>trending new encounter empty supermarket shelv...</td>\n",
              "      <td>[trending, new, encounter, empty, supermarket,...</td>\n",
              "    </tr>\n",
              "    <tr>\n",
              "      <th>1</th>\n",
              "      <td>When I couldn't find hand sanitizer at Fred Me...</td>\n",
              "      <td>Positive</td>\n",
              "      <td>2</td>\n",
              "      <td>find hand turned 2 pack check concerns driving...</td>\n",
              "      <td>[find, hand, turned, 2, pack, check, concerns,...</td>\n",
              "    </tr>\n",
              "    <tr>\n",
              "      <th>2</th>\n",
              "      <td>#Panic buying hits #NewYork City as anxious sh...</td>\n",
              "      <td>Negative</td>\n",
              "      <td>0</td>\n",
              "      <td>buying hits city anxious shoppers stock food a...</td>\n",
              "      <td>[buying, hits, city, anxious, shoppers, stock,...</td>\n",
              "    </tr>\n",
              "    <tr>\n",
              "      <th>3</th>\n",
              "      <td>#toiletpaper #dunnypaper #coronavirus #coronav...</td>\n",
              "      <td>Neutral</td>\n",
              "      <td>1</td>\n",
              "      <td>one week buying baby milk powder next buying t...</td>\n",
              "      <td>[one, week, buying, baby, milk, powder, next, ...</td>\n",
              "    </tr>\n",
              "    <tr>\n",
              "      <th>4</th>\n",
              "      <td>Do you remember the last time you paid $2.99 a...</td>\n",
              "      <td>Neutral</td>\n",
              "      <td>1</td>\n",
              "      <td>remember last time paid gallon regular gas pri...</td>\n",
              "      <td>[remember, last, time, paid, gallon, regular, ...</td>\n",
              "    </tr>\n",
              "    <tr>\n",
              "      <th>5</th>\n",
              "      <td>@DrTedros \"We canÂt stop #COVID19 without pro...</td>\n",
              "      <td>Neutral</td>\n",
              "      <td>1</td>\n",
              "      <td>stop protecting prices surgical masks increase...</td>\n",
              "      <td>[stop, protecting, prices, surgical, masks, in...</td>\n",
              "    </tr>\n",
              "    <tr>\n",
              "      <th>6</th>\n",
              "      <td>Anyone been in a supermarket over the last few...</td>\n",
              "      <td>Extremely Positive</td>\n",
              "      <td>2</td>\n",
              "      <td>supermarket last days went normal shop last ni...</td>\n",
              "      <td>[supermarket, last, days, went, normal, shop, ...</td>\n",
              "    </tr>\n",
              "    <tr>\n",
              "      <th>7</th>\n",
              "      <td>Best quality couches at unbelievably low price...</td>\n",
              "      <td>Positive</td>\n",
              "      <td>2</td>\n",
              "      <td>best quality couches unbelievably low prices a...</td>\n",
              "      <td>[best, quality, couches, unbelievably, low, pr...</td>\n",
              "    </tr>\n",
              "    <tr>\n",
              "      <th>8</th>\n",
              "      <td>Beware of counterfeits trying to sell fake mas...</td>\n",
              "      <td>Extremely Negative</td>\n",
              "      <td>0</td>\n",
              "      <td>beware counterfeits trying sell fake masks che...</td>\n",
              "      <td>[beware, counterfeits, trying, sell, fake, mas...</td>\n",
              "    </tr>\n",
              "    <tr>\n",
              "      <th>9</th>\n",
              "      <td>Panic food buying in Germany due to #coronavir...</td>\n",
              "      <td>Extremely Negative</td>\n",
              "      <td>0</td>\n",
              "      <td>panic food buying germany due begun left behin...</td>\n",
              "      <td>[panic, food, buying, germany, due, begun, lef...</td>\n",
              "    </tr>\n",
              "    <tr>\n",
              "      <th>10</th>\n",
              "      <td>While we were busy watching election returns a...</td>\n",
              "      <td>Positive</td>\n",
              "      <td>2</td>\n",
              "      <td>busy watching election returns bracing outbrea...</td>\n",
              "      <td>[busy, watching, election, returns, bracing, o...</td>\n",
              "    </tr>\n",
              "    <tr>\n",
              "      <th>11</th>\n",
              "      <td>#AirSewa \\r\\r\\n\\r\\r\\n@flyspicejet is not provi...</td>\n",
              "      <td>Extremely Negative</td>\n",
              "      <td>0</td>\n",
              "      <td>providing customers free seats passengers forc...</td>\n",
              "      <td>[providing, customers, free, seats, passengers...</td>\n",
              "    </tr>\n",
              "    <tr>\n",
              "      <th>12</th>\n",
              "      <td>What Precautionary measures have you all taken...</td>\n",
              "      <td>Extremely Positive</td>\n",
              "      <td>2</td>\n",
              "      <td>precautionary measures taken respective restau...</td>\n",
              "      <td>[precautionary, measures, taken, respective, r...</td>\n",
              "    </tr>\n",
              "    <tr>\n",
              "      <th>13</th>\n",
              "      <td>When youÂre stockpiling food &amp;amp; other supp...</td>\n",
              "      <td>Neutral</td>\n",
              "      <td>1</td>\n",
              "      <td>stockpiling food amp supplies buy extra local ...</td>\n",
              "      <td>[stockpiling, food, amp, supplies, buy, extra,...</td>\n",
              "    </tr>\n",
              "    <tr>\n",
              "      <th>14</th>\n",
              "      <td>Studies show the #coronavirus like #COVID19 ca...</td>\n",
              "      <td>Extremely Positive</td>\n",
              "      <td>2</td>\n",
              "      <td>studies show like live nine days hard surfaces...</td>\n",
              "      <td>[studies, show, like, live, nine, days, hard, ...</td>\n",
              "    </tr>\n",
              "    <tr>\n",
              "      <th>15</th>\n",
              "      <td>#CoronaVirus #COVID_19 People are starting to ...</td>\n",
              "      <td>Negative</td>\n",
              "      <td>0</td>\n",
              "      <td>people starting become frightened many shelves...</td>\n",
              "      <td>[people, starting, become, frightened, many, s...</td>\n",
              "    </tr>\n",
              "    <tr>\n",
              "      <th>16</th>\n",
              "      <td>For those of you that think credit/debit is ju...</td>\n",
              "      <td>Extremely Positive</td>\n",
              "      <td>2</td>\n",
              "      <td>think credit debit good comes combating keep m...</td>\n",
              "      <td>[think, credit, debit, good, comes, combating,...</td>\n",
              "    </tr>\n",
              "    <tr>\n",
              "      <th>17</th>\n",
              "      <td>Control over stocks and gold is lost...gold co...</td>\n",
              "      <td>Extremely Positive</td>\n",
              "      <td>2</td>\n",
              "      <td>control stocks gold lost gold coming back nice...</td>\n",
              "      <td>[control, stocks, gold, lost, gold, coming, ba...</td>\n",
              "    </tr>\n",
              "    <tr>\n",
              "      <th>18</th>\n",
              "      <td>Sellers are cashing on your panic to sell face...</td>\n",
              "      <td>Extremely Positive</td>\n",
              "      <td>2</td>\n",
              "      <td>sellers cashing panic sell super inflated pric...</td>\n",
              "      <td>[sellers, cashing, panic, sell, super, inflate...</td>\n",
              "    </tr>\n",
              "    <tr>\n",
              "      <th>19</th>\n",
              "      <td>Canada'sÂ oilpatch is bracing for the impact o...</td>\n",
              "      <td>Extremely Negative</td>\n",
              "      <td>0</td>\n",
              "      <td>canada bracing impact plunging crude prices op...</td>\n",
              "      <td>[canada, bracing, impact, plunging, crude, pri...</td>\n",
              "    </tr>\n",
              "    <tr>\n",
              "      <th>20</th>\n",
              "      <td>Alright yÂall I hope our Melanin prevails but...</td>\n",
              "      <td>Positive</td>\n",
              "      <td>2</td>\n",
              "      <td>alright hope melanin prevails case took precau...</td>\n",
              "      <td>[alright, hope, melanin, prevails, case, took,...</td>\n",
              "    </tr>\n",
              "    <tr>\n",
              "      <th>21</th>\n",
              "      <td>When your usual grocery shopping @woolworths t...</td>\n",
              "      <td>Negative</td>\n",
              "      <td>0</td>\n",
              "      <td>usual grocery shopping turns toilet paper figh...</td>\n",
              "      <td>[usual, grocery, shopping, turns, toilet, pape...</td>\n",
              "    </tr>\n",
              "    <tr>\n",
              "      <th>22</th>\n",
              "      <td>#Coronavirus is \"an exposure of all the holes ...</td>\n",
              "      <td>Positive</td>\n",
              "      <td>2</td>\n",
              "      <td>exposure holes social safety net says governme...</td>\n",
              "      <td>[exposure, holes, social, safety, net, says, g...</td>\n",
              "    </tr>\n",
              "    <tr>\n",
              "      <th>23</th>\n",
              "      <td>Two important phone numbers NYers should know....</td>\n",
              "      <td>Negative</td>\n",
              "      <td>0</td>\n",
              "      <td>two important phone numbers know doctor insura...</td>\n",
              "      <td>[two, important, phone, numbers, know, doctor,...</td>\n",
              "    </tr>\n",
              "    <tr>\n",
              "      <th>24</th>\n",
              "      <td>Tip for all Pro Wrestlers to help combat the #...</td>\n",
              "      <td>Extremely Positive</td>\n",
              "      <td>2</td>\n",
              "      <td>tip pro wrestlers help combat like bring hand ...</td>\n",
              "      <td>[tip, pro, wrestlers, help, combat, like, brin...</td>\n",
              "    </tr>\n",
              "    <tr>\n",
              "      <th>25</th>\n",
              "      <td>Is this effective?\\r\\r\\nIs it necessary?\\r\\r\\n...</td>\n",
              "      <td>Extremely Negative</td>\n",
              "      <td>0</td>\n",
              "      <td>effective necessary optics scare tactics ameri...</td>\n",
              "      <td>[effective, necessary, optics, scare, tactics,...</td>\n",
              "    </tr>\n",
              "    <tr>\n",
              "      <th>26</th>\n",
              "      <td>IMHO Russia's rug pull on oil prices is design...</td>\n",
              "      <td>Extremely Negative</td>\n",
              "      <td>0</td>\n",
              "      <td>russia rug pull oil prices designed end dollar...</td>\n",
              "      <td>[russia, rug, pull, oil, prices, designed, end...</td>\n",
              "    </tr>\n",
              "    <tr>\n",
              "      <th>27</th>\n",
              "      <td>So not due to #Brexit at all then &amp;gt;&amp;gt; Sup...</td>\n",
              "      <td>Neutral</td>\n",
              "      <td>1</td>\n",
              "      <td>due supermarkets begin wave fuelled panic buying</td>\n",
              "      <td>[due, supermarkets, begin, wave, fuelled, pani...</td>\n",
              "    </tr>\n",
              "    <tr>\n",
              "      <th>28</th>\n",
              "      <td>Remember, with all the media deflection storie...</td>\n",
              "      <td>Extremely Negative</td>\n",
              "      <td>0</td>\n",
              "      <td>remember media deflection stories bog rolls fo...</td>\n",
              "      <td>[remember, media, deflection, stories, bog, ro...</td>\n",
              "    </tr>\n",
              "    <tr>\n",
              "      <th>29</th>\n",
              "      <td>Fellow Uni instructors! COVID-19 f2f class can...</td>\n",
              "      <td>Negative</td>\n",
              "      <td>0</td>\n",
              "      <td>fellow instructors class inconvenient remember...</td>\n",
              "      <td>[fellow, instructors, class, inconvenient, rem...</td>\n",
              "    </tr>\n",
              "  </tbody>\n",
              "</table>\n",
              "</div>\n",
              "      <button class=\"colab-df-convert\" onclick=\"convertToInteractive('df-feb67442-29ea-4936-89f3-5f072a664537')\"\n",
              "              title=\"Convert this dataframe to an interactive table.\"\n",
              "              style=\"display:none;\">\n",
              "        \n",
              "  <svg xmlns=\"http://www.w3.org/2000/svg\" height=\"24px\"viewBox=\"0 0 24 24\"\n",
              "       width=\"24px\">\n",
              "    <path d=\"M0 0h24v24H0V0z\" fill=\"none\"/>\n",
              "    <path d=\"M18.56 5.44l.94 2.06.94-2.06 2.06-.94-2.06-.94-.94-2.06-.94 2.06-2.06.94zm-11 1L8.5 8.5l.94-2.06 2.06-.94-2.06-.94L8.5 2.5l-.94 2.06-2.06.94zm10 10l.94 2.06.94-2.06 2.06-.94-2.06-.94-.94-2.06-.94 2.06-2.06.94z\"/><path d=\"M17.41 7.96l-1.37-1.37c-.4-.4-.92-.59-1.43-.59-.52 0-1.04.2-1.43.59L10.3 9.45l-7.72 7.72c-.78.78-.78 2.05 0 2.83L4 21.41c.39.39.9.59 1.41.59.51 0 1.02-.2 1.41-.59l7.78-7.78 2.81-2.81c.8-.78.8-2.07 0-2.86zM5.41 20L4 18.59l7.72-7.72 1.47 1.35L5.41 20z\"/>\n",
              "  </svg>\n",
              "      </button>\n",
              "      \n",
              "  <style>\n",
              "    .colab-df-container {\n",
              "      display:flex;\n",
              "      flex-wrap:wrap;\n",
              "      gap: 12px;\n",
              "    }\n",
              "\n",
              "    .colab-df-convert {\n",
              "      background-color: #E8F0FE;\n",
              "      border: none;\n",
              "      border-radius: 50%;\n",
              "      cursor: pointer;\n",
              "      display: none;\n",
              "      fill: #1967D2;\n",
              "      height: 32px;\n",
              "      padding: 0 0 0 0;\n",
              "      width: 32px;\n",
              "    }\n",
              "\n",
              "    .colab-df-convert:hover {\n",
              "      background-color: #E2EBFA;\n",
              "      box-shadow: 0px 1px 2px rgba(60, 64, 67, 0.3), 0px 1px 3px 1px rgba(60, 64, 67, 0.15);\n",
              "      fill: #174EA6;\n",
              "    }\n",
              "\n",
              "    [theme=dark] .colab-df-convert {\n",
              "      background-color: #3B4455;\n",
              "      fill: #D2E3FC;\n",
              "    }\n",
              "\n",
              "    [theme=dark] .colab-df-convert:hover {\n",
              "      background-color: #434B5C;\n",
              "      box-shadow: 0px 1px 3px 1px rgba(0, 0, 0, 0.15);\n",
              "      filter: drop-shadow(0px 1px 2px rgba(0, 0, 0, 0.3));\n",
              "      fill: #FFFFFF;\n",
              "    }\n",
              "  </style>\n",
              "\n",
              "      <script>\n",
              "        const buttonEl =\n",
              "          document.querySelector('#df-feb67442-29ea-4936-89f3-5f072a664537 button.colab-df-convert');\n",
              "        buttonEl.style.display =\n",
              "          google.colab.kernel.accessAllowed ? 'block' : 'none';\n",
              "\n",
              "        async function convertToInteractive(key) {\n",
              "          const element = document.querySelector('#df-feb67442-29ea-4936-89f3-5f072a664537');\n",
              "          const dataTable =\n",
              "            await google.colab.kernel.invokeFunction('convertToInteractive',\n",
              "                                                     [key], {});\n",
              "          if (!dataTable) return;\n",
              "\n",
              "          const docLinkHtml = 'Like what you see? Visit the ' +\n",
              "            '<a target=\"_blank\" href=https://colab.research.google.com/notebooks/data_table.ipynb>data table notebook</a>'\n",
              "            + ' to learn more about interactive tables.';\n",
              "          element.innerHTML = '';\n",
              "          dataTable['output_type'] = 'display_data';\n",
              "          await google.colab.output.renderOutput(dataTable, element);\n",
              "          const docLink = document.createElement('div');\n",
              "          docLink.innerHTML = docLinkHtml;\n",
              "          element.appendChild(docLink);\n",
              "        }\n",
              "      </script>\n",
              "    </div>\n",
              "  </div>\n",
              "  "
            ],
            "text/plain": [
              "                                                tweet  ...                                   tweets_tokenized\n",
              "0   TRENDING: New Yorkers encounter empty supermar...  ...  [trending, new, encounter, empty, supermarket,...\n",
              "1   When I couldn't find hand sanitizer at Fred Me...  ...  [find, hand, turned, 2, pack, check, concerns,...\n",
              "2   #Panic buying hits #NewYork City as anxious sh...  ...  [buying, hits, city, anxious, shoppers, stock,...\n",
              "3   #toiletpaper #dunnypaper #coronavirus #coronav...  ...  [one, week, buying, baby, milk, powder, next, ...\n",
              "4   Do you remember the last time you paid $2.99 a...  ...  [remember, last, time, paid, gallon, regular, ...\n",
              "5   @DrTedros \"We canÂt stop #COVID19 without pro...  ...  [stop, protecting, prices, surgical, masks, in...\n",
              "6   Anyone been in a supermarket over the last few...  ...  [supermarket, last, days, went, normal, shop, ...\n",
              "7   Best quality couches at unbelievably low price...  ...  [best, quality, couches, unbelievably, low, pr...\n",
              "8   Beware of counterfeits trying to sell fake mas...  ...  [beware, counterfeits, trying, sell, fake, mas...\n",
              "9   Panic food buying in Germany due to #coronavir...  ...  [panic, food, buying, germany, due, begun, lef...\n",
              "10  While we were busy watching election returns a...  ...  [busy, watching, election, returns, bracing, o...\n",
              "11  #AirSewa \\r\\r\\n\\r\\r\\n@flyspicejet is not provi...  ...  [providing, customers, free, seats, passengers...\n",
              "12  What Precautionary measures have you all taken...  ...  [precautionary, measures, taken, respective, r...\n",
              "13  When youÂre stockpiling food &amp; other supp...  ...  [stockpiling, food, amp, supplies, buy, extra,...\n",
              "14  Studies show the #coronavirus like #COVID19 ca...  ...  [studies, show, like, live, nine, days, hard, ...\n",
              "15  #CoronaVirus #COVID_19 People are starting to ...  ...  [people, starting, become, frightened, many, s...\n",
              "16  For those of you that think credit/debit is ju...  ...  [think, credit, debit, good, comes, combating,...\n",
              "17  Control over stocks and gold is lost...gold co...  ...  [control, stocks, gold, lost, gold, coming, ba...\n",
              "18  Sellers are cashing on your panic to sell face...  ...  [sellers, cashing, panic, sell, super, inflate...\n",
              "19  Canada'sÂ oilpatch is bracing for the impact o...  ...  [canada, bracing, impact, plunging, crude, pri...\n",
              "20  Alright yÂall I hope our Melanin prevails but...  ...  [alright, hope, melanin, prevails, case, took,...\n",
              "21  When your usual grocery shopping @woolworths t...  ...  [usual, grocery, shopping, turns, toilet, pape...\n",
              "22  #Coronavirus is \"an exposure of all the holes ...  ...  [exposure, holes, social, safety, net, says, g...\n",
              "23  Two important phone numbers NYers should know....  ...  [two, important, phone, numbers, know, doctor,...\n",
              "24  Tip for all Pro Wrestlers to help combat the #...  ...  [tip, pro, wrestlers, help, combat, like, brin...\n",
              "25  Is this effective?\\r\\r\\nIs it necessary?\\r\\r\\n...  ...  [effective, necessary, optics, scare, tactics,...\n",
              "26  IMHO Russia's rug pull on oil prices is design...  ...  [russia, rug, pull, oil, prices, designed, end...\n",
              "27  So not due to #Brexit at all then &gt;&gt; Sup...  ...  [due, supermarkets, begin, wave, fuelled, pani...\n",
              "28  Remember, with all the media deflection storie...  ...  [remember, media, deflection, stories, bog, ro...\n",
              "29  Fellow Uni instructors! COVID-19 f2f class can...  ...  [fellow, instructors, class, inconvenient, rem...\n",
              "\n",
              "[30 rows x 5 columns]"
            ]
          },
          "metadata": {},
          "execution_count": 70
        }
      ]
    },
    {
      "cell_type": "code",
      "source": [
        "# sanity check for length of tweet\n",
        "len_list = [len(x) for x in covid.tweets_tokenized]\n",
        "max(len_list)"
      ],
      "metadata": {
        "colab": {
          "base_uri": "https://localhost:8080/"
        },
        "id": "qun6UGlzZ9sU",
        "outputId": "07b5d3d7-f636-40c7-c974-2120b7a063da"
      },
      "execution_count": null,
      "outputs": [
        {
          "output_type": "execute_result",
          "data": {
            "text/plain": [
              "34"
            ]
          },
          "metadata": {},
          "execution_count": 71
        }
      ]
    },
    {
      "cell_type": "code",
      "source": [
        "# get unique words in the corpus\n",
        "all_words = []\n",
        "for x in covid['tweets_tokenized']:\n",
        "    all_words.extend(x)\n",
        "\n",
        "word_set = list(set(all_words))\n",
        "word_count = Counter(all_words)\n",
        "\n",
        "# filter out words with low frequency\n",
        "for word_list in covid.tweets_tokenized:\n",
        "    new_list = []\n",
        "    for word in word_list:\n",
        "        if word_count[word] > 2:\n",
        "            new_list.append(word)\n",
        "    word_list = new_list\n",
        "\n",
        "# update set of words after removing the ones with low frequency\n",
        "new_word_list = []\n",
        "for x in covid['tweets_tokenized']:\n",
        "    new_word_list.extend(x)\n",
        "word_set = list(set(new_word_list))\n",
        "\n",
        "# map each unique words & unknown token in covid.encoded to an index\n",
        "word2index = {}\n",
        "word2index['<UNK>'] = 0\n",
        "word2index['<PAD>'] = 1\n",
        "\n",
        "for i, word in enumerate(word_set, 2):\n",
        "    word2index[word] = i\n",
        "\n",
        "# encode the original sequence\n",
        "def encode(sent_list):\n",
        "    result = []\n",
        "    for x in sent_list:\n",
        "        index = word2index[x]\n",
        "        result.append(index)\n",
        "    return result\n",
        "\n",
        "covid['encoded_old'] = covid.tweets_tokenized.apply(lambda x: encode(x))\n",
        "\n",
        "\n",
        "# get sequence average length\n",
        "total_len = 0\n",
        "for x in covid.encoded_old:\n",
        "    total_len += len(x)\n",
        "\n",
        "ave_len = math.floor(total_len/covid.shape[0])\n",
        "\n",
        "# filter out long sequences --> encode all sequence to length = ave_len\n",
        "# pad short sequence\n",
        "\n",
        "def fix_tweet(x):\n",
        "    size = min(len(x), ave_len)\n",
        "    new_encoded = x[:size]\n",
        "    len_before_pad = len(new_encoded)\n",
        "    if size < ave_len:\n",
        "        for j in range(0, ave_len - len(x)):\n",
        "            new_encoded.append(0)\n",
        "    return new_encoded\n",
        "\n",
        "covid['encoded'] = covid.encoded_old.apply(lambda x: fix_tweet(x))\n",
        "covid['tweet_length'] = covid.encoded_old.apply(lambda x: min(len(x), ave_len))"
      ],
      "metadata": {
        "id": "-sT1ynqj_7Fo"
      },
      "execution_count": null,
      "outputs": []
    },
    {
      "cell_type": "code",
      "source": [
        "max(covid.tweet_length)\n",
        "\n",
        "print(word2index['exchange'])\n",
        "covid.head()"
      ],
      "metadata": {
        "colab": {
          "base_uri": "https://localhost:8080/",
          "height": 441
        },
        "id": "AupajdyydM_H",
        "outputId": "2959071d-cd3a-48e4-9a5c-9d6ae66b1dcd"
      },
      "execution_count": null,
      "outputs": [
        {
          "output_type": "stream",
          "name": "stdout",
          "text": [
            "4553\n"
          ]
        },
        {
          "output_type": "execute_result",
          "data": {
            "text/html": [
              "\n",
              "  <div id=\"df-a85358cf-ebb6-4f69-8758-cbdef80ab0a3\">\n",
              "    <div class=\"colab-df-container\">\n",
              "      <div>\n",
              "<style scoped>\n",
              "    .dataframe tbody tr th:only-of-type {\n",
              "        vertical-align: middle;\n",
              "    }\n",
              "\n",
              "    .dataframe tbody tr th {\n",
              "        vertical-align: top;\n",
              "    }\n",
              "\n",
              "    .dataframe thead th {\n",
              "        text-align: right;\n",
              "    }\n",
              "</style>\n",
              "<table border=\"1\" class=\"dataframe\">\n",
              "  <thead>\n",
              "    <tr style=\"text-align: right;\">\n",
              "      <th></th>\n",
              "      <th>tweet</th>\n",
              "      <th>sentiment</th>\n",
              "      <th>sentiment_encoded</th>\n",
              "      <th>tweets</th>\n",
              "      <th>tweets_tokenized</th>\n",
              "      <th>encoded_old</th>\n",
              "      <th>encoded</th>\n",
              "      <th>tweet_length</th>\n",
              "    </tr>\n",
              "  </thead>\n",
              "  <tbody>\n",
              "    <tr>\n",
              "      <th>0</th>\n",
              "      <td>TRENDING: New Yorkers encounter empty supermar...</td>\n",
              "      <td>Extremely Negative</td>\n",
              "      <td>0</td>\n",
              "      <td>trending new encounter empty supermarket shelv...</td>\n",
              "      <td>[trending, new, encounter, empty, supermarket,...</td>\n",
              "      <td>[3126, 3423, 6424, 1857, 790, 5008, 1469, 1538...</td>\n",
              "      <td>[3126, 3423, 6424, 1857, 790, 5008, 1469, 1538...</td>\n",
              "      <td>14</td>\n",
              "    </tr>\n",
              "    <tr>\n",
              "      <th>1</th>\n",
              "      <td>When I couldn't find hand sanitizer at Fred Me...</td>\n",
              "      <td>Positive</td>\n",
              "      <td>2</td>\n",
              "      <td>find hand turned 2 pack check concerns driving...</td>\n",
              "      <td>[find, hand, turned, 2, pack, check, concerns,...</td>\n",
              "      <td>[6367, 2030, 4112, 6211, 1242, 253, 2849, 4985...</td>\n",
              "      <td>[6367, 2030, 4112, 6211, 1242, 253, 2849, 4985...</td>\n",
              "      <td>9</td>\n",
              "    </tr>\n",
              "    <tr>\n",
              "      <th>2</th>\n",
              "      <td>#Panic buying hits #NewYork City as anxious sh...</td>\n",
              "      <td>Negative</td>\n",
              "      <td>0</td>\n",
              "      <td>buying hits city anxious shoppers stock food a...</td>\n",
              "      <td>[buying, hits, city, anxious, shoppers, stock,...</td>\n",
              "      <td>[6499, 5482, 3627, 6299, 435, 3588, 6658, 6305...</td>\n",
              "      <td>[6499, 5482, 3627, 6299, 435, 3588, 6658, 6305...</td>\n",
              "      <td>15</td>\n",
              "    </tr>\n",
              "    <tr>\n",
              "      <th>3</th>\n",
              "      <td>#toiletpaper #dunnypaper #coronavirus #coronav...</td>\n",
              "      <td>Neutral</td>\n",
              "      <td>1</td>\n",
              "      <td>one week buying baby milk powder next buying t...</td>\n",
              "      <td>[one, week, buying, baby, milk, powder, next, ...</td>\n",
              "      <td>[6660, 323, 6499, 5283, 968, 225, 2529, 6499, ...</td>\n",
              "      <td>[6660, 323, 6499, 5283, 968, 225, 2529, 6499, ...</td>\n",
              "      <td>10</td>\n",
              "    </tr>\n",
              "    <tr>\n",
              "      <th>4</th>\n",
              "      <td>Do you remember the last time you paid $2.99 a...</td>\n",
              "      <td>Neutral</td>\n",
              "      <td>1</td>\n",
              "      <td>remember last time paid gallon regular gas pri...</td>\n",
              "      <td>[remember, last, time, paid, gallon, regular, ...</td>\n",
              "      <td>[6247, 5791, 254, 5818, 6153, 4217, 3031, 5969...</td>\n",
              "      <td>[6247, 5791, 254, 5818, 6153, 4217, 3031, 5969...</td>\n",
              "      <td>13</td>\n",
              "    </tr>\n",
              "  </tbody>\n",
              "</table>\n",
              "</div>\n",
              "      <button class=\"colab-df-convert\" onclick=\"convertToInteractive('df-a85358cf-ebb6-4f69-8758-cbdef80ab0a3')\"\n",
              "              title=\"Convert this dataframe to an interactive table.\"\n",
              "              style=\"display:none;\">\n",
              "        \n",
              "  <svg xmlns=\"http://www.w3.org/2000/svg\" height=\"24px\"viewBox=\"0 0 24 24\"\n",
              "       width=\"24px\">\n",
              "    <path d=\"M0 0h24v24H0V0z\" fill=\"none\"/>\n",
              "    <path d=\"M18.56 5.44l.94 2.06.94-2.06 2.06-.94-2.06-.94-.94-2.06-.94 2.06-2.06.94zm-11 1L8.5 8.5l.94-2.06 2.06-.94-2.06-.94L8.5 2.5l-.94 2.06-2.06.94zm10 10l.94 2.06.94-2.06 2.06-.94-2.06-.94-.94-2.06-.94 2.06-2.06.94z\"/><path d=\"M17.41 7.96l-1.37-1.37c-.4-.4-.92-.59-1.43-.59-.52 0-1.04.2-1.43.59L10.3 9.45l-7.72 7.72c-.78.78-.78 2.05 0 2.83L4 21.41c.39.39.9.59 1.41.59.51 0 1.02-.2 1.41-.59l7.78-7.78 2.81-2.81c.8-.78.8-2.07 0-2.86zM5.41 20L4 18.59l7.72-7.72 1.47 1.35L5.41 20z\"/>\n",
              "  </svg>\n",
              "      </button>\n",
              "      \n",
              "  <style>\n",
              "    .colab-df-container {\n",
              "      display:flex;\n",
              "      flex-wrap:wrap;\n",
              "      gap: 12px;\n",
              "    }\n",
              "\n",
              "    .colab-df-convert {\n",
              "      background-color: #E8F0FE;\n",
              "      border: none;\n",
              "      border-radius: 50%;\n",
              "      cursor: pointer;\n",
              "      display: none;\n",
              "      fill: #1967D2;\n",
              "      height: 32px;\n",
              "      padding: 0 0 0 0;\n",
              "      width: 32px;\n",
              "    }\n",
              "\n",
              "    .colab-df-convert:hover {\n",
              "      background-color: #E2EBFA;\n",
              "      box-shadow: 0px 1px 2px rgba(60, 64, 67, 0.3), 0px 1px 3px 1px rgba(60, 64, 67, 0.15);\n",
              "      fill: #174EA6;\n",
              "    }\n",
              "\n",
              "    [theme=dark] .colab-df-convert {\n",
              "      background-color: #3B4455;\n",
              "      fill: #D2E3FC;\n",
              "    }\n",
              "\n",
              "    [theme=dark] .colab-df-convert:hover {\n",
              "      background-color: #434B5C;\n",
              "      box-shadow: 0px 1px 3px 1px rgba(0, 0, 0, 0.15);\n",
              "      filter: drop-shadow(0px 1px 2px rgba(0, 0, 0, 0.3));\n",
              "      fill: #FFFFFF;\n",
              "    }\n",
              "  </style>\n",
              "\n",
              "      <script>\n",
              "        const buttonEl =\n",
              "          document.querySelector('#df-a85358cf-ebb6-4f69-8758-cbdef80ab0a3 button.colab-df-convert');\n",
              "        buttonEl.style.display =\n",
              "          google.colab.kernel.accessAllowed ? 'block' : 'none';\n",
              "\n",
              "        async function convertToInteractive(key) {\n",
              "          const element = document.querySelector('#df-a85358cf-ebb6-4f69-8758-cbdef80ab0a3');\n",
              "          const dataTable =\n",
              "            await google.colab.kernel.invokeFunction('convertToInteractive',\n",
              "                                                     [key], {});\n",
              "          if (!dataTable) return;\n",
              "\n",
              "          const docLinkHtml = 'Like what you see? Visit the ' +\n",
              "            '<a target=\"_blank\" href=https://colab.research.google.com/notebooks/data_table.ipynb>data table notebook</a>'\n",
              "            + ' to learn more about interactive tables.';\n",
              "          element.innerHTML = '';\n",
              "          dataTable['output_type'] = 'display_data';\n",
              "          await google.colab.output.renderOutput(dataTable, element);\n",
              "          const docLink = document.createElement('div');\n",
              "          docLink.innerHTML = docLinkHtml;\n",
              "          element.appendChild(docLink);\n",
              "        }\n",
              "      </script>\n",
              "    </div>\n",
              "  </div>\n",
              "  "
            ],
            "text/plain": [
              "                                               tweet  ... tweet_length\n",
              "0  TRENDING: New Yorkers encounter empty supermar...  ...           14\n",
              "1  When I couldn't find hand sanitizer at Fred Me...  ...            9\n",
              "2  #Panic buying hits #NewYork City as anxious sh...  ...           15\n",
              "3  #toiletpaper #dunnypaper #coronavirus #coronav...  ...           10\n",
              "4  Do you remember the last time you paid $2.99 a...  ...           13\n",
              "\n",
              "[5 rows x 8 columns]"
            ]
          },
          "metadata": {},
          "execution_count": 73
        }
      ]
    },
    {
      "cell_type": "code",
      "source": [
        "# sanity check for encoding:\n",
        "print(len(all_words))\n",
        "print(ave_len)\n",
        "lengths = [len(x) for x in covid.encoded]\n",
        "\n",
        "tweet_length = covid.tweet_length\n",
        "covid.head()\n"
      ],
      "metadata": {
        "colab": {
          "base_uri": "https://localhost:8080/",
          "height": 458
        },
        "id": "5lNy_oCSFrqf",
        "outputId": "8abb9bca-1a59-41c6-f391-0aa3ed0d1048"
      },
      "execution_count": null,
      "outputs": [
        {
          "output_type": "stream",
          "name": "stdout",
          "text": [
            "47853\n",
            "15\n"
          ]
        },
        {
          "output_type": "execute_result",
          "data": {
            "text/html": [
              "\n",
              "  <div id=\"df-d7d37b5f-18fe-4d2e-97f3-7b18395d66a9\">\n",
              "    <div class=\"colab-df-container\">\n",
              "      <div>\n",
              "<style scoped>\n",
              "    .dataframe tbody tr th:only-of-type {\n",
              "        vertical-align: middle;\n",
              "    }\n",
              "\n",
              "    .dataframe tbody tr th {\n",
              "        vertical-align: top;\n",
              "    }\n",
              "\n",
              "    .dataframe thead th {\n",
              "        text-align: right;\n",
              "    }\n",
              "</style>\n",
              "<table border=\"1\" class=\"dataframe\">\n",
              "  <thead>\n",
              "    <tr style=\"text-align: right;\">\n",
              "      <th></th>\n",
              "      <th>tweet</th>\n",
              "      <th>sentiment</th>\n",
              "      <th>sentiment_encoded</th>\n",
              "      <th>tweets</th>\n",
              "      <th>tweets_tokenized</th>\n",
              "      <th>encoded_old</th>\n",
              "      <th>encoded</th>\n",
              "      <th>tweet_length</th>\n",
              "    </tr>\n",
              "  </thead>\n",
              "  <tbody>\n",
              "    <tr>\n",
              "      <th>0</th>\n",
              "      <td>TRENDING: New Yorkers encounter empty supermar...</td>\n",
              "      <td>Extremely Negative</td>\n",
              "      <td>0</td>\n",
              "      <td>trending new encounter empty supermarket shelv...</td>\n",
              "      <td>[trending, new, encounter, empty, supermarket,...</td>\n",
              "      <td>[3126, 3423, 6424, 1857, 790, 5008, 1469, 1538...</td>\n",
              "      <td>[3126, 3423, 6424, 1857, 790, 5008, 1469, 1538...</td>\n",
              "      <td>14</td>\n",
              "    </tr>\n",
              "    <tr>\n",
              "      <th>1</th>\n",
              "      <td>When I couldn't find hand sanitizer at Fred Me...</td>\n",
              "      <td>Positive</td>\n",
              "      <td>2</td>\n",
              "      <td>find hand turned 2 pack check concerns driving...</td>\n",
              "      <td>[find, hand, turned, 2, pack, check, concerns,...</td>\n",
              "      <td>[6367, 2030, 4112, 6211, 1242, 253, 2849, 4985...</td>\n",
              "      <td>[6367, 2030, 4112, 6211, 1242, 253, 2849, 4985...</td>\n",
              "      <td>9</td>\n",
              "    </tr>\n",
              "    <tr>\n",
              "      <th>2</th>\n",
              "      <td>#Panic buying hits #NewYork City as anxious sh...</td>\n",
              "      <td>Negative</td>\n",
              "      <td>0</td>\n",
              "      <td>buying hits city anxious shoppers stock food a...</td>\n",
              "      <td>[buying, hits, city, anxious, shoppers, stock,...</td>\n",
              "      <td>[6499, 5482, 3627, 6299, 435, 3588, 6658, 6305...</td>\n",
              "      <td>[6499, 5482, 3627, 6299, 435, 3588, 6658, 6305...</td>\n",
              "      <td>15</td>\n",
              "    </tr>\n",
              "    <tr>\n",
              "      <th>3</th>\n",
              "      <td>#toiletpaper #dunnypaper #coronavirus #coronav...</td>\n",
              "      <td>Neutral</td>\n",
              "      <td>1</td>\n",
              "      <td>one week buying baby milk powder next buying t...</td>\n",
              "      <td>[one, week, buying, baby, milk, powder, next, ...</td>\n",
              "      <td>[6660, 323, 6499, 5283, 968, 225, 2529, 6499, ...</td>\n",
              "      <td>[6660, 323, 6499, 5283, 968, 225, 2529, 6499, ...</td>\n",
              "      <td>10</td>\n",
              "    </tr>\n",
              "    <tr>\n",
              "      <th>4</th>\n",
              "      <td>Do you remember the last time you paid $2.99 a...</td>\n",
              "      <td>Neutral</td>\n",
              "      <td>1</td>\n",
              "      <td>remember last time paid gallon regular gas pri...</td>\n",
              "      <td>[remember, last, time, paid, gallon, regular, ...</td>\n",
              "      <td>[6247, 5791, 254, 5818, 6153, 4217, 3031, 5969...</td>\n",
              "      <td>[6247, 5791, 254, 5818, 6153, 4217, 3031, 5969...</td>\n",
              "      <td>13</td>\n",
              "    </tr>\n",
              "  </tbody>\n",
              "</table>\n",
              "</div>\n",
              "      <button class=\"colab-df-convert\" onclick=\"convertToInteractive('df-d7d37b5f-18fe-4d2e-97f3-7b18395d66a9')\"\n",
              "              title=\"Convert this dataframe to an interactive table.\"\n",
              "              style=\"display:none;\">\n",
              "        \n",
              "  <svg xmlns=\"http://www.w3.org/2000/svg\" height=\"24px\"viewBox=\"0 0 24 24\"\n",
              "       width=\"24px\">\n",
              "    <path d=\"M0 0h24v24H0V0z\" fill=\"none\"/>\n",
              "    <path d=\"M18.56 5.44l.94 2.06.94-2.06 2.06-.94-2.06-.94-.94-2.06-.94 2.06-2.06.94zm-11 1L8.5 8.5l.94-2.06 2.06-.94-2.06-.94L8.5 2.5l-.94 2.06-2.06.94zm10 10l.94 2.06.94-2.06 2.06-.94-2.06-.94-.94-2.06-.94 2.06-2.06.94z\"/><path d=\"M17.41 7.96l-1.37-1.37c-.4-.4-.92-.59-1.43-.59-.52 0-1.04.2-1.43.59L10.3 9.45l-7.72 7.72c-.78.78-.78 2.05 0 2.83L4 21.41c.39.39.9.59 1.41.59.51 0 1.02-.2 1.41-.59l7.78-7.78 2.81-2.81c.8-.78.8-2.07 0-2.86zM5.41 20L4 18.59l7.72-7.72 1.47 1.35L5.41 20z\"/>\n",
              "  </svg>\n",
              "      </button>\n",
              "      \n",
              "  <style>\n",
              "    .colab-df-container {\n",
              "      display:flex;\n",
              "      flex-wrap:wrap;\n",
              "      gap: 12px;\n",
              "    }\n",
              "\n",
              "    .colab-df-convert {\n",
              "      background-color: #E8F0FE;\n",
              "      border: none;\n",
              "      border-radius: 50%;\n",
              "      cursor: pointer;\n",
              "      display: none;\n",
              "      fill: #1967D2;\n",
              "      height: 32px;\n",
              "      padding: 0 0 0 0;\n",
              "      width: 32px;\n",
              "    }\n",
              "\n",
              "    .colab-df-convert:hover {\n",
              "      background-color: #E2EBFA;\n",
              "      box-shadow: 0px 1px 2px rgba(60, 64, 67, 0.3), 0px 1px 3px 1px rgba(60, 64, 67, 0.15);\n",
              "      fill: #174EA6;\n",
              "    }\n",
              "\n",
              "    [theme=dark] .colab-df-convert {\n",
              "      background-color: #3B4455;\n",
              "      fill: #D2E3FC;\n",
              "    }\n",
              "\n",
              "    [theme=dark] .colab-df-convert:hover {\n",
              "      background-color: #434B5C;\n",
              "      box-shadow: 0px 1px 3px 1px rgba(0, 0, 0, 0.15);\n",
              "      filter: drop-shadow(0px 1px 2px rgba(0, 0, 0, 0.3));\n",
              "      fill: #FFFFFF;\n",
              "    }\n",
              "  </style>\n",
              "\n",
              "      <script>\n",
              "        const buttonEl =\n",
              "          document.querySelector('#df-d7d37b5f-18fe-4d2e-97f3-7b18395d66a9 button.colab-df-convert');\n",
              "        buttonEl.style.display =\n",
              "          google.colab.kernel.accessAllowed ? 'block' : 'none';\n",
              "\n",
              "        async function convertToInteractive(key) {\n",
              "          const element = document.querySelector('#df-d7d37b5f-18fe-4d2e-97f3-7b18395d66a9');\n",
              "          const dataTable =\n",
              "            await google.colab.kernel.invokeFunction('convertToInteractive',\n",
              "                                                     [key], {});\n",
              "          if (!dataTable) return;\n",
              "\n",
              "          const docLinkHtml = 'Like what you see? Visit the ' +\n",
              "            '<a target=\"_blank\" href=https://colab.research.google.com/notebooks/data_table.ipynb>data table notebook</a>'\n",
              "            + ' to learn more about interactive tables.';\n",
              "          element.innerHTML = '';\n",
              "          dataTable['output_type'] = 'display_data';\n",
              "          await google.colab.output.renderOutput(dataTable, element);\n",
              "          const docLink = document.createElement('div');\n",
              "          docLink.innerHTML = docLinkHtml;\n",
              "          element.appendChild(docLink);\n",
              "        }\n",
              "      </script>\n",
              "    </div>\n",
              "  </div>\n",
              "  "
            ],
            "text/plain": [
              "                                               tweet  ... tweet_length\n",
              "0  TRENDING: New Yorkers encounter empty supermar...  ...           14\n",
              "1  When I couldn't find hand sanitizer at Fred Me...  ...            9\n",
              "2  #Panic buying hits #NewYork City as anxious sh...  ...           15\n",
              "3  #toiletpaper #dunnypaper #coronavirus #coronav...  ...           10\n",
              "4  Do you remember the last time you paid $2.99 a...  ...           13\n",
              "\n",
              "[5 rows x 8 columns]"
            ]
          },
          "metadata": {},
          "execution_count": 74
        }
      ]
    },
    {
      "cell_type": "code",
      "source": [
        "# Train test split from skearln\n",
        "data_size = len(covid['encoded'])\n",
        "assert data_size == len(covid['sentiment_encoded']) \n",
        "X, y = list(zip(list(covid['encoded']),(list(covid['tweet_length'])))), list(covid['sentiment_encoded'])\n",
        "# X(data, length)\n",
        "X_train, X_test, y_train, y_test = train_test_split(X, y, test_size=0.2, random_state=43)"
      ],
      "metadata": {
        "id": "glkjNVF-N_0r"
      },
      "execution_count": null,
      "outputs": []
    },
    {
      "cell_type": "code",
      "source": [
        ""
      ],
      "metadata": {
        "id": "AlveD7X5cPYp"
      },
      "execution_count": null,
      "outputs": []
    },
    {
      "cell_type": "code",
      "source": [
        "X_train_new=[]\n",
        "for tup in X_train:\n",
        "  arr = np.asarray(tup)\n",
        "  X_train_new.append(arr)\n"
      ],
      "metadata": {
        "id": "ZtqV7yfjihvx",
        "colab": {
          "base_uri": "https://localhost:8080/"
        },
        "outputId": "eb6800fa-2971-4331-c3b0-35ca4154b9c8"
      },
      "execution_count": null,
      "outputs": [
        {
          "output_type": "stream",
          "name": "stderr",
          "text": [
            "/usr/local/lib/python3.7/dist-packages/numpy/core/_asarray.py:83: VisibleDeprecationWarning: Creating an ndarray from ragged nested sequences (which is a list-or-tuple of lists-or-tuples-or ndarrays with different lengths or shapes) is deprecated. If you meant to do this, you must specify 'dtype=object' when creating the ndarray\n",
            "  return array(a, dtype, copy=False, order=order)\n"
          ]
        }
      ]
    },
    {
      "cell_type": "code",
      "source": [
        "X_test_new=[]\n",
        "for tup in X_test:\n",
        "  arr = np.asarray(tup)\n",
        "  X_test_new.append(arr)"
      ],
      "metadata": {
        "colab": {
          "base_uri": "https://localhost:8080/"
        },
        "id": "RdcZ8g4HvgOl",
        "outputId": "062e8fb7-9e72-47ff-a758-82c2013f4172"
      },
      "execution_count": null,
      "outputs": [
        {
          "output_type": "stream",
          "name": "stderr",
          "text": [
            "/usr/local/lib/python3.7/dist-packages/numpy/core/_asarray.py:83: VisibleDeprecationWarning: Creating an ndarray from ragged nested sequences (which is a list-or-tuple of lists-or-tuples-or ndarrays with different lengths or shapes) is deprecated. If you meant to do this, you must specify 'dtype=object' when creating the ndarray\n",
            "  return array(a, dtype, copy=False, order=order)\n"
          ]
        }
      ]
    },
    {
      "cell_type": "code",
      "source": [
        ""
      ],
      "metadata": {
        "id": "0jjCoAp8wDyn"
      },
      "execution_count": null,
      "outputs": []
    },
    {
      "cell_type": "code",
      "source": [
        "class ReviewsDataset(Dataset):\n",
        "    def __init__(self, X, Y):\n",
        "        self.X = X\n",
        "        self.y = Y\n",
        "        \n",
        "    def __len__(self):\n",
        "        return len(self.y)\n",
        "    \n",
        "    def __getitem__(self, idx):\n",
        "        return torch.from_numpy(np.array(self.X[idx][0])), self.y[idx], self.X[idx][1]"
      ],
      "metadata": {
        "id": "1iw5MXNKqW9k"
      },
      "execution_count": null,
      "outputs": []
    },
    {
      "cell_type": "code",
      "source": [
        "train_ds = ReviewsDataset(X_train_new, y_train)\n",
        "valid_ds = ReviewsDataset(X_test_new, y_test)"
      ],
      "metadata": {
        "id": "vg2RBBwQwFZq"
      },
      "execution_count": null,
      "outputs": []
    },
    {
      "cell_type": "code",
      "source": [
        "type(X_train_new[0][1])"
      ],
      "metadata": {
        "colab": {
          "base_uri": "https://localhost:8080/"
        },
        "id": "7v28VP9QwNle",
        "outputId": "55bd2958-6988-46ce-9db4-3a88469b24a7"
      },
      "execution_count": null,
      "outputs": [
        {
          "output_type": "execute_result",
          "data": {
            "text/plain": [
              "int"
            ]
          },
          "metadata": {},
          "execution_count": 80
        }
      ]
    },
    {
      "cell_type": "code",
      "source": [
        "def train_model(model, epochs=10, lr=0.001):\n",
        "    parameters = filter(lambda p: p.requires_grad, model.parameters())\n",
        "    optimizer = torch.optim.Adam(parameters, lr=lr)\n",
        "    epoch = 0\n",
        "    best_val_acc = 0.0  \n",
        "    for i in range(epochs):\n",
        "        model.train()\n",
        "        sum_loss = 0.0\n",
        "        batch_count=0\n",
        "        total = 0\n",
        "        train_correct = 0.0\n",
        "        epoch += 1\n",
        "        print(f\"At epoch {i}\")\n",
        "        for x, y, l in train_dl:\n",
        "            x = x.long()\n",
        "            y = y.long()\n",
        "            batch_count+=1\n",
        "            optimizer.zero_grad()\n",
        "            y_pred = model(x, l)\n",
        "            pred = torch.argmax(y_pred, 1)\n",
        "            train_correct += sum((pred == y))\n",
        "            loss = F.cross_entropy(y_pred, y)\n",
        "            loss.backward()\n",
        "            optimizer.step()\n",
        "            sum_loss += loss.item()*y.shape[0]\n",
        "            total += y.shape[0]\n",
        "        val_loss, val_acc, precision, recall, f1  = validation_metrics(model, val_dl)\n",
        "        print(\"train loss %.3f, train accuracy %.3f, val loss %.3f, val accuracy %.3f, precision %.3f, recall %.3f, F1 %.3f\" \n",
        "              % (sum_loss/total, train_correct/total, val_loss, val_acc, precision, recall, f1))\n",
        "        if val_acc > best_val_acc and i>=1:\n",
        "            best_val_acc = val_acc\n",
        "\n",
        "            #torch.save(model.state_dict(), NEW_PATH)\n",
        "            print(f\"\\t=> Best model saved at {i}th epoch with valication accuracy of {val_acc}\")\n",
        "def validation_metrics (model, valid_dl):\n",
        "    model.eval()\n",
        "    correct = 0\n",
        "    total = 0\n",
        "    sum_loss = 0.0\n",
        "    sum_rmse = 0.0\n",
        "    y_total = []\n",
        "    y_pred_total = []\n",
        "    for x, y, l in valid_dl:\n",
        "        x = x.long()\n",
        "        y = y.long()\n",
        "        y_hat = model(x, l)\n",
        "        loss = F.cross_entropy(y_hat, y)\n",
        "        pred = torch.max(y_hat, 1)[1]\n",
        "        y_total.extend(y.tolist())\n",
        "        y_pred_total.extend(pred.tolist())\n",
        "        correct += (pred == y).float().sum()\n",
        "        total += y.shape[0]\n",
        "        sum_loss += loss.item()*y.shape[0]\n",
        "        #sum_rmse += np.sqrt(mean_squared_error(pred, y.unsqueeze(-1)))*y.shape[0]\n",
        "\n",
        "    f1 = (f1_score(y_total, y_pred_total, average='weighted'))\n",
        "    precision = (precision_score(y_total, y_pred_total, average='weighted'))\n",
        "    recall =(recall_score(y_total, y_pred_total, average='weighted'))\n",
        "   \n",
        "    return sum_loss/total, correct/total,  precision, recall, f1\n"
      ],
      "metadata": {
        "id": "OfwYPLcKiiGm"
      },
      "execution_count": null,
      "outputs": []
    },
    {
      "cell_type": "code",
      "source": [
        ""
      ],
      "metadata": {
        "id": "JOdFL8DXwSSA"
      },
      "execution_count": null,
      "outputs": []
    },
    {
      "cell_type": "code",
      "source": [
        "batch_size = 5000\n",
        "vocab_size = len(word2index)\n",
        "train_dl = DataLoader(train_ds, batch_size=batch_size, shuffle=True)\n",
        "val_dl = DataLoader(valid_ds, batch_size=batch_size)"
      ],
      "metadata": {
        "id": "rHgQ7NMJqnxp"
      },
      "execution_count": null,
      "outputs": []
    },
    {
      "cell_type": "code",
      "source": [
        ""
      ],
      "metadata": {
        "id": "TGsNOed3wSh2"
      },
      "execution_count": null,
      "outputs": []
    },
    {
      "cell_type": "code",
      "source": [
        "class LSTM_fixed_len(torch.nn.Module) :\n",
        "    def __init__(self, vocab_size, embedding_dim, hidden_dim) :\n",
        "        super().__init__()\n",
        "        self.embeddings = nn.Embedding(vocab_size, embedding_dim, padding_idx=0)\n",
        "        self.lstm = nn.LSTM(embedding_dim, hidden_dim, batch_first=True)\n",
        "        self.linear = nn.Linear(hidden_dim, 5)\n",
        "        self.dropout = nn.Dropout(0.2)\n",
        "        \n",
        "    def forward(self, x, l):\n",
        "        x = self.embeddings(x)\n",
        "        x = self.dropout(x)\n",
        "        lstm_out, (ht, ct) = self.lstm(x)\n",
        "        return self.linear(ht[-1])"
      ],
      "metadata": {
        "id": "7YPo-9GMiiGm"
      },
      "execution_count": null,
      "outputs": []
    },
    {
      "cell_type": "code",
      "source": [
        "model_fixed =  LSTM_fixed_len(vocab_size, 50, 50)"
      ],
      "metadata": {
        "id": "Msv7NPCqqwgD"
      },
      "execution_count": null,
      "outputs": []
    },
    {
      "cell_type": "code",
      "source": [
        ""
      ],
      "metadata": {
        "id": "43fiuijYwlQ0"
      },
      "execution_count": null,
      "outputs": []
    },
    {
      "cell_type": "code",
      "source": [
        "train_model(model_fixed, epochs=30, lr=0.01)"
      ],
      "metadata": {
        "colab": {
          "base_uri": "https://localhost:8080/"
        },
        "id": "W2MHX4JIqzcy",
        "outputId": "7a3edbd0-18ce-47ed-bbff-5555fb7b705a"
      },
      "execution_count": null,
      "outputs": [
        {
          "output_type": "stream",
          "name": "stdout",
          "text": [
            "At epoch 0\n",
            "train loss 1.584, train accuracy 0.367, val loss 1.512, val accuracy 0.419, precision 0.372, recall 0.419, F1 0.301\n",
            "At epoch 1\n"
          ]
        },
        {
          "output_type": "stream",
          "name": "stderr",
          "text": [
            "/usr/local/lib/python3.7/dist-packages/sklearn/metrics/_classification.py:1308: UndefinedMetricWarning: Precision is ill-defined and being set to 0.0 in labels with no predicted samples. Use `zero_division` parameter to control this behavior.\n",
            "  _warn_prf(average, modifier, msg_start, len(result))\n",
            "/usr/local/lib/python3.7/dist-packages/sklearn/metrics/_classification.py:1308: UndefinedMetricWarning: Recall is ill-defined and being set to 0.0 in labels with no true samples. Use `zero_division` parameter to control this behavior.\n",
            "  _warn_prf(average, modifier, msg_start, len(result))\n",
            "/usr/local/lib/python3.7/dist-packages/sklearn/metrics/_classification.py:1308: UndefinedMetricWarning: Precision is ill-defined and being set to 0.0 in labels with no predicted samples. Use `zero_division` parameter to control this behavior.\n",
            "  _warn_prf(average, modifier, msg_start, len(result))\n",
            "/usr/local/lib/python3.7/dist-packages/sklearn/metrics/_classification.py:1308: UndefinedMetricWarning: Recall is ill-defined and being set to 0.0 in labels with no true samples. Use `zero_division` parameter to control this behavior.\n",
            "  _warn_prf(average, modifier, msg_start, len(result))\n"
          ]
        },
        {
          "output_type": "stream",
          "name": "stdout",
          "text": [
            "train loss 1.508, train accuracy 0.439, val loss 1.430, val accuracy 0.425, precision 0.370, recall 0.425, F1 0.345\n",
            "\t=> Best model saved at 1th epoch with valication accuracy of 0.4253246784210205\n",
            "At epoch 2\n",
            "train loss 1.422, train accuracy 0.463, val loss 1.312, val accuracy 0.417, precision 0.351, recall 0.417, F1 0.381\n",
            "At epoch 3\n"
          ]
        },
        {
          "output_type": "stream",
          "name": "stderr",
          "text": [
            "/usr/local/lib/python3.7/dist-packages/sklearn/metrics/_classification.py:1308: UndefinedMetricWarning: Precision is ill-defined and being set to 0.0 in labels with no predicted samples. Use `zero_division` parameter to control this behavior.\n",
            "  _warn_prf(average, modifier, msg_start, len(result))\n",
            "/usr/local/lib/python3.7/dist-packages/sklearn/metrics/_classification.py:1308: UndefinedMetricWarning: Precision is ill-defined and being set to 0.0 in labels with no predicted samples. Use `zero_division` parameter to control this behavior.\n",
            "  _warn_prf(average, modifier, msg_start, len(result))\n"
          ]
        },
        {
          "output_type": "stream",
          "name": "stdout",
          "text": [
            "train loss 1.302, train accuracy 0.472, val loss 1.171, val accuracy 0.430, precision 0.398, recall 0.430, F1 0.339\n",
            "\t=> Best model saved at 3th epoch with valication accuracy of 0.43019479513168335\n",
            "At epoch 4\n",
            "train loss 1.168, train accuracy 0.443, val loss 1.133, val accuracy 0.435, precision 0.454, recall 0.435, F1 0.308\n",
            "\t=> Best model saved at 4th epoch with valication accuracy of 0.4350649416446686\n",
            "At epoch 5\n"
          ]
        },
        {
          "output_type": "stream",
          "name": "stderr",
          "text": [
            "/usr/local/lib/python3.7/dist-packages/sklearn/metrics/_classification.py:1308: UndefinedMetricWarning: Precision is ill-defined and being set to 0.0 in labels with no predicted samples. Use `zero_division` parameter to control this behavior.\n",
            "  _warn_prf(average, modifier, msg_start, len(result))\n",
            "/usr/local/lib/python3.7/dist-packages/sklearn/metrics/_classification.py:1308: UndefinedMetricWarning: Precision is ill-defined and being set to 0.0 in labels with no predicted samples. Use `zero_division` parameter to control this behavior.\n",
            "  _warn_prf(average, modifier, msg_start, len(result))\n",
            "/usr/local/lib/python3.7/dist-packages/sklearn/metrics/_classification.py:1308: UndefinedMetricWarning: Precision is ill-defined and being set to 0.0 in labels with no predicted samples. Use `zero_division` parameter to control this behavior.\n",
            "  _warn_prf(average, modifier, msg_start, len(result))\n"
          ]
        },
        {
          "output_type": "stream",
          "name": "stdout",
          "text": [
            "train loss 1.128, train accuracy 0.432, val loss 1.095, val accuracy 0.417, precision 0.349, recall 0.417, F1 0.318\n",
            "At epoch 6\n",
            "train loss 1.086, train accuracy 0.466, val loss 1.057, val accuracy 0.424, precision 0.331, recall 0.424, F1 0.265\n",
            "At epoch 7\n"
          ]
        },
        {
          "output_type": "stream",
          "name": "stderr",
          "text": [
            "/usr/local/lib/python3.7/dist-packages/sklearn/metrics/_classification.py:1308: UndefinedMetricWarning: Precision is ill-defined and being set to 0.0 in labels with no predicted samples. Use `zero_division` parameter to control this behavior.\n",
            "  _warn_prf(average, modifier, msg_start, len(result))\n",
            "/usr/local/lib/python3.7/dist-packages/sklearn/metrics/_classification.py:1308: UndefinedMetricWarning: Precision is ill-defined and being set to 0.0 in labels with no predicted samples. Use `zero_division` parameter to control this behavior.\n",
            "  _warn_prf(average, modifier, msg_start, len(result))\n"
          ]
        },
        {
          "output_type": "stream",
          "name": "stdout",
          "text": [
            "train loss 1.042, train accuracy 0.443, val loss 1.032, val accuracy 0.424, precision 0.350, recall 0.424, F1 0.278\n",
            "At epoch 8\n",
            "train loss 1.010, train accuracy 0.454, val loss 1.037, val accuracy 0.420, precision 0.355, recall 0.420, F1 0.343\n",
            "At epoch 9\n"
          ]
        },
        {
          "output_type": "stream",
          "name": "stderr",
          "text": [
            "/usr/local/lib/python3.7/dist-packages/sklearn/metrics/_classification.py:1308: UndefinedMetricWarning: Precision is ill-defined and being set to 0.0 in labels with no predicted samples. Use `zero_division` parameter to control this behavior.\n",
            "  _warn_prf(average, modifier, msg_start, len(result))\n",
            "/usr/local/lib/python3.7/dist-packages/sklearn/metrics/_classification.py:1308: UndefinedMetricWarning: Precision is ill-defined and being set to 0.0 in labels with no predicted samples. Use `zero_division` parameter to control this behavior.\n",
            "  _warn_prf(average, modifier, msg_start, len(result))\n"
          ]
        },
        {
          "output_type": "stream",
          "name": "stdout",
          "text": [
            "train loss 1.010, train accuracy 0.491, val loss 1.051, val accuracy 0.445, precision 0.410, recall 0.445, F1 0.372\n",
            "\t=> Best model saved at 9th epoch with valication accuracy of 0.44480520486831665\n",
            "At epoch 10\n",
            "train loss 1.017, train accuracy 0.474, val loss 1.045, val accuracy 0.435, precision 0.421, recall 0.435, F1 0.331\n",
            "At epoch 11\n"
          ]
        },
        {
          "output_type": "stream",
          "name": "stderr",
          "text": [
            "/usr/local/lib/python3.7/dist-packages/sklearn/metrics/_classification.py:1308: UndefinedMetricWarning: Precision is ill-defined and being set to 0.0 in labels with no predicted samples. Use `zero_division` parameter to control this behavior.\n",
            "  _warn_prf(average, modifier, msg_start, len(result))\n",
            "/usr/local/lib/python3.7/dist-packages/sklearn/metrics/_classification.py:1308: UndefinedMetricWarning: Precision is ill-defined and being set to 0.0 in labels with no predicted samples. Use `zero_division` parameter to control this behavior.\n",
            "  _warn_prf(average, modifier, msg_start, len(result))\n"
          ]
        },
        {
          "output_type": "stream",
          "name": "stdout",
          "text": [
            "train loss 1.005, train accuracy 0.472, val loss 1.029, val accuracy 0.435, precision 0.418, recall 0.435, F1 0.335\n",
            "At epoch 12\n",
            "train loss 0.983, train accuracy 0.475, val loss 1.014, val accuracy 0.442, precision 0.411, recall 0.442, F1 0.368\n",
            "At epoch 13\n"
          ]
        },
        {
          "output_type": "stream",
          "name": "stderr",
          "text": [
            "/usr/local/lib/python3.7/dist-packages/sklearn/metrics/_classification.py:1308: UndefinedMetricWarning: Precision is ill-defined and being set to 0.0 in labels with no predicted samples. Use `zero_division` parameter to control this behavior.\n",
            "  _warn_prf(average, modifier, msg_start, len(result))\n",
            "/usr/local/lib/python3.7/dist-packages/sklearn/metrics/_classification.py:1308: UndefinedMetricWarning: Precision is ill-defined and being set to 0.0 in labels with no predicted samples. Use `zero_division` parameter to control this behavior.\n",
            "  _warn_prf(average, modifier, msg_start, len(result))\n"
          ]
        },
        {
          "output_type": "stream",
          "name": "stdout",
          "text": [
            "train loss 0.964, train accuracy 0.490, val loss 1.009, val accuracy 0.437, precision 0.373, recall 0.437, F1 0.391\n",
            "At epoch 14\n",
            "train loss 0.950, train accuracy 0.537, val loss 1.012, val accuracy 0.419, precision 0.357, recall 0.419, F1 0.360\n",
            "At epoch 15\n"
          ]
        },
        {
          "output_type": "stream",
          "name": "stderr",
          "text": [
            "/usr/local/lib/python3.7/dist-packages/sklearn/metrics/_classification.py:1308: UndefinedMetricWarning: Precision is ill-defined and being set to 0.0 in labels with no predicted samples. Use `zero_division` parameter to control this behavior.\n",
            "  _warn_prf(average, modifier, msg_start, len(result))\n",
            "/usr/local/lib/python3.7/dist-packages/sklearn/metrics/_classification.py:1308: UndefinedMetricWarning: Precision is ill-defined and being set to 0.0 in labels with no predicted samples. Use `zero_division` parameter to control this behavior.\n",
            "  _warn_prf(average, modifier, msg_start, len(result))\n"
          ]
        },
        {
          "output_type": "stream",
          "name": "stdout",
          "text": [
            "train loss 0.939, train accuracy 0.537, val loss 1.016, val accuracy 0.419, precision 0.357, recall 0.419, F1 0.355\n",
            "At epoch 16\n",
            "train loss 0.932, train accuracy 0.541, val loss 1.013, val accuracy 0.429, precision 0.368, recall 0.429, F1 0.373\n",
            "At epoch 17\n"
          ]
        },
        {
          "output_type": "stream",
          "name": "stderr",
          "text": [
            "/usr/local/lib/python3.7/dist-packages/sklearn/metrics/_classification.py:1308: UndefinedMetricWarning: Precision is ill-defined and being set to 0.0 in labels with no predicted samples. Use `zero_division` parameter to control this behavior.\n",
            "  _warn_prf(average, modifier, msg_start, len(result))\n",
            "/usr/local/lib/python3.7/dist-packages/sklearn/metrics/_classification.py:1308: UndefinedMetricWarning: Precision is ill-defined and being set to 0.0 in labels with no predicted samples. Use `zero_division` parameter to control this behavior.\n",
            "  _warn_prf(average, modifier, msg_start, len(result))\n"
          ]
        },
        {
          "output_type": "stream",
          "name": "stdout",
          "text": [
            "train loss 0.910, train accuracy 0.555, val loss 1.005, val accuracy 0.440, precision 0.376, recall 0.440, F1 0.393\n",
            "At epoch 18\n",
            "train loss 0.880, train accuracy 0.569, val loss 1.003, val accuracy 0.464, precision 0.393, recall 0.464, F1 0.423\n",
            "\t=> Best model saved at 18th epoch with valication accuracy of 0.4642857015132904\n",
            "At epoch 19\n",
            "train loss 0.858, train accuracy 0.579, val loss 1.011, val accuracy 0.489, precision 0.489, recall 0.489, F1 0.488\n",
            "\t=> Best model saved at 19th epoch with valication accuracy of 0.4886363744735718\n",
            "At epoch 20\n",
            "train loss 0.834, train accuracy 0.625, val loss 1.026, val accuracy 0.472, precision 0.495, recall 0.472, F1 0.472\n",
            "At epoch 21\n",
            "train loss 0.812, train accuracy 0.611, val loss 1.035, val accuracy 0.463, precision 0.481, recall 0.463, F1 0.464\n",
            "At epoch 22\n",
            "train loss 0.793, train accuracy 0.628, val loss 1.029, val accuracy 0.489, precision 0.500, recall 0.489, F1 0.491\n",
            "At epoch 23\n",
            "train loss 0.754, train accuracy 0.656, val loss 1.025, val accuracy 0.526, precision 0.525, recall 0.526, F1 0.524\n",
            "\t=> Best model saved at 23th epoch with valication accuracy of 0.5259740352630615\n",
            "At epoch 24\n",
            "train loss 0.737, train accuracy 0.675, val loss 1.037, val accuracy 0.524, precision 0.526, recall 0.524, F1 0.519\n",
            "At epoch 25\n",
            "train loss 0.707, train accuracy 0.686, val loss 1.035, val accuracy 0.521, precision 0.528, recall 0.521, F1 0.523\n",
            "At epoch 26\n",
            "train loss 0.675, train accuracy 0.706, val loss 1.050, val accuracy 0.526, precision 0.538, recall 0.526, F1 0.527\n",
            "At epoch 27\n",
            "train loss 0.656, train accuracy 0.708, val loss 1.054, val accuracy 0.528, precision 0.547, recall 0.528, F1 0.533\n",
            "\t=> Best model saved at 27th epoch with valication accuracy of 0.5275974273681641\n",
            "At epoch 28\n",
            "train loss 0.622, train accuracy 0.726, val loss 1.058, val accuracy 0.539, precision 0.547, recall 0.539, F1 0.540\n",
            "\t=> Best model saved at 28th epoch with valication accuracy of 0.5389610528945923\n",
            "At epoch 29\n",
            "train loss 0.596, train accuracy 0.739, val loss 1.065, val accuracy 0.554, precision 0.550, recall 0.554, F1 0.551\n",
            "\t=> Best model saved at 29th epoch with valication accuracy of 0.5535714030265808\n"
          ]
        }
      ]
    },
    {
      "cell_type": "code",
      "source": [
        "train_model(model_fixed, epochs=30, lr=0.01)"
      ],
      "metadata": {
        "colab": {
          "base_uri": "https://localhost:8080/"
        },
        "id": "v-BdtK-eydLE",
        "outputId": "bccca6f2-93fd-4db1-d6b0-fe09dcabf21b"
      },
      "execution_count": null,
      "outputs": [
        {
          "output_type": "stream",
          "name": "stdout",
          "text": [
            "At epoch 0\n",
            "train loss 0.563, train accuracy 0.766, val loss 1.282, val accuracy 0.416, precision 0.525, recall 0.416, F1 0.420\n",
            "At epoch 1\n",
            "train loss 0.760, train accuracy 0.674, val loss 1.097, val accuracy 0.510, precision 0.546, recall 0.510, F1 0.517\n",
            "\t=> Best model saved at 1th epoch with valication accuracy of 0.5097402334213257\n",
            "At epoch 2\n",
            "train loss 0.569, train accuracy 0.761, val loss 1.089, val accuracy 0.554, precision 0.566, recall 0.554, F1 0.542\n",
            "\t=> Best model saved at 2th epoch with valication accuracy of 0.5535714030265808\n",
            "At epoch 3\n",
            "train loss 0.540, train accuracy 0.771, val loss 1.124, val accuracy 0.552, precision 0.569, recall 0.552, F1 0.530\n",
            "At epoch 4\n",
            "train loss 0.575, train accuracy 0.765, val loss 1.115, val accuracy 0.560, precision 0.571, recall 0.560, F1 0.539\n",
            "\t=> Best model saved at 4th epoch with valication accuracy of 0.5600649118423462\n",
            "At epoch 5\n",
            "train loss 0.536, train accuracy 0.762, val loss 1.082, val accuracy 0.580, precision 0.584, recall 0.580, F1 0.573\n",
            "\t=> Best model saved at 5th epoch with valication accuracy of 0.5795454382896423\n",
            "At epoch 6\n",
            "train loss 0.483, train accuracy 0.797, val loss 1.074, val accuracy 0.558, precision 0.556, recall 0.558, F1 0.557\n",
            "At epoch 7\n",
            "train loss 0.462, train accuracy 0.822, val loss 1.083, val accuracy 0.558, precision 0.569, recall 0.558, F1 0.562\n",
            "At epoch 8\n",
            "train loss 0.444, train accuracy 0.832, val loss 1.103, val accuracy 0.549, precision 0.569, recall 0.549, F1 0.554\n",
            "At epoch 9\n",
            "train loss 0.438, train accuracy 0.826, val loss 1.127, val accuracy 0.547, precision 0.570, recall 0.547, F1 0.553\n",
            "At epoch 10\n",
            "train loss 0.417, train accuracy 0.833, val loss 1.151, val accuracy 0.557, precision 0.572, recall 0.557, F1 0.561\n",
            "At epoch 11\n",
            "train loss 0.390, train accuracy 0.851, val loss 1.178, val accuracy 0.584, precision 0.588, recall 0.584, F1 0.586\n",
            "\t=> Best model saved at 11th epoch with valication accuracy of 0.5844155550003052\n",
            "At epoch 12\n",
            "train loss 0.368, train accuracy 0.864, val loss 1.192, val accuracy 0.584, precision 0.584, recall 0.584, F1 0.584\n",
            "At epoch 13\n",
            "train loss 0.343, train accuracy 0.875, val loss 1.208, val accuracy 0.578, precision 0.580, recall 0.578, F1 0.576\n",
            "At epoch 14\n",
            "train loss 0.334, train accuracy 0.879, val loss 1.219, val accuracy 0.583, precision 0.585, recall 0.583, F1 0.580\n",
            "At epoch 15\n",
            "train loss 0.315, train accuracy 0.892, val loss 1.221, val accuracy 0.593, precision 0.592, recall 0.593, F1 0.591\n",
            "\t=> Best model saved at 15th epoch with valication accuracy of 0.5925324559211731\n",
            "At epoch 16\n",
            "train loss 0.303, train accuracy 0.891, val loss 1.225, val accuracy 0.586, precision 0.586, recall 0.586, F1 0.586\n",
            "At epoch 17\n",
            "train loss 0.276, train accuracy 0.903, val loss 1.227, val accuracy 0.584, precision 0.584, recall 0.584, F1 0.584\n",
            "At epoch 18\n",
            "train loss 0.265, train accuracy 0.906, val loss 1.233, val accuracy 0.581, precision 0.584, recall 0.581, F1 0.582\n",
            "At epoch 19\n",
            "train loss 0.253, train accuracy 0.916, val loss 1.246, val accuracy 0.581, precision 0.584, recall 0.581, F1 0.581\n",
            "At epoch 20\n",
            "train loss 0.239, train accuracy 0.922, val loss 1.264, val accuracy 0.586, precision 0.586, recall 0.586, F1 0.586\n",
            "At epoch 21\n",
            "train loss 0.227, train accuracy 0.928, val loss 1.290, val accuracy 0.594, precision 0.592, recall 0.594, F1 0.593\n",
            "\t=> Best model saved at 21th epoch with valication accuracy of 0.5941558480262756\n",
            "At epoch 22\n",
            "train loss 0.215, train accuracy 0.931, val loss 1.314, val accuracy 0.601, precision 0.599, recall 0.601, F1 0.599\n",
            "\t=> Best model saved at 22th epoch with valication accuracy of 0.600649356842041\n",
            "At epoch 23\n",
            "train loss 0.204, train accuracy 0.933, val loss 1.334, val accuracy 0.606, precision 0.604, recall 0.606, F1 0.604\n",
            "\t=> Best model saved at 23th epoch with valication accuracy of 0.6055194735527039\n",
            "At epoch 24\n",
            "train loss 0.192, train accuracy 0.940, val loss 1.351, val accuracy 0.604, precision 0.606, recall 0.604, F1 0.604\n",
            "At epoch 25\n",
            "train loss 0.178, train accuracy 0.945, val loss 1.365, val accuracy 0.601, precision 0.604, recall 0.601, F1 0.601\n",
            "At epoch 26\n",
            "train loss 0.158, train accuracy 0.952, val loss 1.380, val accuracy 0.604, precision 0.607, recall 0.604, F1 0.604\n",
            "At epoch 27\n",
            "train loss 0.152, train accuracy 0.955, val loss 1.399, val accuracy 0.607, precision 0.609, recall 0.607, F1 0.607\n",
            "\t=> Best model saved at 27th epoch with valication accuracy of 0.6071428656578064\n",
            "At epoch 28\n",
            "train loss 0.156, train accuracy 0.948, val loss 1.415, val accuracy 0.610, precision 0.611, recall 0.610, F1 0.609\n",
            "\t=> Best model saved at 28th epoch with valication accuracy of 0.6103895902633667\n",
            "At epoch 29\n",
            "train loss 0.149, train accuracy 0.953, val loss 1.429, val accuracy 0.619, precision 0.618, recall 0.619, F1 0.617\n",
            "\t=> Best model saved at 29th epoch with valication accuracy of 0.6185064911842346\n"
          ]
        }
      ]
    },
    {
      "cell_type": "code",
      "source": [
        "train_model(model_fixed, epochs=30, lr=0.01)"
      ],
      "metadata": {
        "id": "mT-NKbrEyfe9",
        "outputId": "9b989767-622c-4653-8d57-0d3f036db962",
        "colab": {
          "base_uri": "https://localhost:8080/"
        }
      },
      "execution_count": null,
      "outputs": [
        {
          "output_type": "stream",
          "name": "stdout",
          "text": [
            "At epoch 0\n",
            "train loss 0.138, train accuracy 0.959, val loss 1.468, val accuracy 0.563, precision 0.598, recall 0.563, F1 0.568\n",
            "At epoch 1\n",
            "train loss 0.251, train accuracy 0.914, val loss 1.499, val accuracy 0.610, precision 0.614, recall 0.610, F1 0.608\n",
            "\t=> Best model saved at 1th epoch with valication accuracy of 0.6103895902633667\n",
            "At epoch 2\n",
            "train loss 0.135, train accuracy 0.963, val loss 1.642, val accuracy 0.607, precision 0.617, recall 0.607, F1 0.595\n",
            "At epoch 3\n",
            "train loss 0.196, train accuracy 0.941, val loss 1.580, val accuracy 0.606, precision 0.613, recall 0.606, F1 0.596\n",
            "At epoch 4\n",
            "train loss 0.160, train accuracy 0.949, val loss 1.477, val accuracy 0.619, precision 0.619, recall 0.619, F1 0.616\n",
            "\t=> Best model saved at 4th epoch with valication accuracy of 0.6185064911842346\n",
            "At epoch 5\n",
            "train loss 0.095, train accuracy 0.973, val loss 1.439, val accuracy 0.597, precision 0.602, recall 0.597, F1 0.598\n",
            "At epoch 6\n",
            "train loss 0.110, train accuracy 0.968, val loss 1.443, val accuracy 0.588, precision 0.599, recall 0.588, F1 0.591\n",
            "At epoch 7\n",
            "train loss 0.131, train accuracy 0.960, val loss 1.454, val accuracy 0.588, precision 0.600, recall 0.588, F1 0.591\n",
            "At epoch 8\n",
            "train loss 0.132, train accuracy 0.959, val loss 1.470, val accuracy 0.593, precision 0.602, recall 0.593, F1 0.595\n",
            "At epoch 9\n",
            "train loss 0.112, train accuracy 0.965, val loss 1.499, val accuracy 0.614, precision 0.616, recall 0.614, F1 0.614\n",
            "At epoch 10\n",
            "train loss 0.091, train accuracy 0.973, val loss 1.550, val accuracy 0.627, precision 0.626, recall 0.627, F1 0.625\n",
            "\t=> Best model saved at 10th epoch with valication accuracy of 0.6266233921051025\n",
            "At epoch 11\n",
            "train loss 0.088, train accuracy 0.974, val loss 1.598, val accuracy 0.615, precision 0.614, recall 0.615, F1 0.612\n",
            "At epoch 12\n",
            "train loss 0.079, train accuracy 0.977, val loss 1.633, val accuracy 0.620, precision 0.623, recall 0.620, F1 0.615\n",
            "At epoch 13\n",
            "train loss 0.087, train accuracy 0.975, val loss 1.640, val accuracy 0.623, precision 0.625, recall 0.623, F1 0.617\n",
            "At epoch 14\n",
            "train loss 0.084, train accuracy 0.972, val loss 1.630, val accuracy 0.627, precision 0.626, recall 0.627, F1 0.622\n",
            "At epoch 15\n",
            "train loss 0.083, train accuracy 0.973, val loss 1.616, val accuracy 0.628, precision 0.626, recall 0.628, F1 0.626\n",
            "\t=> Best model saved at 15th epoch with valication accuracy of 0.6282467246055603\n",
            "At epoch 16\n",
            "train loss 0.066, train accuracy 0.981, val loss 1.598, val accuracy 0.635, precision 0.634, recall 0.635, F1 0.634\n",
            "\t=> Best model saved at 16th epoch with valication accuracy of 0.6347402334213257\n",
            "At epoch 17\n",
            "train loss 0.053, train accuracy 0.985, val loss 1.592, val accuracy 0.631, precision 0.632, recall 0.631, F1 0.631\n",
            "At epoch 18\n",
            "train loss 0.061, train accuracy 0.981, val loss 1.603, val accuracy 0.633, precision 0.635, recall 0.633, F1 0.633\n",
            "At epoch 19\n",
            "train loss 0.051, train accuracy 0.987, val loss 1.624, val accuracy 0.630, precision 0.633, recall 0.630, F1 0.630\n",
            "At epoch 20\n",
            "train loss 0.052, train accuracy 0.985, val loss 1.650, val accuracy 0.622, precision 0.623, recall 0.622, F1 0.622\n",
            "At epoch 21\n",
            "train loss 0.052, train accuracy 0.985, val loss 1.677, val accuracy 0.633, precision 0.634, recall 0.633, F1 0.633\n",
            "At epoch 22\n",
            "train loss 0.045, train accuracy 0.988, val loss 1.709, val accuracy 0.630, precision 0.629, recall 0.630, F1 0.629\n",
            "At epoch 23\n",
            "train loss 0.042, train accuracy 0.990, val loss 1.744, val accuracy 0.631, precision 0.630, recall 0.631, F1 0.630\n",
            "At epoch 24\n",
            "train loss 0.039, train accuracy 0.991, val loss 1.783, val accuracy 0.633, precision 0.631, recall 0.633, F1 0.632\n",
            "At epoch 25\n",
            "train loss 0.044, train accuracy 0.988, val loss 1.810, val accuracy 0.641, precision 0.640, recall 0.641, F1 0.639\n",
            "\t=> Best model saved at 25th epoch with valication accuracy of 0.6412337422370911\n",
            "At epoch 26\n",
            "train loss 0.029, train accuracy 0.993, val loss 1.843, val accuracy 0.640, precision 0.640, recall 0.640, F1 0.637\n",
            "At epoch 27\n",
            "train loss 0.030, train accuracy 0.993, val loss 1.880, val accuracy 0.640, precision 0.642, recall 0.640, F1 0.637\n",
            "At epoch 28\n",
            "train loss 0.035, train accuracy 0.990, val loss 1.901, val accuracy 0.630, precision 0.634, recall 0.630, F1 0.627\n",
            "At epoch 29\n",
            "train loss 0.032, train accuracy 0.990, val loss 1.907, val accuracy 0.630, precision 0.632, recall 0.630, F1 0.628\n"
          ]
        }
      ]
    }
  ]
}